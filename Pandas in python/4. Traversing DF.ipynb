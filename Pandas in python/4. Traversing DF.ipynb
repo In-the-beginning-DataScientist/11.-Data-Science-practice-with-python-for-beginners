{
 "cells": [
  {
   "cell_type": "code",
   "execution_count": 1,
   "id": "bfd885b4-6bcb-4be5-b78d-de45afbf8c17",
   "metadata": {},
   "outputs": [],
   "source": [
    "import numpy as np\n",
    "import pandas as pd"
   ]
  },
  {
   "cell_type": "code",
   "execution_count": 3,
   "id": "615eb57d-5900-4dc5-a2ad-54c0fc669c3d",
   "metadata": {},
   "outputs": [],
   "source": [
    "datasetExample = pd.read_csv(\"Finaloutput of empWithHeaderDF.csv\")"
   ]
  },
  {
   "cell_type": "code",
   "execution_count": 4,
   "id": "7385dee7-6456-4ce2-8dd0-1a61947019d7",
   "metadata": {},
   "outputs": [
    {
     "data": {
      "text/html": [
       "<div>\n",
       "<style scoped>\n",
       "    .dataframe tbody tr th:only-of-type {\n",
       "        vertical-align: middle;\n",
       "    }\n",
       "\n",
       "    .dataframe tbody tr th {\n",
       "        vertical-align: top;\n",
       "    }\n",
       "\n",
       "    .dataframe thead th {\n",
       "        text-align: right;\n",
       "    }\n",
       "</style>\n",
       "<table border=\"1\" class=\"dataframe\">\n",
       "  <thead>\n",
       "    <tr style=\"text-align: right;\">\n",
       "      <th></th>\n",
       "      <th>Eid</th>\n",
       "      <th>Ename</th>\n",
       "      <th>Esalary</th>\n",
       "      <th>EsalaryYearly</th>\n",
       "      <th>updatedMonthlySalary</th>\n",
       "      <th>updatedSalaryYearly</th>\n",
       "      <th>Dept</th>\n",
       "    </tr>\n",
       "  </thead>\n",
       "  <tbody>\n",
       "    <tr>\n",
       "      <th>0</th>\n",
       "      <td>1</td>\n",
       "      <td>Aravind</td>\n",
       "      <td>1000</td>\n",
       "      <td>12000</td>\n",
       "      <td>1100.0</td>\n",
       "      <td>13200.0</td>\n",
       "      <td>HR</td>\n",
       "    </tr>\n",
       "    <tr>\n",
       "      <th>1</th>\n",
       "      <td>2</td>\n",
       "      <td>Sharada</td>\n",
       "      <td>2000</td>\n",
       "      <td>24000</td>\n",
       "      <td>2100.0</td>\n",
       "      <td>25200.0</td>\n",
       "      <td>Design</td>\n",
       "    </tr>\n",
       "    <tr>\n",
       "      <th>2</th>\n",
       "      <td>3</td>\n",
       "      <td>Rachael</td>\n",
       "      <td>2000</td>\n",
       "      <td>24000</td>\n",
       "      <td>2100.0</td>\n",
       "      <td>25200.0</td>\n",
       "      <td>Operation</td>\n",
       "    </tr>\n",
       "    <tr>\n",
       "      <th>3</th>\n",
       "      <td>4</td>\n",
       "      <td>Dave</td>\n",
       "      <td>2000</td>\n",
       "      <td>24000</td>\n",
       "      <td>2100.0</td>\n",
       "      <td>25200.0</td>\n",
       "      <td>PMG</td>\n",
       "    </tr>\n",
       "    <tr>\n",
       "      <th>4</th>\n",
       "      <td>5</td>\n",
       "      <td>Rhema</td>\n",
       "      <td>9878</td>\n",
       "      <td>118536</td>\n",
       "      <td>9878.0</td>\n",
       "      <td>118536.0</td>\n",
       "      <td>Delivery</td>\n",
       "    </tr>\n",
       "    <tr>\n",
       "      <th>5</th>\n",
       "      <td>6</td>\n",
       "      <td>Rachael</td>\n",
       "      <td>9999</td>\n",
       "      <td>119988</td>\n",
       "      <td>9999.0</td>\n",
       "      <td>119988.0</td>\n",
       "      <td>Testing</td>\n",
       "    </tr>\n",
       "  </tbody>\n",
       "</table>\n",
       "</div>"
      ],
      "text/plain": [
       "   Eid    Ename  Esalary  EsalaryYearly  updatedMonthlySalary  \\\n",
       "0    1  Aravind     1000          12000                1100.0   \n",
       "1    2  Sharada     2000          24000                2100.0   \n",
       "2    3  Rachael     2000          24000                2100.0   \n",
       "3    4     Dave     2000          24000                2100.0   \n",
       "4    5    Rhema     9878         118536                9878.0   \n",
       "5    6  Rachael     9999         119988                9999.0   \n",
       "\n",
       "   updatedSalaryYearly       Dept  \n",
       "0              13200.0         HR  \n",
       "1              25200.0     Design  \n",
       "2              25200.0  Operation  \n",
       "3              25200.0        PMG  \n",
       "4             118536.0   Delivery  \n",
       "5             119988.0    Testing  "
      ]
     },
     "execution_count": 4,
     "metadata": {},
     "output_type": "execute_result"
    }
   ],
   "source": [
    "datasetExample"
   ]
  },
  {
   "cell_type": "code",
   "execution_count": 5,
   "id": "666b2dbb-a43a-42e6-ab47-f136e2b7eec9",
   "metadata": {},
   "outputs": [
    {
     "data": {
      "text/plain": [
       "pandas.core.frame.DataFrame"
      ]
     },
     "execution_count": 5,
     "metadata": {},
     "output_type": "execute_result"
    }
   ],
   "source": [
    "type(datasetExample)"
   ]
  },
  {
   "cell_type": "code",
   "execution_count": 6,
   "id": "6a7ba746-ef39-4df4-951f-0f772bb5b289",
   "metadata": {},
   "outputs": [],
   "source": [
    "# Trasvering the DF means accesing the elements\n",
    "# this is same as in numpy which is with fancy indeing, index loacation..etc\n",
    "# In panndas, many number of technics are there to access the elements\n",
    "# 1. .head(3)\n",
    "# But restrict to only one method, and become master in that."
   ]
  },
  {
   "cell_type": "code",
   "execution_count": 7,
   "id": "7ba3409a-53c1-42c7-9a7d-08de1286e4ec",
   "metadata": {},
   "outputs": [],
   "source": [
    "# access first 3 records\n",
    "# this will happen with identification of index numbers"
   ]
  },
  {
   "cell_type": "code",
   "execution_count": 8,
   "id": "bea2d14e-b745-499c-9e09-29c515f49cdb",
   "metadata": {},
   "outputs": [],
   "source": [
    "# iloc method = index location -> traverse elements on the basis of row index and column index \n",
    "# ( access elements)"
   ]
  },
  {
   "cell_type": "code",
   "execution_count": 10,
   "id": "f4639700-5ddb-4375-8c47-6343ddaf359f",
   "metadata": {},
   "outputs": [],
   "source": [
    "# syntax\n",
    "# variation-1 : iloc(row_index, column_index)\n",
    "# variation-2 : iloc(row_range, column_range) # incase of slicing\n",
    "# where row_range = start value: upperbound\n",
    "# upperbound = end value+1"
   ]
  },
  {
   "cell_type": "code",
   "execution_count": 13,
   "id": "a4040621-fe93-4ef9-b4f0-efce85d06399",
   "metadata": {},
   "outputs": [],
   "source": [
    "datasetExample1 = datasetExample.iloc[0:3,0:7]"
   ]
  },
  {
   "cell_type": "code",
   "execution_count": 12,
   "id": "4493d003-1e8f-486e-a56f-e3e9171c545c",
   "metadata": {},
   "outputs": [
    {
     "data": {
      "text/html": [
       "<div>\n",
       "<style scoped>\n",
       "    .dataframe tbody tr th:only-of-type {\n",
       "        vertical-align: middle;\n",
       "    }\n",
       "\n",
       "    .dataframe tbody tr th {\n",
       "        vertical-align: top;\n",
       "    }\n",
       "\n",
       "    .dataframe thead th {\n",
       "        text-align: right;\n",
       "    }\n",
       "</style>\n",
       "<table border=\"1\" class=\"dataframe\">\n",
       "  <thead>\n",
       "    <tr style=\"text-align: right;\">\n",
       "      <th></th>\n",
       "      <th>Eid</th>\n",
       "      <th>Ename</th>\n",
       "      <th>Esalary</th>\n",
       "      <th>EsalaryYearly</th>\n",
       "      <th>updatedMonthlySalary</th>\n",
       "      <th>updatedSalaryYearly</th>\n",
       "      <th>Dept</th>\n",
       "    </tr>\n",
       "  </thead>\n",
       "  <tbody>\n",
       "    <tr>\n",
       "      <th>0</th>\n",
       "      <td>1</td>\n",
       "      <td>Aravind</td>\n",
       "      <td>1000</td>\n",
       "      <td>12000</td>\n",
       "      <td>1100.0</td>\n",
       "      <td>13200.0</td>\n",
       "      <td>HR</td>\n",
       "    </tr>\n",
       "    <tr>\n",
       "      <th>1</th>\n",
       "      <td>2</td>\n",
       "      <td>Sharada</td>\n",
       "      <td>2000</td>\n",
       "      <td>24000</td>\n",
       "      <td>2100.0</td>\n",
       "      <td>25200.0</td>\n",
       "      <td>Design</td>\n",
       "    </tr>\n",
       "    <tr>\n",
       "      <th>2</th>\n",
       "      <td>3</td>\n",
       "      <td>Rachael</td>\n",
       "      <td>2000</td>\n",
       "      <td>24000</td>\n",
       "      <td>2100.0</td>\n",
       "      <td>25200.0</td>\n",
       "      <td>Operation</td>\n",
       "    </tr>\n",
       "  </tbody>\n",
       "</table>\n",
       "</div>"
      ],
      "text/plain": [
       "   Eid    Ename  Esalary  EsalaryYearly  updatedMonthlySalary  \\\n",
       "0    1  Aravind     1000          12000                1100.0   \n",
       "1    2  Sharada     2000          24000                2100.0   \n",
       "2    3  Rachael     2000          24000                2100.0   \n",
       "\n",
       "   updatedSalaryYearly       Dept  \n",
       "0              13200.0         HR  \n",
       "1              25200.0     Design  \n",
       "2              25200.0  Operation  "
      ]
     },
     "execution_count": 12,
     "metadata": {},
     "output_type": "execute_result"
    }
   ],
   "source": [
    "datasetExample1"
   ]
  },
  {
   "cell_type": "code",
   "execution_count": 14,
   "id": "316f22fa-4a22-4055-ace9-7023102be4e1",
   "metadata": {},
   "outputs": [],
   "source": [
    "datasetExample2 = datasetExample.iloc[0:3,0:]"
   ]
  },
  {
   "cell_type": "code",
   "execution_count": 15,
   "id": "abc28cfc-366e-4e15-a712-b8a633cc43f2",
   "metadata": {},
   "outputs": [
    {
     "data": {
      "text/html": [
       "<div>\n",
       "<style scoped>\n",
       "    .dataframe tbody tr th:only-of-type {\n",
       "        vertical-align: middle;\n",
       "    }\n",
       "\n",
       "    .dataframe tbody tr th {\n",
       "        vertical-align: top;\n",
       "    }\n",
       "\n",
       "    .dataframe thead th {\n",
       "        text-align: right;\n",
       "    }\n",
       "</style>\n",
       "<table border=\"1\" class=\"dataframe\">\n",
       "  <thead>\n",
       "    <tr style=\"text-align: right;\">\n",
       "      <th></th>\n",
       "      <th>Eid</th>\n",
       "      <th>Ename</th>\n",
       "      <th>Esalary</th>\n",
       "      <th>EsalaryYearly</th>\n",
       "      <th>updatedMonthlySalary</th>\n",
       "      <th>updatedSalaryYearly</th>\n",
       "      <th>Dept</th>\n",
       "    </tr>\n",
       "  </thead>\n",
       "  <tbody>\n",
       "    <tr>\n",
       "      <th>0</th>\n",
       "      <td>1</td>\n",
       "      <td>Aravind</td>\n",
       "      <td>1000</td>\n",
       "      <td>12000</td>\n",
       "      <td>1100.0</td>\n",
       "      <td>13200.0</td>\n",
       "      <td>HR</td>\n",
       "    </tr>\n",
       "    <tr>\n",
       "      <th>1</th>\n",
       "      <td>2</td>\n",
       "      <td>Sharada</td>\n",
       "      <td>2000</td>\n",
       "      <td>24000</td>\n",
       "      <td>2100.0</td>\n",
       "      <td>25200.0</td>\n",
       "      <td>Design</td>\n",
       "    </tr>\n",
       "    <tr>\n",
       "      <th>2</th>\n",
       "      <td>3</td>\n",
       "      <td>Rachael</td>\n",
       "      <td>2000</td>\n",
       "      <td>24000</td>\n",
       "      <td>2100.0</td>\n",
       "      <td>25200.0</td>\n",
       "      <td>Operation</td>\n",
       "    </tr>\n",
       "  </tbody>\n",
       "</table>\n",
       "</div>"
      ],
      "text/plain": [
       "   Eid    Ename  Esalary  EsalaryYearly  updatedMonthlySalary  \\\n",
       "0    1  Aravind     1000          12000                1100.0   \n",
       "1    2  Sharada     2000          24000                2100.0   \n",
       "2    3  Rachael     2000          24000                2100.0   \n",
       "\n",
       "   updatedSalaryYearly       Dept  \n",
       "0              13200.0         HR  \n",
       "1              25200.0     Design  \n",
       "2              25200.0  Operation  "
      ]
     },
     "execution_count": 15,
     "metadata": {},
     "output_type": "execute_result"
    }
   ],
   "source": [
    "datasetExample2"
   ]
  },
  {
   "cell_type": "code",
   "execution_count": 16,
   "id": "b042bce7-56c1-4566-84bd-4da97216e6e8",
   "metadata": {},
   "outputs": [
    {
     "data": {
      "text/plain": [
       "'Aravind'"
      ]
     },
     "execution_count": 16,
     "metadata": {},
     "output_type": "execute_result"
    }
   ],
   "source": [
    "datasetExample2.iloc[0][1]"
   ]
  },
  {
   "cell_type": "code",
   "execution_count": 21,
   "id": "12e72405-007a-4ee3-b636-88572129d1b2",
   "metadata": {},
   "outputs": [],
   "source": [
    "# access first 2 rows with Ename,EsalaryYearly and Dept\n",
    "datasetExample4 = datasetExample.iloc[0:2, [1,3,6]]"
   ]
  },
  {
   "cell_type": "code",
   "execution_count": 22,
   "id": "e29818a1-bf30-442d-9a2c-c5c85d1f4b5f",
   "metadata": {},
   "outputs": [
    {
     "data": {
      "text/html": [
       "<div>\n",
       "<style scoped>\n",
       "    .dataframe tbody tr th:only-of-type {\n",
       "        vertical-align: middle;\n",
       "    }\n",
       "\n",
       "    .dataframe tbody tr th {\n",
       "        vertical-align: top;\n",
       "    }\n",
       "\n",
       "    .dataframe thead th {\n",
       "        text-align: right;\n",
       "    }\n",
       "</style>\n",
       "<table border=\"1\" class=\"dataframe\">\n",
       "  <thead>\n",
       "    <tr style=\"text-align: right;\">\n",
       "      <th></th>\n",
       "      <th>Ename</th>\n",
       "      <th>EsalaryYearly</th>\n",
       "      <th>Dept</th>\n",
       "    </tr>\n",
       "  </thead>\n",
       "  <tbody>\n",
       "    <tr>\n",
       "      <th>0</th>\n",
       "      <td>Aravind</td>\n",
       "      <td>12000</td>\n",
       "      <td>HR</td>\n",
       "    </tr>\n",
       "    <tr>\n",
       "      <th>1</th>\n",
       "      <td>Sharada</td>\n",
       "      <td>24000</td>\n",
       "      <td>Design</td>\n",
       "    </tr>\n",
       "  </tbody>\n",
       "</table>\n",
       "</div>"
      ],
      "text/plain": [
       "     Ename  EsalaryYearly    Dept\n",
       "0  Aravind          12000      HR\n",
       "1  Sharada          24000  Design"
      ]
     },
     "execution_count": 22,
     "metadata": {},
     "output_type": "execute_result"
    }
   ],
   "source": [
    "datasetExample4"
   ]
  },
  {
   "cell_type": "code",
   "execution_count": 24,
   "id": "ffe0230f-b8bb-4735-8796-8734a4a603ab",
   "metadata": {},
   "outputs": [
    {
     "data": {
      "text/html": [
       "<div>\n",
       "<style scoped>\n",
       "    .dataframe tbody tr th:only-of-type {\n",
       "        vertical-align: middle;\n",
       "    }\n",
       "\n",
       "    .dataframe tbody tr th {\n",
       "        vertical-align: top;\n",
       "    }\n",
       "\n",
       "    .dataframe thead th {\n",
       "        text-align: right;\n",
       "    }\n",
       "</style>\n",
       "<table border=\"1\" class=\"dataframe\">\n",
       "  <thead>\n",
       "    <tr style=\"text-align: right;\">\n",
       "      <th></th>\n",
       "      <th>Esalary</th>\n",
       "      <th>EsalaryYearly</th>\n",
       "    </tr>\n",
       "  </thead>\n",
       "  <tbody>\n",
       "    <tr>\n",
       "      <th>0</th>\n",
       "      <td>1000</td>\n",
       "      <td>12000</td>\n",
       "    </tr>\n",
       "    <tr>\n",
       "      <th>1</th>\n",
       "      <td>2000</td>\n",
       "      <td>24000</td>\n",
       "    </tr>\n",
       "  </tbody>\n",
       "</table>\n",
       "</div>"
      ],
      "text/plain": [
       "   Esalary  EsalaryYearly\n",
       "0     1000          12000\n",
       "1     2000          24000"
      ]
     },
     "execution_count": 24,
     "metadata": {},
     "output_type": "execute_result"
    }
   ],
   "source": [
    "# access first 2 rows with Esalary and EsalaryYearly\n",
    "datasetExample3 = datasetExample.iloc[0:2, 2:4]\n",
    "datasetExample3"
   ]
  },
  {
   "cell_type": "code",
   "execution_count": 29,
   "id": "0b3d6e4e-6f30-49ad-aeb8-b8368c55764a",
   "metadata": {},
   "outputs": [],
   "source": [
    "# access first and last rows with Esalary and EsalaryYearly\n",
    "datasetExample5 = datasetExample.iloc[[0,-1], 2:4]"
   ]
  },
  {
   "cell_type": "code",
   "execution_count": 30,
   "id": "ef56e102-8fab-4b46-bce3-5cb2bbeb6540",
   "metadata": {},
   "outputs": [
    {
     "data": {
      "text/html": [
       "<div>\n",
       "<style scoped>\n",
       "    .dataframe tbody tr th:only-of-type {\n",
       "        vertical-align: middle;\n",
       "    }\n",
       "\n",
       "    .dataframe tbody tr th {\n",
       "        vertical-align: top;\n",
       "    }\n",
       "\n",
       "    .dataframe thead th {\n",
       "        text-align: right;\n",
       "    }\n",
       "</style>\n",
       "<table border=\"1\" class=\"dataframe\">\n",
       "  <thead>\n",
       "    <tr style=\"text-align: right;\">\n",
       "      <th></th>\n",
       "      <th>Esalary</th>\n",
       "      <th>EsalaryYearly</th>\n",
       "    </tr>\n",
       "  </thead>\n",
       "  <tbody>\n",
       "    <tr>\n",
       "      <th>0</th>\n",
       "      <td>1000</td>\n",
       "      <td>12000</td>\n",
       "    </tr>\n",
       "    <tr>\n",
       "      <th>5</th>\n",
       "      <td>9999</td>\n",
       "      <td>119988</td>\n",
       "    </tr>\n",
       "  </tbody>\n",
       "</table>\n",
       "</div>"
      ],
      "text/plain": [
       "   Esalary  EsalaryYearly\n",
       "0     1000          12000\n",
       "5     9999         119988"
      ]
     },
     "execution_count": 30,
     "metadata": {},
     "output_type": "execute_result"
    }
   ],
   "source": [
    "datasetExample5"
   ]
  },
  {
   "cell_type": "code",
   "execution_count": null,
   "id": "2a1e6889-62fd-4ac7-9cde-7a84b06f4936",
   "metadata": {},
   "outputs": [],
   "source": [
    "# there is another method is loc"
   ]
  }
 ],
 "metadata": {
  "kernelspec": {
   "display_name": "Python 3",
   "language": "python",
   "name": "python3"
  },
  "language_info": {
   "codemirror_mode": {
    "name": "ipython",
    "version": 3
   },
   "file_extension": ".py",
   "mimetype": "text/x-python",
   "name": "python",
   "nbconvert_exporter": "python",
   "pygments_lexer": "ipython3",
   "version": "3.8.8"
  }
 },
 "nbformat": 4,
 "nbformat_minor": 5
}
