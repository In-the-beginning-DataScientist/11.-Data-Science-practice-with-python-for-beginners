{
 "cells": [
  {
   "cell_type": "code",
   "execution_count": 1,
   "id": "f60eb03a-89ff-45a0-b5d0-eead68c4c616",
   "metadata": {},
   "outputs": [],
   "source": [
    "import numpy as np\n",
    "import pandas as pd"
   ]
  },
  {
   "cell_type": "code",
   "execution_count": 2,
   "id": "d77d3b94-e65b-4ef0-92bb-5c376fbd0b49",
   "metadata": {},
   "outputs": [],
   "source": [
    "empWithHeaderDF = pd.read_csv(\"employeewithheaders.csv\")"
   ]
  },
  {
   "cell_type": "code",
   "execution_count": 3,
   "id": "01db5090-c933-4392-83be-c3abcd553fa9",
   "metadata": {},
   "outputs": [
    {
     "data": {
      "text/html": [
       "<div>\n",
       "<style scoped>\n",
       "    .dataframe tbody tr th:only-of-type {\n",
       "        vertical-align: middle;\n",
       "    }\n",
       "\n",
       "    .dataframe tbody tr th {\n",
       "        vertical-align: top;\n",
       "    }\n",
       "\n",
       "    .dataframe thead th {\n",
       "        text-align: right;\n",
       "    }\n",
       "</style>\n",
       "<table border=\"1\" class=\"dataframe\">\n",
       "  <thead>\n",
       "    <tr style=\"text-align: right;\">\n",
       "      <th></th>\n",
       "      <th>Eid</th>\n",
       "      <th>Ename</th>\n",
       "      <th>Esalary</th>\n",
       "    </tr>\n",
       "  </thead>\n",
       "  <tbody>\n",
       "    <tr>\n",
       "      <th>0</th>\n",
       "      <td>1</td>\n",
       "      <td>Aravind</td>\n",
       "      <td>1000</td>\n",
       "    </tr>\n",
       "    <tr>\n",
       "      <th>1</th>\n",
       "      <td>2</td>\n",
       "      <td>Sharada</td>\n",
       "      <td>2000</td>\n",
       "    </tr>\n",
       "    <tr>\n",
       "      <th>2</th>\n",
       "      <td>3</td>\n",
       "      <td>Rachael</td>\n",
       "      <td>2000</td>\n",
       "    </tr>\n",
       "    <tr>\n",
       "      <th>3</th>\n",
       "      <td>4</td>\n",
       "      <td>Dave</td>\n",
       "      <td>2000</td>\n",
       "    </tr>\n",
       "    <tr>\n",
       "      <th>4</th>\n",
       "      <td>5</td>\n",
       "      <td>Rhema</td>\n",
       "      <td>9878</td>\n",
       "    </tr>\n",
       "    <tr>\n",
       "      <th>5</th>\n",
       "      <td>6</td>\n",
       "      <td>Rachael</td>\n",
       "      <td>9999</td>\n",
       "    </tr>\n",
       "  </tbody>\n",
       "</table>\n",
       "</div>"
      ],
      "text/plain": [
       "   Eid    Ename  Esalary\n",
       "0    1  Aravind     1000\n",
       "1    2  Sharada     2000\n",
       "2    3  Rachael     2000\n",
       "3    4     Dave     2000\n",
       "4    5    Rhema     9878\n",
       "5    6  Rachael     9999"
      ]
     },
     "execution_count": 3,
     "metadata": {},
     "output_type": "execute_result"
    }
   ],
   "source": [
    "empWithHeaderDF"
   ]
  },
  {
   "cell_type": "code",
   "execution_count": 4,
   "id": "62e987f5-dd28-4d0c-8852-9c44d8dd8327",
   "metadata": {},
   "outputs": [],
   "source": [
    "# i want to calculate the yearly salary of each employee on basis of monthly.\n",
    "# Add a new column named yearlySalary"
   ]
  },
  {
   "cell_type": "code",
   "execution_count": 5,
   "id": "47f404d3-0af4-449d-b5f4-6a1437d7316c",
   "metadata": {},
   "outputs": [
    {
     "data": {
      "text/plain": [
       "0     12000\n",
       "1     24000\n",
       "2     24000\n",
       "3     24000\n",
       "4    118536\n",
       "5    119988\n",
       "Name: Esalary, dtype: int64"
      ]
     },
     "execution_count": 5,
     "metadata": {},
     "output_type": "execute_result"
    }
   ],
   "source": [
    "empWithHeaderDF.Esalary*12 # element wise operation"
   ]
  },
  {
   "cell_type": "code",
   "execution_count": 6,
   "id": "7bd6b80d-152c-4dc6-8e34-a61eed67ff45",
   "metadata": {},
   "outputs": [
    {
     "data": {
      "text/plain": [
       "pandas.core.series.Series"
      ]
     },
     "execution_count": 6,
     "metadata": {},
     "output_type": "execute_result"
    }
   ],
   "source": [
    "type(empWithHeaderDF.Esalary*12)"
   ]
  },
  {
   "cell_type": "code",
   "execution_count": 7,
   "id": "94e5e9a4-6262-4dfa-9574-74f1dbd16a41",
   "metadata": {},
   "outputs": [],
   "source": [
    "empWithHeaderDF[\"EsalaryYearly\"] = empWithHeaderDF.Esalary*12"
   ]
  },
  {
   "cell_type": "code",
   "execution_count": 8,
   "id": "c3bf0136-9889-41ee-b60f-f60e7f75980f",
   "metadata": {},
   "outputs": [
    {
     "data": {
      "text/html": [
       "<div>\n",
       "<style scoped>\n",
       "    .dataframe tbody tr th:only-of-type {\n",
       "        vertical-align: middle;\n",
       "    }\n",
       "\n",
       "    .dataframe tbody tr th {\n",
       "        vertical-align: top;\n",
       "    }\n",
       "\n",
       "    .dataframe thead th {\n",
       "        text-align: right;\n",
       "    }\n",
       "</style>\n",
       "<table border=\"1\" class=\"dataframe\">\n",
       "  <thead>\n",
       "    <tr style=\"text-align: right;\">\n",
       "      <th></th>\n",
       "      <th>Eid</th>\n",
       "      <th>Ename</th>\n",
       "      <th>Esalary</th>\n",
       "      <th>EsalaryYearly</th>\n",
       "    </tr>\n",
       "  </thead>\n",
       "  <tbody>\n",
       "    <tr>\n",
       "      <th>0</th>\n",
       "      <td>1</td>\n",
       "      <td>Aravind</td>\n",
       "      <td>1000</td>\n",
       "      <td>12000</td>\n",
       "    </tr>\n",
       "    <tr>\n",
       "      <th>1</th>\n",
       "      <td>2</td>\n",
       "      <td>Sharada</td>\n",
       "      <td>2000</td>\n",
       "      <td>24000</td>\n",
       "    </tr>\n",
       "    <tr>\n",
       "      <th>2</th>\n",
       "      <td>3</td>\n",
       "      <td>Rachael</td>\n",
       "      <td>2000</td>\n",
       "      <td>24000</td>\n",
       "    </tr>\n",
       "    <tr>\n",
       "      <th>3</th>\n",
       "      <td>4</td>\n",
       "      <td>Dave</td>\n",
       "      <td>2000</td>\n",
       "      <td>24000</td>\n",
       "    </tr>\n",
       "    <tr>\n",
       "      <th>4</th>\n",
       "      <td>5</td>\n",
       "      <td>Rhema</td>\n",
       "      <td>9878</td>\n",
       "      <td>118536</td>\n",
       "    </tr>\n",
       "    <tr>\n",
       "      <th>5</th>\n",
       "      <td>6</td>\n",
       "      <td>Rachael</td>\n",
       "      <td>9999</td>\n",
       "      <td>119988</td>\n",
       "    </tr>\n",
       "  </tbody>\n",
       "</table>\n",
       "</div>"
      ],
      "text/plain": [
       "   Eid    Ename  Esalary  EsalaryYearly\n",
       "0    1  Aravind     1000          12000\n",
       "1    2  Sharada     2000          24000\n",
       "2    3  Rachael     2000          24000\n",
       "3    4     Dave     2000          24000\n",
       "4    5    Rhema     9878         118536\n",
       "5    6  Rachael     9999         119988"
      ]
     },
     "execution_count": 8,
     "metadata": {},
     "output_type": "execute_result"
    }
   ],
   "source": [
    "empWithHeaderDF"
   ]
  },
  {
   "cell_type": "code",
   "execution_count": 9,
   "id": "18fc72ef-4960-4a5e-a4a8-52841a14a174",
   "metadata": {},
   "outputs": [],
   "source": [
    "# eSalaryYearly = empWithHeaderDF.Esalary*12 # element wise operation"
   ]
  },
  {
   "cell_type": "code",
   "execution_count": 10,
   "id": "e60dfac9-6f7d-4cf2-b700-bc9228554e51",
   "metadata": {},
   "outputs": [],
   "source": [
    "# eSalaryYearly "
   ]
  },
  {
   "cell_type": "code",
   "execution_count": 11,
   "id": "19ad2811-10fc-4be1-9c07-fee5b8a8f461",
   "metadata": {},
   "outputs": [],
   "source": [
    "# type(eSalaryYearly)"
   ]
  },
  {
   "cell_type": "code",
   "execution_count": 12,
   "id": "bfc30e24-3f8c-4309-92aa-91f79e1a3fb3",
   "metadata": {},
   "outputs": [],
   "source": [
    "# Pandas Dataframe is a mutable object"
   ]
  },
  {
   "cell_type": "code",
   "execution_count": 13,
   "id": "e0bba585-e3b9-4620-bcd5-d61cf16121c6",
   "metadata": {},
   "outputs": [],
   "source": [
    "# Use-Case 2 : Bonus od the employee\n",
    "#  New column bonus should be added\n",
    "# Esalary less than or equal to 1500/- --> 10% increment\n",
    "# if the salary between 1501 to 6000/----> 5% increment\n",
    "# if salary between 6001 to 9000/- ------> 2.5% increment\n",
    "# if salary greater than 9001/- ------------> No increment"
   ]
  },
  {
   "cell_type": "code",
   "execution_count": 14,
   "id": "404646d0-4539-424a-97e4-38b3dd880ba6",
   "metadata": {},
   "outputs": [],
   "source": [
    "# Function must be return updated salary from this month\n",
    "# when you have multiple checkpoints/ operations to perform , creat function."
   ]
  },
  {
   "cell_type": "code",
   "execution_count": 15,
   "id": "d67b370d-3aca-4540-8e7a-01333cd6c6ad",
   "metadata": {},
   "outputs": [],
   "source": [
    "def newSalary(Esalary):\n",
    "    newSalary=0\n",
    "    \n",
    "    if Esalary <= 1500:\n",
    "        newSalary = Esalary * 1.1 # (salary + salary*10%)\n",
    "    elif Esalary<=6000:\n",
    "        newSalary = Esalary * 1.05\n",
    "    elif Esalary<=9000:\n",
    "        newSalary = Esalary * 1.025\n",
    "    else:\n",
    "        newSalary = Esalary\n",
    "    return newSalary"
   ]
  },
  {
   "cell_type": "code",
   "execution_count": 16,
   "id": "fed6d349-f119-490b-bc5a-f17912d2cd57",
   "metadata": {},
   "outputs": [
    {
     "data": {
      "text/plain": [
       "9122.5"
      ]
     },
     "execution_count": 16,
     "metadata": {},
     "output_type": "execute_result"
    }
   ],
   "source": [
    "newSalary(8900)"
   ]
  },
  {
   "cell_type": "code",
   "execution_count": 17,
   "id": "34a83879-9f36-435f-8b58-dd7f79670ac1",
   "metadata": {},
   "outputs": [
    {
     "data": {
      "text/plain": [
       "5775.0"
      ]
     },
     "execution_count": 17,
     "metadata": {},
     "output_type": "execute_result"
    }
   ],
   "source": [
    "newSalary(5500)"
   ]
  },
  {
   "cell_type": "code",
   "execution_count": 18,
   "id": "e5d9f81f-4fe0-45f7-aed1-28dd15e87d1a",
   "metadata": {},
   "outputs": [],
   "source": [
    "# Pandas allows you to apply function on series"
   ]
  },
  {
   "cell_type": "code",
   "execution_count": 19,
   "id": "a2c2f9b7-3db7-429a-ba4f-965b3606f3da",
   "metadata": {},
   "outputs": [],
   "source": [
    "updatedSalary = empWithHeaderDF.Esalary.apply(newSalary)"
   ]
  },
  {
   "cell_type": "code",
   "execution_count": 20,
   "id": "b88e584b-5440-4637-b38b-64beb32f6feb",
   "metadata": {},
   "outputs": [
    {
     "data": {
      "text/plain": [
       "0    1100.0\n",
       "1    2100.0\n",
       "2    2100.0\n",
       "3    2100.0\n",
       "4    9878.0\n",
       "5    9999.0\n",
       "Name: Esalary, dtype: float64"
      ]
     },
     "execution_count": 20,
     "metadata": {},
     "output_type": "execute_result"
    }
   ],
   "source": [
    "updatedSalary"
   ]
  },
  {
   "cell_type": "code",
   "execution_count": 21,
   "id": "e453e749-0534-41da-8d41-51d7e1172411",
   "metadata": {},
   "outputs": [],
   "source": [
    "empWithHeaderDF[\"updatedMonthlySalary\"] = updatedSalary"
   ]
  },
  {
   "cell_type": "code",
   "execution_count": 22,
   "id": "dac4598e-5af8-4c63-ae92-996f3c91e705",
   "metadata": {},
   "outputs": [
    {
     "data": {
      "text/html": [
       "<div>\n",
       "<style scoped>\n",
       "    .dataframe tbody tr th:only-of-type {\n",
       "        vertical-align: middle;\n",
       "    }\n",
       "\n",
       "    .dataframe tbody tr th {\n",
       "        vertical-align: top;\n",
       "    }\n",
       "\n",
       "    .dataframe thead th {\n",
       "        text-align: right;\n",
       "    }\n",
       "</style>\n",
       "<table border=\"1\" class=\"dataframe\">\n",
       "  <thead>\n",
       "    <tr style=\"text-align: right;\">\n",
       "      <th></th>\n",
       "      <th>Eid</th>\n",
       "      <th>Ename</th>\n",
       "      <th>Esalary</th>\n",
       "      <th>EsalaryYearly</th>\n",
       "      <th>updatedMonthlySalary</th>\n",
       "    </tr>\n",
       "  </thead>\n",
       "  <tbody>\n",
       "    <tr>\n",
       "      <th>0</th>\n",
       "      <td>1</td>\n",
       "      <td>Aravind</td>\n",
       "      <td>1000</td>\n",
       "      <td>12000</td>\n",
       "      <td>1100.0</td>\n",
       "    </tr>\n",
       "    <tr>\n",
       "      <th>1</th>\n",
       "      <td>2</td>\n",
       "      <td>Sharada</td>\n",
       "      <td>2000</td>\n",
       "      <td>24000</td>\n",
       "      <td>2100.0</td>\n",
       "    </tr>\n",
       "    <tr>\n",
       "      <th>2</th>\n",
       "      <td>3</td>\n",
       "      <td>Rachael</td>\n",
       "      <td>2000</td>\n",
       "      <td>24000</td>\n",
       "      <td>2100.0</td>\n",
       "    </tr>\n",
       "    <tr>\n",
       "      <th>3</th>\n",
       "      <td>4</td>\n",
       "      <td>Dave</td>\n",
       "      <td>2000</td>\n",
       "      <td>24000</td>\n",
       "      <td>2100.0</td>\n",
       "    </tr>\n",
       "    <tr>\n",
       "      <th>4</th>\n",
       "      <td>5</td>\n",
       "      <td>Rhema</td>\n",
       "      <td>9878</td>\n",
       "      <td>118536</td>\n",
       "      <td>9878.0</td>\n",
       "    </tr>\n",
       "    <tr>\n",
       "      <th>5</th>\n",
       "      <td>6</td>\n",
       "      <td>Rachael</td>\n",
       "      <td>9999</td>\n",
       "      <td>119988</td>\n",
       "      <td>9999.0</td>\n",
       "    </tr>\n",
       "  </tbody>\n",
       "</table>\n",
       "</div>"
      ],
      "text/plain": [
       "   Eid    Ename  Esalary  EsalaryYearly  updatedMonthlySalary\n",
       "0    1  Aravind     1000          12000                1100.0\n",
       "1    2  Sharada     2000          24000                2100.0\n",
       "2    3  Rachael     2000          24000                2100.0\n",
       "3    4     Dave     2000          24000                2100.0\n",
       "4    5    Rhema     9878         118536                9878.0\n",
       "5    6  Rachael     9999         119988                9999.0"
      ]
     },
     "execution_count": 22,
     "metadata": {},
     "output_type": "execute_result"
    }
   ],
   "source": [
    "empWithHeaderDF"
   ]
  },
  {
   "cell_type": "code",
   "execution_count": 23,
   "id": "7bf68bcd-acc2-48ca-96c7-9e083e740c7a",
   "metadata": {},
   "outputs": [],
   "source": [
    "empWithHeaderDF[\"updatedSalaryYearly\"] = empWithHeaderDF.updatedMonthlySalary*12\n"
   ]
  },
  {
   "cell_type": "code",
   "execution_count": 24,
   "id": "caf2d4f2-23a7-4ec1-8ad3-ec952a2771e4",
   "metadata": {},
   "outputs": [
    {
     "data": {
      "text/html": [
       "<div>\n",
       "<style scoped>\n",
       "    .dataframe tbody tr th:only-of-type {\n",
       "        vertical-align: middle;\n",
       "    }\n",
       "\n",
       "    .dataframe tbody tr th {\n",
       "        vertical-align: top;\n",
       "    }\n",
       "\n",
       "    .dataframe thead th {\n",
       "        text-align: right;\n",
       "    }\n",
       "</style>\n",
       "<table border=\"1\" class=\"dataframe\">\n",
       "  <thead>\n",
       "    <tr style=\"text-align: right;\">\n",
       "      <th></th>\n",
       "      <th>Eid</th>\n",
       "      <th>Ename</th>\n",
       "      <th>Esalary</th>\n",
       "      <th>EsalaryYearly</th>\n",
       "      <th>updatedMonthlySalary</th>\n",
       "      <th>updatedSalaryYearly</th>\n",
       "    </tr>\n",
       "  </thead>\n",
       "  <tbody>\n",
       "    <tr>\n",
       "      <th>0</th>\n",
       "      <td>1</td>\n",
       "      <td>Aravind</td>\n",
       "      <td>1000</td>\n",
       "      <td>12000</td>\n",
       "      <td>1100.0</td>\n",
       "      <td>13200.0</td>\n",
       "    </tr>\n",
       "    <tr>\n",
       "      <th>1</th>\n",
       "      <td>2</td>\n",
       "      <td>Sharada</td>\n",
       "      <td>2000</td>\n",
       "      <td>24000</td>\n",
       "      <td>2100.0</td>\n",
       "      <td>25200.0</td>\n",
       "    </tr>\n",
       "    <tr>\n",
       "      <th>2</th>\n",
       "      <td>3</td>\n",
       "      <td>Rachael</td>\n",
       "      <td>2000</td>\n",
       "      <td>24000</td>\n",
       "      <td>2100.0</td>\n",
       "      <td>25200.0</td>\n",
       "    </tr>\n",
       "    <tr>\n",
       "      <th>3</th>\n",
       "      <td>4</td>\n",
       "      <td>Dave</td>\n",
       "      <td>2000</td>\n",
       "      <td>24000</td>\n",
       "      <td>2100.0</td>\n",
       "      <td>25200.0</td>\n",
       "    </tr>\n",
       "    <tr>\n",
       "      <th>4</th>\n",
       "      <td>5</td>\n",
       "      <td>Rhema</td>\n",
       "      <td>9878</td>\n",
       "      <td>118536</td>\n",
       "      <td>9878.0</td>\n",
       "      <td>118536.0</td>\n",
       "    </tr>\n",
       "    <tr>\n",
       "      <th>5</th>\n",
       "      <td>6</td>\n",
       "      <td>Rachael</td>\n",
       "      <td>9999</td>\n",
       "      <td>119988</td>\n",
       "      <td>9999.0</td>\n",
       "      <td>119988.0</td>\n",
       "    </tr>\n",
       "  </tbody>\n",
       "</table>\n",
       "</div>"
      ],
      "text/plain": [
       "   Eid    Ename  Esalary  EsalaryYearly  updatedMonthlySalary  \\\n",
       "0    1  Aravind     1000          12000                1100.0   \n",
       "1    2  Sharada     2000          24000                2100.0   \n",
       "2    3  Rachael     2000          24000                2100.0   \n",
       "3    4     Dave     2000          24000                2100.0   \n",
       "4    5    Rhema     9878         118536                9878.0   \n",
       "5    6  Rachael     9999         119988                9999.0   \n",
       "\n",
       "   updatedSalaryYearly  \n",
       "0              13200.0  \n",
       "1              25200.0  \n",
       "2              25200.0  \n",
       "3              25200.0  \n",
       "4             118536.0  \n",
       "5             119988.0  "
      ]
     },
     "execution_count": 24,
     "metadata": {},
     "output_type": "execute_result"
    }
   ],
   "source": [
    "empWithHeaderDF"
   ]
  },
  {
   "cell_type": "code",
   "execution_count": 25,
   "id": "5237e345-fd9f-4b06-8d24-30a1f86f9bc0",
   "metadata": {},
   "outputs": [],
   "source": [
    "empWithHeaderDF[\"updatedSalaryYearly\"] = empWithHeaderDF.Esalary.apply(newSalary)*12"
   ]
  },
  {
   "cell_type": "code",
   "execution_count": 26,
   "id": "a06b5a52-3998-4ee1-88af-373d7538751a",
   "metadata": {},
   "outputs": [
    {
     "data": {
      "text/html": [
       "<div>\n",
       "<style scoped>\n",
       "    .dataframe tbody tr th:only-of-type {\n",
       "        vertical-align: middle;\n",
       "    }\n",
       "\n",
       "    .dataframe tbody tr th {\n",
       "        vertical-align: top;\n",
       "    }\n",
       "\n",
       "    .dataframe thead th {\n",
       "        text-align: right;\n",
       "    }\n",
       "</style>\n",
       "<table border=\"1\" class=\"dataframe\">\n",
       "  <thead>\n",
       "    <tr style=\"text-align: right;\">\n",
       "      <th></th>\n",
       "      <th>Eid</th>\n",
       "      <th>Ename</th>\n",
       "      <th>Esalary</th>\n",
       "      <th>EsalaryYearly</th>\n",
       "      <th>updatedMonthlySalary</th>\n",
       "      <th>updatedSalaryYearly</th>\n",
       "    </tr>\n",
       "  </thead>\n",
       "  <tbody>\n",
       "    <tr>\n",
       "      <th>0</th>\n",
       "      <td>1</td>\n",
       "      <td>Aravind</td>\n",
       "      <td>1000</td>\n",
       "      <td>12000</td>\n",
       "      <td>1100.0</td>\n",
       "      <td>13200.0</td>\n",
       "    </tr>\n",
       "    <tr>\n",
       "      <th>1</th>\n",
       "      <td>2</td>\n",
       "      <td>Sharada</td>\n",
       "      <td>2000</td>\n",
       "      <td>24000</td>\n",
       "      <td>2100.0</td>\n",
       "      <td>25200.0</td>\n",
       "    </tr>\n",
       "    <tr>\n",
       "      <th>2</th>\n",
       "      <td>3</td>\n",
       "      <td>Rachael</td>\n",
       "      <td>2000</td>\n",
       "      <td>24000</td>\n",
       "      <td>2100.0</td>\n",
       "      <td>25200.0</td>\n",
       "    </tr>\n",
       "    <tr>\n",
       "      <th>3</th>\n",
       "      <td>4</td>\n",
       "      <td>Dave</td>\n",
       "      <td>2000</td>\n",
       "      <td>24000</td>\n",
       "      <td>2100.0</td>\n",
       "      <td>25200.0</td>\n",
       "    </tr>\n",
       "    <tr>\n",
       "      <th>4</th>\n",
       "      <td>5</td>\n",
       "      <td>Rhema</td>\n",
       "      <td>9878</td>\n",
       "      <td>118536</td>\n",
       "      <td>9878.0</td>\n",
       "      <td>118536.0</td>\n",
       "    </tr>\n",
       "    <tr>\n",
       "      <th>5</th>\n",
       "      <td>6</td>\n",
       "      <td>Rachael</td>\n",
       "      <td>9999</td>\n",
       "      <td>119988</td>\n",
       "      <td>9999.0</td>\n",
       "      <td>119988.0</td>\n",
       "    </tr>\n",
       "  </tbody>\n",
       "</table>\n",
       "</div>"
      ],
      "text/plain": [
       "   Eid    Ename  Esalary  EsalaryYearly  updatedMonthlySalary  \\\n",
       "0    1  Aravind     1000          12000                1100.0   \n",
       "1    2  Sharada     2000          24000                2100.0   \n",
       "2    3  Rachael     2000          24000                2100.0   \n",
       "3    4     Dave     2000          24000                2100.0   \n",
       "4    5    Rhema     9878         118536                9878.0   \n",
       "5    6  Rachael     9999         119988                9999.0   \n",
       "\n",
       "   updatedSalaryYearly  \n",
       "0              13200.0  \n",
       "1              25200.0  \n",
       "2              25200.0  \n",
       "3              25200.0  \n",
       "4             118536.0  \n",
       "5             119988.0  "
      ]
     },
     "execution_count": 26,
     "metadata": {},
     "output_type": "execute_result"
    }
   ],
   "source": [
    "empWithHeaderDF"
   ]
  },
  {
   "cell_type": "code",
   "execution_count": 29,
   "id": "4ecaa183-c0df-4bb8-a9a5-88ba1618f048",
   "metadata": {},
   "outputs": [
    {
     "data": {
      "text/plain": [
       "0           HR\n",
       "1       Design\n",
       "2    Operation\n",
       "3          PMG\n",
       "4     Delivery\n",
       "5      Testing\n",
       "dtype: object"
      ]
     },
     "execution_count": 29,
     "metadata": {},
     "output_type": "execute_result"
    }
   ],
   "source": [
    "# adding custom series in an existing dataframe\n",
    "pd.Series([\"HR\",'Design','Operation',\"PMG\",\"Delivery\",\"Testing\"])"
   ]
  },
  {
   "cell_type": "code",
   "execution_count": 30,
   "id": "40d96f4a-426b-47e0-9c69-c9b5430d6433",
   "metadata": {},
   "outputs": [],
   "source": [
    "empWithHeaderDF[\"Dept\"] = pd.Series([\"HR\",'Design','Operation',\"PMG\",\"Delivery\",\"Testing\"])"
   ]
  },
  {
   "cell_type": "code",
   "execution_count": 31,
   "id": "c948eeeb-15a0-4b07-a92c-a3e34a83618c",
   "metadata": {},
   "outputs": [
    {
     "data": {
      "text/html": [
       "<div>\n",
       "<style scoped>\n",
       "    .dataframe tbody tr th:only-of-type {\n",
       "        vertical-align: middle;\n",
       "    }\n",
       "\n",
       "    .dataframe tbody tr th {\n",
       "        vertical-align: top;\n",
       "    }\n",
       "\n",
       "    .dataframe thead th {\n",
       "        text-align: right;\n",
       "    }\n",
       "</style>\n",
       "<table border=\"1\" class=\"dataframe\">\n",
       "  <thead>\n",
       "    <tr style=\"text-align: right;\">\n",
       "      <th></th>\n",
       "      <th>Eid</th>\n",
       "      <th>Ename</th>\n",
       "      <th>Esalary</th>\n",
       "      <th>EsalaryYearly</th>\n",
       "      <th>updatedMonthlySalary</th>\n",
       "      <th>updatedSalaryYearly</th>\n",
       "      <th>Dept</th>\n",
       "    </tr>\n",
       "  </thead>\n",
       "  <tbody>\n",
       "    <tr>\n",
       "      <th>0</th>\n",
       "      <td>1</td>\n",
       "      <td>Aravind</td>\n",
       "      <td>1000</td>\n",
       "      <td>12000</td>\n",
       "      <td>1100.0</td>\n",
       "      <td>13200.0</td>\n",
       "      <td>HR</td>\n",
       "    </tr>\n",
       "    <tr>\n",
       "      <th>1</th>\n",
       "      <td>2</td>\n",
       "      <td>Sharada</td>\n",
       "      <td>2000</td>\n",
       "      <td>24000</td>\n",
       "      <td>2100.0</td>\n",
       "      <td>25200.0</td>\n",
       "      <td>Design</td>\n",
       "    </tr>\n",
       "    <tr>\n",
       "      <th>2</th>\n",
       "      <td>3</td>\n",
       "      <td>Rachael</td>\n",
       "      <td>2000</td>\n",
       "      <td>24000</td>\n",
       "      <td>2100.0</td>\n",
       "      <td>25200.0</td>\n",
       "      <td>Operation</td>\n",
       "    </tr>\n",
       "    <tr>\n",
       "      <th>3</th>\n",
       "      <td>4</td>\n",
       "      <td>Dave</td>\n",
       "      <td>2000</td>\n",
       "      <td>24000</td>\n",
       "      <td>2100.0</td>\n",
       "      <td>25200.0</td>\n",
       "      <td>PMG</td>\n",
       "    </tr>\n",
       "    <tr>\n",
       "      <th>4</th>\n",
       "      <td>5</td>\n",
       "      <td>Rhema</td>\n",
       "      <td>9878</td>\n",
       "      <td>118536</td>\n",
       "      <td>9878.0</td>\n",
       "      <td>118536.0</td>\n",
       "      <td>Delivery</td>\n",
       "    </tr>\n",
       "    <tr>\n",
       "      <th>5</th>\n",
       "      <td>6</td>\n",
       "      <td>Rachael</td>\n",
       "      <td>9999</td>\n",
       "      <td>119988</td>\n",
       "      <td>9999.0</td>\n",
       "      <td>119988.0</td>\n",
       "      <td>Testing</td>\n",
       "    </tr>\n",
       "  </tbody>\n",
       "</table>\n",
       "</div>"
      ],
      "text/plain": [
       "   Eid    Ename  Esalary  EsalaryYearly  updatedMonthlySalary  \\\n",
       "0    1  Aravind     1000          12000                1100.0   \n",
       "1    2  Sharada     2000          24000                2100.0   \n",
       "2    3  Rachael     2000          24000                2100.0   \n",
       "3    4     Dave     2000          24000                2100.0   \n",
       "4    5    Rhema     9878         118536                9878.0   \n",
       "5    6  Rachael     9999         119988                9999.0   \n",
       "\n",
       "   updatedSalaryYearly       Dept  \n",
       "0              13200.0         HR  \n",
       "1              25200.0     Design  \n",
       "2              25200.0  Operation  \n",
       "3              25200.0        PMG  \n",
       "4             118536.0   Delivery  \n",
       "5             119988.0    Testing  "
      ]
     },
     "execution_count": 31,
     "metadata": {},
     "output_type": "execute_result"
    }
   ],
   "source": [
    "empWithHeaderDF"
   ]
  },
  {
   "cell_type": "code",
   "execution_count": 35,
   "id": "6b27d569-3afa-4c2a-aff4-f1bc5bbad8fe",
   "metadata": {},
   "outputs": [],
   "source": [
    "# Export the DF to a file\n",
    "empWithHeaderDF.to_csv(\"Finaloutput of empWithHeaderDF1.csv\")"
   ]
  },
  {
   "cell_type": "code",
   "execution_count": 33,
   "id": "0546360f-befc-4e5d-8f6a-e3c9da60171d",
   "metadata": {},
   "outputs": [],
   "source": [
    "# the out put will have defauly index values which \n",
    "# is independent column generates with the above code"
   ]
  },
  {
   "cell_type": "code",
   "execution_count": 34,
   "id": "abcadd23-23ce-4874-94ec-7c5571deeb79",
   "metadata": {},
   "outputs": [],
   "source": [
    "# best practice is not to have independant index column\n",
    "empWithHeaderDF.to_csv(\"Finaloutput of empWithHeaderDF.csv\" , index=False)"
   ]
  },
  {
   "cell_type": "code",
   "execution_count": null,
   "id": "8f711f25-9e99-4dae-8948-2029b56bbed7",
   "metadata": {},
   "outputs": [],
   "source": []
  }
 ],
 "metadata": {
  "kernelspec": {
   "display_name": "Python 3",
   "language": "python",
   "name": "python3"
  },
  "language_info": {
   "codemirror_mode": {
    "name": "ipython",
    "version": 3
   },
   "file_extension": ".py",
   "mimetype": "text/x-python",
   "name": "python",
   "nbconvert_exporter": "python",
   "pygments_lexer": "ipython3",
   "version": "3.8.8"
  }
 },
 "nbformat": 4,
 "nbformat_minor": 5
}
