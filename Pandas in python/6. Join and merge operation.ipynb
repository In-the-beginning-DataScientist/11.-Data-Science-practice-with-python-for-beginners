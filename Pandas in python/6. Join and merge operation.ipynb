{
 "cells": [
  {
   "cell_type": "markdown",
   "id": "16d54178-287a-47bd-ae85-491ff16c3613",
   "metadata": {},
   "source": [
    "# Operation 3: Performing merge operation in pandas (equal to join operation in database)"
   ]
  },
  {
   "cell_type": "code",
   "execution_count": 1,
   "id": "b2b5147a-a68d-4cca-a2fb-89bb8080f6c6",
   "metadata": {},
   "outputs": [],
   "source": [
    "import numpy as np\n",
    "import pandas as pd"
   ]
  },
  {
   "cell_type": "code",
   "execution_count": 2,
   "id": "96fc2f1d-7b9f-4fea-97b7-4b19eeb3a153",
   "metadata": {},
   "outputs": [],
   "source": [
    "datasetDF = pd.read_csv(\"Output of dupliactes removed file.csv\")"
   ]
  },
  {
   "cell_type": "code",
   "execution_count": 3,
   "id": "c798ed59-3c1f-4da1-87bb-440373b0da0b",
   "metadata": {},
   "outputs": [
    {
     "data": {
      "text/html": [
       "<div>\n",
       "<style scoped>\n",
       "    .dataframe tbody tr th:only-of-type {\n",
       "        vertical-align: middle;\n",
       "    }\n",
       "\n",
       "    .dataframe tbody tr th {\n",
       "        vertical-align: top;\n",
       "    }\n",
       "\n",
       "    .dataframe thead th {\n",
       "        text-align: right;\n",
       "    }\n",
       "</style>\n",
       "<table border=\"1\" class=\"dataframe\">\n",
       "  <thead>\n",
       "    <tr style=\"text-align: right;\">\n",
       "      <th></th>\n",
       "      <th>Eid</th>\n",
       "      <th>Ename</th>\n",
       "      <th>Esalary</th>\n",
       "      <th>EsalaryYearly</th>\n",
       "      <th>updatedMonthlySalary</th>\n",
       "      <th>updatedSalaryYearly</th>\n",
       "      <th>Dept</th>\n",
       "      <th>area of working</th>\n",
       "    </tr>\n",
       "  </thead>\n",
       "  <tbody>\n",
       "    <tr>\n",
       "      <th>0</th>\n",
       "      <td>1</td>\n",
       "      <td>Aravind</td>\n",
       "      <td>1000</td>\n",
       "      <td>12000</td>\n",
       "      <td>1100.0</td>\n",
       "      <td>13200.0</td>\n",
       "      <td>HR</td>\n",
       "      <td>Bangalore</td>\n",
       "    </tr>\n",
       "    <tr>\n",
       "      <th>1</th>\n",
       "      <td>2</td>\n",
       "      <td>Sharada</td>\n",
       "      <td>2000</td>\n",
       "      <td>24000</td>\n",
       "      <td>2100.0</td>\n",
       "      <td>25200.0</td>\n",
       "      <td>Design</td>\n",
       "      <td>Hyderabad</td>\n",
       "    </tr>\n",
       "    <tr>\n",
       "      <th>2</th>\n",
       "      <td>3</td>\n",
       "      <td>Rachael</td>\n",
       "      <td>2000</td>\n",
       "      <td>24000</td>\n",
       "      <td>2100.0</td>\n",
       "      <td>25200.0</td>\n",
       "      <td>Operation</td>\n",
       "      <td>Bangalore</td>\n",
       "    </tr>\n",
       "    <tr>\n",
       "      <th>3</th>\n",
       "      <td>4</td>\n",
       "      <td>Dave</td>\n",
       "      <td>2000</td>\n",
       "      <td>24000</td>\n",
       "      <td>2100.0</td>\n",
       "      <td>25200.0</td>\n",
       "      <td>PMG</td>\n",
       "      <td>Hyderabad</td>\n",
       "    </tr>\n",
       "    <tr>\n",
       "      <th>4</th>\n",
       "      <td>5</td>\n",
       "      <td>Rhema</td>\n",
       "      <td>9878</td>\n",
       "      <td>118536</td>\n",
       "      <td>9878.0</td>\n",
       "      <td>118536.0</td>\n",
       "      <td>Delivery</td>\n",
       "      <td>Chennai</td>\n",
       "    </tr>\n",
       "    <tr>\n",
       "      <th>5</th>\n",
       "      <td>6</td>\n",
       "      <td>Rachael</td>\n",
       "      <td>9999</td>\n",
       "      <td>119988</td>\n",
       "      <td>9999.0</td>\n",
       "      <td>119988.0</td>\n",
       "      <td>Testing</td>\n",
       "      <td>Kurnool</td>\n",
       "    </tr>\n",
       "  </tbody>\n",
       "</table>\n",
       "</div>"
      ],
      "text/plain": [
       "   Eid    Ename  Esalary  EsalaryYearly  updatedMonthlySalary  \\\n",
       "0    1  Aravind     1000          12000                1100.0   \n",
       "1    2  Sharada     2000          24000                2100.0   \n",
       "2    3  Rachael     2000          24000                2100.0   \n",
       "3    4     Dave     2000          24000                2100.0   \n",
       "4    5    Rhema     9878         118536                9878.0   \n",
       "5    6  Rachael     9999         119988                9999.0   \n",
       "\n",
       "   updatedSalaryYearly       Dept area of working  \n",
       "0              13200.0         HR       Bangalore  \n",
       "1              25200.0     Design       Hyderabad  \n",
       "2              25200.0  Operation       Bangalore  \n",
       "3              25200.0        PMG       Hyderabad  \n",
       "4             118536.0   Delivery         Chennai  \n",
       "5             119988.0    Testing         Kurnool  "
      ]
     },
     "execution_count": 3,
     "metadata": {},
     "output_type": "execute_result"
    }
   ],
   "source": [
    "datasetDF"
   ]
  },
  {
   "cell_type": "code",
   "execution_count": 4,
   "id": "c2c30882-930a-4639-99a6-a2a667b9a4aa",
   "metadata": {},
   "outputs": [],
   "source": [
    "# we creATE A NEW ddf\n",
    "dataExampleDF1 = pd.DataFrame([ [4,\"QA\"],[1,\"HR\"],[2,\"Ops\"],[3,\"Dev\"] ], columns=[\"Eid\",\"Dept.\"])"
   ]
  },
  {
   "cell_type": "code",
   "execution_count": 5,
   "id": "2ee8111d-3e15-44b4-a156-dee8d8ab981d",
   "metadata": {},
   "outputs": [
    {
     "data": {
      "text/html": [
       "<div>\n",
       "<style scoped>\n",
       "    .dataframe tbody tr th:only-of-type {\n",
       "        vertical-align: middle;\n",
       "    }\n",
       "\n",
       "    .dataframe tbody tr th {\n",
       "        vertical-align: top;\n",
       "    }\n",
       "\n",
       "    .dataframe thead th {\n",
       "        text-align: right;\n",
       "    }\n",
       "</style>\n",
       "<table border=\"1\" class=\"dataframe\">\n",
       "  <thead>\n",
       "    <tr style=\"text-align: right;\">\n",
       "      <th></th>\n",
       "      <th>Eid</th>\n",
       "      <th>Dept.</th>\n",
       "    </tr>\n",
       "  </thead>\n",
       "  <tbody>\n",
       "    <tr>\n",
       "      <th>0</th>\n",
       "      <td>4</td>\n",
       "      <td>QA</td>\n",
       "    </tr>\n",
       "    <tr>\n",
       "      <th>1</th>\n",
       "      <td>1</td>\n",
       "      <td>HR</td>\n",
       "    </tr>\n",
       "    <tr>\n",
       "      <th>2</th>\n",
       "      <td>2</td>\n",
       "      <td>Ops</td>\n",
       "    </tr>\n",
       "    <tr>\n",
       "      <th>3</th>\n",
       "      <td>3</td>\n",
       "      <td>Dev</td>\n",
       "    </tr>\n",
       "  </tbody>\n",
       "</table>\n",
       "</div>"
      ],
      "text/plain": [
       "   Eid Dept.\n",
       "0    4    QA\n",
       "1    1    HR\n",
       "2    2   Ops\n",
       "3    3   Dev"
      ]
     },
     "execution_count": 5,
     "metadata": {},
     "output_type": "execute_result"
    }
   ],
   "source": [
    "dataExampleDF1"
   ]
  },
  {
   "cell_type": "code",
   "execution_count": 6,
   "id": "5537d661-7621-40df-8d7c-23079dd0e519",
   "metadata": {},
   "outputs": [],
   "source": [
    "# whatever way we have created, same way it is displayed, deliberately it has taken."
   ]
  },
  {
   "cell_type": "code",
   "execution_count": 13,
   "id": "1afd5657-4904-435b-868e-52dcca1252f6",
   "metadata": {},
   "outputs": [],
   "source": [
    "dataExampleDF2 = pd.DataFrame([ [1,\"Sharada\"],[2,\"Aaradhya\"],[3,\"Abhishek\"] ], columns=[\"Eid\",\"Ename\"])"
   ]
  },
  {
   "cell_type": "code",
   "execution_count": 14,
   "id": "d8ae1a80-f90d-409a-8612-b6bca4e996df",
   "metadata": {},
   "outputs": [
    {
     "data": {
      "text/html": [
       "<div>\n",
       "<style scoped>\n",
       "    .dataframe tbody tr th:only-of-type {\n",
       "        vertical-align: middle;\n",
       "    }\n",
       "\n",
       "    .dataframe tbody tr th {\n",
       "        vertical-align: top;\n",
       "    }\n",
       "\n",
       "    .dataframe thead th {\n",
       "        text-align: right;\n",
       "    }\n",
       "</style>\n",
       "<table border=\"1\" class=\"dataframe\">\n",
       "  <thead>\n",
       "    <tr style=\"text-align: right;\">\n",
       "      <th></th>\n",
       "      <th>Eid</th>\n",
       "      <th>Ename</th>\n",
       "    </tr>\n",
       "  </thead>\n",
       "  <tbody>\n",
       "    <tr>\n",
       "      <th>0</th>\n",
       "      <td>1</td>\n",
       "      <td>Sharada</td>\n",
       "    </tr>\n",
       "    <tr>\n",
       "      <th>1</th>\n",
       "      <td>2</td>\n",
       "      <td>Aaradhya</td>\n",
       "    </tr>\n",
       "    <tr>\n",
       "      <th>2</th>\n",
       "      <td>3</td>\n",
       "      <td>Abhishek</td>\n",
       "    </tr>\n",
       "  </tbody>\n",
       "</table>\n",
       "</div>"
      ],
      "text/plain": [
       "   Eid     Ename\n",
       "0    1   Sharada\n",
       "1    2  Aaradhya\n",
       "2    3  Abhishek"
      ]
     },
     "execution_count": 14,
     "metadata": {},
     "output_type": "execute_result"
    }
   ],
   "source": [
    "dataExampleDF2"
   ]
  },
  {
   "cell_type": "code",
   "execution_count": 15,
   "id": "dba7dfec-4b39-476f-9e9c-5e861f5f0ec9",
   "metadata": {},
   "outputs": [],
   "source": [
    "# from above 2 tables, common column is Eid."
   ]
  },
  {
   "cell_type": "code",
   "execution_count": 16,
   "id": "c82f687b-4fe4-4445-bfec-ccd2b4e573a7",
   "metadata": {},
   "outputs": [],
   "source": [
    "# Task 1: I want to join above two datasets logically on the basis of Eid"
   ]
  },
  {
   "cell_type": "code",
   "execution_count": 17,
   "id": "d9621173-6c10-4618-944f-950ad28f06f6",
   "metadata": {},
   "outputs": [],
   "source": [
    "# when you have common column in both tables, merge option will be used."
   ]
  },
  {
   "cell_type": "code",
   "execution_count": 18,
   "id": "e2c5a95c-ae01-489b-8e6c-225fda55aaea",
   "metadata": {},
   "outputs": [
    {
     "data": {
      "text/html": [
       "<div>\n",
       "<style scoped>\n",
       "    .dataframe tbody tr th:only-of-type {\n",
       "        vertical-align: middle;\n",
       "    }\n",
       "\n",
       "    .dataframe tbody tr th {\n",
       "        vertical-align: top;\n",
       "    }\n",
       "\n",
       "    .dataframe thead th {\n",
       "        text-align: right;\n",
       "    }\n",
       "</style>\n",
       "<table border=\"1\" class=\"dataframe\">\n",
       "  <thead>\n",
       "    <tr style=\"text-align: right;\">\n",
       "      <th></th>\n",
       "      <th>Eid</th>\n",
       "      <th>Dept.</th>\n",
       "      <th>Ename</th>\n",
       "    </tr>\n",
       "  </thead>\n",
       "  <tbody>\n",
       "    <tr>\n",
       "      <th>0</th>\n",
       "      <td>1</td>\n",
       "      <td>HR</td>\n",
       "      <td>Sharada</td>\n",
       "    </tr>\n",
       "    <tr>\n",
       "      <th>1</th>\n",
       "      <td>2</td>\n",
       "      <td>Ops</td>\n",
       "      <td>Aaradhya</td>\n",
       "    </tr>\n",
       "    <tr>\n",
       "      <th>2</th>\n",
       "      <td>3</td>\n",
       "      <td>Dev</td>\n",
       "      <td>Abhishek</td>\n",
       "    </tr>\n",
       "  </tbody>\n",
       "</table>\n",
       "</div>"
      ],
      "text/plain": [
       "   Eid Dept.     Ename\n",
       "0    1    HR   Sharada\n",
       "1    2   Ops  Aaradhya\n",
       "2    3   Dev  Abhishek"
      ]
     },
     "execution_count": 18,
     "metadata": {},
     "output_type": "execute_result"
    }
   ],
   "source": [
    "pd.merge(dataExampleDF1,dataExampleDF2)"
   ]
  },
  {
   "cell_type": "code",
   "execution_count": 19,
   "id": "658e1421-7bdb-42d2-950d-f4bee780931f",
   "metadata": {},
   "outputs": [],
   "source": [
    "# common items only will be displayed."
   ]
  },
  {
   "cell_type": "code",
   "execution_count": 26,
   "id": "183f7de7-4a9b-44a0-b57b-64d3d615c2f3",
   "metadata": {},
   "outputs": [],
   "source": [
    "dataExampleDF3 = pd.DataFrame([ [4,\"QA\"],[1,\"HR\"],[2,\"Ops\"],[3,\"Dev\"] ], columns=[\"Eid\",\"Dept.\"])\n",
    "dataExampleDF4 = pd.DataFrame([ [1,\"Sharada\"],[2,\"Aaradhya\"],[3,\"Abhishek\"] ], columns=[\"Empid\",\"Ename\"])"
   ]
  },
  {
   "cell_type": "code",
   "execution_count": 27,
   "id": "08aee4a2-328e-47d2-a44f-ad070ce3c269",
   "metadata": {},
   "outputs": [
    {
     "ename": "MergeError",
     "evalue": "No common columns to perform merge on. Merge options: left_on=None, right_on=None, left_index=False, right_index=False",
     "output_type": "error",
     "traceback": [
      "\u001b[1;31m---------------------------------------------------------------------------\u001b[0m",
      "\u001b[1;31mMergeError\u001b[0m                                Traceback (most recent call last)",
      "\u001b[1;32m<ipython-input-27-93ac938564f4>\u001b[0m in \u001b[0;36m<module>\u001b[1;34m\u001b[0m\n\u001b[1;32m----> 1\u001b[1;33m \u001b[0mpd\u001b[0m\u001b[1;33m.\u001b[0m\u001b[0mmerge\u001b[0m\u001b[1;33m(\u001b[0m\u001b[0mdataExampleDF3\u001b[0m\u001b[1;33m,\u001b[0m\u001b[0mdataExampleDF4\u001b[0m\u001b[1;33m)\u001b[0m\u001b[1;33m\u001b[0m\u001b[1;33m\u001b[0m\u001b[0m\n\u001b[0m",
      "\u001b[1;32m~\\anaconda3\\lib\\site-packages\\pandas\\core\\reshape\\merge.py\u001b[0m in \u001b[0;36mmerge\u001b[1;34m(left, right, how, on, left_on, right_on, left_index, right_index, sort, suffixes, copy, indicator, validate)\u001b[0m\n\u001b[0;32m     72\u001b[0m     \u001b[0mvalidate\u001b[0m\u001b[1;33m=\u001b[0m\u001b[1;32mNone\u001b[0m\u001b[1;33m,\u001b[0m\u001b[1;33m\u001b[0m\u001b[1;33m\u001b[0m\u001b[0m\n\u001b[0;32m     73\u001b[0m ) -> \"DataFrame\":\n\u001b[1;32m---> 74\u001b[1;33m     op = _MergeOperation(\n\u001b[0m\u001b[0;32m     75\u001b[0m         \u001b[0mleft\u001b[0m\u001b[1;33m,\u001b[0m\u001b[1;33m\u001b[0m\u001b[1;33m\u001b[0m\u001b[0m\n\u001b[0;32m     76\u001b[0m         \u001b[0mright\u001b[0m\u001b[1;33m,\u001b[0m\u001b[1;33m\u001b[0m\u001b[1;33m\u001b[0m\u001b[0m\n",
      "\u001b[1;32m~\\anaconda3\\lib\\site-packages\\pandas\\core\\reshape\\merge.py\u001b[0m in \u001b[0;36m__init__\u001b[1;34m(self, left, right, how, on, left_on, right_on, axis, left_index, right_index, sort, suffixes, copy, indicator, validate)\u001b[0m\n\u001b[0;32m    648\u001b[0m             \u001b[0mwarnings\u001b[0m\u001b[1;33m.\u001b[0m\u001b[0mwarn\u001b[0m\u001b[1;33m(\u001b[0m\u001b[0mmsg\u001b[0m\u001b[1;33m,\u001b[0m \u001b[0mUserWarning\u001b[0m\u001b[1;33m)\u001b[0m\u001b[1;33m\u001b[0m\u001b[1;33m\u001b[0m\u001b[0m\n\u001b[0;32m    649\u001b[0m \u001b[1;33m\u001b[0m\u001b[0m\n\u001b[1;32m--> 650\u001b[1;33m         \u001b[0mself\u001b[0m\u001b[1;33m.\u001b[0m\u001b[0m_validate_specification\u001b[0m\u001b[1;33m(\u001b[0m\u001b[1;33m)\u001b[0m\u001b[1;33m\u001b[0m\u001b[1;33m\u001b[0m\u001b[0m\n\u001b[0m\u001b[0;32m    651\u001b[0m \u001b[1;33m\u001b[0m\u001b[0m\n\u001b[0;32m    652\u001b[0m         \u001b[0mcross_col\u001b[0m \u001b[1;33m=\u001b[0m \u001b[1;32mNone\u001b[0m\u001b[1;33m\u001b[0m\u001b[1;33m\u001b[0m\u001b[0m\n",
      "\u001b[1;32m~\\anaconda3\\lib\\site-packages\\pandas\\core\\reshape\\merge.py\u001b[0m in \u001b[0;36m_validate_specification\u001b[1;34m(self)\u001b[0m\n\u001b[0;32m   1281\u001b[0m                 \u001b[0mcommon_cols\u001b[0m \u001b[1;33m=\u001b[0m \u001b[0mleft_cols\u001b[0m\u001b[1;33m.\u001b[0m\u001b[0mintersection\u001b[0m\u001b[1;33m(\u001b[0m\u001b[0mright_cols\u001b[0m\u001b[1;33m)\u001b[0m\u001b[1;33m\u001b[0m\u001b[1;33m\u001b[0m\u001b[0m\n\u001b[0;32m   1282\u001b[0m                 \u001b[1;32mif\u001b[0m \u001b[0mlen\u001b[0m\u001b[1;33m(\u001b[0m\u001b[0mcommon_cols\u001b[0m\u001b[1;33m)\u001b[0m \u001b[1;33m==\u001b[0m \u001b[1;36m0\u001b[0m\u001b[1;33m:\u001b[0m\u001b[1;33m\u001b[0m\u001b[1;33m\u001b[0m\u001b[0m\n\u001b[1;32m-> 1283\u001b[1;33m                     raise MergeError(\n\u001b[0m\u001b[0;32m   1284\u001b[0m                         \u001b[1;34m\"No common columns to perform merge on. \"\u001b[0m\u001b[1;33m\u001b[0m\u001b[1;33m\u001b[0m\u001b[0m\n\u001b[0;32m   1285\u001b[0m                         \u001b[1;34mf\"Merge options: left_on={self.left_on}, \"\u001b[0m\u001b[1;33m\u001b[0m\u001b[1;33m\u001b[0m\u001b[0m\n",
      "\u001b[1;31mMergeError\u001b[0m: No common columns to perform merge on. Merge options: left_on=None, right_on=None, left_index=False, right_index=False"
     ]
    }
   ],
   "source": [
    "pd.merge(dataExampleDF3,dataExampleDF4)"
   ]
  },
  {
   "cell_type": "code",
   "execution_count": 28,
   "id": "72829268-5b84-41a2-9b98-d4a36aa1578f",
   "metadata": {},
   "outputs": [
    {
     "data": {
      "text/html": [
       "<div>\n",
       "<style scoped>\n",
       "    .dataframe tbody tr th:only-of-type {\n",
       "        vertical-align: middle;\n",
       "    }\n",
       "\n",
       "    .dataframe tbody tr th {\n",
       "        vertical-align: top;\n",
       "    }\n",
       "\n",
       "    .dataframe thead th {\n",
       "        text-align: right;\n",
       "    }\n",
       "</style>\n",
       "<table border=\"1\" class=\"dataframe\">\n",
       "  <thead>\n",
       "    <tr style=\"text-align: right;\">\n",
       "      <th></th>\n",
       "      <th>Eid</th>\n",
       "      <th>Dept.</th>\n",
       "      <th>Empid</th>\n",
       "      <th>Ename</th>\n",
       "    </tr>\n",
       "  </thead>\n",
       "  <tbody>\n",
       "    <tr>\n",
       "      <th>0</th>\n",
       "      <td>1</td>\n",
       "      <td>HR</td>\n",
       "      <td>1</td>\n",
       "      <td>Sharada</td>\n",
       "    </tr>\n",
       "    <tr>\n",
       "      <th>1</th>\n",
       "      <td>2</td>\n",
       "      <td>Ops</td>\n",
       "      <td>2</td>\n",
       "      <td>Aaradhya</td>\n",
       "    </tr>\n",
       "    <tr>\n",
       "      <th>2</th>\n",
       "      <td>3</td>\n",
       "      <td>Dev</td>\n",
       "      <td>3</td>\n",
       "      <td>Abhishek</td>\n",
       "    </tr>\n",
       "  </tbody>\n",
       "</table>\n",
       "</div>"
      ],
      "text/plain": [
       "   Eid Dept.  Empid     Ename\n",
       "0    1    HR      1   Sharada\n",
       "1    2   Ops      2  Aaradhya\n",
       "2    3   Dev      3  Abhishek"
      ]
     },
     "execution_count": 28,
     "metadata": {},
     "output_type": "execute_result"
    }
   ],
   "source": [
    "# becuase there is no common column, so megring will not happen.\n",
    "# but, customised merging can be done\n",
    "pd.merge(dataExampleDF3,dataExampleDF4, left_on=\"Eid\" , right_on=\"Empid\")"
   ]
  },
  {
   "cell_type": "code",
   "execution_count": 29,
   "id": "06c82349-8bc0-4a05-b1e1-9e0b195797da",
   "metadata": {},
   "outputs": [],
   "source": [
    "# only two tables can be merged. the resultant DF can be merged with another tablet."
   ]
  },
  {
   "cell_type": "markdown",
   "id": "c16e1c08-9386-4f64-a0c2-b0703e45b242",
   "metadata": {},
   "source": [
    "# concat operation"
   ]
  },
  {
   "cell_type": "code",
   "execution_count": 30,
   "id": "b4aa4569-ce67-4b16-80d9-c84f9b0445be",
   "metadata": {},
   "outputs": [],
   "source": [
    "dataEmpDF1 = pd.DataFrame([ [1,\"Sharada\"],[2,\"Aaradhya\"],[3,\"Abhishek\"] ], columns=[\"Eid\",\"Ename\"])\n",
    "dataEmpDF2 = pd.DataFrame([ [4,\"Aravind\"],[5,\"Aounnathya\"],[6,\"Robo\"] ], columns=[\"Eid\",\"Ename\"])"
   ]
  },
  {
   "cell_type": "code",
   "execution_count": 32,
   "id": "a6dc8c0a-c36a-4cba-a225-3914132f9ee6",
   "metadata": {},
   "outputs": [],
   "source": [
    "resultEmpDF = pd.concat( [dataEmpDF1,dataEmpDF2] , axis=0) # axis=0 means row concat"
   ]
  },
  {
   "cell_type": "code",
   "execution_count": 33,
   "id": "8c6b7040-c054-4737-9f06-3c3443ad7143",
   "metadata": {},
   "outputs": [
    {
     "data": {
      "text/html": [
       "<div>\n",
       "<style scoped>\n",
       "    .dataframe tbody tr th:only-of-type {\n",
       "        vertical-align: middle;\n",
       "    }\n",
       "\n",
       "    .dataframe tbody tr th {\n",
       "        vertical-align: top;\n",
       "    }\n",
       "\n",
       "    .dataframe thead th {\n",
       "        text-align: right;\n",
       "    }\n",
       "</style>\n",
       "<table border=\"1\" class=\"dataframe\">\n",
       "  <thead>\n",
       "    <tr style=\"text-align: right;\">\n",
       "      <th></th>\n",
       "      <th>Eid</th>\n",
       "      <th>Ename</th>\n",
       "    </tr>\n",
       "  </thead>\n",
       "  <tbody>\n",
       "    <tr>\n",
       "      <th>0</th>\n",
       "      <td>1</td>\n",
       "      <td>Sharada</td>\n",
       "    </tr>\n",
       "    <tr>\n",
       "      <th>1</th>\n",
       "      <td>2</td>\n",
       "      <td>Aaradhya</td>\n",
       "    </tr>\n",
       "    <tr>\n",
       "      <th>2</th>\n",
       "      <td>3</td>\n",
       "      <td>Abhishek</td>\n",
       "    </tr>\n",
       "    <tr>\n",
       "      <th>0</th>\n",
       "      <td>4</td>\n",
       "      <td>Aravind</td>\n",
       "    </tr>\n",
       "    <tr>\n",
       "      <th>1</th>\n",
       "      <td>5</td>\n",
       "      <td>Aounnathya</td>\n",
       "    </tr>\n",
       "    <tr>\n",
       "      <th>2</th>\n",
       "      <td>6</td>\n",
       "      <td>Robo</td>\n",
       "    </tr>\n",
       "  </tbody>\n",
       "</table>\n",
       "</div>"
      ],
      "text/plain": [
       "   Eid       Ename\n",
       "0    1     Sharada\n",
       "1    2    Aaradhya\n",
       "2    3    Abhishek\n",
       "0    4     Aravind\n",
       "1    5  Aounnathya\n",
       "2    6        Robo"
      ]
     },
     "execution_count": 33,
     "metadata": {},
     "output_type": "execute_result"
    }
   ],
   "source": [
    "resultEmpDF"
   ]
  },
  {
   "cell_type": "code",
   "execution_count": 34,
   "id": "4a6e5c34-f874-4ec8-9fad-37f851d51aad",
   "metadata": {},
   "outputs": [],
   "source": [
    "# In many operations, indexing is the challenging as it requires reset index."
   ]
  },
  {
   "cell_type": "code",
   "execution_count": 35,
   "id": "62ef44bd-e406-46b5-973b-8eac30ebd906",
   "metadata": {},
   "outputs": [],
   "source": [
    "# many number of DFs/tables can be concatnated , but in merge operation only two DF can be merged."
   ]
  },
  {
   "cell_type": "markdown",
   "id": "ceeb2a70-af5d-4e8b-ac3f-6335b7184c4a",
   "metadata": {},
   "source": [
    "### column wise concatnation"
   ]
  },
  {
   "cell_type": "code",
   "execution_count": 37,
   "id": "75ffcf1d-3b73-4f58-9000-62cce2a6b326",
   "metadata": {},
   "outputs": [],
   "source": [
    "dataEmpDF3 = pd.DataFrame([ [4,\"QA\"],[1,\"HR\"],[2,\"Ops\"],[3,\"Dev\"] ], columns=[\"Eid\",\"Dept.\"])\n",
    "dataEmpDF4 = pd.DataFrame([ [1,\"Sharada\"],[2,\"Aaradhya\"],[3,\"Abhishek\"] ], columns=[\"Empid\",\"Ename\"])"
   ]
  },
  {
   "cell_type": "code",
   "execution_count": 39,
   "id": "eada3fe9-5507-4a33-b8e9-ff90463ef982",
   "metadata": {},
   "outputs": [
    {
     "data": {
      "text/html": [
       "<div>\n",
       "<style scoped>\n",
       "    .dataframe tbody tr th:only-of-type {\n",
       "        vertical-align: middle;\n",
       "    }\n",
       "\n",
       "    .dataframe tbody tr th {\n",
       "        vertical-align: top;\n",
       "    }\n",
       "\n",
       "    .dataframe thead th {\n",
       "        text-align: right;\n",
       "    }\n",
       "</style>\n",
       "<table border=\"1\" class=\"dataframe\">\n",
       "  <thead>\n",
       "    <tr style=\"text-align: right;\">\n",
       "      <th></th>\n",
       "      <th>Eid</th>\n",
       "      <th>Dept.</th>\n",
       "      <th>Empid</th>\n",
       "      <th>Ename</th>\n",
       "    </tr>\n",
       "  </thead>\n",
       "  <tbody>\n",
       "    <tr>\n",
       "      <th>0</th>\n",
       "      <td>4</td>\n",
       "      <td>QA</td>\n",
       "      <td>1.0</td>\n",
       "      <td>Sharada</td>\n",
       "    </tr>\n",
       "    <tr>\n",
       "      <th>1</th>\n",
       "      <td>1</td>\n",
       "      <td>HR</td>\n",
       "      <td>2.0</td>\n",
       "      <td>Aaradhya</td>\n",
       "    </tr>\n",
       "    <tr>\n",
       "      <th>2</th>\n",
       "      <td>2</td>\n",
       "      <td>Ops</td>\n",
       "      <td>3.0</td>\n",
       "      <td>Abhishek</td>\n",
       "    </tr>\n",
       "    <tr>\n",
       "      <th>3</th>\n",
       "      <td>3</td>\n",
       "      <td>Dev</td>\n",
       "      <td>NaN</td>\n",
       "      <td>NaN</td>\n",
       "    </tr>\n",
       "  </tbody>\n",
       "</table>\n",
       "</div>"
      ],
      "text/plain": [
       "   Eid Dept.  Empid     Ename\n",
       "0    4    QA    1.0   Sharada\n",
       "1    1    HR    2.0  Aaradhya\n",
       "2    2   Ops    3.0  Abhishek\n",
       "3    3   Dev    NaN       NaN"
      ]
     },
     "execution_count": 39,
     "metadata": {},
     "output_type": "execute_result"
    }
   ],
   "source": [
    "resultEmpDF2 = pd.concat( [dataEmpDF3,dataEmpDF4] , axis=1) # axis=1 for columnwise concat\n",
    "resultEmpDF2"
   ]
  },
  {
   "cell_type": "code",
   "execution_count": null,
   "id": "4fd1c167-c9ce-4457-82c2-02cdbce1f3c5",
   "metadata": {},
   "outputs": [],
   "source": [
    "# Empid is float here , its by default"
   ]
  },
  {
   "cell_type": "code",
   "execution_count": 40,
   "id": "bd1849ae-7757-450b-8c79-ea36a04975d1",
   "metadata": {},
   "outputs": [],
   "source": [
    "# if there is a relationship between DF1 and DF2 , then cancat can not be used \n",
    "# here merge should be used."
   ]
  },
  {
   "cell_type": "code",
   "execution_count": 41,
   "id": "9702830e-2212-47f1-a9d5-bb96729d4c15",
   "metadata": {},
   "outputs": [],
   "source": [
    "# concat will not help you about relationship of Two DFs\n",
    "# just it will paste the data at one place.\n",
    "# if we are looking for Primary key and foreign key relationship concept ,such senerio can concat cn not be used"
   ]
  },
  {
   "cell_type": "code",
   "execution_count": 42,
   "id": "2a89ddd7-98a5-4be8-b681-d55a6d78a829",
   "metadata": {},
   "outputs": [],
   "source": [
    "# column concat done based on row indexing"
   ]
  },
  {
   "cell_type": "code",
   "execution_count": 43,
   "id": "29be27cf-a12f-413f-93bc-c2d84bc40f3f",
   "metadata": {},
   "outputs": [
    {
     "data": {
      "text/html": [
       "<div>\n",
       "<style scoped>\n",
       "    .dataframe tbody tr th:only-of-type {\n",
       "        vertical-align: middle;\n",
       "    }\n",
       "\n",
       "    .dataframe tbody tr th {\n",
       "        vertical-align: top;\n",
       "    }\n",
       "\n",
       "    .dataframe thead th {\n",
       "        text-align: right;\n",
       "    }\n",
       "</style>\n",
       "<table border=\"1\" class=\"dataframe\">\n",
       "  <thead>\n",
       "    <tr style=\"text-align: right;\">\n",
       "      <th></th>\n",
       "      <th>Eid</th>\n",
       "      <th>Dept.</th>\n",
       "      <th>Empid</th>\n",
       "      <th>Ename</th>\n",
       "    </tr>\n",
       "  </thead>\n",
       "  <tbody>\n",
       "    <tr>\n",
       "      <th>0</th>\n",
       "      <td>4.0</td>\n",
       "      <td>QA</td>\n",
       "      <td>NaN</td>\n",
       "      <td>NaN</td>\n",
       "    </tr>\n",
       "    <tr>\n",
       "      <th>1</th>\n",
       "      <td>1.0</td>\n",
       "      <td>HR</td>\n",
       "      <td>NaN</td>\n",
       "      <td>NaN</td>\n",
       "    </tr>\n",
       "    <tr>\n",
       "      <th>2</th>\n",
       "      <td>2.0</td>\n",
       "      <td>Ops</td>\n",
       "      <td>NaN</td>\n",
       "      <td>NaN</td>\n",
       "    </tr>\n",
       "    <tr>\n",
       "      <th>3</th>\n",
       "      <td>3.0</td>\n",
       "      <td>Dev</td>\n",
       "      <td>NaN</td>\n",
       "      <td>NaN</td>\n",
       "    </tr>\n",
       "    <tr>\n",
       "      <th>0</th>\n",
       "      <td>NaN</td>\n",
       "      <td>NaN</td>\n",
       "      <td>1.0</td>\n",
       "      <td>Sharada</td>\n",
       "    </tr>\n",
       "    <tr>\n",
       "      <th>1</th>\n",
       "      <td>NaN</td>\n",
       "      <td>NaN</td>\n",
       "      <td>2.0</td>\n",
       "      <td>Aaradhya</td>\n",
       "    </tr>\n",
       "    <tr>\n",
       "      <th>2</th>\n",
       "      <td>NaN</td>\n",
       "      <td>NaN</td>\n",
       "      <td>3.0</td>\n",
       "      <td>Abhishek</td>\n",
       "    </tr>\n",
       "  </tbody>\n",
       "</table>\n",
       "</div>"
      ],
      "text/plain": [
       "   Eid Dept.  Empid     Ename\n",
       "0  4.0    QA    NaN       NaN\n",
       "1  1.0    HR    NaN       NaN\n",
       "2  2.0   Ops    NaN       NaN\n",
       "3  3.0   Dev    NaN       NaN\n",
       "0  NaN   NaN    1.0   Sharada\n",
       "1  NaN   NaN    2.0  Aaradhya\n",
       "2  NaN   NaN    3.0  Abhishek"
      ]
     },
     "execution_count": 43,
     "metadata": {},
     "output_type": "execute_result"
    }
   ],
   "source": [
    "resultEmpDF2 = pd.concat( [dataEmpDF3,dataEmpDF4]) \n",
    "resultEmpDF2"
   ]
  },
  {
   "cell_type": "code",
   "execution_count": null,
   "id": "f4f3b00c-b860-46f9-8dbc-0a1bb5045104",
   "metadata": {},
   "outputs": [],
   "source": []
  }
 ],
 "metadata": {
  "kernelspec": {
   "display_name": "Python 3",
   "language": "python",
   "name": "python3"
  },
  "language_info": {
   "codemirror_mode": {
    "name": "ipython",
    "version": 3
   },
   "file_extension": ".py",
   "mimetype": "text/x-python",
   "name": "python",
   "nbconvert_exporter": "python",
   "pygments_lexer": "ipython3",
   "version": "3.8.8"
  }
 },
 "nbformat": 4,
 "nbformat_minor": 5
}
