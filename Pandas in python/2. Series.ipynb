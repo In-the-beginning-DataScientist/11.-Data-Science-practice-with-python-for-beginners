{
 "cells": [
  {
   "cell_type": "code",
   "execution_count": 1,
   "id": "b6c4904c-e573-4d62-bcf6-d96ab6101360",
   "metadata": {},
   "outputs": [],
   "source": [
    "# Series is important function in analsing the single column in the dataset"
   ]
  },
  {
   "cell_type": "code",
   "execution_count": 2,
   "id": "7ab28622-6426-4fcd-aebd-501c289c2840",
   "metadata": {},
   "outputs": [],
   "source": [
    "import numpy as np\n",
    "import pandas as pd"
   ]
  },
  {
   "cell_type": "code",
   "execution_count": 3,
   "id": "a1f44453-70aa-4523-a2f6-af8571b34cab",
   "metadata": {},
   "outputs": [],
   "source": [
    "# Why numpy is required when we do pandas for anaysis\n",
    "# ans; we dont want to use experimental numpy\n",
    "# pandas are used because which are made on top of numpy\n",
    "# Important : numpy is helpful in pandas because of numerical operations\n",
    "# If we won't install numpy, still we can get the detils from experimental numpy package\n",
    "# But we can not rely on that; reliability is the concern\n",
    "# thatswhy always recommend standard numpy package along with Pandas for better numerical operations\n",
    "# remember numpy participate in Pandas when and only in performance of statistics"
   ]
  },
  {
   "cell_type": "code",
   "execution_count": 4,
   "id": "65e79d7c-3a85-4ef5-b4e5-383bdedb4700",
   "metadata": {},
   "outputs": [],
   "source": [
    "# Series\n",
    "# is nothing but a column in a DataFrame"
   ]
  },
  {
   "cell_type": "code",
   "execution_count": 5,
   "id": "4bf6bcfd-7711-45d6-9c56-8f62d204d2d2",
   "metadata": {},
   "outputs": [],
   "source": [
    "# empList = [[1,\"Aravind\",400000],[2,\"Sharada\",300000],[3,\"Aaradhya\",200000],[4,\"Abhishek\",150000],[5,\"Aounnathya\", 120000],[6,\"Robo\", 120000]]"
   ]
  },
  {
   "cell_type": "code",
   "execution_count": 6,
   "id": "7d1d77bc-19d7-4f36-bd7a-5d5abc91a6c0",
   "metadata": {},
   "outputs": [],
   "source": [
    "empData = pd.read_csv(\"employee.csv\", # path file\n",
    "                       header=None,    # Defines whether header is there or not\n",
    "                       names = ['Eid','Ename','Esalary'], # Assign Name of the columns\n",
    "                      sep = \",\") # Informing the seperator value ; defalut sep is ,"
   ]
  },
  {
   "cell_type": "code",
   "execution_count": 7,
   "id": "49c13ebd-2316-444f-989c-a1d56f853b47",
   "metadata": {},
   "outputs": [
    {
     "data": {
      "text/html": [
       "<div>\n",
       "<style scoped>\n",
       "    .dataframe tbody tr th:only-of-type {\n",
       "        vertical-align: middle;\n",
       "    }\n",
       "\n",
       "    .dataframe tbody tr th {\n",
       "        vertical-align: top;\n",
       "    }\n",
       "\n",
       "    .dataframe thead th {\n",
       "        text-align: right;\n",
       "    }\n",
       "</style>\n",
       "<table border=\"1\" class=\"dataframe\">\n",
       "  <thead>\n",
       "    <tr style=\"text-align: right;\">\n",
       "      <th></th>\n",
       "      <th>Eid</th>\n",
       "      <th>Ename</th>\n",
       "      <th>Esalary</th>\n",
       "    </tr>\n",
       "  </thead>\n",
       "  <tbody>\n",
       "    <tr>\n",
       "      <th>0</th>\n",
       "      <td>1</td>\n",
       "      <td>Aravind</td>\n",
       "      <td>500000</td>\n",
       "    </tr>\n",
       "    <tr>\n",
       "      <th>1</th>\n",
       "      <td>2</td>\n",
       "      <td>Sharada</td>\n",
       "      <td>400000</td>\n",
       "    </tr>\n",
       "    <tr>\n",
       "      <th>2</th>\n",
       "      <td>3</td>\n",
       "      <td>Rachael</td>\n",
       "      <td>300000</td>\n",
       "    </tr>\n",
       "    <tr>\n",
       "      <th>3</th>\n",
       "      <td>4</td>\n",
       "      <td>Dave</td>\n",
       "      <td>200000</td>\n",
       "    </tr>\n",
       "    <tr>\n",
       "      <th>4</th>\n",
       "      <td>5</td>\n",
       "      <td>Rhema</td>\n",
       "      <td>100000</td>\n",
       "    </tr>\n",
       "  </tbody>\n",
       "</table>\n",
       "</div>"
      ],
      "text/plain": [
       "   Eid    Ename  Esalary\n",
       "0    1  Aravind   500000\n",
       "1    2  Sharada   400000\n",
       "2    3  Rachael   300000\n",
       "3    4     Dave   200000\n",
       "4    5    Rhema   100000"
      ]
     },
     "execution_count": 7,
     "metadata": {},
     "output_type": "execute_result"
    }
   ],
   "source": [
    "empData"
   ]
  },
  {
   "cell_type": "code",
   "execution_count": 8,
   "id": "6ba89e61-527f-478b-901e-47ef8c18f498",
   "metadata": {},
   "outputs": [
    {
     "name": "stdout",
     "output_type": "stream",
     "text": [
      "<class 'pandas.core.frame.DataFrame'>\n",
      "RangeIndex: 5 entries, 0 to 4\n",
      "Data columns (total 3 columns):\n",
      " #   Column   Non-Null Count  Dtype \n",
      "---  ------   --------------  ----- \n",
      " 0   Eid      5 non-null      int64 \n",
      " 1   Ename    5 non-null      object\n",
      " 2   Esalary  5 non-null      int64 \n",
      "dtypes: int64(2), object(1)\n",
      "memory usage: 248.0+ bytes\n"
     ]
    }
   ],
   "source": [
    "empData.info()"
   ]
  },
  {
   "cell_type": "code",
   "execution_count": 9,
   "id": "d29f0587-39a5-4e8a-a5a4-ff3b054ef26c",
   "metadata": {},
   "outputs": [
    {
     "data": {
      "text/plain": [
       "0    500000\n",
       "1    400000\n",
       "2    300000\n",
       "3    200000\n",
       "4    100000\n",
       "Name: Esalary, dtype: int64"
      ]
     },
     "execution_count": 9,
     "metadata": {},
     "output_type": "execute_result"
    }
   ],
   "source": [
    "# like in SQL \n",
    "# table.column_name\n",
    "empData.Esalary"
   ]
  },
  {
   "cell_type": "code",
   "execution_count": 10,
   "id": "daa49005-b9d8-42ba-a53d-cb9f465beb58",
   "metadata": {},
   "outputs": [
    {
     "data": {
      "text/plain": [
       "pandas.core.frame.DataFrame"
      ]
     },
     "execution_count": 10,
     "metadata": {},
     "output_type": "execute_result"
    }
   ],
   "source": [
    "type(empData) # its a dataframe"
   ]
  },
  {
   "cell_type": "code",
   "execution_count": 11,
   "id": "198421f4-7a25-4dd6-b2a3-7fe111047db0",
   "metadata": {},
   "outputs": [
    {
     "data": {
      "text/plain": [
       "pandas.core.series.Series"
      ]
     },
     "execution_count": 11,
     "metadata": {},
     "output_type": "execute_result"
    }
   ],
   "source": [
    "type(empData.Esalary) # ITS ASERIES"
   ]
  },
  {
   "cell_type": "code",
   "execution_count": 12,
   "id": "c138e1f7-e514-4c73-849f-d862d2c5170a",
   "metadata": {},
   "outputs": [],
   "source": [
    "# Dataframe is a collection of series\n",
    "# Dataframe can store heteogeneous series\n",
    "# But series is always homogeneous"
   ]
  },
  {
   "cell_type": "code",
   "execution_count": 13,
   "id": "30dc13b0-c027-4bc2-a494-666e5b85c29e",
   "metadata": {},
   "outputs": [],
   "source": [
    "# why we focusing more on series\n",
    "# why we are learning series"
   ]
  },
  {
   "cell_type": "code",
   "execution_count": 14,
   "id": "1f1da2c2-ccbf-481e-bd88-169311d6d68e",
   "metadata": {},
   "outputs": [],
   "source": [
    "# Whenever we do statical operations, we perform on series ideally\n",
    "# practically it differs"
   ]
  },
  {
   "cell_type": "code",
   "execution_count": 15,
   "id": "9b4ecea4-2408-494a-8a88-1ddea7f55118",
   "metadata": {},
   "outputs": [],
   "source": [
    "# first observe measures of central tendency\n",
    "# mean ,median, mode"
   ]
  },
  {
   "cell_type": "code",
   "execution_count": 16,
   "id": "4a0758b1-5afe-4af3-9545-4bf1f2be0812",
   "metadata": {},
   "outputs": [
    {
     "data": {
      "text/plain": [
       "300000.0"
      ]
     },
     "execution_count": 16,
     "metadata": {},
     "output_type": "execute_result"
    }
   ],
   "source": [
    "# MEAN\n",
    "empData.Esalary.mean() # this is same as in numpy..thats y here numpy is required"
   ]
  },
  {
   "cell_type": "code",
   "execution_count": 17,
   "id": "723c72bd-b9d4-44de-9bb1-0061d2b7dfb8",
   "metadata": {},
   "outputs": [
    {
     "data": {
      "text/plain": [
       "400000.0"
      ]
     },
     "execution_count": 17,
     "metadata": {},
     "output_type": "execute_result"
    }
   ],
   "source": [
    "# 75th percentile\n",
    "np.percentile(empData.Esalary,75)"
   ]
  },
  {
   "cell_type": "code",
   "execution_count": 18,
   "id": "91054b09-3343-43b7-8500-4bd5daa9363c",
   "metadata": {},
   "outputs": [
    {
     "data": {
      "text/plain": [
       "300000.0"
      ]
     },
     "execution_count": 18,
     "metadata": {},
     "output_type": "execute_result"
    }
   ],
   "source": [
    "# 50th percentile\n",
    "np.percentile(empData.Esalary,50)"
   ]
  },
  {
   "cell_type": "code",
   "execution_count": 19,
   "id": "c846f894-15f1-41df-a194-cf2e2b740677",
   "metadata": {},
   "outputs": [],
   "source": [
    "# we call , columns as attributes, \n",
    "# if any error in column names it throw an error as attribute error"
   ]
  },
  {
   "cell_type": "code",
   "execution_count": 20,
   "id": "5fee2799-44de-4fbf-a49d-d04e5ebd1b7c",
   "metadata": {},
   "outputs": [],
   "source": [
    "# attribute error is column section error"
   ]
  },
  {
   "cell_type": "code",
   "execution_count": 21,
   "id": "2f8b3983-8ab5-4150-a9e3-9d3c416183dd",
   "metadata": {},
   "outputs": [
    {
     "data": {
      "text/plain": [
       "300000.0"
      ]
     },
     "execution_count": 21,
     "metadata": {},
     "output_type": "execute_result"
    }
   ],
   "source": [
    "empData.Esalary.median()"
   ]
  },
  {
   "cell_type": "code",
   "execution_count": 22,
   "id": "76cf7372-0944-47c8-8e44-151151c40708",
   "metadata": {},
   "outputs": [],
   "source": [
    "# mode can not be calculated in numpy \n",
    "# we need to use scipy"
   ]
  },
  {
   "cell_type": "code",
   "execution_count": 23,
   "id": "9f8070d5-2f66-4607-b667-1534413173b3",
   "metadata": {},
   "outputs": [],
   "source": [
    "# But Pandas having scipy by default"
   ]
  },
  {
   "cell_type": "code",
   "execution_count": 24,
   "id": "ae1a53bd-2558-4889-a3e1-a1c78083155c",
   "metadata": {},
   "outputs": [
    {
     "data": {
      "text/plain": [
       "0    100000\n",
       "1    200000\n",
       "2    300000\n",
       "3    400000\n",
       "4    500000\n",
       "dtype: int64"
      ]
     },
     "execution_count": 24,
     "metadata": {},
     "output_type": "execute_result"
    }
   ],
   "source": [
    "empData.Esalary.mode()"
   ]
  },
  {
   "cell_type": "code",
   "execution_count": 25,
   "id": "c4317ffb-d7b1-474a-9c60-fde3b6378636",
   "metadata": {},
   "outputs": [],
   "source": [
    "# empData.Esalary.percentile(50) "
   ]
  },
  {
   "cell_type": "code",
   "execution_count": 26,
   "id": "c2cf8f96-57c2-4f1d-9be9-de0e190de638",
   "metadata": {},
   "outputs": [],
   "source": [
    "# Statical analysis, Numerical analysis and Data analysis\n",
    "# can bedone using single package is pandas"
   ]
  },
  {
   "cell_type": "code",
   "execution_count": 27,
   "id": "a923a75f-b1be-42ff-bd76-c8d80ee8968c",
   "metadata": {},
   "outputs": [],
   "source": [
    "# pandas is having scipy experimental package\n",
    "# but still we can install scipy package also"
   ]
  },
  {
   "cell_type": "code",
   "execution_count": 28,
   "id": "fab4812a-5a19-43dc-9d24-afbe854bfa26",
   "metadata": {},
   "outputs": [],
   "source": [
    "import scipy as sp"
   ]
  },
  {
   "cell_type": "code",
   "execution_count": 29,
   "id": "7904097a-7a0f-4fc1-9360-d7708d60b4b4",
   "metadata": {},
   "outputs": [],
   "source": [
    "# but scipy will be taught more when we use statistical testing"
   ]
  },
  {
   "cell_type": "code",
   "execution_count": 30,
   "id": "3460718c-e526-4f6c-84c8-5f82d19974a1",
   "metadata": {},
   "outputs": [],
   "source": [
    "#then Measures of dispersion\n",
    "# Variance and SD"
   ]
  },
  {
   "cell_type": "code",
   "execution_count": 31,
   "id": "22999117-61e5-497b-81b4-e263a9308375",
   "metadata": {},
   "outputs": [
    {
     "data": {
      "text/plain": [
       "25000000000.0"
      ]
     },
     "execution_count": 31,
     "metadata": {},
     "output_type": "execute_result"
    }
   ],
   "source": [
    "empData.Esalary.var()"
   ]
  },
  {
   "cell_type": "code",
   "execution_count": 32,
   "id": "89f6200b-a2d7-4f5d-9299-e81ce26e3dcb",
   "metadata": {},
   "outputs": [
    {
     "data": {
      "text/plain": [
       "158113.88300841895"
      ]
     },
     "execution_count": 32,
     "metadata": {},
     "output_type": "execute_result"
    }
   ],
   "source": [
    "empData.Esalary.std()"
   ]
  },
  {
   "cell_type": "code",
   "execution_count": 33,
   "id": "d82a12a2-40e4-46cc-b635-0e93e6c2935b",
   "metadata": {},
   "outputs": [],
   "source": [
    "# Standard deviation is very huge, can be seen in graph also\n",
    "# Pandas also supports plots but later can be seen"
   ]
  },
  {
   "cell_type": "code",
   "execution_count": 34,
   "id": "9cb7a0c2-0482-4332-92b8-c991afde7e0b",
   "metadata": {},
   "outputs": [
    {
     "data": {
      "text/html": [
       "<div>\n",
       "<style scoped>\n",
       "    .dataframe tbody tr th:only-of-type {\n",
       "        vertical-align: middle;\n",
       "    }\n",
       "\n",
       "    .dataframe tbody tr th {\n",
       "        vertical-align: top;\n",
       "    }\n",
       "\n",
       "    .dataframe thead th {\n",
       "        text-align: right;\n",
       "    }\n",
       "</style>\n",
       "<table border=\"1\" class=\"dataframe\">\n",
       "  <thead>\n",
       "    <tr style=\"text-align: right;\">\n",
       "      <th></th>\n",
       "      <th>Eid</th>\n",
       "      <th>Esalary</th>\n",
       "    </tr>\n",
       "  </thead>\n",
       "  <tbody>\n",
       "    <tr>\n",
       "      <th>count</th>\n",
       "      <td>5.000000</td>\n",
       "      <td>5.000000</td>\n",
       "    </tr>\n",
       "    <tr>\n",
       "      <th>mean</th>\n",
       "      <td>3.000000</td>\n",
       "      <td>300000.000000</td>\n",
       "    </tr>\n",
       "    <tr>\n",
       "      <th>std</th>\n",
       "      <td>1.581139</td>\n",
       "      <td>158113.883008</td>\n",
       "    </tr>\n",
       "    <tr>\n",
       "      <th>min</th>\n",
       "      <td>1.000000</td>\n",
       "      <td>100000.000000</td>\n",
       "    </tr>\n",
       "    <tr>\n",
       "      <th>25%</th>\n",
       "      <td>2.000000</td>\n",
       "      <td>200000.000000</td>\n",
       "    </tr>\n",
       "    <tr>\n",
       "      <th>50%</th>\n",
       "      <td>3.000000</td>\n",
       "      <td>300000.000000</td>\n",
       "    </tr>\n",
       "    <tr>\n",
       "      <th>75%</th>\n",
       "      <td>4.000000</td>\n",
       "      <td>400000.000000</td>\n",
       "    </tr>\n",
       "    <tr>\n",
       "      <th>max</th>\n",
       "      <td>5.000000</td>\n",
       "      <td>500000.000000</td>\n",
       "    </tr>\n",
       "  </tbody>\n",
       "</table>\n",
       "</div>"
      ],
      "text/plain": [
       "            Eid        Esalary\n",
       "count  5.000000       5.000000\n",
       "mean   3.000000  300000.000000\n",
       "std    1.581139  158113.883008\n",
       "min    1.000000  100000.000000\n",
       "25%    2.000000  200000.000000\n",
       "50%    3.000000  300000.000000\n",
       "75%    4.000000  400000.000000\n",
       "max    5.000000  500000.000000"
      ]
     },
     "execution_count": 34,
     "metadata": {},
     "output_type": "execute_result"
    }
   ],
   "source": [
    "# the above series of column numerical analysis can be seen in single shot\n",
    "empData.describe()"
   ]
  },
  {
   "cell_type": "code",
   "execution_count": 35,
   "id": "a4391061-15bf-48a6-b41d-9c9b0f39f319",
   "metadata": {},
   "outputs": [],
   "source": [
    "# if you see the mean and #50%le values\n",
    "# mean = 300000 and 50% is 300000 both are same so, its following normal distribution"
   ]
  },
  {
   "cell_type": "code",
   "execution_count": 36,
   "id": "c4371f6f-2b0f-41ef-8688-b9b53df19b68",
   "metadata": {},
   "outputs": [],
   "source": [
    "# there is no outlier exist in the data"
   ]
  },
  {
   "cell_type": "code",
   "execution_count": 37,
   "id": "cc119078-877d-4efc-addc-4aca3f982077",
   "metadata": {},
   "outputs": [],
   "source": [
    "# Before analysing the data, you need to convert Dataframe into numpy array\n",
    "# why we need to do this?\n",
    "# Ans: many situations may arise, and few are here\n",
    "# "
   ]
  },
  {
   "cell_type": "markdown",
   "id": "d4166253-172f-4aef-9b79-f326fe738560",
   "metadata": {},
   "source": [
    "Situation-1:"
   ]
  },
  {
   "cell_type": "code",
   "execution_count": 38,
   "id": "a3c998a7-89d5-48e9-ba91-4f54d77af37a",
   "metadata": {},
   "outputs": [],
   "source": [
    "# If you are writting a code to create a statistical model in python\n",
    "# basically its inferential statisticalmodel\n",
    "# will use a package called scikit learn (ML) and Tensorflow (DL)\n",
    "# All the packages expects your data should be in the form of Numpy array\n",
    "# after completion of EDA, before taking to the model.. it should be in Numpy array"
   ]
  },
  {
   "cell_type": "markdown",
   "id": "5921c2ae-0955-46a1-8303-e2e27709dcae",
   "metadata": {},
   "source": [
    "Situation-2: "
   ]
  },
  {
   "cell_type": "code",
   "execution_count": 39,
   "id": "c880ec54-ddb2-4dc6-afe9-8853e7702001",
   "metadata": {},
   "outputs": [],
   "source": [
    "# if you want to perform statistical testing\n",
    "# (Hypothesis testing, AB Testing), chi-squre test...\n",
    "# then formula expects your data in the form of Numpy\n",
    "# this is the prospective of requirement of form of Numpy array data"
   ]
  },
  {
   "cell_type": "code",
   "execution_count": 73,
   "id": "32a2e295-8820-4cd4-bb7d-40eae483b888",
   "metadata": {},
   "outputs": [
    {
     "data": {
      "text/plain": [
       "array([[1, 'Aravind', 500000],\n",
       "       [2, 'Sharada', 400000],\n",
       "       [3, 'Rachael', 300000],\n",
       "       [4, 'Dave', 200000],\n",
       "       [5, 'Rhema', 100000]], dtype=object)"
      ]
     },
     "execution_count": 73,
     "metadata": {},
     "output_type": "execute_result"
    }
   ],
   "source": [
    "# save header names to a variable as headers will be lost while converting \n",
    "# Dataframe to Numpy array\n",
    "empDataHeaders = empData.columns\n",
    "# now the data code is \n",
    "\n",
    "empData.values"
   ]
  },
  {
   "cell_type": "code",
   "execution_count": 74,
   "id": "967eee20-5a3c-4f72-b967-c53345c33953",
   "metadata": {},
   "outputs": [],
   "source": [
    "# now the above data is in the form of array"
   ]
  },
  {
   "cell_type": "code",
   "execution_count": 75,
   "id": "e1660592-a141-4988-8ff3-5cbfd302a8da",
   "metadata": {},
   "outputs": [],
   "source": [
    "# now store it in Numpy array name\n",
    "empDataNumpyArray = empData.values"
   ]
  },
  {
   "cell_type": "code",
   "execution_count": 76,
   "id": "90fb8ca0-cc34-430d-9078-79cb268f6d65",
   "metadata": {},
   "outputs": [
    {
     "data": {
      "text/plain": [
       "array([[1, 'Aravind', 500000],\n",
       "       [2, 'Sharada', 400000],\n",
       "       [3, 'Rachael', 300000],\n",
       "       [4, 'Dave', 200000],\n",
       "       [5, 'Rhema', 100000]], dtype=object)"
      ]
     },
     "execution_count": 76,
     "metadata": {},
     "output_type": "execute_result"
    }
   ],
   "source": [
    "empDataNumpyArray"
   ]
  },
  {
   "cell_type": "code",
   "execution_count": 77,
   "id": "08a25477-d136-49e6-b1cc-6a870b48e2c5",
   "metadata": {},
   "outputs": [],
   "source": [
    "# One thing need to observe here is \n",
    "# we loose header data..."
   ]
  },
  {
   "cell_type": "code",
   "execution_count": 78,
   "id": "5215e835-78b6-4686-bfe4-c876ad87d85c",
   "metadata": {},
   "outputs": [],
   "source": [
    "# How to convert Numpy array into dataframe\n",
    "empData2 = pd.DataFrame(empDataNumpyArray, columns = empDataHeaders)"
   ]
  },
  {
   "cell_type": "code",
   "execution_count": 79,
   "id": "537c99e5-026d-4bdf-af6e-d12af648e22f",
   "metadata": {},
   "outputs": [
    {
     "data": {
      "text/html": [
       "<div>\n",
       "<style scoped>\n",
       "    .dataframe tbody tr th:only-of-type {\n",
       "        vertical-align: middle;\n",
       "    }\n",
       "\n",
       "    .dataframe tbody tr th {\n",
       "        vertical-align: top;\n",
       "    }\n",
       "\n",
       "    .dataframe thead th {\n",
       "        text-align: right;\n",
       "    }\n",
       "</style>\n",
       "<table border=\"1\" class=\"dataframe\">\n",
       "  <thead>\n",
       "    <tr style=\"text-align: right;\">\n",
       "      <th></th>\n",
       "      <th>Eid</th>\n",
       "      <th>Ename</th>\n",
       "      <th>Esalary</th>\n",
       "    </tr>\n",
       "  </thead>\n",
       "  <tbody>\n",
       "    <tr>\n",
       "      <th>0</th>\n",
       "      <td>1</td>\n",
       "      <td>Aravind</td>\n",
       "      <td>500000</td>\n",
       "    </tr>\n",
       "    <tr>\n",
       "      <th>1</th>\n",
       "      <td>2</td>\n",
       "      <td>Sharada</td>\n",
       "      <td>400000</td>\n",
       "    </tr>\n",
       "    <tr>\n",
       "      <th>2</th>\n",
       "      <td>3</td>\n",
       "      <td>Rachael</td>\n",
       "      <td>300000</td>\n",
       "    </tr>\n",
       "    <tr>\n",
       "      <th>3</th>\n",
       "      <td>4</td>\n",
       "      <td>Dave</td>\n",
       "      <td>200000</td>\n",
       "    </tr>\n",
       "    <tr>\n",
       "      <th>4</th>\n",
       "      <td>5</td>\n",
       "      <td>Rhema</td>\n",
       "      <td>100000</td>\n",
       "    </tr>\n",
       "  </tbody>\n",
       "</table>\n",
       "</div>"
      ],
      "text/plain": [
       "  Eid    Ename Esalary\n",
       "0   1  Aravind  500000\n",
       "1   2  Sharada  400000\n",
       "2   3  Rachael  300000\n",
       "3   4     Dave  200000\n",
       "4   5    Rhema  100000"
      ]
     },
     "execution_count": 79,
     "metadata": {},
     "output_type": "execute_result"
    }
   ],
   "source": [
    "empData2"
   ]
  },
  {
   "cell_type": "code",
   "execution_count": 80,
   "id": "3c467ece-5c9a-474e-82f3-8106599b210f",
   "metadata": {},
   "outputs": [],
   "source": [
    "# what is the adv of .values over empData values\n",
    "# Because .values (Numpy array) offered by Pandas for further analysis\n",
    "# otherwise both are same"
   ]
  },
  {
   "cell_type": "code",
   "execution_count": 87,
   "id": "eba40482-3e3b-4a66-9c1a-dff2ae78e1d2",
   "metadata": {},
   "outputs": [
    {
     "data": {
      "text/html": [
       "<div>\n",
       "<style scoped>\n",
       "    .dataframe tbody tr th:only-of-type {\n",
       "        vertical-align: middle;\n",
       "    }\n",
       "\n",
       "    .dataframe tbody tr th {\n",
       "        vertical-align: top;\n",
       "    }\n",
       "\n",
       "    .dataframe thead th {\n",
       "        text-align: right;\n",
       "    }\n",
       "</style>\n",
       "<table border=\"1\" class=\"dataframe\">\n",
       "  <thead>\n",
       "    <tr style=\"text-align: right;\">\n",
       "      <th></th>\n",
       "      <th>Eid</th>\n",
       "      <th>Esalary</th>\n",
       "    </tr>\n",
       "  </thead>\n",
       "  <tbody>\n",
       "    <tr>\n",
       "      <th>count</th>\n",
       "      <td>5.000000</td>\n",
       "      <td>5.000000</td>\n",
       "    </tr>\n",
       "    <tr>\n",
       "      <th>mean</th>\n",
       "      <td>3.000000</td>\n",
       "      <td>300000.000000</td>\n",
       "    </tr>\n",
       "    <tr>\n",
       "      <th>std</th>\n",
       "      <td>1.581139</td>\n",
       "      <td>158113.883008</td>\n",
       "    </tr>\n",
       "    <tr>\n",
       "      <th>min</th>\n",
       "      <td>1.000000</td>\n",
       "      <td>100000.000000</td>\n",
       "    </tr>\n",
       "    <tr>\n",
       "      <th>25%</th>\n",
       "      <td>2.000000</td>\n",
       "      <td>200000.000000</td>\n",
       "    </tr>\n",
       "    <tr>\n",
       "      <th>50%</th>\n",
       "      <td>3.000000</td>\n",
       "      <td>300000.000000</td>\n",
       "    </tr>\n",
       "    <tr>\n",
       "      <th>75%</th>\n",
       "      <td>4.000000</td>\n",
       "      <td>400000.000000</td>\n",
       "    </tr>\n",
       "    <tr>\n",
       "      <th>max</th>\n",
       "      <td>5.000000</td>\n",
       "      <td>500000.000000</td>\n",
       "    </tr>\n",
       "  </tbody>\n",
       "</table>\n",
       "</div>"
      ],
      "text/plain": [
       "            Eid        Esalary\n",
       "count  5.000000       5.000000\n",
       "mean   3.000000  300000.000000\n",
       "std    1.581139  158113.883008\n",
       "min    1.000000  100000.000000\n",
       "25%    2.000000  200000.000000\n",
       "50%    3.000000  300000.000000\n",
       "75%    4.000000  400000.000000\n",
       "max    5.000000  500000.000000"
      ]
     },
     "execution_count": 87,
     "metadata": {},
     "output_type": "execute_result"
    }
   ],
   "source": [
    "empData.describe()"
   ]
  },
  {
   "cell_type": "code",
   "execution_count": 89,
   "id": "3678a614-81af-4f38-9678-576bc0ac2ba7",
   "metadata": {},
   "outputs": [],
   "source": [
    "# Is above data valid or invalid interms of the above values are \n",
    "# calculated only for numericals?\n",
    "# Answer is subjective , because according to statistics , \n",
    "# which is deals with numericals only.\n",
    "# according to data science , all types of data to be \n",
    "# considered for analysis.\n",
    "# so Pandas package is developed very smartly to cover \n",
    "# all the types of data.\n",
    "# But Pandas has given default option to only for numericals. \n"
   ]
  },
  {
   "cell_type": "code",
   "execution_count": 91,
   "id": "65c28a9a-8701-46f6-a3b0-996cee3ffc57",
   "metadata": {},
   "outputs": [
    {
     "data": {
      "text/html": [
       "<div>\n",
       "<style scoped>\n",
       "    .dataframe tbody tr th:only-of-type {\n",
       "        vertical-align: middle;\n",
       "    }\n",
       "\n",
       "    .dataframe tbody tr th {\n",
       "        vertical-align: top;\n",
       "    }\n",
       "\n",
       "    .dataframe thead th {\n",
       "        text-align: right;\n",
       "    }\n",
       "</style>\n",
       "<table border=\"1\" class=\"dataframe\">\n",
       "  <thead>\n",
       "    <tr style=\"text-align: right;\">\n",
       "      <th></th>\n",
       "      <th>Eid</th>\n",
       "      <th>Ename</th>\n",
       "      <th>Esalary</th>\n",
       "    </tr>\n",
       "  </thead>\n",
       "  <tbody>\n",
       "    <tr>\n",
       "      <th>count</th>\n",
       "      <td>5.000000</td>\n",
       "      <td>5</td>\n",
       "      <td>5.000000</td>\n",
       "    </tr>\n",
       "    <tr>\n",
       "      <th>unique</th>\n",
       "      <td>NaN</td>\n",
       "      <td>5</td>\n",
       "      <td>NaN</td>\n",
       "    </tr>\n",
       "    <tr>\n",
       "      <th>top</th>\n",
       "      <td>NaN</td>\n",
       "      <td>Sharada</td>\n",
       "      <td>NaN</td>\n",
       "    </tr>\n",
       "    <tr>\n",
       "      <th>freq</th>\n",
       "      <td>NaN</td>\n",
       "      <td>1</td>\n",
       "      <td>NaN</td>\n",
       "    </tr>\n",
       "    <tr>\n",
       "      <th>mean</th>\n",
       "      <td>3.000000</td>\n",
       "      <td>NaN</td>\n",
       "      <td>300000.000000</td>\n",
       "    </tr>\n",
       "    <tr>\n",
       "      <th>std</th>\n",
       "      <td>1.581139</td>\n",
       "      <td>NaN</td>\n",
       "      <td>158113.883008</td>\n",
       "    </tr>\n",
       "    <tr>\n",
       "      <th>min</th>\n",
       "      <td>1.000000</td>\n",
       "      <td>NaN</td>\n",
       "      <td>100000.000000</td>\n",
       "    </tr>\n",
       "    <tr>\n",
       "      <th>25%</th>\n",
       "      <td>2.000000</td>\n",
       "      <td>NaN</td>\n",
       "      <td>200000.000000</td>\n",
       "    </tr>\n",
       "    <tr>\n",
       "      <th>50%</th>\n",
       "      <td>3.000000</td>\n",
       "      <td>NaN</td>\n",
       "      <td>300000.000000</td>\n",
       "    </tr>\n",
       "    <tr>\n",
       "      <th>75%</th>\n",
       "      <td>4.000000</td>\n",
       "      <td>NaN</td>\n",
       "      <td>400000.000000</td>\n",
       "    </tr>\n",
       "    <tr>\n",
       "      <th>max</th>\n",
       "      <td>5.000000</td>\n",
       "      <td>NaN</td>\n",
       "      <td>500000.000000</td>\n",
       "    </tr>\n",
       "  </tbody>\n",
       "</table>\n",
       "</div>"
      ],
      "text/plain": [
       "             Eid    Ename        Esalary\n",
       "count   5.000000        5       5.000000\n",
       "unique       NaN        5            NaN\n",
       "top          NaN  Sharada            NaN\n",
       "freq         NaN        1            NaN\n",
       "mean    3.000000      NaN  300000.000000\n",
       "std     1.581139      NaN  158113.883008\n",
       "min     1.000000      NaN  100000.000000\n",
       "25%     2.000000      NaN  200000.000000\n",
       "50%     3.000000      NaN  300000.000000\n",
       "75%     4.000000      NaN  400000.000000\n",
       "max     5.000000      NaN  500000.000000"
      ]
     },
     "execution_count": 91,
     "metadata": {},
     "output_type": "execute_result"
    }
   ],
   "source": [
    "empData.describe(include=\"all\")"
   ]
  },
  {
   "cell_type": "code",
   "execution_count": 93,
   "id": "9a7e7e1b-6bcd-48ae-8409-2ed5c3891083",
   "metadata": {},
   "outputs": [],
   "source": [
    "# being a Data Scientist , its your responsibility to interpret the above data\n",
    "# Unique , top and freq details are given to only categorical datatypes."
   ]
  },
  {
   "cell_type": "code",
   "execution_count": 95,
   "id": "eabab994-2e35-4793-8256-b87b7a2b005c",
   "metadata": {},
   "outputs": [
    {
     "name": "stderr",
     "output_type": "stream",
     "text": [
      "<ipython-input-95-a7ba777fdfa6>:2: DeprecationWarning: `np.object` is a deprecated alias for the builtin `object`. To silence this warning, use `object` by itself. Doing this will not modify any behavior and is safe. \n",
      "Deprecated in NumPy 1.20; for more details and guidance: https://numpy.org/devdocs/release/1.20.0-notes.html#deprecations\n",
      "  empData.describe(include = np.object)\n"
     ]
    },
    {
     "data": {
      "text/html": [
       "<div>\n",
       "<style scoped>\n",
       "    .dataframe tbody tr th:only-of-type {\n",
       "        vertical-align: middle;\n",
       "    }\n",
       "\n",
       "    .dataframe tbody tr th {\n",
       "        vertical-align: top;\n",
       "    }\n",
       "\n",
       "    .dataframe thead th {\n",
       "        text-align: right;\n",
       "    }\n",
       "</style>\n",
       "<table border=\"1\" class=\"dataframe\">\n",
       "  <thead>\n",
       "    <tr style=\"text-align: right;\">\n",
       "      <th></th>\n",
       "      <th>Ename</th>\n",
       "    </tr>\n",
       "  </thead>\n",
       "  <tbody>\n",
       "    <tr>\n",
       "      <th>count</th>\n",
       "      <td>5</td>\n",
       "    </tr>\n",
       "    <tr>\n",
       "      <th>unique</th>\n",
       "      <td>5</td>\n",
       "    </tr>\n",
       "    <tr>\n",
       "      <th>top</th>\n",
       "      <td>Sharada</td>\n",
       "    </tr>\n",
       "    <tr>\n",
       "      <th>freq</th>\n",
       "      <td>1</td>\n",
       "    </tr>\n",
       "  </tbody>\n",
       "</table>\n",
       "</div>"
      ],
      "text/plain": [
       "          Ename\n",
       "count         5\n",
       "unique        5\n",
       "top     Sharada\n",
       "freq          1"
      ]
     },
     "execution_count": 95,
     "metadata": {},
     "output_type": "execute_result"
    }
   ],
   "source": [
    "# categorical data can be seen seperately like numerical data types\n",
    "empData.describe(include = np.object)"
   ]
  },
  {
   "cell_type": "code",
   "execution_count": 96,
   "id": "a4bac5c2-22ac-4323-9c72-5ddf669c4528",
   "metadata": {},
   "outputs": [],
   "source": [
    "# frequecy here of top details...here top is sharada and at only once available\n",
    "# as there is no repeat names, then top will be according to the descending order of the alphabets \n",
    "# then which ever is on top will become top."
   ]
  },
  {
   "cell_type": "code",
   "execution_count": 97,
   "id": "36ab1cb3-3756-4f4f-bbb0-a07cb0d42294",
   "metadata": {},
   "outputs": [],
   "source": [
    "# Here nobody is arguing with statisticians, but we can go ahead with whatever\n",
    "# perception we have about the data"
   ]
  },
  {
   "cell_type": "code",
   "execution_count": 98,
   "id": "2f0584e9-afd0-48de-a20e-3512652b6ad5",
   "metadata": {},
   "outputs": [],
   "source": [
    "# Pandas creators , created this for all mindset people."
   ]
  },
  {
   "cell_type": "code",
   "execution_count": 100,
   "id": "c130078c-9f32-4e6f-91df-2a4f9a6b805b",
   "metadata": {},
   "outputs": [],
   "source": [
    "# according to statistical analysis, only numerical analysis is possible.\n",
    "# But Statistical anaysis is required for Data Scientist.\n",
    "# So being a DataScientist, think about Data Analysis and unserstand the insight of the data; \n",
    "# So we found some technics to convert string/ object data types values to numerical, \n",
    "# then we can use statistical anaylysis."
   ]
  },
  {
   "cell_type": "code",
   "execution_count": 101,
   "id": "bf84650e-a6d4-4084-be0e-d430e34bc82f",
   "metadata": {},
   "outputs": [],
   "source": [
    "# possiblity to represent the non-numeric  column as numeric. in other words just like ANSI number ?\n",
    "# yes\n",
    "# we use some methods to do this.\n",
    "# NLP\n",
    "# DUMMY VARIABLES"
   ]
  },
  {
   "cell_type": "code",
   "execution_count": 102,
   "id": "d43ee7f5-5329-48d3-bfc3-ef3591e3852a",
   "metadata": {},
   "outputs": [],
   "source": [
    "# (include=\"all\") will give complete data, and in this many NaN values will not give sufficient insight.\n",
    "# Better way is to use default option, such a way that numerical option can be dealt and\n",
    "# (include= np.object) can be used treat string/object data type values."
   ]
  },
  {
   "cell_type": "code",
   "execution_count": 103,
   "id": "362fb33e-961b-4126-bbef-00f1e0901a60",
   "metadata": {},
   "outputs": [],
   "source": [
    "# Normal distribution is used only for numerical data"
   ]
  },
  {
   "cell_type": "code",
   "execution_count": 104,
   "id": "f1254935-55cf-4df3-bc41-1c4b2b53914f",
   "metadata": {},
   "outputs": [],
   "source": [
    "# but for String/object, can check for uniqueness , and repeatativeness...\n",
    "# can be seen with EDA analysis as and when proceed further."
   ]
  },
  {
   "cell_type": "code",
   "execution_count": 105,
   "id": "023d3a9b-d872-447a-a1ec-3196776e5ae6",
   "metadata": {},
   "outputs": [],
   "source": [
    "# .describe() can be used only for DataFrame."
   ]
  },
  {
   "cell_type": "code",
   "execution_count": 106,
   "id": "68213dcd-31a3-4aac-bda0-4289b32f8f43",
   "metadata": {},
   "outputs": [],
   "source": [
    "# empData.Esalary.discribe()"
   ]
  },
  {
   "cell_type": "code",
   "execution_count": 110,
   "id": "ca5604e3-5ce0-4104-8f77-c5fc7416f880",
   "metadata": {},
   "outputs": [
    {
     "ename": "AttributeError",
     "evalue": "'Series' object has no attribute 'discribe'",
     "output_type": "error",
     "traceback": [
      "\u001b[1;31m---------------------------------------------------------------------------\u001b[0m",
      "\u001b[1;31mAttributeError\u001b[0m                            Traceback (most recent call last)",
      "\u001b[1;32m<ipython-input-110-631499055451>\u001b[0m in \u001b[0;36m<module>\u001b[1;34m\u001b[0m\n\u001b[1;32m----> 1\u001b[1;33m \u001b[0mempData\u001b[0m\u001b[1;33m.\u001b[0m\u001b[0mEsalary\u001b[0m\u001b[1;33m.\u001b[0m\u001b[0mdiscribe\u001b[0m\u001b[1;33m(\u001b[0m\u001b[1;33m)\u001b[0m\u001b[1;33m\u001b[0m\u001b[1;33m\u001b[0m\u001b[0m\n\u001b[0m",
      "\u001b[1;32m~\\anaconda3\\lib\\site-packages\\pandas\\core\\generic.py\u001b[0m in \u001b[0;36m__getattr__\u001b[1;34m(self, name)\u001b[0m\n\u001b[0;32m   5463\u001b[0m             \u001b[1;32mif\u001b[0m \u001b[0mself\u001b[0m\u001b[1;33m.\u001b[0m\u001b[0m_info_axis\u001b[0m\u001b[1;33m.\u001b[0m\u001b[0m_can_hold_identifiers_and_holds_name\u001b[0m\u001b[1;33m(\u001b[0m\u001b[0mname\u001b[0m\u001b[1;33m)\u001b[0m\u001b[1;33m:\u001b[0m\u001b[1;33m\u001b[0m\u001b[1;33m\u001b[0m\u001b[0m\n\u001b[0;32m   5464\u001b[0m                 \u001b[1;32mreturn\u001b[0m \u001b[0mself\u001b[0m\u001b[1;33m[\u001b[0m\u001b[0mname\u001b[0m\u001b[1;33m]\u001b[0m\u001b[1;33m\u001b[0m\u001b[1;33m\u001b[0m\u001b[0m\n\u001b[1;32m-> 5465\u001b[1;33m             \u001b[1;32mreturn\u001b[0m \u001b[0mobject\u001b[0m\u001b[1;33m.\u001b[0m\u001b[0m__getattribute__\u001b[0m\u001b[1;33m(\u001b[0m\u001b[0mself\u001b[0m\u001b[1;33m,\u001b[0m \u001b[0mname\u001b[0m\u001b[1;33m)\u001b[0m\u001b[1;33m\u001b[0m\u001b[1;33m\u001b[0m\u001b[0m\n\u001b[0m\u001b[0;32m   5466\u001b[0m \u001b[1;33m\u001b[0m\u001b[0m\n\u001b[0;32m   5467\u001b[0m     \u001b[1;32mdef\u001b[0m \u001b[0m__setattr__\u001b[0m\u001b[1;33m(\u001b[0m\u001b[0mself\u001b[0m\u001b[1;33m,\u001b[0m \u001b[0mname\u001b[0m\u001b[1;33m:\u001b[0m \u001b[0mstr\u001b[0m\u001b[1;33m,\u001b[0m \u001b[0mvalue\u001b[0m\u001b[1;33m)\u001b[0m \u001b[1;33m->\u001b[0m \u001b[1;32mNone\u001b[0m\u001b[1;33m:\u001b[0m\u001b[1;33m\u001b[0m\u001b[1;33m\u001b[0m\u001b[0m\n",
      "\u001b[1;31mAttributeError\u001b[0m: 'Series' object has no attribute 'discribe'"
     ]
    }
   ],
   "source": [
    "empData.Esalary.discribe()"
   ]
  },
  {
   "cell_type": "code",
   "execution_count": 109,
   "id": "d1d7fe8f-e96d-42a8-8879-401112e24486",
   "metadata": {},
   "outputs": [
    {
     "ename": "AttributeError",
     "evalue": "module 'pandas' has no attribute '_version_'",
     "output_type": "error",
     "traceback": [
      "\u001b[1;31m---------------------------------------------------------------------------\u001b[0m",
      "\u001b[1;31mAttributeError\u001b[0m                            Traceback (most recent call last)",
      "\u001b[1;32m<ipython-input-109-1df133d9fdb7>\u001b[0m in \u001b[0;36m<module>\u001b[1;34m\u001b[0m\n\u001b[1;32m----> 1\u001b[1;33m \u001b[0mpd\u001b[0m\u001b[1;33m.\u001b[0m\u001b[0m_version_\u001b[0m\u001b[1;33m\u001b[0m\u001b[1;33m\u001b[0m\u001b[0m\n\u001b[0m",
      "\u001b[1;32m~\\anaconda3\\lib\\site-packages\\pandas\\__init__.py\u001b[0m in \u001b[0;36m__getattr__\u001b[1;34m(name)\u001b[0m\n\u001b[0;32m    242\u001b[0m         \u001b[1;32mreturn\u001b[0m \u001b[0m_SparseArray\u001b[0m\u001b[1;33m\u001b[0m\u001b[1;33m\u001b[0m\u001b[0m\n\u001b[0;32m    243\u001b[0m \u001b[1;33m\u001b[0m\u001b[0m\n\u001b[1;32m--> 244\u001b[1;33m     \u001b[1;32mraise\u001b[0m \u001b[0mAttributeError\u001b[0m\u001b[1;33m(\u001b[0m\u001b[1;34mf\"module 'pandas' has no attribute '{name}'\"\u001b[0m\u001b[1;33m)\u001b[0m\u001b[1;33m\u001b[0m\u001b[1;33m\u001b[0m\u001b[0m\n\u001b[0m\u001b[0;32m    245\u001b[0m \u001b[1;33m\u001b[0m\u001b[0m\n\u001b[0;32m    246\u001b[0m \u001b[1;33m\u001b[0m\u001b[0m\n",
      "\u001b[1;31mAttributeError\u001b[0m: module 'pandas' has no attribute '_version_'"
     ]
    }
   ],
   "source": [
    "pd._version_"
   ]
  },
  {
   "cell_type": "code",
   "execution_count": 112,
   "id": "b2b2ba77-52c3-49e3-a15c-bee99de3e9fb",
   "metadata": {},
   "outputs": [
    {
     "ename": "AttributeError",
     "evalue": "'Series' object has no attribute 'discribe'",
     "output_type": "error",
     "traceback": [
      "\u001b[1;31m---------------------------------------------------------------------------\u001b[0m",
      "\u001b[1;31mAttributeError\u001b[0m                            Traceback (most recent call last)",
      "\u001b[1;32m<ipython-input-112-b0d9cfcf1ed8>\u001b[0m in \u001b[0;36m<module>\u001b[1;34m\u001b[0m\n\u001b[1;32m----> 1\u001b[1;33m \u001b[0mempData\u001b[0m\u001b[1;33m.\u001b[0m\u001b[0mEsalary\u001b[0m\u001b[1;33m.\u001b[0m\u001b[0mdiscribe\u001b[0m\u001b[1;33m(\u001b[0m\u001b[1;33m)\u001b[0m\u001b[1;33m.\u001b[0m\u001b[0mto_frame\u001b[0m\u001b[1;33m(\u001b[0m\u001b[1;33m)\u001b[0m\u001b[1;33m\u001b[0m\u001b[1;33m\u001b[0m\u001b[0m\n\u001b[0m",
      "\u001b[1;32m~\\anaconda3\\lib\\site-packages\\pandas\\core\\generic.py\u001b[0m in \u001b[0;36m__getattr__\u001b[1;34m(self, name)\u001b[0m\n\u001b[0;32m   5463\u001b[0m             \u001b[1;32mif\u001b[0m \u001b[0mself\u001b[0m\u001b[1;33m.\u001b[0m\u001b[0m_info_axis\u001b[0m\u001b[1;33m.\u001b[0m\u001b[0m_can_hold_identifiers_and_holds_name\u001b[0m\u001b[1;33m(\u001b[0m\u001b[0mname\u001b[0m\u001b[1;33m)\u001b[0m\u001b[1;33m:\u001b[0m\u001b[1;33m\u001b[0m\u001b[1;33m\u001b[0m\u001b[0m\n\u001b[0;32m   5464\u001b[0m                 \u001b[1;32mreturn\u001b[0m \u001b[0mself\u001b[0m\u001b[1;33m[\u001b[0m\u001b[0mname\u001b[0m\u001b[1;33m]\u001b[0m\u001b[1;33m\u001b[0m\u001b[1;33m\u001b[0m\u001b[0m\n\u001b[1;32m-> 5465\u001b[1;33m             \u001b[1;32mreturn\u001b[0m \u001b[0mobject\u001b[0m\u001b[1;33m.\u001b[0m\u001b[0m__getattribute__\u001b[0m\u001b[1;33m(\u001b[0m\u001b[0mself\u001b[0m\u001b[1;33m,\u001b[0m \u001b[0mname\u001b[0m\u001b[1;33m)\u001b[0m\u001b[1;33m\u001b[0m\u001b[1;33m\u001b[0m\u001b[0m\n\u001b[0m\u001b[0;32m   5466\u001b[0m \u001b[1;33m\u001b[0m\u001b[0m\n\u001b[0;32m   5467\u001b[0m     \u001b[1;32mdef\u001b[0m \u001b[0m__setattr__\u001b[0m\u001b[1;33m(\u001b[0m\u001b[0mself\u001b[0m\u001b[1;33m,\u001b[0m \u001b[0mname\u001b[0m\u001b[1;33m:\u001b[0m \u001b[0mstr\u001b[0m\u001b[1;33m,\u001b[0m \u001b[0mvalue\u001b[0m\u001b[1;33m)\u001b[0m \u001b[1;33m->\u001b[0m \u001b[1;32mNone\u001b[0m\u001b[1;33m:\u001b[0m\u001b[1;33m\u001b[0m\u001b[1;33m\u001b[0m\u001b[0m\n",
      "\u001b[1;31mAttributeError\u001b[0m: 'Series' object has no attribute 'discribe'"
     ]
    }
   ],
   "source": [
    "empData.Esalary.discribe().to_frame()"
   ]
  },
  {
   "cell_type": "code",
   "execution_count": null,
   "id": "cd0753ef-f729-41a0-ab5f-e165ae5bdf25",
   "metadata": {},
   "outputs": [],
   "source": []
  }
 ],
 "metadata": {
  "kernelspec": {
   "display_name": "Python 3",
   "language": "python",
   "name": "python3"
  },
  "language_info": {
   "codemirror_mode": {
    "name": "ipython",
    "version": 3
   },
   "file_extension": ".py",
   "mimetype": "text/x-python",
   "name": "python",
   "nbconvert_exporter": "python",
   "pygments_lexer": "ipython3",
   "version": "3.8.8"
  }
 },
 "nbformat": 4,
 "nbformat_minor": 5
}
