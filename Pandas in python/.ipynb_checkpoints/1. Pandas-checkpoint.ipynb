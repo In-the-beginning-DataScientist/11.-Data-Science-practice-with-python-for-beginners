{
 "cells": [
  {
   "cell_type": "code",
   "execution_count": 1,
   "id": "631e5996-6730-45e7-a298-6f826ad58867",
   "metadata": {},
   "outputs": [],
   "source": [
    "# Pandas\n",
    "# To complete this concept it may take 40 hours to understand completely\n",
    "# but for ML, DL, we will discuss now"
   ]
  },
  {
   "cell_type": "code",
   "execution_count": 2,
   "id": "638228c5-f350-47cf-b507-f5fdbb716cd2",
   "metadata": {},
   "outputs": [],
   "source": [
    "# Pandas is a Data analysis library\n",
    "# Extensively used by Data Scientists and Data Analysts..\n",
    "# Pandas are works over and above the basic fundamental library called Numpy\n",
    "# basically Numpy works inside of pandas becuase basic opreations which are available in pandas for numerical operations like we have seen in nUMPY, CAN BE A limitation in Pandas, So always pandas goes with Numpy also\n",
    "# Numpy should be installed along with Pandas for better performance of numberical operations"
   ]
  },
  {
   "cell_type": "code",
   "execution_count": 3,
   "id": "293942c5-a08d-4bcf-9b04-481ab7d28360",
   "metadata": {},
   "outputs": [],
   "source": [
    "# In python need to deal with dataFrames then pandas is very important lib."
   ]
  },
  {
   "cell_type": "code",
   "execution_count": 4,
   "id": "e762b855-e3dc-4215-a9c1-a4e292faa1af",
   "metadata": {},
   "outputs": [],
   "source": [
    "# For EDA, Pandas becomes a keyrole "
   ]
  },
  {
   "cell_type": "code",
   "execution_count": 5,
   "id": "1d114cd4-467a-450f-a671-efa639951d38",
   "metadata": {},
   "outputs": [
    {
     "name": "stdout",
     "output_type": "stream",
     "text": [
      "Requirement already satisfied: pandas in c:\\users\\davea\\anaconda3\\lib\\site-packages (1.2.4)\n",
      "Requirement already satisfied: numpy>=1.16.5 in c:\\users\\davea\\anaconda3\\lib\\site-packages (from pandas) (1.20.1)\n",
      "Requirement already satisfied: python-dateutil>=2.7.3 in c:\\users\\davea\\anaconda3\\lib\\site-packages (from pandas) (2.8.1)\n",
      "Requirement already satisfied: pytz>=2017.3 in c:\\users\\davea\\anaconda3\\lib\\site-packages (from pandas) (2021.1)\n",
      "Requirement already satisfied: six>=1.5 in c:\\users\\davea\\anaconda3\\lib\\site-packages (from python-dateutil>=2.7.3->pandas) (1.15.0)\n"
     ]
    }
   ],
   "source": [
    "# install Pandas\n",
    "!pip install pandas"
   ]
  },
  {
   "cell_type": "code",
   "execution_count": 6,
   "id": "e767e8c9-ef8f-4282-99e8-f61dba716f36",
   "metadata": {},
   "outputs": [],
   "source": [
    "import numpy as np\n",
    "import pandas as pd"
   ]
  },
  {
   "cell_type": "code",
   "execution_count": 7,
   "id": "4dbf077a-8d8f-4d71-a589-b899da7242ac",
   "metadata": {},
   "outputs": [],
   "source": [
    "# when we use statistical operations like central tendency parameters....Numpy is required, So numpy is ompotrtant in Pandas.\n",
    "# even for hypothesis numpy is required"
   ]
  },
  {
   "cell_type": "code",
   "execution_count": 8,
   "id": "1063ee6a-d113-40ae-a08b-405bd42107be",
   "metadata": {},
   "outputs": [],
   "source": [
    "# Delimited values like comma (,) other formats pandas works well\n",
    "# in case of csv format, delimted value is comma (,)"
   ]
  },
  {
   "cell_type": "code",
   "execution_count": 9,
   "id": "d512ea25-72bc-4ad4-9623-29b79252ea0a",
   "metadata": {},
   "outputs": [],
   "source": [
    "# The core abstraction layer in pandas is DataFrames\n",
    "# DataFrames are created with a set of series elements"
   ]
  },
  {
   "cell_type": "code",
   "execution_count": 10,
   "id": "571d3f90-8053-414c-853d-cd2722bf4a94",
   "metadata": {},
   "outputs": [],
   "source": [
    "# In pandas basically we will encounter DataFrmes and series in genreal.\n",
    "# should be known what is DataFrame and series?"
   ]
  },
  {
   "cell_type": "code",
   "execution_count": 11,
   "id": "f6100d28-068c-442c-8d8f-a2dd07de101e",
   "metadata": {},
   "outputs": [],
   "source": [
    "# Creating a DataFrame\n",
    "# 2 methods are there\n",
    "# 1. Use a collection of objects (lists, dictionaries and Numpy)\n",
    "# 2. Using file"
   ]
  },
  {
   "cell_type": "code",
   "execution_count": 12,
   "id": "8fb2178b-9493-4e0d-959e-03d3d75994b0",
   "metadata": {},
   "outputs": [],
   "source": [
    "# Creating a DF using list\n",
    "empList = [[1,\"Aravind\",400000],[2,\"Sharada\",300000],[3,\"Aaradhya\",200000],[4,\"Abhishek\",150000],[5,\"Aounnathya\",100000]]"
   ]
  },
  {
   "cell_type": "code",
   "execution_count": 13,
   "id": "950c0f0c-4ebf-4c75-b6c5-01ed1ffd25b3",
   "metadata": {},
   "outputs": [
    {
     "data": {
      "text/plain": [
       "[[1, 'Aravind', 400000],\n",
       " [2, 'Sharada', 300000],\n",
       " [3, 'Aaradhya', 200000],\n",
       " [4, 'Abhishek', 150000],\n",
       " [5, 'Aounnathya', 100000]]"
      ]
     },
     "execution_count": 13,
     "metadata": {},
     "output_type": "execute_result"
    }
   ],
   "source": [
    "empList"
   ]
  },
  {
   "cell_type": "code",
   "execution_count": 14,
   "id": "68444f3c-a69b-4654-a26a-d69ecb051506",
   "metadata": {},
   "outputs": [
    {
     "name": "stdout",
     "output_type": "stream",
     "text": [
      "[[1, 'Aravind', 400000], [2, 'Sharada', 300000], [3, 'Aaradhya', 200000], [4, 'Abhishek', 150000], [5, 'Aounnathya', 100000]]\n"
     ]
    }
   ],
   "source": [
    "print(empList)"
   ]
  },
  {
   "cell_type": "code",
   "execution_count": 15,
   "id": "0adbb46a-e579-4e37-9743-24efc8c93698",
   "metadata": {},
   "outputs": [],
   "source": [
    "# # creation of DF using pandas\n",
    "empDataList = pd.DataFrame(empList)\n"
   ]
  },
  {
   "cell_type": "code",
   "execution_count": 16,
   "id": "9f124990-8b9c-48e4-9053-362277b2f3b8",
   "metadata": {},
   "outputs": [
    {
     "data": {
      "text/html": [
       "<div>\n",
       "<style scoped>\n",
       "    .dataframe tbody tr th:only-of-type {\n",
       "        vertical-align: middle;\n",
       "    }\n",
       "\n",
       "    .dataframe tbody tr th {\n",
       "        vertical-align: top;\n",
       "    }\n",
       "\n",
       "    .dataframe thead th {\n",
       "        text-align: right;\n",
       "    }\n",
       "</style>\n",
       "<table border=\"1\" class=\"dataframe\">\n",
       "  <thead>\n",
       "    <tr style=\"text-align: right;\">\n",
       "      <th></th>\n",
       "      <th>0</th>\n",
       "      <th>1</th>\n",
       "      <th>2</th>\n",
       "    </tr>\n",
       "  </thead>\n",
       "  <tbody>\n",
       "    <tr>\n",
       "      <th>0</th>\n",
       "      <td>1</td>\n",
       "      <td>Aravind</td>\n",
       "      <td>400000</td>\n",
       "    </tr>\n",
       "    <tr>\n",
       "      <th>1</th>\n",
       "      <td>2</td>\n",
       "      <td>Sharada</td>\n",
       "      <td>300000</td>\n",
       "    </tr>\n",
       "    <tr>\n",
       "      <th>2</th>\n",
       "      <td>3</td>\n",
       "      <td>Aaradhya</td>\n",
       "      <td>200000</td>\n",
       "    </tr>\n",
       "    <tr>\n",
       "      <th>3</th>\n",
       "      <td>4</td>\n",
       "      <td>Abhishek</td>\n",
       "      <td>150000</td>\n",
       "    </tr>\n",
       "    <tr>\n",
       "      <th>4</th>\n",
       "      <td>5</td>\n",
       "      <td>Aounnathya</td>\n",
       "      <td>100000</td>\n",
       "    </tr>\n",
       "  </tbody>\n",
       "</table>\n",
       "</div>"
      ],
      "text/plain": [
       "   0           1       2\n",
       "0  1     Aravind  400000\n",
       "1  2     Sharada  300000\n",
       "2  3    Aaradhya  200000\n",
       "3  4    Abhishek  150000\n",
       "4  5  Aounnathya  100000"
      ]
     },
     "execution_count": 16,
     "metadata": {},
     "output_type": "execute_result"
    }
   ],
   "source": [
    "empDataList"
   ]
  },
  {
   "cell_type": "code",
   "execution_count": 17,
   "id": "14d4cd01-7d95-4cfb-b9e9-80fde38171d5",
   "metadata": {},
   "outputs": [
    {
     "data": {
      "text/plain": [
       "pandas.core.frame.DataFrame"
      ]
     },
     "execution_count": 17,
     "metadata": {},
     "output_type": "execute_result"
    }
   ],
   "source": [
    "type(empDataList)"
   ]
  },
  {
   "cell_type": "code",
   "execution_count": 18,
   "id": "423d5c96-a04e-48d2-ae7e-2062bb07ded7",
   "metadata": {},
   "outputs": [],
   "source": [
    "# Dataframe contains two types of indexes\n",
    "# 1. column index and 2. Row index\n",
    "# # assign column names to the list \n",
    "empDataList.columns = [\"Eid\",\"Ename\",\"Esalary\"]"
   ]
  },
  {
   "cell_type": "code",
   "execution_count": 19,
   "id": "a9a61bbe-df92-40f4-b252-d549a8dca5dc",
   "metadata": {},
   "outputs": [
    {
     "data": {
      "text/html": [
       "<div>\n",
       "<style scoped>\n",
       "    .dataframe tbody tr th:only-of-type {\n",
       "        vertical-align: middle;\n",
       "    }\n",
       "\n",
       "    .dataframe tbody tr th {\n",
       "        vertical-align: top;\n",
       "    }\n",
       "\n",
       "    .dataframe thead th {\n",
       "        text-align: right;\n",
       "    }\n",
       "</style>\n",
       "<table border=\"1\" class=\"dataframe\">\n",
       "  <thead>\n",
       "    <tr style=\"text-align: right;\">\n",
       "      <th></th>\n",
       "      <th>Eid</th>\n",
       "      <th>Ename</th>\n",
       "      <th>Esalary</th>\n",
       "    </tr>\n",
       "  </thead>\n",
       "  <tbody>\n",
       "    <tr>\n",
       "      <th>0</th>\n",
       "      <td>1</td>\n",
       "      <td>Aravind</td>\n",
       "      <td>400000</td>\n",
       "    </tr>\n",
       "    <tr>\n",
       "      <th>1</th>\n",
       "      <td>2</td>\n",
       "      <td>Sharada</td>\n",
       "      <td>300000</td>\n",
       "    </tr>\n",
       "    <tr>\n",
       "      <th>2</th>\n",
       "      <td>3</td>\n",
       "      <td>Aaradhya</td>\n",
       "      <td>200000</td>\n",
       "    </tr>\n",
       "    <tr>\n",
       "      <th>3</th>\n",
       "      <td>4</td>\n",
       "      <td>Abhishek</td>\n",
       "      <td>150000</td>\n",
       "    </tr>\n",
       "    <tr>\n",
       "      <th>4</th>\n",
       "      <td>5</td>\n",
       "      <td>Aounnathya</td>\n",
       "      <td>100000</td>\n",
       "    </tr>\n",
       "  </tbody>\n",
       "</table>\n",
       "</div>"
      ],
      "text/plain": [
       "   Eid       Ename  Esalary\n",
       "0    1     Aravind   400000\n",
       "1    2     Sharada   300000\n",
       "2    3    Aaradhya   200000\n",
       "3    4    Abhishek   150000\n",
       "4    5  Aounnathya   100000"
      ]
     },
     "execution_count": 19,
     "metadata": {},
     "output_type": "execute_result"
    }
   ],
   "source": [
    "empDataList"
   ]
  },
  {
   "cell_type": "code",
   "execution_count": 20,
   "id": "e924e053-f539-44a8-9b7f-2bccfd808dc6",
   "metadata": {},
   "outputs": [],
   "source": [
    "empDataList1 = pd.DataFrame(empList, columns= [\"Eid\",\"Ename\",\"Esalary\"])"
   ]
  },
  {
   "cell_type": "code",
   "execution_count": 21,
   "id": "b590446d-80d7-46e7-9eab-c65aee303ba6",
   "metadata": {},
   "outputs": [
    {
     "data": {
      "text/html": [
       "<div>\n",
       "<style scoped>\n",
       "    .dataframe tbody tr th:only-of-type {\n",
       "        vertical-align: middle;\n",
       "    }\n",
       "\n",
       "    .dataframe tbody tr th {\n",
       "        vertical-align: top;\n",
       "    }\n",
       "\n",
       "    .dataframe thead th {\n",
       "        text-align: right;\n",
       "    }\n",
       "</style>\n",
       "<table border=\"1\" class=\"dataframe\">\n",
       "  <thead>\n",
       "    <tr style=\"text-align: right;\">\n",
       "      <th></th>\n",
       "      <th>Eid</th>\n",
       "      <th>Ename</th>\n",
       "      <th>Esalary</th>\n",
       "    </tr>\n",
       "  </thead>\n",
       "  <tbody>\n",
       "    <tr>\n",
       "      <th>0</th>\n",
       "      <td>1</td>\n",
       "      <td>Aravind</td>\n",
       "      <td>400000</td>\n",
       "    </tr>\n",
       "    <tr>\n",
       "      <th>1</th>\n",
       "      <td>2</td>\n",
       "      <td>Sharada</td>\n",
       "      <td>300000</td>\n",
       "    </tr>\n",
       "    <tr>\n",
       "      <th>2</th>\n",
       "      <td>3</td>\n",
       "      <td>Aaradhya</td>\n",
       "      <td>200000</td>\n",
       "    </tr>\n",
       "    <tr>\n",
       "      <th>3</th>\n",
       "      <td>4</td>\n",
       "      <td>Abhishek</td>\n",
       "      <td>150000</td>\n",
       "    </tr>\n",
       "    <tr>\n",
       "      <th>4</th>\n",
       "      <td>5</td>\n",
       "      <td>Aounnathya</td>\n",
       "      <td>100000</td>\n",
       "    </tr>\n",
       "  </tbody>\n",
       "</table>\n",
       "</div>"
      ],
      "text/plain": [
       "   Eid       Ename  Esalary\n",
       "0    1     Aravind   400000\n",
       "1    2     Sharada   300000\n",
       "2    3    Aaradhya   200000\n",
       "3    4    Abhishek   150000\n",
       "4    5  Aounnathya   100000"
      ]
     },
     "execution_count": 21,
     "metadata": {},
     "output_type": "execute_result"
    }
   ],
   "source": [
    "empDataList1"
   ]
  },
  {
   "cell_type": "code",
   "execution_count": 22,
   "id": "c9a5dd6a-0e52-4b40-bbd8-b1d2017d204a",
   "metadata": {},
   "outputs": [],
   "source": [
    "# exact index should be mentioned"
   ]
  },
  {
   "cell_type": "code",
   "execution_count": 23,
   "id": "58b68226-aabf-4a24-950e-8a70fe86341b",
   "metadata": {},
   "outputs": [],
   "source": [
    "# DtaFrame is the official name of table in pandas. end of the story :-)"
   ]
  },
  {
   "cell_type": "code",
   "execution_count": 24,
   "id": "f2c68c2c-65cc-4ea3-aee7-ee1160e6ba12",
   "metadata": {},
   "outputs": [],
   "source": [
    " # According to oops, DataFrame is the class which extracts the homogeneous data"
   ]
  },
  {
   "cell_type": "code",
   "execution_count": 25,
   "id": "58c13e3b-703f-45dc-a7b5-9e1d9f6c8078",
   "metadata": {},
   "outputs": [
    {
     "data": {
      "text/plain": [
       "<bound method DataFrame.info of    Eid       Ename  Esalary\n",
       "0    1     Aravind   400000\n",
       "1    2     Sharada   300000\n",
       "2    3    Aaradhya   200000\n",
       "3    4    Abhishek   150000\n",
       "4    5  Aounnathya   100000>"
      ]
     },
     "execution_count": 25,
     "metadata": {},
     "output_type": "execute_result"
    }
   ],
   "source": [
    "empDataList.info"
   ]
  },
  {
   "cell_type": "code",
   "execution_count": 26,
   "id": "0d0182da-bc0e-4ded-b879-1eb0b1c1f6a7",
   "metadata": {},
   "outputs": [
    {
     "name": "stdout",
     "output_type": "stream",
     "text": [
      "<class 'pandas.core.frame.DataFrame'>\n",
      "RangeIndex: 5 entries, 0 to 4\n",
      "Data columns (total 3 columns):\n",
      " #   Column   Non-Null Count  Dtype \n",
      "---  ------   --------------  ----- \n",
      " 0   Eid      5 non-null      int64 \n",
      " 1   Ename    5 non-null      object\n",
      " 2   Esalary  5 non-null      int64 \n",
      "dtypes: int64(2), object(1)\n",
      "memory usage: 248.0+ bytes\n"
     ]
    }
   ],
   "source": [
    "empDataList.info()"
   ]
  },
  {
   "cell_type": "code",
   "execution_count": 27,
   "id": "2289b56b-4459-4579-905b-8be2b7c1225e",
   "metadata": {},
   "outputs": [],
   "source": [
    "# In pandas , anything other than numeric is an object\n",
    "# as per pythonic paradigm, string and objects both are same."
   ]
  },
  {
   "cell_type": "code",
   "execution_count": 28,
   "id": "d7d05c31-a846-4d97-a999-efcc961ec096",
   "metadata": {},
   "outputs": [],
   "source": [
    "# row index is the range index"
   ]
  },
  {
   "cell_type": "code",
   "execution_count": 29,
   "id": "c3cb94b9-edbd-4919-9627-2b6b8b1ef608",
   "metadata": {},
   "outputs": [],
   "source": [
    "empList1 = [[1,\"Aravind\",400000],[2,\"Sharada\",300000],[3,\"Aaradhya\",200000],[4,\"Abhishek\",150000],[5,\"Aounnathya\",]]"
   ]
  },
  {
   "cell_type": "code",
   "execution_count": 30,
   "id": "6f784a0e-7a0c-43ea-ad19-72ccdad72b14",
   "metadata": {},
   "outputs": [
    {
     "data": {
      "text/plain": [
       "[[1, 'Aravind', 400000],\n",
       " [2, 'Sharada', 300000],\n",
       " [3, 'Aaradhya', 200000],\n",
       " [4, 'Abhishek', 150000],\n",
       " [5, 'Aounnathya']]"
      ]
     },
     "execution_count": 30,
     "metadata": {},
     "output_type": "execute_result"
    }
   ],
   "source": [
    "empList1"
   ]
  },
  {
   "cell_type": "code",
   "execution_count": 31,
   "id": "2814f4fe-275c-4a76-808e-a938fb8e809a",
   "metadata": {},
   "outputs": [],
   "source": [
    "empDataList2 = pd.DataFrame(empList1, columns= [\"Eid\",\"Ename\",\"Esalary\"])"
   ]
  },
  {
   "cell_type": "code",
   "execution_count": 32,
   "id": "aef7ecd9-b13a-4063-8566-02811ff155e6",
   "metadata": {},
   "outputs": [
    {
     "data": {
      "text/html": [
       "<div>\n",
       "<style scoped>\n",
       "    .dataframe tbody tr th:only-of-type {\n",
       "        vertical-align: middle;\n",
       "    }\n",
       "\n",
       "    .dataframe tbody tr th {\n",
       "        vertical-align: top;\n",
       "    }\n",
       "\n",
       "    .dataframe thead th {\n",
       "        text-align: right;\n",
       "    }\n",
       "</style>\n",
       "<table border=\"1\" class=\"dataframe\">\n",
       "  <thead>\n",
       "    <tr style=\"text-align: right;\">\n",
       "      <th></th>\n",
       "      <th>Eid</th>\n",
       "      <th>Ename</th>\n",
       "      <th>Esalary</th>\n",
       "    </tr>\n",
       "  </thead>\n",
       "  <tbody>\n",
       "    <tr>\n",
       "      <th>0</th>\n",
       "      <td>1</td>\n",
       "      <td>Aravind</td>\n",
       "      <td>400000.0</td>\n",
       "    </tr>\n",
       "    <tr>\n",
       "      <th>1</th>\n",
       "      <td>2</td>\n",
       "      <td>Sharada</td>\n",
       "      <td>300000.0</td>\n",
       "    </tr>\n",
       "    <tr>\n",
       "      <th>2</th>\n",
       "      <td>3</td>\n",
       "      <td>Aaradhya</td>\n",
       "      <td>200000.0</td>\n",
       "    </tr>\n",
       "    <tr>\n",
       "      <th>3</th>\n",
       "      <td>4</td>\n",
       "      <td>Abhishek</td>\n",
       "      <td>150000.0</td>\n",
       "    </tr>\n",
       "    <tr>\n",
       "      <th>4</th>\n",
       "      <td>5</td>\n",
       "      <td>Aounnathya</td>\n",
       "      <td>NaN</td>\n",
       "    </tr>\n",
       "  </tbody>\n",
       "</table>\n",
       "</div>"
      ],
      "text/plain": [
       "   Eid       Ename   Esalary\n",
       "0    1     Aravind  400000.0\n",
       "1    2     Sharada  300000.0\n",
       "2    3    Aaradhya  200000.0\n",
       "3    4    Abhishek  150000.0\n",
       "4    5  Aounnathya       NaN"
      ]
     },
     "execution_count": 32,
     "metadata": {},
     "output_type": "execute_result"
    }
   ],
   "source": [
    "empDataList2"
   ]
  },
  {
   "cell_type": "code",
   "execution_count": 33,
   "id": "f6fb192d-549c-4daf-b384-659e7a59ca9b",
   "metadata": {},
   "outputs": [],
   "source": [
    "# NaN is not a number"
   ]
  },
  {
   "cell_type": "code",
   "execution_count": 34,
   "id": "7e4d2bfa-5ff5-414a-a7c3-42a4064f9c34",
   "metadata": {},
   "outputs": [
    {
     "data": {
      "text/plain": [
       "nan"
      ]
     },
     "execution_count": 34,
     "metadata": {},
     "output_type": "execute_result"
    }
   ],
   "source": [
    "np.nan"
   ]
  },
  {
   "cell_type": "code",
   "execution_count": 35,
   "id": "92ef706d-b327-4a8f-9bcc-37c657802592",
   "metadata": {},
   "outputs": [
    {
     "name": "stdout",
     "output_type": "stream",
     "text": [
      "<class 'pandas.core.frame.DataFrame'>\n",
      "RangeIndex: 5 entries, 0 to 4\n",
      "Data columns (total 3 columns):\n",
      " #   Column   Non-Null Count  Dtype \n",
      "---  ------   --------------  ----- \n",
      " 0   Eid      5 non-null      int64 \n",
      " 1   Ename    5 non-null      object\n",
      " 2   Esalary  5 non-null      int64 \n",
      "dtypes: int64(2), object(1)\n",
      "memory usage: 248.0+ bytes\n"
     ]
    }
   ],
   "source": [
    "empDataList1.info()"
   ]
  },
  {
   "cell_type": "code",
   "execution_count": 36,
   "id": "b0267f54-f9f1-47e1-afb9-125b2c6d6b8b",
   "metadata": {},
   "outputs": [],
   "source": [
    "empList2 = [[1,\"Aravind\",400000],[2,\"Sharada\",300000],[3,\"Aaradhya\",200000],[4,\"Abhishek\",150000],[5,\"Aounnathya\",],[6, \" \", 12000]]"
   ]
  },
  {
   "cell_type": "code",
   "execution_count": 37,
   "id": "77f64e27-07d1-4623-90fd-7c74d64d72ca",
   "metadata": {},
   "outputs": [
    {
     "data": {
      "text/plain": [
       "[[1, 'Aravind', 400000],\n",
       " [2, 'Sharada', 300000],\n",
       " [3, 'Aaradhya', 200000],\n",
       " [4, 'Abhishek', 150000],\n",
       " [5, 'Aounnathya'],\n",
       " [6, ' ', 12000]]"
      ]
     },
     "execution_count": 37,
     "metadata": {},
     "output_type": "execute_result"
    }
   ],
   "source": [
    "empList2"
   ]
  },
  {
   "cell_type": "code",
   "execution_count": 38,
   "id": "d32b33d9-cf6c-4f58-8dae-1bd7e2fb4646",
   "metadata": {},
   "outputs": [],
   "source": [
    "empDataList3= pd.DataFrame(empList2, columns= [\"Eid\",\"Ename\",\"Esalary\"])"
   ]
  },
  {
   "cell_type": "code",
   "execution_count": 39,
   "id": "7471d457-7e15-402d-a36d-ad269115ec6a",
   "metadata": {},
   "outputs": [
    {
     "data": {
      "text/html": [
       "<div>\n",
       "<style scoped>\n",
       "    .dataframe tbody tr th:only-of-type {\n",
       "        vertical-align: middle;\n",
       "    }\n",
       "\n",
       "    .dataframe tbody tr th {\n",
       "        vertical-align: top;\n",
       "    }\n",
       "\n",
       "    .dataframe thead th {\n",
       "        text-align: right;\n",
       "    }\n",
       "</style>\n",
       "<table border=\"1\" class=\"dataframe\">\n",
       "  <thead>\n",
       "    <tr style=\"text-align: right;\">\n",
       "      <th></th>\n",
       "      <th>Eid</th>\n",
       "      <th>Ename</th>\n",
       "      <th>Esalary</th>\n",
       "    </tr>\n",
       "  </thead>\n",
       "  <tbody>\n",
       "    <tr>\n",
       "      <th>0</th>\n",
       "      <td>1</td>\n",
       "      <td>Aravind</td>\n",
       "      <td>400000.0</td>\n",
       "    </tr>\n",
       "    <tr>\n",
       "      <th>1</th>\n",
       "      <td>2</td>\n",
       "      <td>Sharada</td>\n",
       "      <td>300000.0</td>\n",
       "    </tr>\n",
       "    <tr>\n",
       "      <th>2</th>\n",
       "      <td>3</td>\n",
       "      <td>Aaradhya</td>\n",
       "      <td>200000.0</td>\n",
       "    </tr>\n",
       "    <tr>\n",
       "      <th>3</th>\n",
       "      <td>4</td>\n",
       "      <td>Abhishek</td>\n",
       "      <td>150000.0</td>\n",
       "    </tr>\n",
       "    <tr>\n",
       "      <th>4</th>\n",
       "      <td>5</td>\n",
       "      <td>Aounnathya</td>\n",
       "      <td>NaN</td>\n",
       "    </tr>\n",
       "    <tr>\n",
       "      <th>5</th>\n",
       "      <td>6</td>\n",
       "      <td></td>\n",
       "      <td>12000.0</td>\n",
       "    </tr>\n",
       "  </tbody>\n",
       "</table>\n",
       "</div>"
      ],
      "text/plain": [
       "   Eid       Ename   Esalary\n",
       "0    1     Aravind  400000.0\n",
       "1    2     Sharada  300000.0\n",
       "2    3    Aaradhya  200000.0\n",
       "3    4    Abhishek  150000.0\n",
       "4    5  Aounnathya       NaN\n",
       "5    6               12000.0"
      ]
     },
     "execution_count": 39,
     "metadata": {},
     "output_type": "execute_result"
    }
   ],
   "source": [
    "empDataList3"
   ]
  },
  {
   "cell_type": "code",
   "execution_count": 40,
   "id": "65becde0-405d-4014-9800-dfeafec367f6",
   "metadata": {},
   "outputs": [],
   "source": [
    "# the above data is having 1 nan value in esalary and 1 empty value in ename"
   ]
  },
  {
   "cell_type": "code",
   "execution_count": 41,
   "id": "08fd64a3-7580-4444-952c-fa74059cac33",
   "metadata": {},
   "outputs": [],
   "source": [
    "# empty value in ename be corrected as NaN"
   ]
  },
  {
   "cell_type": "code",
   "execution_count": 42,
   "id": "f8d97da8-7ab9-459b-af3f-326d3561ca66",
   "metadata": {},
   "outputs": [],
   "source": [
    "empList3 = [[1,\"Aravind\",400000],[2,\"Sharada\",300000],[3,\"Aaradhya\",200000],[4,\"Abhishek\",150000],[5,\"Aounnathya\",],[6,np.nan, 12000]]"
   ]
  },
  {
   "cell_type": "code",
   "execution_count": 43,
   "id": "4a53293c-51c0-44d0-8e51-4f02036a0aad",
   "metadata": {},
   "outputs": [
    {
     "data": {
      "text/plain": [
       "[[1, 'Aravind', 400000],\n",
       " [2, 'Sharada', 300000],\n",
       " [3, 'Aaradhya', 200000],\n",
       " [4, 'Abhishek', 150000],\n",
       " [5, 'Aounnathya'],\n",
       " [6, nan, 12000]]"
      ]
     },
     "execution_count": 43,
     "metadata": {},
     "output_type": "execute_result"
    }
   ],
   "source": [
    "empList3"
   ]
  },
  {
   "cell_type": "code",
   "execution_count": 44,
   "id": "dfe3684d-ab3d-4503-8132-06fbd20c278a",
   "metadata": {},
   "outputs": [],
   "source": [
    "empDataList4= pd.DataFrame(empList3, columns= [\"Eid\",\"Ename\",\"Esalary\"])"
   ]
  },
  {
   "cell_type": "code",
   "execution_count": 45,
   "id": "1adcddf2-528e-4f9e-bcc3-2030306f978f",
   "metadata": {},
   "outputs": [
    {
     "data": {
      "text/html": [
       "<div>\n",
       "<style scoped>\n",
       "    .dataframe tbody tr th:only-of-type {\n",
       "        vertical-align: middle;\n",
       "    }\n",
       "\n",
       "    .dataframe tbody tr th {\n",
       "        vertical-align: top;\n",
       "    }\n",
       "\n",
       "    .dataframe thead th {\n",
       "        text-align: right;\n",
       "    }\n",
       "</style>\n",
       "<table border=\"1\" class=\"dataframe\">\n",
       "  <thead>\n",
       "    <tr style=\"text-align: right;\">\n",
       "      <th></th>\n",
       "      <th>Eid</th>\n",
       "      <th>Ename</th>\n",
       "      <th>Esalary</th>\n",
       "    </tr>\n",
       "  </thead>\n",
       "  <tbody>\n",
       "    <tr>\n",
       "      <th>0</th>\n",
       "      <td>1</td>\n",
       "      <td>Aravind</td>\n",
       "      <td>400000.0</td>\n",
       "    </tr>\n",
       "    <tr>\n",
       "      <th>1</th>\n",
       "      <td>2</td>\n",
       "      <td>Sharada</td>\n",
       "      <td>300000.0</td>\n",
       "    </tr>\n",
       "    <tr>\n",
       "      <th>2</th>\n",
       "      <td>3</td>\n",
       "      <td>Aaradhya</td>\n",
       "      <td>200000.0</td>\n",
       "    </tr>\n",
       "    <tr>\n",
       "      <th>3</th>\n",
       "      <td>4</td>\n",
       "      <td>Abhishek</td>\n",
       "      <td>150000.0</td>\n",
       "    </tr>\n",
       "    <tr>\n",
       "      <th>4</th>\n",
       "      <td>5</td>\n",
       "      <td>Aounnathya</td>\n",
       "      <td>NaN</td>\n",
       "    </tr>\n",
       "    <tr>\n",
       "      <th>5</th>\n",
       "      <td>6</td>\n",
       "      <td>NaN</td>\n",
       "      <td>12000.0</td>\n",
       "    </tr>\n",
       "  </tbody>\n",
       "</table>\n",
       "</div>"
      ],
      "text/plain": [
       "   Eid       Ename   Esalary\n",
       "0    1     Aravind  400000.0\n",
       "1    2     Sharada  300000.0\n",
       "2    3    Aaradhya  200000.0\n",
       "3    4    Abhishek  150000.0\n",
       "4    5  Aounnathya       NaN\n",
       "5    6         NaN   12000.0"
      ]
     },
     "execution_count": 45,
     "metadata": {},
     "output_type": "execute_result"
    }
   ],
   "source": [
    "empDataList4"
   ]
  },
  {
   "cell_type": "code",
   "execution_count": 46,
   "id": "c26633cb-2cf8-48ba-8a12-b2b60b8b4697",
   "metadata": {},
   "outputs": [],
   "source": [
    "# how to read NaN values, \n",
    "# 1 NaN value in ename and 1 NaN value in Esalary"
   ]
  },
  {
   "cell_type": "code",
   "execution_count": 47,
   "id": "5c84f620-f7a9-4bb0-bd73-6ced6d4a8e58",
   "metadata": {},
   "outputs": [
    {
     "name": "stdout",
     "output_type": "stream",
     "text": [
      "<class 'pandas.core.frame.DataFrame'>\n",
      "RangeIndex: 6 entries, 0 to 5\n",
      "Data columns (total 3 columns):\n",
      " #   Column   Non-Null Count  Dtype  \n",
      "---  ------   --------------  -----  \n",
      " 0   Eid      6 non-null      int64  \n",
      " 1   Ename    5 non-null      object \n",
      " 2   Esalary  5 non-null      float64\n",
      "dtypes: float64(1), int64(1), object(1)\n",
      "memory usage: 272.0+ bytes\n"
     ]
    }
   ],
   "source": [
    "empDataList4.info()"
   ]
  },
  {
   "cell_type": "code",
   "execution_count": 48,
   "id": "9bbe67d2-2ba1-40e5-ba91-9a57a67984dc",
   "metadata": {},
   "outputs": [],
   "source": [
    "# How to read above data\n",
    "# Range index is row index, which is having 6 entries from 0 to 5\n",
    "# Column entries 3\n",
    "# Observe the NUll values (NaN) in the columns\n",
    "# Ename has 1 NaN\n",
    "# Esalary has 1NaN\n",
    "# did you understand HOW info is eye balling the missing value\n",
    "# this is more like eye balling"
   ]
  },
  {
   "cell_type": "code",
   "execution_count": 49,
   "id": "8714b229-fbbe-4e4a-a66d-17d685a02c26",
   "metadata": {},
   "outputs": [],
   "source": [
    "# the above function is interpretation of data"
   ]
  },
  {
   "cell_type": "code",
   "execution_count": 50,
   "id": "d067576b-382a-40b7-8261-477a09555588",
   "metadata": {},
   "outputs": [],
   "source": [
    "# The above is based on the list"
   ]
  },
  {
   "cell_type": "markdown",
   "id": "48def26d-bf7d-4e72-bd91-5700c6bea586",
   "metadata": {},
   "source": [
    "# Creating DF from file (Delimited file)"
   ]
  },
  {
   "cell_type": "code",
   "execution_count": 51,
   "id": "34c0e356-0144-45c9-bb0a-8630c769e1a0",
   "metadata": {},
   "outputs": [],
   "source": [
    "# Delimited refers to how column values are seperated\n",
    "# which ASCII character is used to seperate column data\n",
    "# CSV-- comma seperated values (,)\n",
    "# TSV-- tab seperated values (\\t)\n",
    "# PSV--pipe seperated values (|)--not used in market, they say Pi seperated values\n",
    "# SSV--Semi colan seperated values (;)\n",
    "# The above format values are depends on the user/Data provider\n",
    "# assume that data is Fetching/ extracting from the IOT Device ,\n",
    "# In the IOT micro controller, they coded to seperate columns based on Pi\n",
    "# should understand, in which format the data is available"
   ]
  },
  {
   "cell_type": "code",
   "execution_count": 52,
   "id": "50a741a1-2333-4352-9b26-8309e934267c",
   "metadata": {},
   "outputs": [],
   "source": [
    "# Pandas will help us to deal with delimited files easily"
   ]
  },
  {
   "cell_type": "code",
   "execution_count": 53,
   "id": "02729350-ce18-4d81-adc5-b339cfaa4346",
   "metadata": {},
   "outputs": [],
   "source": [
    "empData = pd.read_csv(\"employee.csv\")"
   ]
  },
  {
   "cell_type": "code",
   "execution_count": 54,
   "id": "458ef96a-5def-499a-bbf1-7c6bffacab87",
   "metadata": {},
   "outputs": [
    {
     "data": {
      "text/html": [
       "<div>\n",
       "<style scoped>\n",
       "    .dataframe tbody tr th:only-of-type {\n",
       "        vertical-align: middle;\n",
       "    }\n",
       "\n",
       "    .dataframe tbody tr th {\n",
       "        vertical-align: top;\n",
       "    }\n",
       "\n",
       "    .dataframe thead th {\n",
       "        text-align: right;\n",
       "    }\n",
       "</style>\n",
       "<table border=\"1\" class=\"dataframe\">\n",
       "  <thead>\n",
       "    <tr style=\"text-align: right;\">\n",
       "      <th></th>\n",
       "      <th>1</th>\n",
       "      <th>Aravind</th>\n",
       "      <th>500000</th>\n",
       "    </tr>\n",
       "  </thead>\n",
       "  <tbody>\n",
       "    <tr>\n",
       "      <th>0</th>\n",
       "      <td>2</td>\n",
       "      <td>Sharada</td>\n",
       "      <td>400000</td>\n",
       "    </tr>\n",
       "    <tr>\n",
       "      <th>1</th>\n",
       "      <td>3</td>\n",
       "      <td>Rachael</td>\n",
       "      <td>300000</td>\n",
       "    </tr>\n",
       "    <tr>\n",
       "      <th>2</th>\n",
       "      <td>4</td>\n",
       "      <td>Dave</td>\n",
       "      <td>200000</td>\n",
       "    </tr>\n",
       "    <tr>\n",
       "      <th>3</th>\n",
       "      <td>5</td>\n",
       "      <td>Rhema</td>\n",
       "      <td>100000</td>\n",
       "    </tr>\n",
       "  </tbody>\n",
       "</table>\n",
       "</div>"
      ],
      "text/plain": [
       "   1  Aravind  500000\n",
       "0  2  Sharada  400000\n",
       "1  3  Rachael  300000\n",
       "2  4     Dave  200000\n",
       "3  5    Rhema  100000"
      ]
     },
     "execution_count": 54,
     "metadata": {},
     "output_type": "execute_result"
    }
   ],
   "source": [
    "empData"
   ]
  },
  {
   "cell_type": "code",
   "execution_count": 55,
   "id": "2ab9cf76-ec15-4705-bb0e-d8da35825acf",
   "metadata": {},
   "outputs": [],
   "source": [
    "# read_csv : even though _csv is there here, it will support all the formats of the files.\n",
    "# CSV in pandas python typically demands having a header in file, \n",
    "# otherwise we need to mention saying header=None"
   ]
  },
  {
   "cell_type": "code",
   "execution_count": 56,
   "id": "be4738b6-8200-4518-8a83-da065e6da3c9",
   "metadata": {},
   "outputs": [],
   "source": [
    "empData = pd.read_csv(\"employee.csv\", header=None)"
   ]
  },
  {
   "cell_type": "code",
   "execution_count": 57,
   "id": "f2d2d9ee-e0cf-494a-bff6-3964ddd0e490",
   "metadata": {},
   "outputs": [
    {
     "data": {
      "text/html": [
       "<div>\n",
       "<style scoped>\n",
       "    .dataframe tbody tr th:only-of-type {\n",
       "        vertical-align: middle;\n",
       "    }\n",
       "\n",
       "    .dataframe tbody tr th {\n",
       "        vertical-align: top;\n",
       "    }\n",
       "\n",
       "    .dataframe thead th {\n",
       "        text-align: right;\n",
       "    }\n",
       "</style>\n",
       "<table border=\"1\" class=\"dataframe\">\n",
       "  <thead>\n",
       "    <tr style=\"text-align: right;\">\n",
       "      <th></th>\n",
       "      <th>0</th>\n",
       "      <th>1</th>\n",
       "      <th>2</th>\n",
       "    </tr>\n",
       "  </thead>\n",
       "  <tbody>\n",
       "    <tr>\n",
       "      <th>0</th>\n",
       "      <td>1</td>\n",
       "      <td>Aravind</td>\n",
       "      <td>500000</td>\n",
       "    </tr>\n",
       "    <tr>\n",
       "      <th>1</th>\n",
       "      <td>2</td>\n",
       "      <td>Sharada</td>\n",
       "      <td>400000</td>\n",
       "    </tr>\n",
       "    <tr>\n",
       "      <th>2</th>\n",
       "      <td>3</td>\n",
       "      <td>Rachael</td>\n",
       "      <td>300000</td>\n",
       "    </tr>\n",
       "    <tr>\n",
       "      <th>3</th>\n",
       "      <td>4</td>\n",
       "      <td>Dave</td>\n",
       "      <td>200000</td>\n",
       "    </tr>\n",
       "    <tr>\n",
       "      <th>4</th>\n",
       "      <td>5</td>\n",
       "      <td>Rhema</td>\n",
       "      <td>100000</td>\n",
       "    </tr>\n",
       "  </tbody>\n",
       "</table>\n",
       "</div>"
      ],
      "text/plain": [
       "   0        1       2\n",
       "0  1  Aravind  500000\n",
       "1  2  Sharada  400000\n",
       "2  3  Rachael  300000\n",
       "3  4     Dave  200000\n",
       "4  5    Rhema  100000"
      ]
     },
     "execution_count": 57,
     "metadata": {},
     "output_type": "execute_result"
    }
   ],
   "source": [
    "empData"
   ]
  },
  {
   "cell_type": "code",
   "execution_count": 58,
   "id": "9b9566aa-5dab-4337-a4dc-8a3f0400b3c4",
   "metadata": {},
   "outputs": [],
   "source": [
    "empData = pd.read_csv(\"employee.csv\", header=None, names = ['Eid','Ename','Esalary'])"
   ]
  },
  {
   "cell_type": "code",
   "execution_count": 59,
   "id": "820486f1-a344-4a58-b89f-e45387139b2c",
   "metadata": {},
   "outputs": [
    {
     "data": {
      "text/html": [
       "<div>\n",
       "<style scoped>\n",
       "    .dataframe tbody tr th:only-of-type {\n",
       "        vertical-align: middle;\n",
       "    }\n",
       "\n",
       "    .dataframe tbody tr th {\n",
       "        vertical-align: top;\n",
       "    }\n",
       "\n",
       "    .dataframe thead th {\n",
       "        text-align: right;\n",
       "    }\n",
       "</style>\n",
       "<table border=\"1\" class=\"dataframe\">\n",
       "  <thead>\n",
       "    <tr style=\"text-align: right;\">\n",
       "      <th></th>\n",
       "      <th>Eid</th>\n",
       "      <th>Ename</th>\n",
       "      <th>Esalary</th>\n",
       "    </tr>\n",
       "  </thead>\n",
       "  <tbody>\n",
       "    <tr>\n",
       "      <th>0</th>\n",
       "      <td>1</td>\n",
       "      <td>Aravind</td>\n",
       "      <td>500000</td>\n",
       "    </tr>\n",
       "    <tr>\n",
       "      <th>1</th>\n",
       "      <td>2</td>\n",
       "      <td>Sharada</td>\n",
       "      <td>400000</td>\n",
       "    </tr>\n",
       "    <tr>\n",
       "      <th>2</th>\n",
       "      <td>3</td>\n",
       "      <td>Rachael</td>\n",
       "      <td>300000</td>\n",
       "    </tr>\n",
       "    <tr>\n",
       "      <th>3</th>\n",
       "      <td>4</td>\n",
       "      <td>Dave</td>\n",
       "      <td>200000</td>\n",
       "    </tr>\n",
       "    <tr>\n",
       "      <th>4</th>\n",
       "      <td>5</td>\n",
       "      <td>Rhema</td>\n",
       "      <td>100000</td>\n",
       "    </tr>\n",
       "  </tbody>\n",
       "</table>\n",
       "</div>"
      ],
      "text/plain": [
       "   Eid    Ename  Esalary\n",
       "0    1  Aravind   500000\n",
       "1    2  Sharada   400000\n",
       "2    3  Rachael   300000\n",
       "3    4     Dave   200000\n",
       "4    5    Rhema   100000"
      ]
     },
     "execution_count": 59,
     "metadata": {},
     "output_type": "execute_result"
    }
   ],
   "source": [
    "empData"
   ]
  },
  {
   "cell_type": "code",
   "execution_count": 60,
   "id": "9d97eeec-eb27-46a3-9754-abe4dd52e52f",
   "metadata": {},
   "outputs": [],
   "source": [
    "empData1 = pd.read_csv(\"employee.csv\", # path file\n",
    "                       header=None,    # Defines whether header is there or not\n",
    "                       names = ['Eid','Ename','Esalary'], # Assign Name of the columns\n",
    "                      sep = \",\") # Informing the seperator value ; defalut sep is ,"
   ]
  },
  {
   "cell_type": "code",
   "execution_count": 61,
   "id": "36b0c41e-f78a-4d26-a64a-ed0d267d3c16",
   "metadata": {},
   "outputs": [
    {
     "data": {
      "text/html": [
       "<div>\n",
       "<style scoped>\n",
       "    .dataframe tbody tr th:only-of-type {\n",
       "        vertical-align: middle;\n",
       "    }\n",
       "\n",
       "    .dataframe tbody tr th {\n",
       "        vertical-align: top;\n",
       "    }\n",
       "\n",
       "    .dataframe thead th {\n",
       "        text-align: right;\n",
       "    }\n",
       "</style>\n",
       "<table border=\"1\" class=\"dataframe\">\n",
       "  <thead>\n",
       "    <tr style=\"text-align: right;\">\n",
       "      <th></th>\n",
       "      <th>Eid</th>\n",
       "      <th>Ename</th>\n",
       "      <th>Esalary</th>\n",
       "    </tr>\n",
       "  </thead>\n",
       "  <tbody>\n",
       "    <tr>\n",
       "      <th>0</th>\n",
       "      <td>1</td>\n",
       "      <td>Aravind</td>\n",
       "      <td>500000</td>\n",
       "    </tr>\n",
       "    <tr>\n",
       "      <th>1</th>\n",
       "      <td>2</td>\n",
       "      <td>Sharada</td>\n",
       "      <td>400000</td>\n",
       "    </tr>\n",
       "    <tr>\n",
       "      <th>2</th>\n",
       "      <td>3</td>\n",
       "      <td>Rachael</td>\n",
       "      <td>300000</td>\n",
       "    </tr>\n",
       "    <tr>\n",
       "      <th>3</th>\n",
       "      <td>4</td>\n",
       "      <td>Dave</td>\n",
       "      <td>200000</td>\n",
       "    </tr>\n",
       "    <tr>\n",
       "      <th>4</th>\n",
       "      <td>5</td>\n",
       "      <td>Rhema</td>\n",
       "      <td>100000</td>\n",
       "    </tr>\n",
       "  </tbody>\n",
       "</table>\n",
       "</div>"
      ],
      "text/plain": [
       "   Eid    Ename  Esalary\n",
       "0    1  Aravind   500000\n",
       "1    2  Sharada   400000\n",
       "2    3  Rachael   300000\n",
       "3    4     Dave   200000\n",
       "4    5    Rhema   100000"
      ]
     },
     "execution_count": 61,
     "metadata": {},
     "output_type": "execute_result"
    }
   ],
   "source": [
    "empData1"
   ]
  },
  {
   "cell_type": "code",
   "execution_count": 62,
   "id": "b38e6e6b-ec0d-4cc3-afdc-ed02a264433e",
   "metadata": {},
   "outputs": [
    {
     "data": {
      "text/html": [
       "<div>\n",
       "<style scoped>\n",
       "    .dataframe tbody tr th:only-of-type {\n",
       "        vertical-align: middle;\n",
       "    }\n",
       "\n",
       "    .dataframe tbody tr th {\n",
       "        vertical-align: top;\n",
       "    }\n",
       "\n",
       "    .dataframe thead th {\n",
       "        text-align: right;\n",
       "    }\n",
       "</style>\n",
       "<table border=\"1\" class=\"dataframe\">\n",
       "  <thead>\n",
       "    <tr style=\"text-align: right;\">\n",
       "      <th></th>\n",
       "      <th>Eid</th>\n",
       "      <th>Ename</th>\n",
       "      <th>Esalary</th>\n",
       "    </tr>\n",
       "  </thead>\n",
       "  <tbody>\n",
       "    <tr>\n",
       "      <th>0</th>\n",
       "      <td>1</td>\n",
       "      <td>Aravind</td>\n",
       "      <td>500000</td>\n",
       "    </tr>\n",
       "    <tr>\n",
       "      <th>1</th>\n",
       "      <td>2</td>\n",
       "      <td>Sharada</td>\n",
       "      <td>400000</td>\n",
       "    </tr>\n",
       "    <tr>\n",
       "      <th>2</th>\n",
       "      <td>3</td>\n",
       "      <td>Rachael</td>\n",
       "      <td>300000</td>\n",
       "    </tr>\n",
       "    <tr>\n",
       "      <th>3</th>\n",
       "      <td>4</td>\n",
       "      <td>Dave</td>\n",
       "      <td>200000</td>\n",
       "    </tr>\n",
       "    <tr>\n",
       "      <th>4</th>\n",
       "      <td>5</td>\n",
       "      <td>Rhema</td>\n",
       "      <td>100000</td>\n",
       "    </tr>\n",
       "  </tbody>\n",
       "</table>\n",
       "</div>"
      ],
      "text/plain": [
       "   Eid    Ename  Esalary\n",
       "0    1  Aravind   500000\n",
       "1    2  Sharada   400000\n",
       "2    3  Rachael   300000\n",
       "3    4     Dave   200000\n",
       "4    5    Rhema   100000"
      ]
     },
     "execution_count": 62,
     "metadata": {},
     "output_type": "execute_result"
    }
   ],
   "source": [
    "empData1.head()"
   ]
  },
  {
   "cell_type": "code",
   "execution_count": 63,
   "id": "814c97b9-c0ea-439e-89a5-63a3c343ff69",
   "metadata": {},
   "outputs": [
    {
     "data": {
      "text/html": [
       "<div>\n",
       "<style scoped>\n",
       "    .dataframe tbody tr th:only-of-type {\n",
       "        vertical-align: middle;\n",
       "    }\n",
       "\n",
       "    .dataframe tbody tr th {\n",
       "        vertical-align: top;\n",
       "    }\n",
       "\n",
       "    .dataframe thead th {\n",
       "        text-align: right;\n",
       "    }\n",
       "</style>\n",
       "<table border=\"1\" class=\"dataframe\">\n",
       "  <thead>\n",
       "    <tr style=\"text-align: right;\">\n",
       "      <th></th>\n",
       "      <th>Eid</th>\n",
       "      <th>Ename</th>\n",
       "      <th>Esalary</th>\n",
       "    </tr>\n",
       "  </thead>\n",
       "  <tbody>\n",
       "    <tr>\n",
       "      <th>0</th>\n",
       "      <td>1</td>\n",
       "      <td>Aravind</td>\n",
       "      <td>500000</td>\n",
       "    </tr>\n",
       "    <tr>\n",
       "      <th>1</th>\n",
       "      <td>2</td>\n",
       "      <td>Sharada</td>\n",
       "      <td>400000</td>\n",
       "    </tr>\n",
       "    <tr>\n",
       "      <th>2</th>\n",
       "      <td>3</td>\n",
       "      <td>Rachael</td>\n",
       "      <td>300000</td>\n",
       "    </tr>\n",
       "    <tr>\n",
       "      <th>3</th>\n",
       "      <td>4</td>\n",
       "      <td>Dave</td>\n",
       "      <td>200000</td>\n",
       "    </tr>\n",
       "    <tr>\n",
       "      <th>4</th>\n",
       "      <td>5</td>\n",
       "      <td>Rhema</td>\n",
       "      <td>100000</td>\n",
       "    </tr>\n",
       "  </tbody>\n",
       "</table>\n",
       "</div>"
      ],
      "text/plain": [
       "   Eid    Ename  Esalary\n",
       "0    1  Aravind   500000\n",
       "1    2  Sharada   400000\n",
       "2    3  Rachael   300000\n",
       "3    4     Dave   200000\n",
       "4    5    Rhema   100000"
      ]
     },
     "execution_count": 63,
     "metadata": {},
     "output_type": "execute_result"
    }
   ],
   "source": [
    "empData1.tail()"
   ]
  },
  {
   "cell_type": "code",
   "execution_count": 64,
   "id": "c531c81c-bf7c-45a7-8949-81277a0d6d67",
   "metadata": {},
   "outputs": [
    {
     "name": "stdout",
     "output_type": "stream",
     "text": [
      "<class 'pandas.core.frame.DataFrame'>\n",
      "RangeIndex: 5 entries, 0 to 4\n",
      "Data columns (total 3 columns):\n",
      " #   Column   Non-Null Count  Dtype \n",
      "---  ------   --------------  ----- \n",
      " 0   Eid      5 non-null      int64 \n",
      " 1   Ename    5 non-null      object\n",
      " 2   Esalary  5 non-null      int64 \n",
      "dtypes: int64(2), object(1)\n",
      "memory usage: 248.0+ bytes\n"
     ]
    }
   ],
   "source": [
    "empData1.info()"
   ]
  },
  {
   "cell_type": "code",
   "execution_count": 65,
   "id": "8c09cab9-cdc2-4b2f-a330-92cb772b490b",
   "metadata": {},
   "outputs": [],
   "source": [
    "# Anything end with pandas is dataframe"
   ]
  },
  {
   "cell_type": "code",
   "execution_count": 66,
   "id": "24d7ca1e-32dc-42c8-b03d-42aaeb8f404c",
   "metadata": {},
   "outputs": [],
   "source": [
    "# the moment we give names , then header will be override by names,\n",
    "# if you give names, then header is not required"
   ]
  },
  {
   "cell_type": "code",
   "execution_count": 67,
   "id": "057d5d1e-708d-4f22-9a60-02ac63e32643",
   "metadata": {},
   "outputs": [],
   "source": [
    "# if comma is there in the data, it will be treated as object , so it will not influence "
   ]
  },
  {
   "cell_type": "code",
   "execution_count": 68,
   "id": "1ebd6f8c-b36b-422a-bc5b-5d2bed36154e",
   "metadata": {},
   "outputs": [],
   "source": [
    "# any seperator issues will be chased by data provider itself.."
   ]
  },
  {
   "cell_type": "code",
   "execution_count": 70,
   "id": "390793c8-de23-4996-b535-c1104a217a9a",
   "metadata": {},
   "outputs": [],
   "source": [
    "# at the microcontroller level\n",
    "# at API level \n",
    "# web API level the data will be controlled with formats."
   ]
  },
  {
   "cell_type": "code",
   "execution_count": 71,
   "id": "18049102-f8d6-4af3-b117-b71c8867d98c",
   "metadata": {},
   "outputs": [],
   "source": [
    "# CR and LF are control characters or \n",
    "# bytecode that can be used to mark a line break in a text file.\n",
    "# LF = Line Feed ( \\n , 0x0A in hexadecimal, 10 in decimal)\n",
    "#— moves the cursor down to the next line without returning to the beginning of the line"
   ]
  },
  {
   "cell_type": "code",
   "execution_count": 72,
   "id": "66a88a56-ebc4-4d98-ae12-99e6a08dcfda",
   "metadata": {},
   "outputs": [],
   "source": [
    "# use CRLF to denote end of line. \n",
    "# core. eol = lf When Git needs to change line endings to write\n",
    "# a file in your working directory it will always use LF to denote end of line"
   ]
  },
  {
   "cell_type": "code",
   "execution_count": 73,
   "id": "7931ee6e-7a6e-45cd-9969-ce07e903be95",
   "metadata": {},
   "outputs": [],
   "source": [
    " # CRLF and LF both consider as \\n ?\n",
    " # Yes"
   ]
  },
  {
   "cell_type": "code",
   "execution_count": 75,
   "id": "356a99bb-f17e-4425-b185-f381611e3f82",
   "metadata": {},
   "outputs": [],
   "source": [
    "# when you work with the data, data information must be there from data team,\n",
    "# otherwise how will work with the data\n",
    "# Data information is important and need to check before start working"
   ]
  },
  {
   "cell_type": "code",
   "execution_count": 76,
   "id": "67bf6e4c-d1ce-443f-8377-efce86b4a9dd",
   "metadata": {},
   "outputs": [],
   "source": [
    "# can we name the row header too? similar as columns; Yes\n",
    "\n"
   ]
  },
  {
   "cell_type": "code",
   "execution_count": 77,
   "id": "ee379a55-1944-4060-ad8a-b86f7b73cf0a",
   "metadata": {},
   "outputs": [],
   "source": [
    "# to see intellisense \n",
    "# press tab\n",
    "# eg. pd.arr..then press tab for intellisense"
   ]
  },
  {
   "cell_type": "code",
   "execution_count": 80,
   "id": "5f7f9b6b-b8fb-40f6-9ba0-337503adfb3d",
   "metadata": {},
   "outputs": [],
   "source": [
    "# in general, to extract the data from the APIs, \n",
    "# we need to use webscapping methods like beautiful soap\n",
    "# whatever method we use to get the data\n",
    "# we can give it to pandas with output of webscapping \n",
    "# with codes to identify the seperator value\n",
    "# and then load it into pandas"
   ]
  },
  {
   "cell_type": "code",
   "execution_count": 81,
   "id": "f174fdc2-0f8d-47db-8e3a-2a5d59857f39",
   "metadata": {},
   "outputs": [],
   "source": [
    "# with pandas we can not do webscrapping"
   ]
  },
  {
   "cell_type": "code",
   "execution_count": 82,
   "id": "825fd936-161f-4209-9bc6-5532484f97aa",
   "metadata": {},
   "outputs": [
    {
     "data": {
      "text/plain": [
       "<function pandas.io.html.read_html(io: Union[ForwardRef('PathLike[str]'), str, IO[~T], io.RawIOBase, io.BufferedIOBase, io.TextIOBase, _io.TextIOWrapper, mmap.mmap], match: Union[str, Pattern] = '.+', flavor: Union[str, NoneType] = None, header: Union[int, Sequence[int], NoneType] = None, index_col: Union[int, Sequence[int], NoneType] = None, skiprows: Union[int, Sequence[int], slice, NoneType] = None, attrs: Union[Dict[str, str], NoneType] = None, parse_dates: bool = False, thousands: Union[str, NoneType] = ',', encoding: Union[str, NoneType] = None, decimal: str = '.', converters: Union[Dict, NoneType] = None, na_values=None, keep_default_na: bool = True, displayed_only: bool = True) -> List[pandas.core.frame.DataFrame]>"
      ]
     },
     "execution_count": 82,
     "metadata": {},
     "output_type": "execute_result"
    }
   ],
   "source": [
    "# here we html to read\n",
    "pd.read_html # but very complex to use\n",
    "# this method is not recommended, instead can be used Beatiful soap, \n",
    "# process the data, get the data, store at one place then use it with pandas to load the data"
   ]
  },
  {
   "cell_type": "code",
   "execution_count": 83,
   "id": "18b92f28-b32b-4337-aeaa-62d54001bc73",
   "metadata": {},
   "outputs": [],
   "source": [
    "# then load for analysis..is a good idea."
   ]
  },
  {
   "cell_type": "code",
   "execution_count": 84,
   "id": "5a5642e7-dd22-4c44-84c1-e57fc6d8fe1d",
   "metadata": {},
   "outputs": [],
   "source": [
    "# Softwares are there for Webscraping, which return data in xlsx or other formats.\n",
    "# That can be passed to pandas\n",
    "# beautiful soup and scrapy?\n",
    "# scrapy is easy to use if you ask which one is best\n",
    "# if you are good at selenium, then is a good approach for data extraction\n",
    "# Uipath also can be used for webscapping\n",
    "# RPI also can be used"
   ]
  },
  {
   "cell_type": "code",
   "execution_count": 85,
   "id": "f353c220-3a49-4692-9a93-3a9384c53332",
   "metadata": {},
   "outputs": [],
   "source": [
    "# what is Uipath? \n",
    "# RPA is Uipath\n",
    "# Uipath is a software wwhich will help us to perform robotic operations 0f automation.\n",
    "# We can automate the process of repetative task that need to perform\n",
    "# RPA is the concept and UPI Path is the software"
   ]
  },
  {
   "cell_type": "code",
   "execution_count": 86,
   "id": "07a09742-691e-48b2-8de6-79859c33499d",
   "metadata": {},
   "outputs": [],
   "source": [
    "# using remote access , we can load the load in to pandas\n",
    "# https://gist.githubusercontent.com/curran/a08a1080b88344b0c8a7/raw/639388c2cbc2120a14dcf466e85730eb8be498bb/iris.csv\n",
    "# if there is no security instruction, then accesing the data with remote access is easy\n",
    "# observe the data is with comma seperated values\n",
    "# this is iris dataset"
   ]
  },
  {
   "cell_type": "code",
   "execution_count": 88,
   "id": "78faf791-12ea-40a9-a667-feab85f50d07",
   "metadata": {},
   "outputs": [],
   "source": [
    "irisDataFromRemote = pd.read_csv(\"https://gist.githubusercontent.com/curran/a08a1080b88344b0c8a7/raw/639388c2cbc2120a14dcf466e85730eb8be498bb/iris.csv\")"
   ]
  },
  {
   "cell_type": "code",
   "execution_count": 89,
   "id": "6b55f923-e1d0-42f3-afde-01fd6f105f12",
   "metadata": {},
   "outputs": [
    {
     "data": {
      "text/html": [
       "<div>\n",
       "<style scoped>\n",
       "    .dataframe tbody tr th:only-of-type {\n",
       "        vertical-align: middle;\n",
       "    }\n",
       "\n",
       "    .dataframe tbody tr th {\n",
       "        vertical-align: top;\n",
       "    }\n",
       "\n",
       "    .dataframe thead th {\n",
       "        text-align: right;\n",
       "    }\n",
       "</style>\n",
       "<table border=\"1\" class=\"dataframe\">\n",
       "  <thead>\n",
       "    <tr style=\"text-align: right;\">\n",
       "      <th></th>\n",
       "      <th>sepal_length</th>\n",
       "      <th>sepal_width</th>\n",
       "      <th>petal_length</th>\n",
       "      <th>petal_width</th>\n",
       "      <th>species</th>\n",
       "    </tr>\n",
       "  </thead>\n",
       "  <tbody>\n",
       "    <tr>\n",
       "      <th>0</th>\n",
       "      <td>5.1</td>\n",
       "      <td>3.5</td>\n",
       "      <td>1.4</td>\n",
       "      <td>0.2</td>\n",
       "      <td>setosa</td>\n",
       "    </tr>\n",
       "    <tr>\n",
       "      <th>1</th>\n",
       "      <td>4.9</td>\n",
       "      <td>3.0</td>\n",
       "      <td>1.4</td>\n",
       "      <td>0.2</td>\n",
       "      <td>setosa</td>\n",
       "    </tr>\n",
       "    <tr>\n",
       "      <th>2</th>\n",
       "      <td>4.7</td>\n",
       "      <td>3.2</td>\n",
       "      <td>1.3</td>\n",
       "      <td>0.2</td>\n",
       "      <td>setosa</td>\n",
       "    </tr>\n",
       "    <tr>\n",
       "      <th>3</th>\n",
       "      <td>4.6</td>\n",
       "      <td>3.1</td>\n",
       "      <td>1.5</td>\n",
       "      <td>0.2</td>\n",
       "      <td>setosa</td>\n",
       "    </tr>\n",
       "    <tr>\n",
       "      <th>4</th>\n",
       "      <td>5.0</td>\n",
       "      <td>3.6</td>\n",
       "      <td>1.4</td>\n",
       "      <td>0.2</td>\n",
       "      <td>setosa</td>\n",
       "    </tr>\n",
       "    <tr>\n",
       "      <th>...</th>\n",
       "      <td>...</td>\n",
       "      <td>...</td>\n",
       "      <td>...</td>\n",
       "      <td>...</td>\n",
       "      <td>...</td>\n",
       "    </tr>\n",
       "    <tr>\n",
       "      <th>145</th>\n",
       "      <td>6.7</td>\n",
       "      <td>3.0</td>\n",
       "      <td>5.2</td>\n",
       "      <td>2.3</td>\n",
       "      <td>virginica</td>\n",
       "    </tr>\n",
       "    <tr>\n",
       "      <th>146</th>\n",
       "      <td>6.3</td>\n",
       "      <td>2.5</td>\n",
       "      <td>5.0</td>\n",
       "      <td>1.9</td>\n",
       "      <td>virginica</td>\n",
       "    </tr>\n",
       "    <tr>\n",
       "      <th>147</th>\n",
       "      <td>6.5</td>\n",
       "      <td>3.0</td>\n",
       "      <td>5.2</td>\n",
       "      <td>2.0</td>\n",
       "      <td>virginica</td>\n",
       "    </tr>\n",
       "    <tr>\n",
       "      <th>148</th>\n",
       "      <td>6.2</td>\n",
       "      <td>3.4</td>\n",
       "      <td>5.4</td>\n",
       "      <td>2.3</td>\n",
       "      <td>virginica</td>\n",
       "    </tr>\n",
       "    <tr>\n",
       "      <th>149</th>\n",
       "      <td>5.9</td>\n",
       "      <td>3.0</td>\n",
       "      <td>5.1</td>\n",
       "      <td>1.8</td>\n",
       "      <td>virginica</td>\n",
       "    </tr>\n",
       "  </tbody>\n",
       "</table>\n",
       "<p>150 rows × 5 columns</p>\n",
       "</div>"
      ],
      "text/plain": [
       "     sepal_length  sepal_width  petal_length  petal_width    species\n",
       "0             5.1          3.5           1.4          0.2     setosa\n",
       "1             4.9          3.0           1.4          0.2     setosa\n",
       "2             4.7          3.2           1.3          0.2     setosa\n",
       "3             4.6          3.1           1.5          0.2     setosa\n",
       "4             5.0          3.6           1.4          0.2     setosa\n",
       "..            ...          ...           ...          ...        ...\n",
       "145           6.7          3.0           5.2          2.3  virginica\n",
       "146           6.3          2.5           5.0          1.9  virginica\n",
       "147           6.5          3.0           5.2          2.0  virginica\n",
       "148           6.2          3.4           5.4          2.3  virginica\n",
       "149           5.9          3.0           5.1          1.8  virginica\n",
       "\n",
       "[150 rows x 5 columns]"
      ]
     },
     "execution_count": 89,
     "metadata": {},
     "output_type": "execute_result"
    }
   ],
   "source": [
    "irisDataFromRemote"
   ]
  },
  {
   "cell_type": "code",
   "execution_count": 90,
   "id": "4576abea-d7ad-44bb-bacc-857cb759ff3a",
   "metadata": {},
   "outputs": [
    {
     "name": "stdout",
     "output_type": "stream",
     "text": [
      "<class 'pandas.core.frame.DataFrame'>\n",
      "RangeIndex: 150 entries, 0 to 149\n",
      "Data columns (total 5 columns):\n",
      " #   Column        Non-Null Count  Dtype  \n",
      "---  ------        --------------  -----  \n",
      " 0   sepal_length  150 non-null    float64\n",
      " 1   sepal_width   150 non-null    float64\n",
      " 2   petal_length  150 non-null    float64\n",
      " 3   petal_width   150 non-null    float64\n",
      " 4   species       150 non-null    object \n",
      "dtypes: float64(4), object(1)\n",
      "memory usage: 6.0+ KB\n"
     ]
    }
   ],
   "source": [
    "irisDataFromRemote.info()"
   ]
  },
  {
   "cell_type": "code",
   "execution_count": 91,
   "id": "f029f2d8-8069-4a75-8a3c-312634abf9f8",
   "metadata": {},
   "outputs": [],
   "source": [
    "# memory usage is 6+KB \n",
    "# now this data is in the system memory\n",
    "# Remember Pandas are etremeely memory intensive"
   ]
  },
  {
   "cell_type": "code",
   "execution_count": 92,
   "id": "eba17597-58eb-4ea3-8337-f15b1ae94882",
   "metadata": {},
   "outputs": [],
   "source": [
    "# focus more on security part and what kind of format data in available\n",
    "# when you are laoding the data from remote/internet"
   ]
  },
  {
   "cell_type": "code",
   "execution_count": 93,
   "id": "e645755a-a13d-434a-8315-58666c38e4a0",
   "metadata": {},
   "outputs": [
    {
     "data": {
      "text/html": [
       "<div>\n",
       "<style scoped>\n",
       "    .dataframe tbody tr th:only-of-type {\n",
       "        vertical-align: middle;\n",
       "    }\n",
       "\n",
       "    .dataframe tbody tr th {\n",
       "        vertical-align: top;\n",
       "    }\n",
       "\n",
       "    .dataframe thead th {\n",
       "        text-align: right;\n",
       "    }\n",
       "</style>\n",
       "<table border=\"1\" class=\"dataframe\">\n",
       "  <thead>\n",
       "    <tr style=\"text-align: right;\">\n",
       "      <th></th>\n",
       "      <th>sepal_length</th>\n",
       "      <th>sepal_width</th>\n",
       "      <th>petal_length</th>\n",
       "      <th>petal_width</th>\n",
       "      <th>species</th>\n",
       "    </tr>\n",
       "  </thead>\n",
       "  <tbody>\n",
       "    <tr>\n",
       "      <th>0</th>\n",
       "      <td>5.1</td>\n",
       "      <td>3.5</td>\n",
       "      <td>1.4</td>\n",
       "      <td>0.2</td>\n",
       "      <td>setosa</td>\n",
       "    </tr>\n",
       "    <tr>\n",
       "      <th>1</th>\n",
       "      <td>4.9</td>\n",
       "      <td>3.0</td>\n",
       "      <td>1.4</td>\n",
       "      <td>0.2</td>\n",
       "      <td>setosa</td>\n",
       "    </tr>\n",
       "    <tr>\n",
       "      <th>2</th>\n",
       "      <td>4.7</td>\n",
       "      <td>3.2</td>\n",
       "      <td>1.3</td>\n",
       "      <td>0.2</td>\n",
       "      <td>setosa</td>\n",
       "    </tr>\n",
       "    <tr>\n",
       "      <th>3</th>\n",
       "      <td>4.6</td>\n",
       "      <td>3.1</td>\n",
       "      <td>1.5</td>\n",
       "      <td>0.2</td>\n",
       "      <td>setosa</td>\n",
       "    </tr>\n",
       "    <tr>\n",
       "      <th>4</th>\n",
       "      <td>5.0</td>\n",
       "      <td>3.6</td>\n",
       "      <td>1.4</td>\n",
       "      <td>0.2</td>\n",
       "      <td>setosa</td>\n",
       "    </tr>\n",
       "  </tbody>\n",
       "</table>\n",
       "</div>"
      ],
      "text/plain": [
       "   sepal_length  sepal_width  petal_length  petal_width species\n",
       "0           5.1          3.5           1.4          0.2  setosa\n",
       "1           4.9          3.0           1.4          0.2  setosa\n",
       "2           4.7          3.2           1.3          0.2  setosa\n",
       "3           4.6          3.1           1.5          0.2  setosa\n",
       "4           5.0          3.6           1.4          0.2  setosa"
      ]
     },
     "execution_count": 93,
     "metadata": {},
     "output_type": "execute_result"
    }
   ],
   "source": [
    "irisDataFromRemote.head()"
   ]
  },
  {
   "cell_type": "code",
   "execution_count": 95,
   "id": "45824504-80a6-4220-990e-e768f10ae55e",
   "metadata": {},
   "outputs": [
    {
     "data": {
      "text/html": [
       "<div>\n",
       "<style scoped>\n",
       "    .dataframe tbody tr th:only-of-type {\n",
       "        vertical-align: middle;\n",
       "    }\n",
       "\n",
       "    .dataframe tbody tr th {\n",
       "        vertical-align: top;\n",
       "    }\n",
       "\n",
       "    .dataframe thead th {\n",
       "        text-align: right;\n",
       "    }\n",
       "</style>\n",
       "<table border=\"1\" class=\"dataframe\">\n",
       "  <thead>\n",
       "    <tr style=\"text-align: right;\">\n",
       "      <th></th>\n",
       "      <th>sepal_length</th>\n",
       "      <th>sepal_width</th>\n",
       "      <th>petal_length</th>\n",
       "      <th>petal_width</th>\n",
       "      <th>species</th>\n",
       "    </tr>\n",
       "  </thead>\n",
       "  <tbody>\n",
       "    <tr>\n",
       "      <th>145</th>\n",
       "      <td>6.7</td>\n",
       "      <td>3.0</td>\n",
       "      <td>5.2</td>\n",
       "      <td>2.3</td>\n",
       "      <td>virginica</td>\n",
       "    </tr>\n",
       "    <tr>\n",
       "      <th>146</th>\n",
       "      <td>6.3</td>\n",
       "      <td>2.5</td>\n",
       "      <td>5.0</td>\n",
       "      <td>1.9</td>\n",
       "      <td>virginica</td>\n",
       "    </tr>\n",
       "    <tr>\n",
       "      <th>147</th>\n",
       "      <td>6.5</td>\n",
       "      <td>3.0</td>\n",
       "      <td>5.2</td>\n",
       "      <td>2.0</td>\n",
       "      <td>virginica</td>\n",
       "    </tr>\n",
       "    <tr>\n",
       "      <th>148</th>\n",
       "      <td>6.2</td>\n",
       "      <td>3.4</td>\n",
       "      <td>5.4</td>\n",
       "      <td>2.3</td>\n",
       "      <td>virginica</td>\n",
       "    </tr>\n",
       "    <tr>\n",
       "      <th>149</th>\n",
       "      <td>5.9</td>\n",
       "      <td>3.0</td>\n",
       "      <td>5.1</td>\n",
       "      <td>1.8</td>\n",
       "      <td>virginica</td>\n",
       "    </tr>\n",
       "  </tbody>\n",
       "</table>\n",
       "</div>"
      ],
      "text/plain": [
       "     sepal_length  sepal_width  petal_length  petal_width    species\n",
       "145           6.7          3.0           5.2          2.3  virginica\n",
       "146           6.3          2.5           5.0          1.9  virginica\n",
       "147           6.5          3.0           5.2          2.0  virginica\n",
       "148           6.2          3.4           5.4          2.3  virginica\n",
       "149           5.9          3.0           5.1          1.8  virginica"
      ]
     },
     "execution_count": 95,
     "metadata": {},
     "output_type": "execute_result"
    }
   ],
   "source": [
    "irisDataFromRemote.tail()"
   ]
  },
  {
   "cell_type": "code",
   "execution_count": 96,
   "id": "bd596776-846a-4e75-8c10-bfb0e2278a38",
   "metadata": {},
   "outputs": [
    {
     "data": {
      "text/html": [
       "<div>\n",
       "<style scoped>\n",
       "    .dataframe tbody tr th:only-of-type {\n",
       "        vertical-align: middle;\n",
       "    }\n",
       "\n",
       "    .dataframe tbody tr th {\n",
       "        vertical-align: top;\n",
       "    }\n",
       "\n",
       "    .dataframe thead th {\n",
       "        text-align: right;\n",
       "    }\n",
       "</style>\n",
       "<table border=\"1\" class=\"dataframe\">\n",
       "  <thead>\n",
       "    <tr style=\"text-align: right;\">\n",
       "      <th></th>\n",
       "      <th>sepal_length</th>\n",
       "      <th>sepal_width</th>\n",
       "      <th>petal_length</th>\n",
       "      <th>petal_width</th>\n",
       "      <th>species</th>\n",
       "    </tr>\n",
       "  </thead>\n",
       "  <tbody>\n",
       "    <tr>\n",
       "      <th>0</th>\n",
       "      <td>5.1</td>\n",
       "      <td>3.5</td>\n",
       "      <td>1.4</td>\n",
       "      <td>0.2</td>\n",
       "      <td>setosa</td>\n",
       "    </tr>\n",
       "    <tr>\n",
       "      <th>1</th>\n",
       "      <td>4.9</td>\n",
       "      <td>3.0</td>\n",
       "      <td>1.4</td>\n",
       "      <td>0.2</td>\n",
       "      <td>setosa</td>\n",
       "    </tr>\n",
       "    <tr>\n",
       "      <th>2</th>\n",
       "      <td>4.7</td>\n",
       "      <td>3.2</td>\n",
       "      <td>1.3</td>\n",
       "      <td>0.2</td>\n",
       "      <td>setosa</td>\n",
       "    </tr>\n",
       "    <tr>\n",
       "      <th>3</th>\n",
       "      <td>4.6</td>\n",
       "      <td>3.1</td>\n",
       "      <td>1.5</td>\n",
       "      <td>0.2</td>\n",
       "      <td>setosa</td>\n",
       "    </tr>\n",
       "    <tr>\n",
       "      <th>4</th>\n",
       "      <td>5.0</td>\n",
       "      <td>3.6</td>\n",
       "      <td>1.4</td>\n",
       "      <td>0.2</td>\n",
       "      <td>setosa</td>\n",
       "    </tr>\n",
       "    <tr>\n",
       "      <th>5</th>\n",
       "      <td>5.4</td>\n",
       "      <td>3.9</td>\n",
       "      <td>1.7</td>\n",
       "      <td>0.4</td>\n",
       "      <td>setosa</td>\n",
       "    </tr>\n",
       "    <tr>\n",
       "      <th>6</th>\n",
       "      <td>4.6</td>\n",
       "      <td>3.4</td>\n",
       "      <td>1.4</td>\n",
       "      <td>0.3</td>\n",
       "      <td>setosa</td>\n",
       "    </tr>\n",
       "    <tr>\n",
       "      <th>7</th>\n",
       "      <td>5.0</td>\n",
       "      <td>3.4</td>\n",
       "      <td>1.5</td>\n",
       "      <td>0.2</td>\n",
       "      <td>setosa</td>\n",
       "    </tr>\n",
       "    <tr>\n",
       "      <th>8</th>\n",
       "      <td>4.4</td>\n",
       "      <td>2.9</td>\n",
       "      <td>1.4</td>\n",
       "      <td>0.2</td>\n",
       "      <td>setosa</td>\n",
       "    </tr>\n",
       "    <tr>\n",
       "      <th>9</th>\n",
       "      <td>4.9</td>\n",
       "      <td>3.1</td>\n",
       "      <td>1.5</td>\n",
       "      <td>0.1</td>\n",
       "      <td>setosa</td>\n",
       "    </tr>\n",
       "  </tbody>\n",
       "</table>\n",
       "</div>"
      ],
      "text/plain": [
       "   sepal_length  sepal_width  petal_length  petal_width species\n",
       "0           5.1          3.5           1.4          0.2  setosa\n",
       "1           4.9          3.0           1.4          0.2  setosa\n",
       "2           4.7          3.2           1.3          0.2  setosa\n",
       "3           4.6          3.1           1.5          0.2  setosa\n",
       "4           5.0          3.6           1.4          0.2  setosa\n",
       "5           5.4          3.9           1.7          0.4  setosa\n",
       "6           4.6          3.4           1.4          0.3  setosa\n",
       "7           5.0          3.4           1.5          0.2  setosa\n",
       "8           4.4          2.9           1.4          0.2  setosa\n",
       "9           4.9          3.1           1.5          0.1  setosa"
      ]
     },
     "execution_count": 96,
     "metadata": {},
     "output_type": "execute_result"
    }
   ],
   "source": [
    "irisDataFromRemote.head(10)"
   ]
  },
  {
   "cell_type": "code",
   "execution_count": 97,
   "id": "a075c8a5-2c1c-4dd8-b163-9092eefd6e4f",
   "metadata": {},
   "outputs": [],
   "source": [
    "# like in SQL, top, here .head() function is used to retrive thr data \n",
    "# head and tail functions are used to retrieve first and last records\n",
    "# which is same as in linux"
   ]
  },
  {
   "cell_type": "code",
   "execution_count": null,
   "id": "33440d40-c989-41eb-b37b-6da39a015f41",
   "metadata": {},
   "outputs": [],
   "source": []
  }
 ],
 "metadata": {
  "kernelspec": {
   "display_name": "Python 3",
   "language": "python",
   "name": "python3"
  },
  "language_info": {
   "codemirror_mode": {
    "name": "ipython",
    "version": 3
   },
   "file_extension": ".py",
   "mimetype": "text/x-python",
   "name": "python",
   "nbconvert_exporter": "python",
   "pygments_lexer": "ipython3",
   "version": "3.8.8"
  }
 },
 "nbformat": 4,
 "nbformat_minor": 5
}
