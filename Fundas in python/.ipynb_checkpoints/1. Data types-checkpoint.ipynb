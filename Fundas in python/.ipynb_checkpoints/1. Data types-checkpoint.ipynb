{
 "cells": [
  {
   "cell_type": "code",
   "execution_count": 1,
   "id": "05e73ef8-999c-4800-8898-6d959843d6d5",
   "metadata": {},
   "outputs": [],
   "source": [
    "# Datatypes"
   ]
  },
  {
   "cell_type": "code",
   "execution_count": 2,
   "id": "fd69a727-75a3-497e-a6c3-1170335e63a0",
   "metadata": {},
   "outputs": [
    {
     "data": {
      "text/plain": [
       "int"
      ]
     },
     "execution_count": 2,
     "metadata": {},
     "output_type": "execute_result"
    }
   ],
   "source": [
    "num = 10\n",
    "type(num)"
   ]
  },
  {
   "cell_type": "code",
   "execution_count": 3,
   "id": "f8aa4e07-89d7-4815-a9f5-d4b81130a34a",
   "metadata": {},
   "outputs": [
    {
     "data": {
      "text/plain": [
       "str"
      ]
     },
     "execution_count": 3,
     "metadata": {},
     "output_type": "execute_result"
    }
   ],
   "source": [
    "name = \"aravind\"\n",
    "type(name)"
   ]
  },
  {
   "cell_type": "code",
   "execution_count": 4,
   "id": "7e203ee9-e95f-49ba-9bc3-05b66d9cef30",
   "metadata": {},
   "outputs": [
    {
     "ename": "SyntaxError",
     "evalue": "invalid syntax (<ipython-input-4-575fc6ddadca>, line 1)",
     "output_type": "error",
     "traceback": [
      "\u001b[1;36m  File \u001b[1;32m\"<ipython-input-4-575fc6ddadca>\"\u001b[1;36m, line \u001b[1;32m1\u001b[0m\n\u001b[1;33m    name1 = 'Aarvind's\u001b[0m\n\u001b[1;37m                     ^\u001b[0m\n\u001b[1;31mSyntaxError\u001b[0m\u001b[1;31m:\u001b[0m invalid syntax\n"
     ]
    }
   ],
   "source": [
    "name1 = 'Aarvind's surname is dave\n",
    "name1\n",
    "type(name1)"
   ]
  },
  {
   "cell_type": "code",
   "execution_count": 11,
   "id": "46126a67-b2cb-4eb9-8e51-b86a5c28f52e",
   "metadata": {},
   "outputs": [
    {
     "name": "stdout",
     "output_type": "stream",
     "text": [
      "<class 'str'>\n",
      " Aravind's surname is Dave\n"
     ]
    }
   ],
   "source": [
    "name2 = \" Aravind's surname is Dave\"\n",
    "name2\n",
    "print(type(name2))\n",
    "print(name2)"
   ]
  },
  {
   "cell_type": "code",
   "execution_count": 5,
   "id": "10e323a3-3b32-4c29-a9f6-14f3828b5bbd",
   "metadata": {},
   "outputs": [
    {
     "data": {
      "text/plain": [
       "float"
      ]
     },
     "execution_count": 5,
     "metadata": {},
     "output_type": "execute_result"
    }
   ],
   "source": [
    "num2 = 9.888\n",
    "type(num2)"
   ]
  },
  {
   "cell_type": "code",
   "execution_count": 6,
   "id": "79f37b49-da14-46e3-991b-eab2c2223f6a",
   "metadata": {},
   "outputs": [],
   "source": [
    "# the above datatypes are showing int, float, str because of libraries / packages are not installed\n",
    "# once packages are installed , type of datas will show int64, float64....\n",
    "# each int will take 8 bit in size"
   ]
  },
  {
   "cell_type": "code",
   "execution_count": 12,
   "id": "03988fb0-b4cb-4a85-97a0-d7dbd0ece231",
   "metadata": {},
   "outputs": [
    {
     "data": {
      "text/plain": [
       "bool"
      ]
     },
     "execution_count": 12,
     "metadata": {},
     "output_type": "execute_result"
    }
   ],
   "source": [
    "type(True)"
   ]
  },
  {
   "cell_type": "code",
   "execution_count": 13,
   "id": "2b496393-f43a-43ac-a2df-e643e3e9ebf4",
   "metadata": {},
   "outputs": [
    {
     "ename": "NameError",
     "evalue": "name 'true' is not defined",
     "output_type": "error",
     "traceback": [
      "\u001b[1;31m---------------------------------------------------------------------------\u001b[0m",
      "\u001b[1;31mNameError\u001b[0m                                 Traceback (most recent call last)",
      "\u001b[1;32m<ipython-input-13-6f4d8242c3d0>\u001b[0m in \u001b[0;36m<module>\u001b[1;34m\u001b[0m\n\u001b[1;32m----> 1\u001b[1;33m \u001b[0mtype\u001b[0m\u001b[1;33m(\u001b[0m\u001b[0mtrue\u001b[0m\u001b[1;33m)\u001b[0m\u001b[1;33m\u001b[0m\u001b[1;33m\u001b[0m\u001b[0m\n\u001b[0m",
      "\u001b[1;31mNameError\u001b[0m: name 'true' is not defined"
     ]
    }
   ],
   "source": [
    "type(true)"
   ]
  },
  {
   "cell_type": "code",
   "execution_count": 14,
   "id": "5ba02a75-8dcb-444e-8d46-1695d34b03e5",
   "metadata": {},
   "outputs": [],
   "source": [
    "# True is the name of the argument, so here name error poppedout"
   ]
  },
  {
   "cell_type": "code",
   "execution_count": 15,
   "id": "f59f9e82-0414-4e3b-8adb-f3eee1189dac",
   "metadata": {},
   "outputs": [
    {
     "data": {
      "text/plain": [
       "bool"
      ]
     },
     "execution_count": 15,
     "metadata": {},
     "output_type": "execute_result"
    }
   ],
   "source": [
    "type(False)"
   ]
  },
  {
   "cell_type": "code",
   "execution_count": 16,
   "id": "f2919fb2-3457-45fc-8a0e-db0510de561f",
   "metadata": {},
   "outputs": [
    {
     "data": {
      "text/plain": [
       "int"
      ]
     },
     "execution_count": 16,
     "metadata": {},
     "output_type": "execute_result"
    }
   ],
   "source": [
    "type(0)"
   ]
  },
  {
   "cell_type": "code",
   "execution_count": 17,
   "id": "a75d2147-3f1c-443e-a9b3-03e53a660449",
   "metadata": {},
   "outputs": [
    {
     "data": {
      "text/plain": [
       "int"
      ]
     },
     "execution_count": 17,
     "metadata": {},
     "output_type": "execute_result"
    }
   ],
   "source": [
    "type(1)"
   ]
  },
  {
   "cell_type": "code",
   "execution_count": null,
   "id": "9406e593-d7ef-4ff2-9fc6-b7eae644b99e",
   "metadata": {},
   "outputs": [],
   "source": [
    "#here in python 0 and 1 are considered as intergers, but not as boolean."
   ]
  },
  {
   "cell_type": "markdown",
   "id": "f2d89738-6eb1-4eea-a62c-b27921742e2f",
   "metadata": {},
   "source": [
    "#Addition od two numbers"
   ]
  },
  {
   "cell_type": "code",
   "execution_count": 7,
   "id": "f34fcc4c-0444-4bf2-a5d7-ace0e8f22b76",
   "metadata": {},
   "outputs": [
    {
     "data": {
      "text/plain": [
       "30"
      ]
     },
     "execution_count": 7,
     "metadata": {},
     "output_type": "execute_result"
    }
   ],
   "source": [
    "num1 = 10\n",
    "num2 = 20\n",
    "result = num1 + num2\n",
    "result"
   ]
  },
  {
   "cell_type": "code",
   "execution_count": 18,
   "id": "2a571c20-20d8-4e75-b211-568e30d70509",
   "metadata": {},
   "outputs": [],
   "source": [
    "# the above operation is static as numbers are assigned there.\n",
    "# but to make the numbers inputs as dynamic and user input then we need to use\n",
    "#user interaction operation\n",
    "#In python, to perform user interaction , we use input fucntions, as input()\n",
    "# input() by defaults considers all the constants as strings"
   ]
  },
  {
   "cell_type": "code",
   "execution_count": 19,
   "id": "eda48535-111a-4925-b8be-7969f8b41f91",
   "metadata": {},
   "outputs": [
    {
     "name": "stdin",
     "output_type": "stream",
     "text": [
      "enter data 10\n"
     ]
    },
    {
     "data": {
      "text/plain": [
       "str"
      ]
     },
     "execution_count": 19,
     "metadata": {},
     "output_type": "execute_result"
    }
   ],
   "source": [
    "a = input(\"enter data\")\n",
    "type(a)"
   ]
  },
  {
   "cell_type": "code",
   "execution_count": 20,
   "id": "4f292c33-35c8-4e41-99f8-8c9654f15655",
   "metadata": {},
   "outputs": [],
   "source": [
    "# eventhough input is interger, but here output is string..str.\n",
    "# so here we need to mention the datatype along with the constant/ data given the function"
   ]
  },
  {
   "cell_type": "code",
   "execution_count": 21,
   "id": "8aad9dd7-0f05-4431-a914-86aabf98ed84",
   "metadata": {},
   "outputs": [],
   "source": [
    "# giving input data dynamicalled to define the dtatype along with the data, we use\n",
    "#typecasting"
   ]
  },
  {
   "cell_type": "markdown",
   "id": "00ec63b1-6592-433c-a577-65ac69370bcd",
   "metadata": {},
   "source": [
    "#Type casting : is the concept of converting variable's datatype from one form to another considering that constant supports the datatype"
   ]
  },
  {
   "cell_type": "code",
   "execution_count": 22,
   "id": "13806ae6-ed23-4be7-a46b-c0e760a1222c",
   "metadata": {},
   "outputs": [
    {
     "data": {
      "text/plain": [
       "int"
      ]
     },
     "execution_count": 22,
     "metadata": {},
     "output_type": "execute_result"
    }
   ],
   "source": [
    "a = 10\n",
    "type(a)"
   ]
  },
  {
   "cell_type": "code",
   "execution_count": 23,
   "id": "1974e473-dd64-4ea8-8cf0-cd600d7ca302",
   "metadata": {},
   "outputs": [
    {
     "data": {
      "text/plain": [
       "str"
      ]
     },
     "execution_count": 23,
     "metadata": {},
     "output_type": "execute_result"
    }
   ],
   "source": [
    "b= str(a)\n",
    "type(b)"
   ]
  },
  {
   "cell_type": "markdown",
   "id": "b7776e0d-750d-4be9-8e9e-4aaf17072cec",
   "metadata": {},
   "source": [
    "#this is called type casting, here data should support that datatype"
   ]
  },
  {
   "cell_type": "code",
   "execution_count": 24,
   "id": "23692282-941c-47bd-8162-429e3e5e86fd",
   "metadata": {},
   "outputs": [
    {
     "ename": "ValueError",
     "evalue": "invalid literal for int() with base 10: ' Aravind'",
     "output_type": "error",
     "traceback": [
      "\u001b[1;31m---------------------------------------------------------------------------\u001b[0m",
      "\u001b[1;31mValueError\u001b[0m                                Traceback (most recent call last)",
      "\u001b[1;32m<ipython-input-24-74dfb351e89e>\u001b[0m in \u001b[0;36m<module>\u001b[1;34m\u001b[0m\n\u001b[0;32m      1\u001b[0m \u001b[1;31m# another example of type casting is\u001b[0m\u001b[1;33m\u001b[0m\u001b[1;33m\u001b[0m\u001b[1;33m\u001b[0m\u001b[0m\n\u001b[0;32m      2\u001b[0m \u001b[0mx\u001b[0m \u001b[1;33m=\u001b[0m \u001b[1;34m\" Aravind\"\u001b[0m\u001b[1;33m\u001b[0m\u001b[1;33m\u001b[0m\u001b[0m\n\u001b[1;32m----> 3\u001b[1;33m \u001b[0my\u001b[0m \u001b[1;33m=\u001b[0m \u001b[0mint\u001b[0m\u001b[1;33m(\u001b[0m\u001b[0mx\u001b[0m\u001b[1;33m)\u001b[0m\u001b[1;33m\u001b[0m\u001b[1;33m\u001b[0m\u001b[0m\n\u001b[0m",
      "\u001b[1;31mValueError\u001b[0m: invalid literal for int() with base 10: ' Aravind'"
     ]
    }
   ],
   "source": [
    "# another example of type casting is \n",
    "x = \" Aravind\"\n",
    "y = int(x)"
   ]
  },
  {
   "cell_type": "markdown",
   "id": "67273d13-9882-4e0a-aa9f-682f53174652",
   "metadata": {},
   "source": [
    "#here input is string, and can not support the datatype as int"
   ]
  },
  {
   "cell_type": "markdown",
   "id": "c496877d-f837-434f-8f01-5ef339bbdee6",
   "metadata": {},
   "source": [
    "# value error means data type mismatch error"
   ]
  },
  {
   "cell_type": "code",
   "execution_count": 26,
   "id": "fef43254-dcba-4657-b79d-5cc3bfc0e2ff",
   "metadata": {},
   "outputs": [
    {
     "name": "stdin",
     "output_type": "stream",
     "text": [
      " enter first number: 2\n",
      "enter sencond number: 3\n"
     ]
    },
    {
     "data": {
      "text/plain": [
       "'23'"
      ]
     },
     "execution_count": 26,
     "metadata": {},
     "output_type": "execute_result"
    }
   ],
   "source": [
    "# additional two numbers using user interaction\n",
    "num1 = input(\" enter first number:\")\n",
    "num2 = input(\"enter sencond number:\")\n",
    "result = num1 + num2\n",
    "result"
   ]
  },
  {
   "cell_type": "markdown",
   "id": "4aa706e7-1850-4200-a8f7-6919cbc10beb",
   "metadata": {},
   "source": [
    "if you observe the above example, input data will consider all the data/constant as strings as mentioned above."
   ]
  },
  {
   "cell_type": "code",
   "execution_count": 27,
   "id": "34e3dd96-b2a1-4a3e-8194-f2c1eed40c13",
   "metadata": {},
   "outputs": [
    {
     "name": "stdin",
     "output_type": "stream",
     "text": [
      "Enter 1st Number: 12\n",
      "Enter 2nd Number: 24\n"
     ]
    },
    {
     "name": "stdout",
     "output_type": "stream",
     "text": [
      "36\n"
     ]
    }
   ],
   "source": [
    "# so we need to define the datatype that support the data\n",
    "n1 = int(input(\"Enter 1st Number:\"))\n",
    "n2 = int(input(\"Enter 2nd Number:\"))\n",
    "result = n1 + n2\n",
    "print(result)"
   ]
  },
  {
   "cell_type": "markdown",
   "id": "22e823ef-0ddb-454e-9ef4-7bf2cec86850",
   "metadata": {},
   "source": [
    "Now understood that numbers are read as integers and done the addition well"
   ]
  },
  {
   "cell_type": "code",
   "execution_count": 31,
   "id": "4621b58e-1adc-448a-8e15-a30e849e3025",
   "metadata": {},
   "outputs": [
    {
     "name": "stdout",
     "output_type": "stream",
     "text": [
      "Addition of 12 and 24 is 36\n"
     ]
    }
   ],
   "source": [
    "# print the results in meaningful way, should be given order of left to right\n",
    "print(\"Addition of {} and {} is {}\".format(n1,n2,result))"
   ]
  },
  {
   "cell_type": "markdown",
   "id": "39ced07d-c637-4e6a-ae9a-737bb6cf0b29",
   "metadata": {},
   "source": [
    "# understand the . format and {} works well"
   ]
  },
  {
   "cell_type": "code",
   "execution_count": 33,
   "id": "a2857220-8ca1-4617-9a5c-426dcbf5bc05",
   "metadata": {},
   "outputs": [
    {
     "name": "stdin",
     "output_type": "stream",
     "text": [
      "Enter 1st Number: a\n"
     ]
    },
    {
     "ename": "ValueError",
     "evalue": "invalid literal for int() with base 10: 'a'",
     "output_type": "error",
     "traceback": [
      "\u001b[1;31m---------------------------------------------------------------------------\u001b[0m",
      "\u001b[1;31mValueError\u001b[0m                                Traceback (most recent call last)",
      "\u001b[1;32m<ipython-input-33-84d44967e8bb>\u001b[0m in \u001b[0;36m<module>\u001b[1;34m\u001b[0m\n\u001b[1;32m----> 1\u001b[1;33m \u001b[0mn1\u001b[0m \u001b[1;33m=\u001b[0m \u001b[0mint\u001b[0m\u001b[1;33m(\u001b[0m\u001b[0minput\u001b[0m\u001b[1;33m(\u001b[0m\u001b[1;34m\"Enter 1st Number:\"\u001b[0m\u001b[1;33m)\u001b[0m\u001b[1;33m)\u001b[0m\u001b[1;33m\u001b[0m\u001b[1;33m\u001b[0m\u001b[0m\n\u001b[0m\u001b[0;32m      2\u001b[0m \u001b[0mn2\u001b[0m \u001b[1;33m=\u001b[0m \u001b[0mint\u001b[0m\u001b[1;33m(\u001b[0m\u001b[0minput\u001b[0m\u001b[1;33m(\u001b[0m\u001b[1;34m\"Enter 2nd Number:\"\u001b[0m\u001b[1;33m)\u001b[0m\u001b[1;33m)\u001b[0m\u001b[1;33m\u001b[0m\u001b[1;33m\u001b[0m\u001b[0m\n\u001b[0;32m      3\u001b[0m \u001b[0mresult\u001b[0m \u001b[1;33m=\u001b[0m \u001b[0mn1\u001b[0m \u001b[1;33m+\u001b[0m \u001b[0mn2\u001b[0m\u001b[1;33m\u001b[0m\u001b[1;33m\u001b[0m\u001b[0m\n\u001b[0;32m      4\u001b[0m \u001b[0mprint\u001b[0m\u001b[1;33m(\u001b[0m\u001b[1;34m\"Addition of {} and {} is {}\"\u001b[0m\u001b[1;33m.\u001b[0m\u001b[0mformat\u001b[0m\u001b[1;33m(\u001b[0m\u001b[0mn1\u001b[0m\u001b[1;33m,\u001b[0m\u001b[0mn2\u001b[0m\u001b[1;33m,\u001b[0m\u001b[0mresult\u001b[0m\u001b[1;33m)\u001b[0m\u001b[1;33m)\u001b[0m\u001b[1;33m\u001b[0m\u001b[1;33m\u001b[0m\u001b[0m\n",
      "\u001b[1;31mValueError\u001b[0m: invalid literal for int() with base 10: 'a'"
     ]
    }
   ],
   "source": [
    "n1 = int(input(\"Enter 1st Number:\"))\n",
    "n2 = int(input(\"Enter 2nd Number:\"))\n",
    "result = n1 + n2\n",
    "print(\"Addition of {} and {} is {}\".format(n1,n2,result))"
   ]
  },
  {
   "cell_type": "markdown",
   "id": "8f01bce1-4ab4-4355-9331-9a23d1894cbd",
   "metadata": {},
   "source": [
    " -----> helps to understand the error where it is gone wrong, and need to intrepet the error, The above error can be understood by prgrammer,, but how to understand this error by user, there are concepts to customise the errors to understand by users and pretty way."
   ]
  },
  {
   "cell_type": "code",
   "execution_count": 36,
   "id": "27ae19ee-fa2f-4441-9e60-30ed8ff0e824",
   "metadata": {},
   "outputs": [
    {
     "name": "stdin",
     "output_type": "stream",
     "text": [
      "Enter 1st number: a\n"
     ]
    },
    {
     "name": "stdout",
     "output_type": "stream",
     "text": [
      "Please Enter numbers only\n"
     ]
    }
   ],
   "source": [
    "# Handling of errors/exceptions\n",
    "# try/exception block helps to customise the errors to understand the errors by Users.\n",
    "# in C language \n",
    "# try\n",
    "#{\n",
    "#\n",
    "#}\n",
    "# but in python as follows (uses , try:) and check indentation also folloes try:\n",
    "try:\n",
    "    n1 = int(input(\"Enter 1st number:\"))\n",
    "    n2 = int(input(\"Enter 2nd number:\"))\n",
    "    result = n1 + n2\n",
    "    print(\"Addition of {} and {} is {}\".format(n1,n2,result))\n",
    "except:\n",
    "    print(\"Please Enter numbers only\")   "
   ]
  },
  {
   "cell_type": "markdown",
   "id": "f9ce5fb8-2090-49ba-bea2-9b11f4316240",
   "metadata": {},
   "source": [
    " the above error discription is customised to understand user in friendly manner"
   ]
  },
  {
   "cell_type": "markdown",
   "id": "03b57d86-c38c-4500-99ed-2f360cd01a6f",
   "metadata": {},
   "source": [
    "# NUMERICAL OPERATIONS IN PYTHON"
   ]
  },
  {
   "cell_type": "code",
   "execution_count": 39,
   "id": "479a4150-e414-4655-86e1-add6f0fa3fc1",
   "metadata": {},
   "outputs": [],
   "source": [
    "# Addition +\n",
    "# substraction -\n",
    "# multiplication *\n",
    "# Division / (output result is quoetient)\n",
    "# Modulus % (output result is Remainder)\n",
    "# Indices (rise too) ** (Power operation)"
   ]
  },
  {
   "cell_type": "code",
   "execution_count": 40,
   "id": "8c47f146-de5b-4939-bc34-fee7cb8505c7",
   "metadata": {},
   "outputs": [
    {
     "data": {
      "text/plain": [
       "4"
      ]
     },
     "execution_count": 40,
     "metadata": {},
     "output_type": "execute_result"
    }
   ],
   "source": [
    "x = 2\n",
    "x**2"
   ]
  },
  {
   "cell_type": "code",
   "execution_count": 41,
   "id": "d8d3493a-b588-4a32-9cfc-2d659b9855ce",
   "metadata": {},
   "outputs": [
    {
     "data": {
      "text/plain": [
       "5.0"
      ]
     },
     "execution_count": 41,
     "metadata": {},
     "output_type": "execute_result"
    }
   ],
   "source": [
    "10/2"
   ]
  },
  {
   "cell_type": "markdown",
   "id": "88a139fa-c1e2-4359-a3fa-a34e463d4306",
   "metadata": {},
   "source": [
    "the output of division is always float because CPU always tries to give precision values so here decimals helps to get the precision results"
   ]
  },
  {
   "cell_type": "code",
   "execution_count": 43,
   "id": "78198911-99b0-4f7f-a69e-e5cde4744e01",
   "metadata": {},
   "outputs": [
    {
     "data": {
      "text/plain": [
       "5"
      ]
     },
     "execution_count": 43,
     "metadata": {},
     "output_type": "execute_result"
    }
   ],
   "source": [
    "# to make out of division as int value then use //\n",
    "10//2"
   ]
  },
  {
   "cell_type": "code",
   "execution_count": 44,
   "id": "c9387bb7-0713-4a5a-86a5-3c36f8fb6e93",
   "metadata": {},
   "outputs": [
    {
     "data": {
      "text/plain": [
       "5"
      ]
     },
     "execution_count": 44,
     "metadata": {},
     "output_type": "execute_result"
    }
   ],
   "source": [
    "11//2"
   ]
  },
  {
   "cell_type": "code",
   "execution_count": null,
   "id": "c037d5dd-f06a-4fef-b85c-183fb0e6f56d",
   "metadata": {},
   "outputs": [],
   "source": []
  }
 ],
 "metadata": {
  "kernelspec": {
   "display_name": "Python 3",
   "language": "python",
   "name": "python3"
  },
  "language_info": {
   "codemirror_mode": {
    "name": "ipython",
    "version": 3
   },
   "file_extension": ".py",
   "mimetype": "text/x-python",
   "name": "python",
   "nbconvert_exporter": "python",
   "pygments_lexer": "ipython3",
   "version": "3.8.8"
  }
 },
 "nbformat": 4,
 "nbformat_minor": 5
}
