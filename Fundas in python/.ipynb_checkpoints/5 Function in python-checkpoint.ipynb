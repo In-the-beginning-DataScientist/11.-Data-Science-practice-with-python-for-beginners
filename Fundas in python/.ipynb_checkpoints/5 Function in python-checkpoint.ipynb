{
 "cells": [
  {
   "cell_type": "markdown",
   "id": "8a8fbfb1-cba1-4750-b793-97af119299af",
   "metadata": {},
   "source": [
    "# what is fucntion\n",
    "## Functions are reusable codes\n",
    "## there are two types of functions\n",
    "## 1. Predefined function : which are already provided by programming language which are built in.\n",
    "## eg. input(), int(), float(), len(), range()...etc\n",
    "## 2. User-defined functions : customised functions by users"
   ]
  },
  {
   "cell_type": "code",
   "execution_count": 1,
   "id": "bcbca4d3-15ae-4b1b-83f8-85f14da01e01",
   "metadata": {},
   "outputs": [
    {
     "data": {
      "text/plain": [
       "'\\nmulti-line commands\\n\\n'"
      ]
     },
     "execution_count": 1,
     "metadata": {},
     "output_type": "execute_result"
    }
   ],
   "source": [
    "# SYNTAX FOR CREATING FUNCTIONS\n",
    "'''\n",
    "multi-line commands\n",
    "\n",
    "'''\n",
    "# 3 lines on top and bottom represents , in between multiline commands are there"
   ]
  },
  {
   "cell_type": "code",
   "execution_count": 2,
   "id": "932aa473-936d-4183-b38c-c904b9ca8ad7",
   "metadata": {},
   "outputs": [
    {
     "data": {
      "text/plain": [
       "'\\ndef functionName(parameters):\\n    functionLogic\\n\\n'"
      ]
     },
     "execution_count": 2,
     "metadata": {},
     "output_type": "execute_result"
    }
   ],
   "source": [
    "# to create a function , we use a keyword called def (define)\n",
    "'''\n",
    "def functionName(parameters):\n",
    "    functionLogic\n",
    "\n",
    "'''"
   ]
  },
  {
   "cell_type": "code",
   "execution_count": 3,
   "id": "e97ebc0f-490b-4052-9956-747aa6639095",
   "metadata": {},
   "outputs": [
    {
     "data": {
      "text/plain": [
       "'\\n'"
      ]
     },
     "execution_count": 3,
     "metadata": {},
     "output_type": "execute_result"
    }
   ],
   "source": [
    "# the above codes are executed because of multi quotes\n",
    "# for multiline codes uses\n",
    "'''\n",
    "'''"
   ]
  },
  {
   "cell_type": "code",
   "execution_count": 4,
   "id": "4780394a-0cbf-4f9a-85cb-5e506c1e133d",
   "metadata": {},
   "outputs": [],
   "source": [
    "# Function must perform something..\n",
    "# function will do two things\n",
    "# 1. it should perform some taks (e.g print something)\n",
    "# 2. it should return a value (i.e, constant/object)"
   ]
  },
  {
   "cell_type": "code",
   "execution_count": 5,
   "id": "62c617bc-5eb2-48bf-85ea-a39c6a06ca04",
   "metadata": {},
   "outputs": [],
   "source": [
    "# Perform task example by function\n",
    "def greetMe(name):\n",
    "    print(\"Hello\",name)"
   ]
  },
  {
   "cell_type": "code",
   "execution_count": 7,
   "id": "4f2ab65b-2ba8-4cc5-8bcf-e1459f04aec6",
   "metadata": {},
   "outputs": [
    {
     "name": "stdout",
     "output_type": "stream",
     "text": [
      "Hello Aravind\n"
     ]
    }
   ],
   "source": [
    "greetMe(\"Aravind\")"
   ]
  },
  {
   "cell_type": "code",
   "execution_count": 8,
   "id": "95a17cf7-cc7f-48b2-9f57-cf1480624eaf",
   "metadata": {},
   "outputs": [],
   "source": [
    "def greetMe(name):\n",
    "    print(\"Hello\".format(name))"
   ]
  },
  {
   "cell_type": "code",
   "execution_count": 9,
   "id": "20e52e24-4000-4e70-b709-abc9efa0b9dc",
   "metadata": {},
   "outputs": [
    {
     "name": "stdout",
     "output_type": "stream",
     "text": [
      "Hello\n"
     ]
    }
   ],
   "source": [
    "greetMe(\"Dave\")"
   ]
  },
  {
   "cell_type": "code",
   "execution_count": 14,
   "id": "538997f4-026f-426a-8511-80dc4dde3e82",
   "metadata": {},
   "outputs": [],
   "source": [
    "# Return value/constant/object\n",
    "def add(num1,num2):\n",
    "    result = num1 + num2\n",
    "    return result"
   ]
  },
  {
   "cell_type": "code",
   "execution_count": 15,
   "id": "10949e2f-716b-4541-bb73-546d415c4b99",
   "metadata": {},
   "outputs": [
    {
     "data": {
      "text/plain": [
       "13"
      ]
     },
     "execution_count": 15,
     "metadata": {},
     "output_type": "execute_result"
    }
   ],
   "source": [
    "add(5,8)"
   ]
  },
  {
   "cell_type": "code",
   "execution_count": 16,
   "id": "7bbd87dc-2691-4607-abd4-7e0e6e9b48d1",
   "metadata": {},
   "outputs": [],
   "source": [
    "def add(n1,n2):\n",
    "    return n1+n2"
   ]
  },
  {
   "cell_type": "code",
   "execution_count": 17,
   "id": "f08c5e57-e7e2-48f5-8dc9-c2eb1f3331ef",
   "metadata": {},
   "outputs": [
    {
     "data": {
      "text/plain": [
       "11"
      ]
     },
     "execution_count": 17,
     "metadata": {},
     "output_type": "execute_result"
    }
   ],
   "source": [
    "add(4,7)"
   ]
  },
  {
   "cell_type": "code",
   "execution_count": 18,
   "id": "bc19832b-69ef-4f2c-8a60-f7b219f0e5c4",
   "metadata": {},
   "outputs": [
    {
     "ename": "TypeError",
     "evalue": "add() missing 2 required positional arguments: 'n1' and 'n2'",
     "output_type": "error",
     "traceback": [
      "\u001b[1;31m---------------------------------------------------------------------------\u001b[0m",
      "\u001b[1;31mTypeError\u001b[0m                                 Traceback (most recent call last)",
      "\u001b[1;32m<ipython-input-18-4bf77ae806ac>\u001b[0m in \u001b[0;36m<module>\u001b[1;34m\u001b[0m\n\u001b[0;32m      1\u001b[0m \u001b[1;31m# in the above example\u001b[0m\u001b[1;33m\u001b[0m\u001b[1;33m\u001b[0m\u001b[1;33m\u001b[0m\u001b[0m\n\u001b[1;32m----> 2\u001b[1;33m \u001b[0madd\u001b[0m\u001b[1;33m(\u001b[0m\u001b[1;33m)\u001b[0m\u001b[1;33m\u001b[0m\u001b[1;33m\u001b[0m\u001b[0m\n\u001b[0m",
      "\u001b[1;31mTypeError\u001b[0m: add() missing 2 required positional arguments: 'n1' and 'n2'"
     ]
    }
   ],
   "source": [
    "# in the above example\n",
    "add()"
   ]
  },
  {
   "cell_type": "markdown",
   "id": "6e880868-454e-4300-9f2d-29cec1faaff2",
   "metadata": {},
   "source": [
    "### here 2 values must be given\n",
    "#### but here we can give default value , suchaway that default values will be taken if input data is not given"
   ]
  },
  {
   "cell_type": "code",
   "execution_count": 20,
   "id": "553561aa-d74f-4e63-884e-c1a8c5a34778",
   "metadata": {},
   "outputs": [],
   "source": [
    "def add1(n1=0, n2=0):\n",
    "    return n1+n2"
   ]
  },
  {
   "cell_type": "code",
   "execution_count": 21,
   "id": "53c1447e-9789-4bfd-b478-9b0a9740573c",
   "metadata": {},
   "outputs": [
    {
     "data": {
      "text/plain": [
       "0"
      ]
     },
     "execution_count": 21,
     "metadata": {},
     "output_type": "execute_result"
    }
   ],
   "source": [
    "add1()"
   ]
  },
  {
   "cell_type": "code",
   "execution_count": 22,
   "id": "9ffb4362-73de-4f90-8305-939f0f1fadc9",
   "metadata": {},
   "outputs": [
    {
     "data": {
      "text/plain": [
       "9"
      ]
     },
     "execution_count": 22,
     "metadata": {},
     "output_type": "execute_result"
    }
   ],
   "source": [
    "add1(4,5)"
   ]
  },
  {
   "cell_type": "code",
   "execution_count": 23,
   "id": "e9d45bd9-098a-450a-a51a-b65aca0339fc",
   "metadata": {},
   "outputs": [
    {
     "data": {
      "text/plain": [
       "6"
      ]
     },
     "execution_count": 23,
     "metadata": {},
     "output_type": "execute_result"
    }
   ],
   "source": [
    "add1(6)"
   ]
  },
  {
   "cell_type": "code",
   "execution_count": 24,
   "id": "64861e74-ddac-430b-91b9-bffbea1e86c9",
   "metadata": {},
   "outputs": [],
   "source": [
    "def add1(n1=1, n2=0):\n",
    "    return n1+n2"
   ]
  },
  {
   "cell_type": "code",
   "execution_count": 25,
   "id": "8a0cd24c-fc69-416f-acfe-01e5508ecc7e",
   "metadata": {},
   "outputs": [
    {
     "data": {
      "text/plain": [
       "1"
      ]
     },
     "execution_count": 25,
     "metadata": {},
     "output_type": "execute_result"
    }
   ],
   "source": [
    "add1()"
   ]
  },
  {
   "cell_type": "code",
   "execution_count": 26,
   "id": "fa8c6e04-b847-4e49-adeb-ef7d4f8f7fcf",
   "metadata": {},
   "outputs": [
    {
     "data": {
      "text/plain": [
       "8"
      ]
     },
     "execution_count": 26,
     "metadata": {},
     "output_type": "execute_result"
    }
   ],
   "source": [
    "add1(n2=7)"
   ]
  },
  {
   "cell_type": "code",
   "execution_count": 29,
   "id": "74b8a04a-aaeb-4efc-829d-2bfa13630436",
   "metadata": {},
   "outputs": [
    {
     "data": {
      "text/plain": [
       "\u001b[1;31mSignature:\u001b[0m \u001b[0minput\u001b[0m\u001b[1;33m(\u001b[0m\u001b[0mprompt\u001b[0m\u001b[1;33m=\u001b[0m\u001b[1;34m''\u001b[0m\u001b[1;33m)\u001b[0m\u001b[1;33m\u001b[0m\u001b[1;33m\u001b[0m\u001b[0m\n",
       "\u001b[1;31mDocstring:\u001b[0m\n",
       "Forward raw_input to frontends\n",
       "\n",
       "Raises\n",
       "------\n",
       "StdinNotImplentedError if active frontend doesn't support stdin.\n",
       "\u001b[1;31mFile:\u001b[0m      c:\\users\\davea\\anaconda3\\lib\\site-packages\\ipykernel\\kernelbase.py\n",
       "\u001b[1;31mType:\u001b[0m      method\n"
      ]
     },
     "metadata": {},
     "output_type": "display_data"
    }
   ],
   "source": [
    "# if you any doubt about documentation of fucntions...\n",
    "# question marks will help\n",
    "?input"
   ]
  },
  {
   "cell_type": "code",
   "execution_count": 30,
   "id": "7224811e-9370-4b08-969e-bcbdc99fc7ac",
   "metadata": {},
   "outputs": [
    {
     "data": {
      "text/plain": [
       "\u001b[1;31mInit signature:\u001b[0m \u001b[0mrange\u001b[0m\u001b[1;33m(\u001b[0m\u001b[0mself\u001b[0m\u001b[1;33m,\u001b[0m \u001b[1;33m/\u001b[0m\u001b[1;33m,\u001b[0m \u001b[1;33m*\u001b[0m\u001b[0margs\u001b[0m\u001b[1;33m,\u001b[0m \u001b[1;33m**\u001b[0m\u001b[0mkwargs\u001b[0m\u001b[1;33m)\u001b[0m\u001b[1;33m\u001b[0m\u001b[1;33m\u001b[0m\u001b[0m\n",
       "\u001b[1;31mDocstring:\u001b[0m     \n",
       "range(stop) -> range object\n",
       "range(start, stop[, step]) -> range object\n",
       "\n",
       "Return an object that produces a sequence of integers from start (inclusive)\n",
       "to stop (exclusive) by step.  range(i, j) produces i, i+1, i+2, ..., j-1.\n",
       "start defaults to 0, and stop is omitted!  range(4) produces 0, 1, 2, 3.\n",
       "These are exactly the valid indices for a list of 4 elements.\n",
       "When step is given, it specifies the increment (or decrement).\n",
       "\u001b[1;31mType:\u001b[0m           type\n",
       "\u001b[1;31mSubclasses:\u001b[0m     \n"
      ]
     },
     "metadata": {},
     "output_type": "display_data"
    }
   ],
   "source": [
    "?range"
   ]
  },
  {
   "cell_type": "code",
   "execution_count": 31,
   "id": "c9d6091a-cc1f-4fad-afb6-b2da23004450",
   "metadata": {},
   "outputs": [
    {
     "data": {
      "text/plain": [
       "\u001b[1;31mInit signature:\u001b[0m \u001b[0mlist\u001b[0m\u001b[1;33m(\u001b[0m\u001b[0miterable\u001b[0m\u001b[1;33m=\u001b[0m\u001b[1;33m(\u001b[0m\u001b[1;33m)\u001b[0m\u001b[1;33m,\u001b[0m \u001b[1;33m/\u001b[0m\u001b[1;33m)\u001b[0m\u001b[1;33m\u001b[0m\u001b[1;33m\u001b[0m\u001b[0m\n",
       "\u001b[1;31mDocstring:\u001b[0m     \n",
       "Built-in mutable sequence.\n",
       "\n",
       "If no argument is given, the constructor creates a new empty list.\n",
       "The argument must be an iterable if specified.\n",
       "\u001b[1;31mType:\u001b[0m           type\n",
       "\u001b[1;31mSubclasses:\u001b[0m     _HashedSeq, StackSummary, DeferredConfigList, SList, _ImmutableLineList, FormattedText, NodeList, _ExplodedList, Stack, _Accumulator, ...\n"
      ]
     },
     "metadata": {},
     "output_type": "display_data"
    }
   ],
   "source": [
    "?list"
   ]
  },
  {
   "cell_type": "code",
   "execution_count": 32,
   "id": "087b930b-5426-40d3-8ac3-2b76e962e5b1",
   "metadata": {},
   "outputs": [
    {
     "data": {
      "text/plain": [
       "\u001b[1;31mInit signature:\u001b[0m \u001b[0mset\u001b[0m\u001b[1;33m(\u001b[0m\u001b[0mself\u001b[0m\u001b[1;33m,\u001b[0m \u001b[1;33m/\u001b[0m\u001b[1;33m,\u001b[0m \u001b[1;33m*\u001b[0m\u001b[0margs\u001b[0m\u001b[1;33m,\u001b[0m \u001b[1;33m**\u001b[0m\u001b[0mkwargs\u001b[0m\u001b[1;33m)\u001b[0m\u001b[1;33m\u001b[0m\u001b[1;33m\u001b[0m\u001b[0m\n",
       "\u001b[1;31mDocstring:\u001b[0m     \n",
       "set() -> new empty set object\n",
       "set(iterable) -> new set object\n",
       "\n",
       "Build an unordered collection of unique elements.\n",
       "\u001b[1;31mType:\u001b[0m           type\n",
       "\u001b[1;31mSubclasses:\u001b[0m     \n"
      ]
     },
     "metadata": {},
     "output_type": "display_data"
    }
   ],
   "source": [
    "?set"
   ]
  },
  {
   "cell_type": "code",
   "execution_count": 33,
   "id": "16082feb-4851-401f-834d-efc93ca69818",
   "metadata": {},
   "outputs": [
    {
     "data": {
      "text/plain": [
       "\u001b[1;31mSignature:\u001b[0m \u001b[0madd1\u001b[0m\u001b[1;33m(\u001b[0m\u001b[0mn1\u001b[0m\u001b[1;33m=\u001b[0m\u001b[1;36m1\u001b[0m\u001b[1;33m,\u001b[0m \u001b[0mn2\u001b[0m\u001b[1;33m=\u001b[0m\u001b[1;36m0\u001b[0m\u001b[1;33m)\u001b[0m\u001b[1;33m\u001b[0m\u001b[1;33m\u001b[0m\u001b[0m\n",
       "\u001b[1;31mDocstring:\u001b[0m <no docstring>\n",
       "\u001b[1;31mFile:\u001b[0m      c:\\users\\davea\\data science\\<ipython-input-24-aafeac42d0b9>\n",
       "\u001b[1;31mType:\u001b[0m      function\n"
      ]
     },
     "metadata": {},
     "output_type": "display_data"
    }
   ],
   "source": [
    "# all default functions will have documentation\n",
    "# so if you create a function, you shoube created a documentation for your function.\n",
    "?add1"
   ]
  },
  {
   "cell_type": "code",
   "execution_count": 34,
   "id": "d6d4ed9e-ed3f-440d-a123-b9a6d8407a6d",
   "metadata": {},
   "outputs": [],
   "source": [
    "# documentation is not created for yur function creadted by you is add, add1..\n",
    "# so multiline coding concept will help us to generate documentation of the uderfined function."
   ]
  },
  {
   "cell_type": "code",
   "execution_count": 38,
   "id": "0adf27cc-7537-4d56-9a9a-6494af0cdd73",
   "metadata": {},
   "outputs": [],
   "source": [
    "# to create documentation for my function\n",
    "def add2(num1,num2):\n",
    "    '''\n",
    "    Author : Dave Aravind :) \n",
    "    add2 function is used to add two numbers;\n",
    "    usage: add(num1,num2) where num1 and num2 can hold the numbers;\n",
    "    Return datatype : depends upon input datatype\n",
    "    Exanple: add2(3,4) returns 7\n",
    "    \n",
    "    '''\n",
    "    return num1 + num2"
   ]
  },
  {
   "cell_type": "code",
   "execution_count": 39,
   "id": "87eba2e7-e1d6-4316-b044-c9c9cbe0f61b",
   "metadata": {},
   "outputs": [
    {
     "data": {
      "text/plain": [
       "7"
      ]
     },
     "execution_count": 39,
     "metadata": {},
     "output_type": "execute_result"
    }
   ],
   "source": [
    "add2(3,4)"
   ]
  },
  {
   "cell_type": "code",
   "execution_count": 40,
   "id": "d457c89e-2e40-43fd-93d8-485449ff9629",
   "metadata": {},
   "outputs": [
    {
     "data": {
      "text/plain": [
       "\u001b[1;31mSignature:\u001b[0m \u001b[0madd2\u001b[0m\u001b[1;33m(\u001b[0m\u001b[0mnum1\u001b[0m\u001b[1;33m,\u001b[0m \u001b[0mnum2\u001b[0m\u001b[1;33m)\u001b[0m\u001b[1;33m\u001b[0m\u001b[1;33m\u001b[0m\u001b[0m\n",
       "\u001b[1;31mDocstring:\u001b[0m\n",
       "Author : Dave Aravind :) \n",
       "add2 function is used to add two numbers;\n",
       "usage: add(num1,num2) where num1 and num2 can hold the numbers;\n",
       "Return datatype : depends upon input datatype\n",
       "Exanple: add2(3,4) returns 7\n",
       "\u001b[1;31mFile:\u001b[0m      c:\\users\\davea\\data science\\<ipython-input-38-bda573491f4f>\n",
       "\u001b[1;31mType:\u001b[0m      function\n"
      ]
     },
     "metadata": {},
     "output_type": "display_data"
    }
   ],
   "source": [
    "?add2"
   ]
  },
  {
   "cell_type": "markdown",
   "id": "f357796d-b9d1-43f2-8d0e-cd22de4ae7b7",
   "metadata": {},
   "source": [
    "### those who want TO BECOME python developers , they should follow PEP 8 STANDARDS"
   ]
  },
  {
   "cell_type": "markdown",
   "id": "1cf330ad-795d-4cfd-9e09-196f3f36afc9",
   "metadata": {},
   "source": [
    "#### CHECK FOR PEP Standards for python\n",
    "### PEP 8 Standards"
   ]
  },
  {
   "cell_type": "markdown",
   "id": "51b2f258-d4d7-43c7-8965-bf333c7b0b01",
   "metadata": {},
   "source": [
    "### for python developers"
   ]
  },
  {
   "cell_type": "code",
   "execution_count": null,
   "id": "517ad877-537f-42d1-8206-feeda09330a3",
   "metadata": {},
   "outputs": [],
   "source": []
  }
 ],
 "metadata": {
  "kernelspec": {
   "display_name": "Python 3",
   "language": "python",
   "name": "python3"
  },
  "language_info": {
   "codemirror_mode": {
    "name": "ipython",
    "version": 3
   },
   "file_extension": ".py",
   "mimetype": "text/x-python",
   "name": "python",
   "nbconvert_exporter": "python",
   "pygments_lexer": "ipython3",
   "version": "3.8.8"
  }
 },
 "nbformat": 4,
 "nbformat_minor": 5
}
