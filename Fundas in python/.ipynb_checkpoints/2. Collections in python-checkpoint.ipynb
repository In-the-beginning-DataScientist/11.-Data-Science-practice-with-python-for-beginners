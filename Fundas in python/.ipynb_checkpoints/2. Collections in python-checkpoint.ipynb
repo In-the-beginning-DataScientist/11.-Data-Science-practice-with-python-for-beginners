{
 "cells": [
  {
   "cell_type": "code",
   "execution_count": 1,
   "id": "ee82f082-2689-4568-9bfa-d027e2acd515",
   "metadata": {},
   "outputs": [],
   "source": [
    "# Variable"
   ]
  },
  {
   "cell_type": "code",
   "execution_count": 4,
   "id": "b592e74d-aad0-4f9f-a005-f720ddf8d372",
   "metadata": {},
   "outputs": [],
   "source": [
    "# a variable can store only one costant, but if we want to store more than one constant values in a single variable then we use collections\n",
    "a=10"
   ]
  },
  {
   "cell_type": "code",
   "execution_count": 3,
   "id": "d1b69a5c-d14d-4c31-9bd3-920c69c1b4ca",
   "metadata": {},
   "outputs": [],
   "source": [
    "# collections\n",
    "# Collections are those variables who maintain more than one constant vales in a single variable"
   ]
  },
  {
   "cell_type": "markdown",
   "id": "584bfd65-5500-4f70-a64c-50f012f8c864",
   "metadata": {},
   "source": [
    "# Default collections supported by python \n",
    "## 1. Lists\n",
    "## 2. Dictionaries\n",
    "## 3. Tuples\n",
    "## 4. Sets"
   ]
  },
  {
   "cell_type": "markdown",
   "id": "b833db07-0e25-4754-b6ca-3b10b33de126",
   "metadata": {},
   "source": [
    "Lists are so important for analysis than other methods of collections\n",
    "Lists> Dictionaries"
   ]
  },
  {
   "cell_type": "markdown",
   "id": "8279535a-3d8c-4431-ae3f-a4c9aeecf99c",
   "metadata": {},
   "source": [
    "Tuples and sets are very rear to encounter"
   ]
  },
  {
   "cell_type": "markdown",
   "id": "4dfdb91b-3bf2-4978-b9fa-c11adc330ee2",
   "metadata": {},
   "source": [
    "Observation : Numpy arrays are more powerful and less time taking to perform array operations intead of python arrays"
   ]
  },
  {
   "cell_type": "markdown",
   "id": "8652729c-25cf-4d61-8ca5-6e894f834787",
   "metadata": {},
   "source": [
    "# 1. Lists in python"
   ]
  },
  {
   "cell_type": "code",
   "execution_count": 6,
   "id": "bb040cae-6364-42e3-8617-64faaa0cac57",
   "metadata": {},
   "outputs": [],
   "source": [
    "# Creation of list--> use square brackets [] and each constant is seperated by comma (,)\n",
    "# Homogeneous list --> List having same datatype constants\n",
    "variable1 = [1,2,3,4,5,6,7,3,2,5,4,7]"
   ]
  },
  {
   "cell_type": "code",
   "execution_count": 7,
   "id": "c1c94b24-658b-4407-a113-6e1bdf8ae1fc",
   "metadata": {},
   "outputs": [
    {
     "name": "stdout",
     "output_type": "stream",
     "text": [
      "[1, 2, 3, 4, 5, 6, 7, 3, 2, 5, 4, 7]\n"
     ]
    }
   ],
   "source": [
    "print(variable1)"
   ]
  },
  {
   "cell_type": "code",
   "execution_count": 8,
   "id": "50192aba-de5f-468f-bef0-d62cead7bf6b",
   "metadata": {},
   "outputs": [
    {
     "data": {
      "text/plain": [
       "list"
      ]
     },
     "execution_count": 8,
     "metadata": {},
     "output_type": "execute_result"
    }
   ],
   "source": [
    "type(variable1)"
   ]
  },
  {
   "cell_type": "code",
   "execution_count": 9,
   "id": "d14686ae-5c6e-4724-93da-9f581a9bea0f",
   "metadata": {},
   "outputs": [],
   "source": [
    "# list is having collection of objects"
   ]
  },
  {
   "cell_type": "code",
   "execution_count": 12,
   "id": "5b8ba754-67f9-429e-a928-6c27ea9b2d1a",
   "metadata": {},
   "outputs": [
    {
     "ename": "SyntaxError",
     "evalue": "EOL while scanning string literal (<ipython-input-12-da0dfe8fd383>, line 2)",
     "output_type": "error",
     "traceback": [
      "\u001b[1;36m  File \u001b[1;32m\"<ipython-input-12-da0dfe8fd383>\"\u001b[1;36m, line \u001b[1;32m2\u001b[0m\n\u001b[1;33m    variable2 = [a,1,2,3,4.6,'aravind\"]\u001b[0m\n\u001b[1;37m                                       ^\u001b[0m\n\u001b[1;31mSyntaxError\u001b[0m\u001b[1;31m:\u001b[0m EOL while scanning string literal\n"
     ]
    }
   ],
   "source": [
    "# Heterogeneous list --> having different datatypes in a single list\n",
    "variable2 = [a,1,2,3,4.6,'aravind\"]"
   ]
  },
  {
   "cell_type": "code",
   "execution_count": 28,
   "id": "ea566fb3-e7cd-473a-91c7-9e3468a7b2c5",
   "metadata": {},
   "outputs": [
    {
     "ename": "NameError",
     "evalue": "name 'aravind' is not defined",
     "output_type": "error",
     "traceback": [
      "\u001b[1;31m---------------------------------------------------------------------------\u001b[0m",
      "\u001b[1;31mNameError\u001b[0m                                 Traceback (most recent call last)",
      "\u001b[1;32m<ipython-input-28-928d03a7df9c>\u001b[0m in \u001b[0;36m<module>\u001b[1;34m\u001b[0m\n\u001b[1;32m----> 1\u001b[1;33m \u001b[0mvariable2\u001b[0m \u001b[1;33m=\u001b[0m \u001b[1;33m[\u001b[0m\u001b[0ma\u001b[0m\u001b[1;33m,\u001b[0m\u001b[1;36m1\u001b[0m\u001b[1;33m,\u001b[0m\u001b[1;36m2\u001b[0m\u001b[1;33m,\u001b[0m\u001b[1;36m3\u001b[0m\u001b[1;33m,\u001b[0m\u001b[1;36m4.6\u001b[0m\u001b[1;33m,\u001b[0m\u001b[0maravind\u001b[0m\u001b[1;33m]\u001b[0m\u001b[1;33m\u001b[0m\u001b[1;33m\u001b[0m\u001b[0m\n\u001b[0m",
      "\u001b[1;31mNameError\u001b[0m: name 'aravind' is not defined"
     ]
    }
   ],
   "source": [
    "variable2 = [a,1,2,3,4.6,aravind]"
   ]
  },
  {
   "cell_type": "code",
   "execution_count": 29,
   "id": "eb27279a-d385-4517-8aeb-cee32b3fad86",
   "metadata": {},
   "outputs": [],
   "source": [
    "variable2 = ['a',1,2,3,4.6,'aravind', True]"
   ]
  },
  {
   "cell_type": "code",
   "execution_count": 30,
   "id": "eb90fe17-63e0-4c93-bb11-7f23ce0bd691",
   "metadata": {},
   "outputs": [],
   "source": [
    "variable3 = ['a',1,2,3,4.6,\"aravind's surname\", True]"
   ]
  },
  {
   "cell_type": "code",
   "execution_count": 31,
   "id": "82d11101-9e76-4072-ab69-9c06be247c3f",
   "metadata": {},
   "outputs": [],
   "source": [
    "variable4 = ['a',1,2,3,4.6,'aravind', True]"
   ]
  },
  {
   "cell_type": "code",
   "execution_count": 33,
   "id": "e8f05576-9902-48bf-85fa-62d9e5394e9d",
   "metadata": {},
   "outputs": [
    {
     "data": {
      "text/plain": [
       "\"aravind's surname\""
      ]
     },
     "execution_count": 33,
     "metadata": {},
     "output_type": "execute_result"
    }
   ],
   "source": [
    "# Access each element in the list\n",
    "# Indexes of elements always starts with zero[[0],[1],[2].....]\n",
    "variable3[5]"
   ]
  },
  {
   "cell_type": "code",
   "execution_count": 34,
   "id": "5f26393e-09ff-4b69-b14d-e1154fb289fb",
   "metadata": {},
   "outputs": [
    {
     "data": {
      "text/plain": [
       "str"
      ]
     },
     "execution_count": 34,
     "metadata": {},
     "output_type": "execute_result"
    }
   ],
   "source": [
    "type(variable3[5])"
   ]
  },
  {
   "cell_type": "code",
   "execution_count": 35,
   "id": "5161e366-d2d9-449c-9101-7bd9bdbe7cb5",
   "metadata": {},
   "outputs": [
    {
     "data": {
      "text/plain": [
       "True"
      ]
     },
     "execution_count": 35,
     "metadata": {},
     "output_type": "execute_result"
    }
   ],
   "source": [
    "variable3[6]"
   ]
  },
  {
   "cell_type": "code",
   "execution_count": 37,
   "id": "1290774c-b095-4f90-ac3d-63ad7fd0a04e",
   "metadata": {},
   "outputs": [
    {
     "data": {
      "text/plain": [
       "bool"
      ]
     },
     "execution_count": 37,
     "metadata": {},
     "output_type": "execute_result"
    }
   ],
   "source": [
    "type(variable3[6])"
   ]
  },
  {
   "cell_type": "code",
   "execution_count": 38,
   "id": "c2f3cf80-61d1-4893-b095-3bbf3f2194f8",
   "metadata": {},
   "outputs": [
    {
     "data": {
      "text/plain": [
       "2"
      ]
     },
     "execution_count": 38,
     "metadata": {},
     "output_type": "execute_result"
    }
   ],
   "source": [
    "variable3[2]"
   ]
  },
  {
   "cell_type": "code",
   "execution_count": 39,
   "id": "a94ce30a-cceb-46d3-b6ae-db2094688a38",
   "metadata": {},
   "outputs": [
    {
     "data": {
      "text/plain": [
       "int"
      ]
     },
     "execution_count": 39,
     "metadata": {},
     "output_type": "execute_result"
    }
   ],
   "source": [
    "type(variable3[2])"
   ]
  },
  {
   "cell_type": "code",
   "execution_count": 41,
   "id": "3a51ea6f-79e5-4eb5-8155-4391abd5b04d",
   "metadata": {},
   "outputs": [
    {
     "data": {
      "text/plain": [
       "[3, 4.6, \"aravind's surname\"]"
      ]
     },
     "execution_count": 41,
     "metadata": {},
     "output_type": "execute_result"
    }
   ],
   "source": [
    "# accessing the series of data from the list\n",
    "# syntax is variable_name[starting index number : upperbound index number]\n",
    "# upperbound index= end of index number targeted+1\n",
    "#Goal is to exteact subset of list : 3,4.6,'aravind'\n",
    "# here available is ['a',1,2,3,4.6,'aravind', True]\n",
    "# index location is   0  1 2 3  4     5         6\n",
    "#so,\n",
    "variable3[3:6]"
   ]
  },
  {
   "cell_type": "markdown",
   "id": "f32c2f66-8a4d-46dc-8894-3d021dab23ff",
   "metadata": {},
   "source": [
    "# the above concept of collection of subset frothe list is called SLICING"
   ]
  },
  {
   "cell_type": "code",
   "execution_count": 42,
   "id": "f614ca2b-a3d3-4143-8204-33b3604348b2",
   "metadata": {},
   "outputs": [
    {
     "data": {
      "text/plain": [
       "7"
      ]
     },
     "execution_count": 42,
     "metadata": {},
     "output_type": "execute_result"
    }
   ],
   "source": [
    "len(variable3)"
   ]
  },
  {
   "cell_type": "code",
   "execution_count": 43,
   "id": "0f629b7e-0acb-4c46-8da3-b1630e810a71",
   "metadata": {},
   "outputs": [],
   "source": [
    "variable5 = [1.3, True, \"Aravind\", [1,2,3,4,5], \"India\", [\"Bangalore\", \"Hyderabad\"],\"Y\"]"
   ]
  },
  {
   "cell_type": "code",
   "execution_count": 44,
   "id": "9f246f41-b3f8-4bfe-8fc0-b8527a44104c",
   "metadata": {},
   "outputs": [
    {
     "data": {
      "text/plain": [
       "7"
      ]
     },
     "execution_count": 44,
     "metadata": {},
     "output_type": "execute_result"
    }
   ],
   "source": [
    "len(variable5)"
   ]
  },
  {
   "cell_type": "code",
   "execution_count": 45,
   "id": "91631a8a-ac74-40ac-a2b2-85f228374af3",
   "metadata": {},
   "outputs": [
    {
     "data": {
      "text/plain": [
       "['Bangalore', 'Hyderabad']"
      ]
     },
     "execution_count": 45,
     "metadata": {},
     "output_type": "execute_result"
    }
   ],
   "source": [
    "variable5[5]"
   ]
  },
  {
   "cell_type": "code",
   "execution_count": 51,
   "id": "1884bf21-5a1e-4ba7-9474-c42c2f47fd90",
   "metadata": {},
   "outputs": [
    {
     "data": {
      "text/plain": [
       "'Hyderabad'"
      ]
     },
     "execution_count": 51,
     "metadata": {},
     "output_type": "execute_result"
    }
   ],
   "source": [
    "variable5[5][1]"
   ]
  },
  {
   "cell_type": "code",
   "execution_count": 52,
   "id": "dd3d83bf-c572-4dac-b615-cb071e89a975",
   "metadata": {},
   "outputs": [
    {
     "data": {
      "text/plain": [
       "str"
      ]
     },
     "execution_count": 52,
     "metadata": {},
     "output_type": "execute_result"
    }
   ],
   "source": [
    "type(variable5[5][1])"
   ]
  },
  {
   "cell_type": "code",
   "execution_count": 53,
   "id": "19c0abee-14ac-472f-99d7-3b49f4c3c4e8",
   "metadata": {},
   "outputs": [
    {
     "data": {
      "text/plain": [
       "5"
      ]
     },
     "execution_count": 53,
     "metadata": {},
     "output_type": "execute_result"
    }
   ],
   "source": [
    "variable5[3][4]"
   ]
  },
  {
   "cell_type": "code",
   "execution_count": 55,
   "id": "e2982be2-16cb-4a63-bde2-ad8424810cba",
   "metadata": {},
   "outputs": [
    {
     "data": {
      "text/plain": [
       "[2, 3, 4]"
      ]
     },
     "execution_count": 55,
     "metadata": {},
     "output_type": "execute_result"
    }
   ],
   "source": [
    "variable5[3][1:4]"
   ]
  },
  {
   "cell_type": "code",
   "execution_count": 56,
   "id": "7bc18335-570b-401e-bb15-2f486d565532",
   "metadata": {},
   "outputs": [
    {
     "data": {
      "text/plain": [
       "[1.3,\n",
       " True,\n",
       " 'Aravind',\n",
       " [1, 2, 3, 4, 5],\n",
       " 'India',\n",
       " ['Bangalore', 'Hyderabad'],\n",
       " 'Y']"
      ]
     },
     "execution_count": 56,
     "metadata": {},
     "output_type": "execute_result"
    }
   ],
   "source": [
    "variable5"
   ]
  },
  {
   "cell_type": "code",
   "execution_count": 57,
   "id": "343df956-e788-4ded-9f12-b712e2169b60",
   "metadata": {},
   "outputs": [
    {
     "name": "stdout",
     "output_type": "stream",
     "text": [
      "[1.3, True, 'Aravind', [1, 2, 3, 4, 5], 'India', ['Bangalore', 'Hyderabad'], 'Y']\n"
     ]
    }
   ],
   "source": [
    "print(variable5)"
   ]
  },
  {
   "cell_type": "code",
   "execution_count": 58,
   "id": "e3ee3068-074d-4ad0-811b-1aea4357a6fb",
   "metadata": {},
   "outputs": [],
   "source": [
    "#modify element in the list\n",
    "variable5[1] = False"
   ]
  },
  {
   "cell_type": "code",
   "execution_count": 60,
   "id": "566b402d-df42-4278-a001-3d1d4d61349b",
   "metadata": {},
   "outputs": [
    {
     "name": "stdout",
     "output_type": "stream",
     "text": [
      "[1.3, False, 'Aravind', [1, 2, 3, 4, 5], 'India', ['Bangalore', 'Hyderabad'], 'Y']\n"
     ]
    }
   ],
   "source": [
    "print(variable5)"
   ]
  },
  {
   "cell_type": "markdown",
   "id": "8557161d-8009-4332-bbab-52447c51a956",
   "metadata": {},
   "source": [
    "#List is a mutable collection : can be changed"
   ]
  },
  {
   "cell_type": "markdown",
   "id": "d4b7816d-5987-449d-b38d-7792476b17c4",
   "metadata": {},
   "source": [
    "## w3schools.com/python is very good for learning\n",
    "### for fundamentals"
   ]
  },
  {
   "cell_type": "markdown",
   "id": "a4db627c-cf94-413d-b23b-68f81c7c085e",
   "metadata": {},
   "source": [
    "## w3resource.com/python\n",
    "### for assignments with individual concepts"
   ]
  },
  {
   "cell_type": "markdown",
   "id": "3589f0a1-15af-44bb-826a-787c2e55456d",
   "metadata": {},
   "source": [
    "## DICTIONARIES"
   ]
  },
  {
   "cell_type": "code",
   "execution_count": 62,
   "id": "cc313793-5daf-48e7-b4c0-149de9b48232",
   "metadata": {},
   "outputs": [],
   "source": [
    "# helps you maintain your data in the form of key-value pair\n",
    "# Eg. Lookup table and conversion table\n",
    "# Conversion table in the domain area to have key and value pairs in the data...it is not conversion of data based on the formulas like celsius to foreigheit\n",
    "# Postal team is the domain\n",
    "# Banagalore-560001"
   ]
  },
  {
   "cell_type": "markdown",
   "id": "32c195e6-3bad-490e-9ced-3a45202d4d93",
   "metadata": {},
   "source": [
    "### variable names are define in the format of camel case \n",
    "### Camel case is start with small letter and middle word start with capital letter then third word start with capital letter again"
   ]
  },
  {
   "cell_type": "code",
   "execution_count": 66,
   "id": "0f8a68aa-e885-445f-ad24-7d9ada96338e",
   "metadata": {},
   "outputs": [],
   "source": [
    "# To creat dictionar we will use curly brackets {}\n",
    "# Camel case based variable name is state and capital data here\n",
    "stateAndCapitals = {\n",
    "    \"AndhraPradesh\" : \"Kurnool\",\n",
    "    \"Karnataka\" : \"Bangalore\",\n",
    "    \"Tamilnadu\" : \"Chennai\",\n",
    "    \"Kerala\" : \"Tiruchy\"\n",
    "}"
   ]
  },
  {
   "cell_type": "code",
   "execution_count": 67,
   "id": "942a1939-ec1a-4c6f-8244-65403ac47dcb",
   "metadata": {},
   "outputs": [
    {
     "data": {
      "text/plain": [
       "{'AndhraPradesh': 'Kurnool',\n",
       " 'Karnataka': 'Bangalore',\n",
       " 'Tamilnadu': 'Chennai',\n",
       " 'Kerala': 'Tiruchy'}"
      ]
     },
     "execution_count": 67,
     "metadata": {},
     "output_type": "execute_result"
    }
   ],
   "source": [
    "stateAndCapitals"
   ]
  },
  {
   "cell_type": "code",
   "execution_count": 68,
   "id": "7fa8816e-42c4-49d6-bbcf-b82e0bea913c",
   "metadata": {},
   "outputs": [
    {
     "data": {
      "text/plain": [
       "dict"
      ]
     },
     "execution_count": 68,
     "metadata": {},
     "output_type": "execute_result"
    }
   ],
   "source": [
    "type(stateAndCapitals)"
   ]
  },
  {
   "cell_type": "code",
   "execution_count": 74,
   "id": "44717c03-d19b-4510-8401-b47cac0ab1ad",
   "metadata": {},
   "outputs": [
    {
     "data": {
      "text/plain": [
       "'Tiruchy'"
      ]
     },
     "execution_count": 74,
     "metadata": {},
     "output_type": "execute_result"
    }
   ],
   "source": [
    "stateAndCapitals['Kerala']"
   ]
  },
  {
   "cell_type": "code",
   "execution_count": 75,
   "id": "fc862ccb-a3e9-48e7-a1d4-2a60015d468b",
   "metadata": {},
   "outputs": [
    {
     "data": {
      "text/plain": [
       "'Kurnool'"
      ]
     },
     "execution_count": 75,
     "metadata": {},
     "output_type": "execute_result"
    }
   ],
   "source": [
    "stateAndCapitals[\"AndhraPradesh\"]"
   ]
  },
  {
   "cell_type": "code",
   "execution_count": 76,
   "id": "0d922124-55cc-4a47-9490-f6a2e3269075",
   "metadata": {},
   "outputs": [
    {
     "ename": "KeyError",
     "evalue": "'Goa'",
     "output_type": "error",
     "traceback": [
      "\u001b[1;31m---------------------------------------------------------------------------\u001b[0m",
      "\u001b[1;31mKeyError\u001b[0m                                  Traceback (most recent call last)",
      "\u001b[1;32m<ipython-input-76-da1195bee097>\u001b[0m in \u001b[0;36m<module>\u001b[1;34m\u001b[0m\n\u001b[1;32m----> 1\u001b[1;33m \u001b[0mstateAndCapitals\u001b[0m\u001b[1;33m[\u001b[0m\u001b[1;34m\"Goa\"\u001b[0m\u001b[1;33m]\u001b[0m\u001b[1;33m\u001b[0m\u001b[1;33m\u001b[0m\u001b[0m\n\u001b[0m",
      "\u001b[1;31mKeyError\u001b[0m: 'Goa'"
     ]
    }
   ],
   "source": [
    "stateAndCapitals[\"Goa\"]"
   ]
  },
  {
   "cell_type": "code",
   "execution_count": 77,
   "id": "8d68f52b-1fe4-4ad1-b883-c4952073acc6",
   "metadata": {},
   "outputs": [],
   "source": [
    "#Observe the error thst thrown is key error...means key is not available"
   ]
  },
  {
   "cell_type": "code",
   "execution_count": 79,
   "id": "b8cee532-71f6-4cf8-ace9-d08092a3a6b2",
   "metadata": {},
   "outputs": [],
   "source": [
    "# Dictionary is mutable object, as it can be changed , added, deleted and modified"
   ]
  },
  {
   "cell_type": "code",
   "execution_count": 80,
   "id": "90fca6d8-2723-41ce-a95e-0f0cb7a5b7f7",
   "metadata": {},
   "outputs": [],
   "source": [
    "stateAndCapitals[\"Goa\"]=\"Panaji or Panjim\""
   ]
  },
  {
   "cell_type": "code",
   "execution_count": 81,
   "id": "25b3c376-ae0d-445a-b084-287a43edaba3",
   "metadata": {},
   "outputs": [
    {
     "data": {
      "text/plain": [
       "{'AndhraPradesh': 'Kurnool',\n",
       " 'Karnataka': 'Bangalore',\n",
       " 'Tamilnadu': 'Chennai',\n",
       " 'Kerala': 'Tiruchy',\n",
       " 'Goa': 'Panaji or Panjim'}"
      ]
     },
     "execution_count": 81,
     "metadata": {},
     "output_type": "execute_result"
    }
   ],
   "source": [
    "stateAndCapitals"
   ]
  },
  {
   "cell_type": "code",
   "execution_count": 82,
   "id": "ec524bbc-d3c5-46ba-ad8e-8bc021cf312d",
   "metadata": {},
   "outputs": [
    {
     "data": {
      "text/plain": [
       "True"
      ]
     },
     "execution_count": 82,
     "metadata": {},
     "output_type": "execute_result"
    }
   ],
   "source": [
    "# in operator in Dict\n",
    "# syntax is \"Key\" in Dict\n",
    "\"Goa\" in stateAndCapitals"
   ]
  },
  {
   "cell_type": "code",
   "execution_count": 83,
   "id": "391c0c05-1bf6-49dc-9b86-b07708edb9ba",
   "metadata": {},
   "outputs": [
    {
     "data": {
      "text/plain": [
       "False"
      ]
     },
     "execution_count": 83,
     "metadata": {},
     "output_type": "execute_result"
    }
   ],
   "source": [
    "\"Delhi\" in stateAndCapitals"
   ]
  },
  {
   "cell_type": "code",
   "execution_count": 84,
   "id": "e2ddcbbc-8d27-4386-bf86-b663b84de169",
   "metadata": {},
   "outputs": [],
   "source": [
    "# Delect in Dict\n",
    "del stateAndCapitals[\"Goa\"]"
   ]
  },
  {
   "cell_type": "code",
   "execution_count": 85,
   "id": "9c083791-2ccd-4a23-a259-996bf2db22a1",
   "metadata": {},
   "outputs": [
    {
     "data": {
      "text/plain": [
       "{'AndhraPradesh': 'Kurnool',\n",
       " 'Karnataka': 'Bangalore',\n",
       " 'Tamilnadu': 'Chennai',\n",
       " 'Kerala': 'Tiruchy'}"
      ]
     },
     "execution_count": 85,
     "metadata": {},
     "output_type": "execute_result"
    }
   ],
   "source": [
    "stateAndCapitals"
   ]
  },
  {
   "cell_type": "markdown",
   "id": "31361c79-6079-4c43-8033-ba64d2a9053d",
   "metadata": {},
   "source": [
    "# Tuples"
   ]
  },
  {
   "cell_type": "code",
   "execution_count": 87,
   "id": "f37717b8-0781-49a5-806d-f5df18245b5f",
   "metadata": {},
   "outputs": [
    {
     "data": {
      "text/plain": [
       "(1, 4, 6, 7, 9)"
      ]
     },
     "execution_count": 87,
     "metadata": {},
     "output_type": "execute_result"
    }
   ],
   "source": [
    "# tuples are immutable collections \n",
    "# tuple = ()\n",
    "\n",
    "tuple1 = (1,4,6,7,9)\n",
    "tuple1"
   ]
  },
  {
   "cell_type": "code",
   "execution_count": 89,
   "id": "7c0e65e1-193b-4379-98b4-2bc364362f47",
   "metadata": {},
   "outputs": [
    {
     "data": {
      "text/plain": [
       "tuple"
      ]
     },
     "execution_count": 89,
     "metadata": {},
     "output_type": "execute_result"
    }
   ],
   "source": [
    "type(tuple1)"
   ]
  },
  {
   "cell_type": "code",
   "execution_count": 91,
   "id": "29b0f5c5-68d1-4d86-99c6-ed545b56dfaf",
   "metadata": {},
   "outputs": [
    {
     "data": {
      "text/plain": [
       "6"
      ]
     },
     "execution_count": 91,
     "metadata": {},
     "output_type": "execute_result"
    }
   ],
   "source": [
    "tuple1[2]"
   ]
  },
  {
   "cell_type": "code",
   "execution_count": 92,
   "id": "8a683965-6d2d-4bc3-a098-378f4bb8ee26",
   "metadata": {},
   "outputs": [
    {
     "ename": "TypeError",
     "evalue": "'tuple' object does not support item assignment",
     "output_type": "error",
     "traceback": [
      "\u001b[1;31m---------------------------------------------------------------------------\u001b[0m",
      "\u001b[1;31mTypeError\u001b[0m                                 Traceback (most recent call last)",
      "\u001b[1;32m<ipython-input-92-1e8b8ff1aa81>\u001b[0m in \u001b[0;36m<module>\u001b[1;34m\u001b[0m\n\u001b[1;32m----> 1\u001b[1;33m \u001b[0mtuple1\u001b[0m\u001b[1;33m[\u001b[0m\u001b[1;36m6\u001b[0m\u001b[1;33m]\u001b[0m\u001b[1;33m=\u001b[0m\u001b[1;36m19\u001b[0m\u001b[1;33m\u001b[0m\u001b[1;33m\u001b[0m\u001b[0m\n\u001b[0m",
      "\u001b[1;31mTypeError\u001b[0m: 'tuple' object does not support item assignment"
     ]
    }
   ],
   "source": [
    "tuple1[6]=19"
   ]
  },
  {
   "cell_type": "code",
   "execution_count": 93,
   "id": "1d8547ac-3633-428e-b633-240e9a2deef3",
   "metadata": {},
   "outputs": [],
   "source": [
    "# as tuple is immutable it can not change in the collections or objects"
   ]
  },
  {
   "cell_type": "markdown",
   "id": "faf10791-5a99-478f-ac97-ecf633ef4a20",
   "metadata": {},
   "source": [
    "### whenever there is a situation where data should not be changed as it is historical data taken from database for the analysis, it should be recoded in tuple..so in databases tuple uses ae more but in analysis part tuples are not required at all."
   ]
  },
  {
   "cell_type": "markdown",
   "id": "e0630365-fe7e-4655-9cb0-5472f65a055f",
   "metadata": {},
   "source": [
    "#### if you are dealing with Historical data then tuples helps there."
   ]
  },
  {
   "cell_type": "markdown",
   "id": "27bec19f-2974-45fb-ae29-61ce6f0a772a",
   "metadata": {},
   "source": [
    "# SET"
   ]
  },
  {
   "cell_type": "code",
   "execution_count": 94,
   "id": "75f9b457-b464-48ce-b9c4-e1e6176f6052",
   "metadata": {},
   "outputs": [],
   "source": [
    "# set is a list used to avoid duplicate values in the list"
   ]
  },
  {
   "cell_type": "code",
   "execution_count": 95,
   "id": "2bf9d681-ed99-44d3-968e-1ad0f9dc539b",
   "metadata": {},
   "outputs": [
    {
     "data": {
      "text/plain": [
       "{1, 2, 3, 4, 5, 6, 7, 8}"
      ]
     },
     "execution_count": 95,
     "metadata": {},
     "output_type": "execute_result"
    }
   ],
   "source": [
    "set1 = {1,2,3,4,2,3,5,6,4,6,7,8,3,7,8}\n",
    "set1"
   ]
  },
  {
   "cell_type": "code",
   "execution_count": 96,
   "id": "986e1a16-5c4e-4705-8ad9-3507f18d08cf",
   "metadata": {},
   "outputs": [],
   "source": [
    "# Uses : SET HELPS IN MAINTAIN THE UNIQUE VALUES IN THE LIST\n",
    "list1 = [1,2,3,4,2,3,5,6,4,6,7,8,3,7,8]"
   ]
  },
  {
   "cell_type": "code",
   "execution_count": 97,
   "id": "eeb15089-57e5-4a20-b06e-3f86623cbf41",
   "metadata": {},
   "outputs": [
    {
     "data": {
      "text/plain": [
       "[1, 2, 3, 4, 2, 3, 5, 6, 4, 6, 7, 8, 3, 7, 8]"
      ]
     },
     "execution_count": 97,
     "metadata": {},
     "output_type": "execute_result"
    }
   ],
   "source": [
    "list1"
   ]
  },
  {
   "cell_type": "code",
   "execution_count": 99,
   "id": "b16b7286-bad6-462d-88aa-d193a1813157",
   "metadata": {},
   "outputs": [],
   "source": [
    "list2 = list(set(list1))"
   ]
  },
  {
   "cell_type": "code",
   "execution_count": 100,
   "id": "6b229b33-2146-4d1e-b0a6-4f7c5bec5805",
   "metadata": {},
   "outputs": [
    {
     "data": {
      "text/plain": [
       "[1, 2, 3, 4, 5, 6, 7, 8]"
      ]
     },
     "execution_count": 100,
     "metadata": {},
     "output_type": "execute_result"
    }
   ],
   "source": [
    "list2"
   ]
  },
  {
   "cell_type": "code",
   "execution_count": 101,
   "id": "ea9a644b-9302-4906-91de-12b0efb60c3e",
   "metadata": {},
   "outputs": [],
   "source": [
    "# sets helps you to filter the unique values or avoid duplicate values in the list"
   ]
  },
  {
   "cell_type": "code",
   "execution_count": null,
   "id": "28125dbd-073e-48fa-acbe-7eb83d509d7d",
   "metadata": {},
   "outputs": [],
   "source": []
  }
 ],
 "metadata": {
  "kernelspec": {
   "display_name": "Python 3",
   "language": "python",
   "name": "python3"
  },
  "language_info": {
   "codemirror_mode": {
    "name": "ipython",
    "version": 3
   },
   "file_extension": ".py",
   "mimetype": "text/x-python",
   "name": "python",
   "nbconvert_exporter": "python",
   "pygments_lexer": "ipython3",
   "version": "3.8.8"
  }
 },
 "nbformat": 4,
 "nbformat_minor": 5
}
