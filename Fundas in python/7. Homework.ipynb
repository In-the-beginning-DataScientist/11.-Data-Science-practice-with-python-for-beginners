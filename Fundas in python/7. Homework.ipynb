{
 "cells": [
  {
   "cell_type": "code",
   "execution_count": 2,
   "id": "7109582e-d7e5-475b-91b3-4eb793df8053",
   "metadata": {},
   "outputs": [],
   "source": [
    "# home work\n",
    "# 1. www.w3schools.com/python\n",
    "# 2. Practice from variables to Lambda expresssions"
   ]
  },
  {
   "cell_type": "code",
   "execution_count": 3,
   "id": "c583953b-2bd1-4ddd-a790-ce8fc803b244",
   "metadata": {},
   "outputs": [],
   "source": [
    "# TYPE AND STUDY"
   ]
  },
  {
   "cell_type": "code",
   "execution_count": 5,
   "id": "f857b2b7-10da-449b-a75a-1fad64746805",
   "metadata": {},
   "outputs": [],
   "source": [
    "# 2. BOOK 1 IN DAY 2 in drive ...do relevant exercises"
   ]
  },
  {
   "cell_type": "code",
   "execution_count": 6,
   "id": "dd9cd568-04e7-4833-aabd-c4588f6ca645",
   "metadata": {},
   "outputs": [],
   "source": [
    "# 3. extra video for python with 13 gb data"
   ]
  },
  {
   "cell_type": "code",
   "execution_count": 7,
   "id": "f08f9538-1e5a-42fc-be5a-1782ec180ff4",
   "metadata": {},
   "outputs": [],
   "source": [
    "# 4. www.w2resource.com for exercise"
   ]
  },
  {
   "cell_type": "code",
   "execution_count": 8,
   "id": "31363206-67bc-4459-83a3-c15f97d89888",
   "metadata": {},
   "outputs": [],
   "source": [
    "#5. do everyday python for 30 minutes"
   ]
  },
  {
   "cell_type": "code",
   "execution_count": null,
   "id": "4533a996-8c10-4ef7-a54b-8b856166e3f5",
   "metadata": {},
   "outputs": [],
   "source": []
  }
 ],
 "metadata": {
  "kernelspec": {
   "display_name": "Python 3",
   "language": "python",
   "name": "python3"
  },
  "language_info": {
   "codemirror_mode": {
    "name": "ipython",
    "version": 3
   },
   "file_extension": ".py",
   "mimetype": "text/x-python",
   "name": "python",
   "nbconvert_exporter": "python",
   "pygments_lexer": "ipython3",
   "version": "3.8.8"
  }
 },
 "nbformat": 4,
 "nbformat_minor": 5
}
