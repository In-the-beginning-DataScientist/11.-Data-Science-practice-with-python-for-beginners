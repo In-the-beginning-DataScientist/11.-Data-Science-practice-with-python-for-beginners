{
 "cells": [
  {
   "cell_type": "code",
   "execution_count": 2,
   "id": "195a58f5-a552-4735-8a5c-4afbd26e6f36",
   "metadata": {},
   "outputs": [],
   "source": [
    "# if you are comfortable with functions , then Lambda functions are not required."
   ]
  },
  {
   "cell_type": "code",
   "execution_count": 3,
   "id": "2dcb4947-1eb9-4715-80eb-4a76101dace3",
   "metadata": {},
   "outputs": [],
   "source": [
    "# functions\n",
    "def add(n1,n2):\n",
    "    return n1+n2"
   ]
  },
  {
   "cell_type": "code",
   "execution_count": 4,
   "id": "73550829-98e8-41ba-af7e-0b035a788304",
   "metadata": {},
   "outputs": [
    {
     "data": {
      "text/plain": [
       "11"
      ]
     },
     "execution_count": 4,
     "metadata": {},
     "output_type": "execute_result"
    }
   ],
   "source": [
    "add(2,9)"
   ]
  },
  {
   "cell_type": "markdown",
   "id": "7ace13df-c4d4-4306-afe0-c66750b1494d",
   "metadata": {},
   "source": [
    "#### the above codes can be re-make using LAmbda functions\n",
    "#### Lambda expressions can be used in FUNCTINAL PROGRAMMING PARADIGM\n",
    "### we have procedural programming\n",
    "### We have functional programminng\n",
    "### we have Object oriented programming (OOPs)"
   ]
  },
  {
   "cell_type": "markdown",
   "id": "72c1c789-4034-4fea-a290-0b6548770de4",
   "metadata": {},
   "source": [
    "### THOSE WHO WANT to become expert in Data Analysis, \n",
    "### they should do lot more with \n",
    "### 1. Functional programming with python and\n",
    "### 2. Functional programming with Scala"
   ]
  },
  {
   "cell_type": "code",
   "execution_count": 7,
   "id": "87bcf329-a891-4d09-928b-21099ff4ae2d",
   "metadata": {},
   "outputs": [],
   "source": [
    "# Lamba Expression----Functinal programming\n",
    "resultAddition = lambda n1,n2 : n1+n2"
   ]
  },
  {
   "cell_type": "code",
   "execution_count": 8,
   "id": "25eee3a2-93b9-4e18-aeac-54da17021bac",
   "metadata": {},
   "outputs": [
    {
     "data": {
      "text/plain": [
       "<function __main__.<lambda>(n1, n2)>"
      ]
     },
     "execution_count": 8,
     "metadata": {},
     "output_type": "execute_result"
    }
   ],
   "source": [
    "resultAddition"
   ]
  },
  {
   "cell_type": "code",
   "execution_count": 9,
   "id": "c3feb6af-3ebe-4c65-b7f4-d10984f3b733",
   "metadata": {},
   "outputs": [
    {
     "data": {
      "text/plain": [
       "9"
      ]
     },
     "execution_count": 9,
     "metadata": {},
     "output_type": "execute_result"
    }
   ],
   "source": [
    "resultAddition(2,7)"
   ]
  },
  {
   "cell_type": "markdown",
   "id": "59ab7207-eee7-4580-baec-9f02c16e868b",
   "metadata": {},
   "source": [
    "### Lambda is a function on variable (resultAddition)\n",
    "### Lambda expressions works when only and one statement or formula should be there to execute the logic. "
   ]
  },
  {
   "cell_type": "code",
   "execution_count": 10,
   "id": "d08a2824-4ab0-41d9-99c3-fc3badd12158",
   "metadata": {},
   "outputs": [
    {
     "data": {
      "text/plain": [
       "<function __main__.<lambda>(n1, n2)>"
      ]
     },
     "execution_count": 10,
     "metadata": {},
     "output_type": "execute_result"
    }
   ],
   "source": [
    "resultAddition"
   ]
  },
  {
   "cell_type": "code",
   "execution_count": 11,
   "id": "b6e84529-9fdb-4300-8cf0-58311040abc4",
   "metadata": {},
   "outputs": [],
   "source": [
    "# resultAddition looks like variable but its a Lambda function"
   ]
  },
  {
   "cell_type": "code",
   "execution_count": 12,
   "id": "a4dd44ad-1027-4422-8e56-67d3590dbc82",
   "metadata": {},
   "outputs": [],
   "source": [
    "def add(n1,n2):\n",
    "    return n1+n2\n",
    "# This Object oriented programming paradigm"
   ]
  },
  {
   "cell_type": "code",
   "execution_count": 13,
   "id": "7aa957ba-55b7-4199-8160-463e434b2108",
   "metadata": {},
   "outputs": [],
   "source": [
    "resultAddition = lambda n1,n2 : n1+n2\n",
    "# This is Functional programming paradigm"
   ]
  },
  {
   "cell_type": "code",
   "execution_count": 14,
   "id": "378d9c26-d0ce-4131-8ea3-16f8724e91c5",
   "metadata": {},
   "outputs": [],
   "source": [
    "# Lambda expressionsa re useful in Data Analysis, especially for Data conversion\n",
    "# EDA can do this"
   ]
  },
  {
   "cell_type": "code",
   "execution_count": null,
   "id": "577a11f7-3698-4f84-99aa-aa2e082b1107",
   "metadata": {},
   "outputs": [],
   "source": []
  }
 ],
 "metadata": {
  "kernelspec": {
   "display_name": "Python 3",
   "language": "python",
   "name": "python3"
  },
  "language_info": {
   "codemirror_mode": {
    "name": "ipython",
    "version": 3
   },
   "file_extension": ".py",
   "mimetype": "text/x-python",
   "name": "python",
   "nbconvert_exporter": "python",
   "pygments_lexer": "ipython3",
   "version": "3.8.8"
  }
 },
 "nbformat": 4,
 "nbformat_minor": 5
}
