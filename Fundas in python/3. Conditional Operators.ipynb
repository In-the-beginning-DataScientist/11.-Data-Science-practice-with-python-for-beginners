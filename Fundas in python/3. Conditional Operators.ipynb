{
 "cells": [
  {
   "cell_type": "code",
   "execution_count": 1,
   "id": "b31256fa-31cb-4488-8a00-17466874120b",
   "metadata": {},
   "outputs": [],
   "source": [
    "# Conditional statements\n",
    "# 1. if statements\n",
    "# 2. if else statements\n",
    "# 3. elif ladder statements (else if statements)\n",
    "# 4. Ternary Operators"
   ]
  },
  {
   "cell_type": "code",
   "execution_count": 2,
   "id": "6d69eef7-dcd8-41ad-9067-2d106825bb26",
   "metadata": {},
   "outputs": [],
   "source": [
    "# if you are comfortable with elif statements then other 3 types are not required."
   ]
  },
  {
   "cell_type": "code",
   "execution_count": 6,
   "id": "65382af7-6c14-4088-ac01-4a8c1812111d",
   "metadata": {},
   "outputs": [
    {
     "name": "stdin",
     "output_type": "stream",
     "text": [
      "Enter the temperature: 40\n"
     ]
    },
    {
     "name": "stdout",
     "output_type": "stream",
     "text": [
      "High temperature!!\n"
     ]
    }
   ],
   "source": [
    "# if statement , with one condition, we can give any number of judgements\n",
    "temp = int(input(\"Enter the temperature:\"))\n",
    "if temp>35:\n",
    "    print(\"High temperature!!\")"
   ]
  },
  {
   "cell_type": "code",
   "execution_count": 7,
   "id": "7bfef1cb-a736-4082-8fb2-3b26ec52a8b6",
   "metadata": {},
   "outputs": [
    {
     "name": "stdin",
     "output_type": "stream",
     "text": [
      "Enter the temperature: 20\n"
     ]
    }
   ],
   "source": [
    "temp = int(input(\"Enter the temperature:\"))\n",
    "if temp>35:\n",
    "    print(\"High temperature!!\")"
   ]
  },
  {
   "cell_type": "code",
   "execution_count": null,
   "id": "47707036-591c-449e-a7d7-d66e18d65a92",
   "metadata": {},
   "outputs": [],
   "source": [
    "# if statement will have only one block\n",
    "# judgment is for only one condition id >"
   ]
  },
  {
   "cell_type": "code",
   "execution_count": 8,
   "id": "1a426cde-1fb9-4896-932e-e33ed5de03d1",
   "metadata": {},
   "outputs": [],
   "source": [
    "# if statement will be used when only one condition is there/ required, here >35 thats it."
   ]
  },
  {
   "cell_type": "code",
   "execution_count": 10,
   "id": "9a90009e-4bd7-4858-bc0d-79a28fa3577b",
   "metadata": {},
   "outputs": [
    {
     "name": "stdin",
     "output_type": "stream",
     "text": [
      "Enter the temperature: 32\n"
     ]
    },
    {
     "name": "stdout",
     "output_type": "stream",
     "text": [
      "Low temperature!!\n"
     ]
    }
   ],
   "source": [
    "# iF YOU WANT TO DEAL WITH BINARY CONDITIONS\n",
    "# then if..else statements\n",
    "temp = int(input(\"Enter the temperature:\"))\n",
    "if temp>35:\n",
    "    print(\"High temperature!!\")\n",
    "else:\n",
    "    print(\"Low temperature!!\")"
   ]
  },
  {
   "cell_type": "code",
   "execution_count": 11,
   "id": "0c3337f5-0215-4ba0-b76a-4be4a50959fc",
   "metadata": {},
   "outputs": [
    {
     "name": "stdin",
     "output_type": "stream",
     "text": [
      "Enter the temperature: 45\n"
     ]
    },
    {
     "name": "stdout",
     "output_type": "stream",
     "text": [
      "High temperature!!\n"
     ]
    }
   ],
   "source": [
    "temp = int(input(\"Enter the temperature:\"))\n",
    "if temp>35:\n",
    "    print(\"High temperature!!\")\n",
    "else:\n",
    "    print(\"Low temperature!!\")"
   ]
  },
  {
   "cell_type": "code",
   "execution_count": 12,
   "id": "f3f2d9b0-74b6-4763-bad4-b58b2c2d5c2b",
   "metadata": {},
   "outputs": [
    {
     "name": "stdin",
     "output_type": "stream",
     "text": [
      "Enter the temperature: 35\n"
     ]
    },
    {
     "name": "stdout",
     "output_type": "stream",
     "text": [
      "Low temperature!!\n"
     ]
    }
   ],
   "source": [
    "temp = int(input(\"Enter the temperature:\"))\n",
    "if temp>35:\n",
    "    print(\"High temperature!!\")\n",
    "else:\n",
    "    print(\"Low temperature!!\")\n"
   ]
  },
  {
   "cell_type": "code",
   "execution_count": 13,
   "id": "310311aa-83ed-48a1-b49f-8fcaec46e0be",
   "metadata": {},
   "outputs": [
    {
     "name": "stdin",
     "output_type": "stream",
     "text": [
      "Enter the temperature: 35\n"
     ]
    },
    {
     "name": "stdout",
     "output_type": "stream",
     "text": [
      "Temperature is normal\n"
     ]
    }
   ],
   "source": [
    "#if more than multiple (2) conditions , then use elif statements\n",
    "temp = int(input(\"Enter the temperature:\"))\n",
    "if temp>35:\n",
    "    print(\"High temperature!!\")\n",
    "elif temp==35:\n",
    "    print(\"Temperature is normal\")\n",
    "else:\n",
    "    print(\"Low temperature!!\")"
   ]
  },
  {
   "cell_type": "code",
   "execution_count": 16,
   "id": "116dad1b-2899-4f0b-96dc-8688e6a98a2f",
   "metadata": {},
   "outputs": [
    {
     "name": "stdin",
     "output_type": "stream",
     "text": [
      "Enter the temperature: 37\n"
     ]
    },
    {
     "name": "stdout",
     "output_type": "stream",
     "text": [
      "Temperature is normal\n"
     ]
    }
   ],
   "source": [
    "# in elif ladder if and else will be there always..and else is default condition\n",
    "# and any number of elif statements can be used\n",
    "temp = int(input(\"Enter the temperature:\"))\n",
    "if temp>39:\n",
    "    print(\"High temperature!!\")\n",
    "elif temp==35:\n",
    "    print(\"Temperature is normal\")\n",
    "elif temp==35:\n",
    "    print(\"Temperature is normal+1\")\n",
    "elif temp==36:\n",
    "    print(\"Temperature is normal+2\")\n",
    "elif temp==37:\n",
    "    print(\"Temperature is normal+3\")\n",
    "elif temp==38:\n",
    "    print(\"Temperature is normal+4\")\n",
    "else:\n",
    "    print(\"Low temperature!!\")"
   ]
  },
  {
   "cell_type": "code",
   "execution_count": 3,
   "id": "8fb6bdfd-1932-4651-b2d9-ae024b0701b6",
   "metadata": {},
   "outputs": [
    {
     "name": "stdin",
     "output_type": "stream",
     "text": [
      "Enter age: 20\n"
     ]
    },
    {
     "name": "stdout",
     "output_type": "stream",
     "text": [
      "Eligible for license\n"
     ]
    }
   ],
   "source": [
    "# Ternary Operator--To handle binary condition (short hand method)\n",
    "# Use-case : Application to check the eligibility of user for the grant of license \n",
    "# Condition : if age is >18, issue the license , else reject it.\n",
    "# 1. by using if else condition\n",
    "age = int(input(\"Enter age:\"))\n",
    "if age>=18:\n",
    "    print(\"Eligible for license\")\n",
    "else:\n",
    "    print(\"Not eligible for license\")"
   ]
  },
  {
   "cell_type": "code",
   "execution_count": 7,
   "id": "37af55c6-6d9f-49f5-9dae-0aee52b1e1f0",
   "metadata": {},
   "outputs": [
    {
     "name": "stdin",
     "output_type": "stream",
     "text": [
      "Enter age 30\n"
     ]
    },
    {
     "name": "stdout",
     "output_type": "stream",
     "text": [
      "Eligible for license\n"
     ]
    }
   ],
   "source": [
    "#2. using result \n",
    "age = int(input(\"Enter age\"))\n",
    "result = ''\n",
    "if age>=18:\n",
    "    result=\"Eligible for license\"\n",
    "else:\n",
    "    result=\"Not eligible for license\"\n",
    "    \n",
    "print(result)\n",
    "    "
   ]
  },
  {
   "cell_type": "code",
   "execution_count": 8,
   "id": "4bdf3f99-3f66-4fa2-9e11-84141912b07d",
   "metadata": {},
   "outputs": [
    {
     "name": "stdin",
     "output_type": "stream",
     "text": [
      "Enter age 34\n"
     ]
    },
    {
     "name": "stdout",
     "output_type": "stream",
     "text": [
      "Eligible\n"
     ]
    }
   ],
   "source": [
    "#3. Using ternary Operator\n",
    "age = int(input(\"Enter age\"))\n",
    "result = \"Eligible\" if age>=18 else \"Not eligible\"\n",
    "print(result)"
   ]
  },
  {
   "cell_type": "code",
   "execution_count": 3,
   "id": "44ee7d2e-d385-42a3-b2aa-7e10b5eb8231",
   "metadata": {},
   "outputs": [],
   "source": [
    "# Comparison Operators\n",
    "# less than <\n",
    "# greater than >\n",
    "# Equal == (single = is assignment operator)\n",
    "# less than or equal to <=\n",
    "# Greater than or equal to >=\n",
    "# Not !"
   ]
  },
  {
   "cell_type": "code",
   "execution_count": 4,
   "id": "c8b1f779-a802-47c4-81af-8e6da46e1a0d",
   "metadata": {},
   "outputs": [],
   "source": [
    "# Logical Operators\n",
    "# and, or, not"
   ]
  },
  {
   "cell_type": "code",
   "execution_count": 18,
   "id": "364138a9-7ad1-427d-a28c-094ff519f098",
   "metadata": {},
   "outputs": [
    {
     "name": "stdin",
     "output_type": "stream",
     "text": [
      "Enter the salary in INR: 9000\n",
      "Enter CIBIL Score 800\n",
      "Enter whether you are student or not , True or False:  True\n"
     ]
    },
    {
     "name": "stdout",
     "output_type": "stream",
     "text": [
      "Eligible for loan\n"
     ]
    }
   ],
   "source": [
    "# and operator\n",
    "# Applying for loan\n",
    "# conditions are: 1. He must not a student\n",
    "# 2. His salary should be more than 8000 INR \n",
    "# 3. His credit score should be greater than 700 (CIBIL Score)\n",
    "salary = int(input(\"Enter the salary in INR:\"))\n",
    "creditScore = int(input(\"Enter CIBIL Score\"))\n",
    "student = bool(input(\"Enter whether you are student or not , True or False: \"))\n",
    "if salary >=8000 and creditScore>=700 and student:\n",
    "    print(\"Eligible for loan\")\n",
    "else:\n",
    "    print(\"Not Eligible for loan \")"
   ]
  },
  {
   "cell_type": "code",
   "execution_count": 19,
   "id": "b8eb3b09-f996-4983-9053-1600e85e3382",
   "metadata": {},
   "outputs": [],
   "source": [
    "# the syntax is good but there is a error in logic, So need to check logical error from the beginning\n",
    "# check for inputs"
   ]
  },
  {
   "cell_type": "code",
   "execution_count": 20,
   "id": "b345fdd7-a72d-48a5-9254-385709953bc2",
   "metadata": {},
   "outputs": [
    {
     "data": {
      "text/plain": [
       "9000"
      ]
     },
     "execution_count": 20,
     "metadata": {},
     "output_type": "execute_result"
    }
   ],
   "source": [
    "salary"
   ]
  },
  {
   "cell_type": "code",
   "execution_count": 21,
   "id": "a2d5a889-dae5-4a72-a17f-68b7e1dfe739",
   "metadata": {},
   "outputs": [
    {
     "data": {
      "text/plain": [
       "int"
      ]
     },
     "execution_count": 21,
     "metadata": {},
     "output_type": "execute_result"
    }
   ],
   "source": [
    "type(salary)"
   ]
  },
  {
   "cell_type": "code",
   "execution_count": 22,
   "id": "946f2deb-3385-487a-abad-19a066e1ab4e",
   "metadata": {},
   "outputs": [],
   "source": [
    "# salary input is ok as we have given int for salary"
   ]
  },
  {
   "cell_type": "code",
   "execution_count": 23,
   "id": "3badc8dc-d1f3-4e25-b225-1522723efc1c",
   "metadata": {},
   "outputs": [
    {
     "data": {
      "text/plain": [
       "800"
      ]
     },
     "execution_count": 23,
     "metadata": {},
     "output_type": "execute_result"
    }
   ],
   "source": [
    "creditScore"
   ]
  },
  {
   "cell_type": "code",
   "execution_count": 24,
   "id": "1f370359-8027-4565-80e8-6bde31048d9b",
   "metadata": {},
   "outputs": [
    {
     "data": {
      "text/plain": [
       "int"
      ]
     },
     "execution_count": 24,
     "metadata": {},
     "output_type": "execute_result"
    }
   ],
   "source": [
    "type(creditScore)"
   ]
  },
  {
   "cell_type": "code",
   "execution_count": 25,
   "id": "2c989a79-d014-4323-b05a-2140aa5c7b98",
   "metadata": {},
   "outputs": [],
   "source": [
    "# creditScore also ok"
   ]
  },
  {
   "cell_type": "code",
   "execution_count": 26,
   "id": "dd39d40d-3cc8-4577-9b8b-9dc78644395e",
   "metadata": {},
   "outputs": [
    {
     "data": {
      "text/plain": [
       "True"
      ]
     },
     "execution_count": 26,
     "metadata": {},
     "output_type": "execute_result"
    }
   ],
   "source": [
    "student"
   ]
  },
  {
   "cell_type": "code",
   "execution_count": 27,
   "id": "97560a08-c8f5-44b4-98ae-abe73fc8fc6d",
   "metadata": {},
   "outputs": [
    {
     "data": {
      "text/plain": [
       "bool"
      ]
     },
     "execution_count": 27,
     "metadata": {},
     "output_type": "execute_result"
    }
   ],
   "source": [
    "type(student)"
   ]
  },
  {
   "cell_type": "code",
   "execution_count": 28,
   "id": "968d462a-3020-47fc-91ba-01cea066b5d6",
   "metadata": {},
   "outputs": [],
   "source": [
    "# here student as a boolean, taking true always...So here is the logically need to correct in the codes"
   ]
  },
  {
   "cell_type": "code",
   "execution_count": 29,
   "id": "9c3e6f76-5f40-4c84-bab9-6ab35c595b0c",
   "metadata": {},
   "outputs": [],
   "source": [
    "# # what ever may be the input given for student by us, the program is taking it as True..\n",
    "# so we need to look into the input , and it should be changed\n",
    "# instedy of True/false , we will give 1/0 So that input will help us to give proper input as student"
   ]
  },
  {
   "cell_type": "code",
   "execution_count": 31,
   "id": "36cc4651-7389-4bc5-9a69-d95a19337db9",
   "metadata": {},
   "outputs": [
    {
     "name": "stdin",
     "output_type": "stream",
     "text": [
      "Enter salary in INR 9000\n",
      "Enter CIBIL Score 800\n",
      "Is Student, if yes enter 1 (True) otherwise enter 0 (False) :  0\n"
     ]
    },
    {
     "name": "stdout",
     "output_type": "stream",
     "text": [
      "Eligible for loan\n"
     ]
    }
   ],
   "source": [
    "salary = int(input(\"Enter salary in INR\"))\n",
    "creditScore = int(input(\"Enter CIBIL Score\"))\n",
    "student = bool(int(input(\"Is Student, if yes enter 1 (True) otherwise enter 0 (False) : \")))\n",
    "if salary>=8000 and creditScore>=700 and student==False:\n",
    "    print(\"Eligible for loan\")\n",
    "else:\n",
    "    print(\" Not eligible for loan\")"
   ]
  },
  {
   "cell_type": "code",
   "execution_count": 32,
   "id": "8a9487d4-0331-498f-8742-e94c99e13314",
   "metadata": {},
   "outputs": [
    {
     "name": "stdin",
     "output_type": "stream",
     "text": [
      "Enter salary in INR 9000\n",
      "Enter CIBIL Score 800\n",
      "Is Student, if yes enter 1 (True) otherwise enter 0 (False) :  1\n"
     ]
    },
    {
     "name": "stdout",
     "output_type": "stream",
     "text": [
      " Not eligible for loan\n"
     ]
    }
   ],
   "source": [
    "salary = int(input(\"Enter salary in INR\"))\n",
    "creditScore = int(input(\"Enter CIBIL Score\"))\n",
    "student = bool(int(input(\"Is Student, if yes enter 1 (True) otherwise enter 0 (False) : \")))\n",
    "if salary>=8000 and creditScore>=700 and student==False:\n",
    "    print(\"Eligible for loan\")\n",
    "else:\n",
    "    print(\" Not eligible for loan\")"
   ]
  },
  {
   "cell_type": "code",
   "execution_count": 33,
   "id": "53d49b9e-8e41-44f6-a463-2677eb0c946e",
   "metadata": {},
   "outputs": [],
   "source": [
    "# the logic isworking well \n",
    "# check for inputs once again"
   ]
  },
  {
   "cell_type": "code",
   "execution_count": 34,
   "id": "715831bb-1c13-4ee9-93a9-1bf9c6fc93ae",
   "metadata": {},
   "outputs": [
    {
     "data": {
      "text/plain": [
       "True"
      ]
     },
     "execution_count": 34,
     "metadata": {},
     "output_type": "execute_result"
    }
   ],
   "source": [
    "student"
   ]
  },
  {
   "cell_type": "code",
   "execution_count": 35,
   "id": "db2e3653-b0b7-46d2-9244-3aa5c37f7be9",
   "metadata": {},
   "outputs": [
    {
     "data": {
      "text/plain": [
       "bool"
      ]
     },
     "execution_count": 35,
     "metadata": {},
     "output_type": "execute_result"
    }
   ],
   "source": [
    "type(student)"
   ]
  },
  {
   "cell_type": "markdown",
   "id": "267671ea-d0c7-40f4-9da1-599774904fe0",
   "metadata": {},
   "source": [
    "### if read the given problem throughly, if he is a student , not eligible..then salary and credit score need to check right!!"
   ]
  },
  {
   "cell_type": "code",
   "execution_count": 42,
   "id": "eb5d5da9-deee-4336-9db2-ae79633b4b0c",
   "metadata": {},
   "outputs": [
    {
     "name": "stdin",
     "output_type": "stream",
     "text": [
      "Enter salary in INR :  9000\n",
      "Enter CIBIL Scroe :  800\n",
      "Is Student, if yes enter 1 (True) , otherwise enter 0(False) :  0\n"
     ]
    },
    {
     "name": "stdout",
     "output_type": "stream",
     "text": [
      "Eligible for loan\n"
     ]
    }
   ],
   "source": [
    "# so otherFalse way doing it is\n",
    "salary = int(input(\"Enter salary in INR : \"))\n",
    "creditScore = int(input(\"Enter CIBIL Scroe : \"))\n",
    "student = bool(int(input(\"Is Student, if yes enter 1 (True) , otherwise enter 0(False) : \")))\n",
    "if not student:\n",
    "    if salary >=8000 and creditScore>=700:\n",
    "        print(\"Eligible for loan\")\n",
    "    else:\n",
    "        print(\"Not eligible for loan\")\n",
    "        \n",
    "else:\n",
    "    print(\"Not eligible for loan\")"
   ]
  },
  {
   "cell_type": "code",
   "execution_count": 43,
   "id": "76a6b44e-86b7-489b-9b0c-086439aaf38b",
   "metadata": {},
   "outputs": [
    {
     "name": "stdin",
     "output_type": "stream",
     "text": [
      "Enter income per month in INR :  9000\n",
      "Enter CIBIL Score :  800\n",
      "Is student, if yes enter 1 (True), otherwise enter 0 (False) : 0\n"
     ]
    },
    {
     "name": "stdout",
     "output_type": "stream",
     "text": [
      "Eligible for loan\n"
     ]
    }
   ],
   "source": [
    "# furtherly, if not student then check for salary..if salary not ok then write not eligible\n",
    "salary = int(input(\"Enter income per month in INR : \"))\n",
    "creditScore = int(input(\"Enter CIBIL Score : \"))\n",
    "student = bool(int(input(\"Is student, if yes enter 1 (True), otherwise enter 0 (False) :\")))\n",
    "if not student:\n",
    "    if not salary>=8000:\n",
    "        if not creditScore>=700:\n",
    "            print(\"Not Eligible for loan\")\n",
    "        else:\n",
    "            print(\"Eligible for loan\")\n",
    "    else:\n",
    "        print(\"Eligible for loan\")\n",
    "else:\n",
    "    print(\"Eligible for loan\")"
   ]
  },
  {
   "cell_type": "code",
   "execution_count": null,
   "id": "5296cefe-debd-4142-ab52-60561f65ed59",
   "metadata": {},
   "outputs": [],
   "source": []
  }
 ],
 "metadata": {
  "kernelspec": {
   "display_name": "Python 3",
   "language": "python",
   "name": "python3"
  },
  "language_info": {
   "codemirror_mode": {
    "name": "ipython",
    "version": 3
   },
   "file_extension": ".py",
   "mimetype": "text/x-python",
   "name": "python",
   "nbconvert_exporter": "python",
   "pygments_lexer": "ipython3",
   "version": "3.8.8"
  }
 },
 "nbformat": 4,
 "nbformat_minor": 5
}
