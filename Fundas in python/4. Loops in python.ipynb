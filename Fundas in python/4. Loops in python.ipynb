{
 "cells": [
  {
   "cell_type": "code",
   "execution_count": 1,
   "id": "8a58923f-f088-473d-a97a-e2e845267644",
   "metadata": {},
   "outputs": [],
   "source": [
    "# TYPES OF LOOPS\n",
    "# 1. for loops\n",
    "# 2. while loops\n",
    "# For data analysis ..only for loop is enough\n",
    "# again, collection of objects using for loop is most important..for data analysis."
   ]
  },
  {
   "cell_type": "code",
   "execution_count": 3,
   "id": "2ba7ba37-bf5d-4629-8398-8d32409db63e",
   "metadata": {},
   "outputs": [
    {
     "name": "stdout",
     "output_type": "stream",
     "text": [
      "[0, 1, 2, 3, 4, 5, 6, 7, 8, 9, 10, 12, 11, 16, 13, 15]\n"
     ]
    }
   ],
   "source": [
    "# definition of collection of object\n",
    "list1 = [0,1,2,3,4,5,6,7,8,9,10,12,11,16,13,15]\n",
    "print(list1)"
   ]
  },
  {
   "cell_type": "code",
   "execution_count": 4,
   "id": "32b703be-4491-4f7f-a1f4-907a43fab822",
   "metadata": {},
   "outputs": [
    {
     "name": "stdout",
     "output_type": "stream",
     "text": [
      "0\n",
      "1\n",
      "2\n",
      "3\n",
      "4\n",
      "5\n",
      "6\n",
      "7\n",
      "8\n",
      "9\n",
      "10\n",
      "12\n",
      "11\n",
      "16\n",
      "13\n",
      "15\n"
     ]
    }
   ],
   "source": [
    "# \"for loop\" will explore ll the values in the collection and writes as we ask for\n",
    "# this is called \" for comprehension\"\n",
    "for tempVariable in list1:\n",
    "    print(tempVariable)"
   ]
  },
  {
   "cell_type": "markdown",
   "id": "e85bbaf9-b8b2-4763-b24b-dcadc6149d3f",
   "metadata": {},
   "source": [
    "## just observe tempVariable is exploring all the objects in the collection (list)\n",
    "### tempVariable is a temporary name of variable to store the values as for loom is exploring each and every object in the colection."
   ]
  },
  {
   "cell_type": "code",
   "execution_count": 5,
   "id": "7e158799-e351-44e0-8754-2e3b24429b5b",
   "metadata": {},
   "outputs": [],
   "source": [
    "# syntax for foe comprehension is \n",
    "# for tempVariablName in CollectionObjects"
   ]
  },
  {
   "cell_type": "markdown",
   "id": "858ed025-4363-4aa1-91fd-42a323d83c19",
   "metadata": {},
   "source": [
    "## Now extract the even numbers from the list\n",
    "### for loop helps tempVariable to store while exploring the objects in list , So to extract even numbers , we should give if statement to ask Temp variable to store only even munbers"
   ]
  },
  {
   "cell_type": "code",
   "execution_count": 6,
   "id": "d76b02e7-aa72-451f-a612-8d34f25b9863",
   "metadata": {},
   "outputs": [
    {
     "name": "stdout",
     "output_type": "stream",
     "text": [
      "0\n",
      "2\n",
      "4\n",
      "6\n",
      "8\n",
      "10\n",
      "12\n",
      "16\n"
     ]
    }
   ],
   "source": [
    "list1 = [0,1,2,3,4,5,6,7,8,9,10,12,11,16,13,15]\n",
    "for evenNumbers in list1:\n",
    "    if evenNumbers % 2 ==0:\n",
    "        print(evenNumbers)"
   ]
  },
  {
   "cell_type": "markdown",
   "id": "f06e88ee-5fab-4455-a3e9-51f61b8e598b",
   "metadata": {},
   "source": [
    "#### here evenNumbers is the tempVariable to explore the object from the list and store the same with logic provided"
   ]
  },
  {
   "cell_type": "code",
   "execution_count": 8,
   "id": "d9ac136b-a8b5-45f2-b080-2bf091bcc4f4",
   "metadata": {},
   "outputs": [
    {
     "data": {
      "text/plain": [
       "15"
      ]
     },
     "execution_count": 8,
     "metadata": {},
     "output_type": "execute_result"
    }
   ],
   "source": [
    "evenNumbers"
   ]
  },
  {
   "cell_type": "code",
   "execution_count": 9,
   "id": "097e65a2-7bc9-4d15-be21-e9415c3f86d0",
   "metadata": {},
   "outputs": [
    {
     "data": {
      "text/plain": [
       "16"
      ]
     },
     "execution_count": 9,
     "metadata": {},
     "output_type": "execute_result"
    }
   ],
   "source": [
    "len(list1)"
   ]
  },
  {
   "cell_type": "code",
   "execution_count": 10,
   "id": "f975abd5-321d-4cac-a2ba-e3f1e9b2a4c5",
   "metadata": {},
   "outputs": [
    {
     "name": "stdout",
     "output_type": "stream",
     "text": [
      "15\n"
     ]
    }
   ],
   "source": [
    "print(evenNumbers)"
   ]
  },
  {
   "cell_type": "code",
   "execution_count": 11,
   "id": "915c8824-646a-4e41-b968-0924572046e2",
   "metadata": {},
   "outputs": [
    {
     "name": "stdout",
     "output_type": "stream",
     "text": [
      "[0, 2, 4, 6, 8, 10, 12, 16]\n"
     ]
    }
   ],
   "source": [
    "# the results can be store in one variables\n",
    "resultEvenset = []\n",
    "for evenNumbers in list1:\n",
    "    if evenNumbers %2 ==0:\n",
    "        resultEvenset.append(evenNumbers)\n",
    "print(resultEvenset)        "
   ]
  },
  {
   "cell_type": "code",
   "execution_count": 12,
   "id": "42dc20e5-84c5-43f5-a15e-72ce558c2a19",
   "metadata": {},
   "outputs": [
    {
     "name": "stdout",
     "output_type": "stream",
     "text": [
      "[0, 2, 4, 6, 8, 10, 12, 16]\n"
     ]
    }
   ],
   "source": [
    "print(resultEvenset)"
   ]
  },
  {
   "cell_type": "markdown",
   "id": "ec247ebf-2e00-4b12-a332-9083b6722538",
   "metadata": {},
   "source": [
    "### resultEvenset = [] is the empty set defined to store the results by appending after logic applied through the for loop"
   ]
  },
  {
   "cell_type": "markdown",
   "id": "c3a0ba85-8d0e-46e9-bf4c-4a2e7524b152",
   "metadata": {},
   "source": [
    "#### resultEvent.append() will append the values in resultEvenset throght temp variable evenNumbers  "
   ]
  },
  {
   "cell_type": "markdown",
   "id": "e5b941d3-ba74-49c9-964c-4b30a881d193",
   "metadata": {},
   "source": [
    "# Range function in python"
   ]
  },
  {
   "cell_type": "markdown",
   "id": "698b8e47-7df4-4349-a9f7-22bdbdc28405",
   "metadata": {},
   "source": [
    "## it is a default function in python"
   ]
  },
  {
   "cell_type": "code",
   "execution_count": 14,
   "id": "58988dd5-32ee-47c5-bf21-c43b8d9163ea",
   "metadata": {},
   "outputs": [
    {
     "data": {
      "text/plain": [
       "range(1, 10)"
      ]
     },
     "execution_count": 14,
     "metadata": {},
     "output_type": "execute_result"
    }
   ],
   "source": [
    "# range will allow you to create series of numbers \n",
    "range(1,10)"
   ]
  },
  {
   "cell_type": "code",
   "execution_count": 16,
   "id": "8b73e7f5-3f2c-4016-bf30-b9758b1692dc",
   "metadata": {},
   "outputs": [
    {
     "data": {
      "text/plain": [
       "[1, 2, 3, 4, 5, 6, 7, 8, 9]"
      ]
     },
     "execution_count": 16,
     "metadata": {},
     "output_type": "execute_result"
    }
   ],
   "source": [
    "list(range(1,10))"
   ]
  },
  {
   "cell_type": "code",
   "execution_count": 17,
   "id": "dcff1bce-e1cb-49c4-9d16-3a371ac1a418",
   "metadata": {},
   "outputs": [],
   "source": [
    "# range (starting_value, upperboundvalue), upperboundvalue=endvalue+1"
   ]
  },
  {
   "cell_type": "code",
   "execution_count": 20,
   "id": "98a5d6cf-90e4-47c8-aa93-aab661032617",
   "metadata": {},
   "outputs": [
    {
     "data": {
      "text/plain": [
       "[10,\n",
       " 12,\n",
       " 14,\n",
       " 16,\n",
       " 18,\n",
       " 20,\n",
       " 22,\n",
       " 24,\n",
       " 26,\n",
       " 28,\n",
       " 30,\n",
       " 32,\n",
       " 34,\n",
       " 36,\n",
       " 38,\n",
       " 40,\n",
       " 42,\n",
       " 44,\n",
       " 46,\n",
       " 48,\n",
       " 50,\n",
       " 52,\n",
       " 54,\n",
       " 56,\n",
       " 58,\n",
       " 60,\n",
       " 62,\n",
       " 64,\n",
       " 66,\n",
       " 68,\n",
       " 70,\n",
       " 72,\n",
       " 74,\n",
       " 76,\n",
       " 78,\n",
       " 80,\n",
       " 82,\n",
       " 84,\n",
       " 86,\n",
       " 88,\n",
       " 90,\n",
       " 92,\n",
       " 94,\n",
       " 96,\n",
       " 98]"
      ]
     },
     "execution_count": 20,
     "metadata": {},
     "output_type": "execute_result"
    }
   ],
   "source": [
    "list(range(10,100,2)) # here 2 is step to get the even numbers"
   ]
  },
  {
   "cell_type": "code",
   "execution_count": null,
   "id": "035258d3-a4e4-4db5-ab2c-3af61aa636f0",
   "metadata": {},
   "outputs": [],
   "source": []
  }
 ],
 "metadata": {
  "kernelspec": {
   "display_name": "Python 3",
   "language": "python",
   "name": "python3"
  },
  "language_info": {
   "codemirror_mode": {
    "name": "ipython",
    "version": 3
   },
   "file_extension": ".py",
   "mimetype": "text/x-python",
   "name": "python",
   "nbconvert_exporter": "python",
   "pygments_lexer": "ipython3",
   "version": "3.8.8"
  }
 },
 "nbformat": 4,
 "nbformat_minor": 5
}
