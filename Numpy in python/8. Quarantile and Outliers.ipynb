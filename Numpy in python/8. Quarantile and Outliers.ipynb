{
 "cells": [
  {
   "cell_type": "code",
   "execution_count": 1,
   "id": "20f592dd-7f27-4ddf-93ec-e86f5b163254",
   "metadata": {},
   "outputs": [],
   "source": [
    "# import numpy\n",
    "import numpy as np"
   ]
  },
  {
   "cell_type": "code",
   "execution_count": 2,
   "id": "3816bb98-fadd-427d-9ce9-c739a55f6c3a",
   "metadata": {},
   "outputs": [],
   "source": [
    "array = np.array([1,2,3,4,5,6,7,8,9,10])"
   ]
  },
  {
   "cell_type": "code",
   "execution_count": 3,
   "id": "c0e96bec-ef82-4c5e-9942-93ce497d0cda",
   "metadata": {},
   "outputs": [
    {
     "data": {
      "text/plain": [
       "array([ 1,  2,  3,  4,  5,  6,  7,  8,  9, 10])"
      ]
     },
     "execution_count": 3,
     "metadata": {},
     "output_type": "execute_result"
    }
   ],
   "source": [
    "array"
   ]
  },
  {
   "cell_type": "code",
   "execution_count": 4,
   "id": "a4fb976c-5484-47d3-add5-b45667918fb8",
   "metadata": {},
   "outputs": [
    {
     "data": {
      "text/plain": [
       "5.5"
      ]
     },
     "execution_count": 4,
     "metadata": {},
     "output_type": "execute_result"
    }
   ],
   "source": [
    "np.mean(array)"
   ]
  },
  {
   "cell_type": "code",
   "execution_count": 5,
   "id": "4dbb6258-f53a-45b5-b21c-fc1a9de8ed1e",
   "metadata": {},
   "outputs": [
    {
     "data": {
      "text/plain": [
       "\u001b[1;31mSignature:\u001b[0m\n",
       "\u001b[0mnp\u001b[0m\u001b[1;33m.\u001b[0m\u001b[0mpercentile\u001b[0m\u001b[1;33m(\u001b[0m\u001b[1;33m\n",
       "\u001b[0m    \u001b[0ma\u001b[0m\u001b[1;33m,\u001b[0m\u001b[1;33m\n",
       "\u001b[0m    \u001b[0mq\u001b[0m\u001b[1;33m,\u001b[0m\u001b[1;33m\n",
       "\u001b[0m    \u001b[0maxis\u001b[0m\u001b[1;33m=\u001b[0m\u001b[1;32mNone\u001b[0m\u001b[1;33m,\u001b[0m\u001b[1;33m\n",
       "\u001b[0m    \u001b[0mout\u001b[0m\u001b[1;33m=\u001b[0m\u001b[1;32mNone\u001b[0m\u001b[1;33m,\u001b[0m\u001b[1;33m\n",
       "\u001b[0m    \u001b[0moverwrite_input\u001b[0m\u001b[1;33m=\u001b[0m\u001b[1;32mFalse\u001b[0m\u001b[1;33m,\u001b[0m\u001b[1;33m\n",
       "\u001b[0m    \u001b[0minterpolation\u001b[0m\u001b[1;33m=\u001b[0m\u001b[1;34m'linear'\u001b[0m\u001b[1;33m,\u001b[0m\u001b[1;33m\n",
       "\u001b[0m    \u001b[0mkeepdims\u001b[0m\u001b[1;33m=\u001b[0m\u001b[1;32mFalse\u001b[0m\u001b[1;33m,\u001b[0m\u001b[1;33m\n",
       "\u001b[0m\u001b[1;33m)\u001b[0m\u001b[1;33m\u001b[0m\u001b[1;33m\u001b[0m\u001b[0m\n",
       "\u001b[1;31mDocstring:\u001b[0m\n",
       "Compute the q-th percentile of the data along the specified axis.\n",
       "\n",
       "Returns the q-th percentile(s) of the array elements.\n",
       "\n",
       "Parameters\n",
       "----------\n",
       "a : array_like\n",
       "    Input array or object that can be converted to an array.\n",
       "q : array_like of float\n",
       "    Percentile or sequence of percentiles to compute, which must be between\n",
       "    0 and 100 inclusive.\n",
       "axis : {int, tuple of int, None}, optional\n",
       "    Axis or axes along which the percentiles are computed. The\n",
       "    default is to compute the percentile(s) along a flattened\n",
       "    version of the array.\n",
       "\n",
       "    .. versionchanged:: 1.9.0\n",
       "        A tuple of axes is supported\n",
       "out : ndarray, optional\n",
       "    Alternative output array in which to place the result. It must\n",
       "    have the same shape and buffer length as the expected output,\n",
       "    but the type (of the output) will be cast if necessary.\n",
       "overwrite_input : bool, optional\n",
       "    If True, then allow the input array `a` to be modified by intermediate\n",
       "    calculations, to save memory. In this case, the contents of the input\n",
       "    `a` after this function completes is undefined.\n",
       "\n",
       "interpolation : {'linear', 'lower', 'higher', 'midpoint', 'nearest'}\n",
       "    This optional parameter specifies the interpolation method to\n",
       "    use when the desired percentile lies between two data points\n",
       "    ``i < j``:\n",
       "\n",
       "    * 'linear': ``i + (j - i) * fraction``, where ``fraction``\n",
       "      is the fractional part of the index surrounded by ``i``\n",
       "      and ``j``.\n",
       "    * 'lower': ``i``.\n",
       "    * 'higher': ``j``.\n",
       "    * 'nearest': ``i`` or ``j``, whichever is nearest.\n",
       "    * 'midpoint': ``(i + j) / 2``.\n",
       "\n",
       "    .. versionadded:: 1.9.0\n",
       "keepdims : bool, optional\n",
       "    If this is set to True, the axes which are reduced are left in\n",
       "    the result as dimensions with size one. With this option, the\n",
       "    result will broadcast correctly against the original array `a`.\n",
       "\n",
       "    .. versionadded:: 1.9.0\n",
       "\n",
       "Returns\n",
       "-------\n",
       "percentile : scalar or ndarray\n",
       "    If `q` is a single percentile and `axis=None`, then the result\n",
       "    is a scalar. If multiple percentiles are given, first axis of\n",
       "    the result corresponds to the percentiles. The other axes are\n",
       "    the axes that remain after the reduction of `a`. If the input\n",
       "    contains integers or floats smaller than ``float64``, the output\n",
       "    data-type is ``float64``. Otherwise, the output data-type is the\n",
       "    same as that of the input. If `out` is specified, that array is\n",
       "    returned instead.\n",
       "\n",
       "See Also\n",
       "--------\n",
       "mean\n",
       "median : equivalent to ``percentile(..., 50)``\n",
       "nanpercentile\n",
       "quantile : equivalent to percentile, except with q in the range [0, 1].\n",
       "\n",
       "Notes\n",
       "-----\n",
       "Given a vector ``V`` of length ``N``, the q-th percentile of\n",
       "``V`` is the value ``q/100`` of the way from the minimum to the\n",
       "maximum in a sorted copy of ``V``. The values and distances of\n",
       "the two nearest neighbors as well as the `interpolation` parameter\n",
       "will determine the percentile if the normalized ranking does not\n",
       "match the location of ``q`` exactly. This function is the same as\n",
       "the median if ``q=50``, the same as the minimum if ``q=0`` and the\n",
       "same as the maximum if ``q=100``.\n",
       "\n",
       "Examples\n",
       "--------\n",
       ">>> a = np.array([[10, 7, 4], [3, 2, 1]])\n",
       ">>> a\n",
       "array([[10,  7,  4],\n",
       "       [ 3,  2,  1]])\n",
       ">>> np.percentile(a, 50)\n",
       "3.5\n",
       ">>> np.percentile(a, 50, axis=0)\n",
       "array([6.5, 4.5, 2.5])\n",
       ">>> np.percentile(a, 50, axis=1)\n",
       "array([7.,  2.])\n",
       ">>> np.percentile(a, 50, axis=1, keepdims=True)\n",
       "array([[7.],\n",
       "       [2.]])\n",
       "\n",
       ">>> m = np.percentile(a, 50, axis=0)\n",
       ">>> out = np.zeros_like(m)\n",
       ">>> np.percentile(a, 50, axis=0, out=out)\n",
       "array([6.5, 4.5, 2.5])\n",
       ">>> m\n",
       "array([6.5, 4.5, 2.5])\n",
       "\n",
       ">>> b = a.copy()\n",
       ">>> np.percentile(b, 50, axis=1, overwrite_input=True)\n",
       "array([7.,  2.])\n",
       ">>> assert not np.all(a == b)\n",
       "\n",
       "The different types of interpolation can be visualized graphically:\n",
       "\n",
       ".. plot::\n",
       "\n",
       "    import matplotlib.pyplot as plt\n",
       "\n",
       "    a = np.arange(4)\n",
       "    p = np.linspace(0, 100, 6001)\n",
       "    ax = plt.gca()\n",
       "    lines = [\n",
       "        ('linear', None),\n",
       "        ('higher', '--'),\n",
       "        ('lower', '--'),\n",
       "        ('nearest', '-.'),\n",
       "        ('midpoint', '-.'),\n",
       "    ]\n",
       "    for interpolation, style in lines:\n",
       "        ax.plot(\n",
       "            p, np.percentile(a, p, interpolation=interpolation),\n",
       "            label=interpolation, linestyle=style)\n",
       "    ax.set(\n",
       "        title='Interpolation methods for list: ' + str(a),\n",
       "        xlabel='Percentile',\n",
       "        ylabel='List item returned',\n",
       "        yticks=a)\n",
       "    ax.legend()\n",
       "    plt.show()\n",
       "\u001b[1;31mFile:\u001b[0m      c:\\users\\davea\\anaconda3\\lib\\site-packages\\numpy\\lib\\function_base.py\n",
       "\u001b[1;31mType:\u001b[0m      function\n"
      ]
     },
     "metadata": {},
     "output_type": "display_data"
    }
   ],
   "source": [
    "?np.percentile"
   ]
  },
  {
   "cell_type": "code",
   "execution_count": 6,
   "id": "628e6d93-e946-49ba-9a25-1661055925cb",
   "metadata": {},
   "outputs": [
    {
     "data": {
      "text/plain": [
       "3.25"
      ]
     },
     "execution_count": 6,
     "metadata": {},
     "output_type": "execute_result"
    }
   ],
   "source": [
    "#check for syntex here\n",
    "np.percentile(array,25)"
   ]
  },
  {
   "cell_type": "code",
   "execution_count": 7,
   "id": "ee71087c-ea93-463e-a792-c703328b2077",
   "metadata": {},
   "outputs": [
    {
     "data": {
      "text/plain": [
       "5.5"
      ]
     },
     "execution_count": 7,
     "metadata": {},
     "output_type": "execute_result"
    }
   ],
   "source": [
    "np.percentile(array,50)"
   ]
  },
  {
   "cell_type": "code",
   "execution_count": 8,
   "id": "18041814-61f7-40c0-8484-2a602d7be3a7",
   "metadata": {},
   "outputs": [
    {
     "data": {
      "text/plain": [
       "7.75"
      ]
     },
     "execution_count": 8,
     "metadata": {},
     "output_type": "execute_result"
    }
   ],
   "source": [
    "np.percentile(array,75)"
   ]
  },
  {
   "cell_type": "code",
   "execution_count": 9,
   "id": "23283cbe-2b30-4879-a7d7-087dd1725778",
   "metadata": {},
   "outputs": [
    {
     "data": {
      "text/plain": [
       "10.0"
      ]
     },
     "execution_count": 9,
     "metadata": {},
     "output_type": "execute_result"
    }
   ],
   "source": [
    "np.percentile(array,100)"
   ]
  },
  {
   "cell_type": "code",
   "execution_count": 10,
   "id": "72c1ba94-00f5-499d-878d-7df36882ec46",
   "metadata": {},
   "outputs": [],
   "source": [
    "# the above percentile vales can be calculated based on the formulas\n",
    "# refer http://onlinestatbook.com/2/introduction/percentiles.html\n",
    "# can refer http://onlinestatbook.com\n",
    "# R = P/100 x (N + 1)"
   ]
  },
  {
   "cell_type": "code",
   "execution_count": 11,
   "id": "530f7a71-b2fc-40a2-a4b6-82c15dc1fbee",
   "metadata": {},
   "outputs": [],
   "source": [
    "#Function to calculate lower range and upper range using 1.5 IQR rule\n",
    "# 1. Ensure your column data is sorted in ascending order"
   ]
  },
  {
   "cell_type": "code",
   "execution_count": 12,
   "id": "5268ffa1-3a18-41d7-b547-cc44cc87e9ab",
   "metadata": {},
   "outputs": [],
   "source": [
    "def outlierDetection(data1):\n",
    "    # 1. sort ascending\n",
    "    sorted(data1) \n",
    "    # 2. calculate Q1 &Q3\n",
    "    Q1,Q3 = np.percentile(data1,[25,75]) \n",
    "    # 3. Calculate IQR=Q3-Q1\n",
    "    IQR=Q3-Q1\n",
    "    # 4. Calculate lower rnge\n",
    "    lowerRange = Q1-(1.5*IQR)\n",
    "    # 5. Calculate Upper range\n",
    "    upperRange = Q3+(1.5*IQR)\n",
    "    # 6. Return ranges\n",
    "    return lowerRange,upperRange"
   ]
  },
  {
   "cell_type": "code",
   "execution_count": 13,
   "id": "f2c92105-67b1-42ec-aac5-05376a45a723",
   "metadata": {},
   "outputs": [
    {
     "name": "stderr",
     "output_type": "stream",
     "text": [
      "C:\\Users\\davea\\anaconda3\\lib\\site-packages\\seaborn\\distributions.py:2557: FutureWarning: `distplot` is a deprecated function and will be removed in a future version. Please adapt your code to use either `displot` (a figure-level function with similar flexibility) or `histplot` (an axes-level function for histograms).\n",
      "  warnings.warn(msg, FutureWarning)\n"
     ]
    },
    {
     "data": {
      "text/plain": [
       "<AxesSubplot:ylabel='Density'>"
      ]
     },
     "execution_count": 13,
     "metadata": {},
     "output_type": "execute_result"
    },
    {
     "data": {
      "image/png": "[encoded data removed]",
      "text/plain": [
       "<Figure size 432x288 with 1 Axes>"
      ]
     },
     "metadata": {
      "needs_background": "light"
     },
     "output_type": "display_data"
    }
   ],
   "source": [
    "import seaborn as sns\n",
    "%matplotlib inline\n",
    "sns.distplot(array)"
   ]
  },
  {
   "cell_type": "code",
   "execution_count": 14,
   "id": "fad5a075-2cd5-4c0d-bb06-a8f2cd7f9fc9",
   "metadata": {},
   "outputs": [],
   "source": [
    "data1 = np.array([[1000],[2000],[6000],[4999],[2399],[50000],[2000000]])"
   ]
  },
  {
   "cell_type": "code",
   "execution_count": 15,
   "id": "e4d5d5f7-be17-4412-a6de-a310ce28ad4f",
   "metadata": {},
   "outputs": [
    {
     "data": {
      "text/plain": [
       "array([[   1000],\n",
       "       [   2000],\n",
       "       [   6000],\n",
       "       [   4999],\n",
       "       [   2399],\n",
       "       [  50000],\n",
       "       [2000000]])"
      ]
     },
     "execution_count": 15,
     "metadata": {},
     "output_type": "execute_result"
    }
   ],
   "source": [
    "data1 # 1*7"
   ]
  },
  {
   "cell_type": "code",
   "execution_count": 16,
   "id": "375ff1a7-a42b-431e-940c-9e64d99b86ef",
   "metadata": {},
   "outputs": [],
   "source": [
    "# outlierDetection(data1)"
   ]
  },
  {
   "cell_type": "code",
   "execution_count": 17,
   "id": "79de26ea-9a69-4339-a40a-1409f93a21ce",
   "metadata": {},
   "outputs": [
    {
     "name": "stderr",
     "output_type": "stream",
     "text": [
      "C:\\Users\\davea\\anaconda3\\lib\\site-packages\\seaborn\\distributions.py:2557: FutureWarning: `distplot` is a deprecated function and will be removed in a future version. Please adapt your code to use either `displot` (a figure-level function with similar flexibility) or `histplot` (an axes-level function for histograms).\n",
      "  warnings.warn(msg, FutureWarning)\n"
     ]
    },
    {
     "data": {
      "text/plain": [
       "<AxesSubplot:ylabel='Density'>"
      ]
     },
     "execution_count": 17,
     "metadata": {},
     "output_type": "execute_result"
    },
    {
     "data": {
      "image/png": "[encoded data removed]",
      "text/plain": [
       "<Figure size 432x288 with 1 Axes>"
      ]
     },
     "metadata": {
      "needs_background": "light"
     },
     "output_type": "display_data"
    }
   ],
   "source": [
    "import seaborn as sns\n",
    "%matplotlib inline\n",
    "sns.distplot(data1)"
   ]
  },
  {
   "cell_type": "code",
   "execution_count": 18,
   "id": "94a4eb49-df00-416d-bcaa-eb0663bc447e",
   "metadata": {},
   "outputs": [],
   "source": [
    "# obviously its aright skew\n",
    "# I can see Normal distribution ranges in the figure, but outliers also ca be seen\n",
    "# newData = data1[(data1<=-36501.25) & (data1>=66700.75)]"
   ]
  },
  {
   "cell_type": "code",
   "execution_count": 19,
   "id": "a4c89dde-bdc7-432a-ab40-7798060dd9e7",
   "metadata": {},
   "outputs": [],
   "source": [
    "#newData"
   ]
  },
  {
   "cell_type": "code",
   "execution_count": 20,
   "id": "0f5f5032-8ed4-4e6c-8531-2afe1af21ba6",
   "metadata": {},
   "outputs": [],
   "source": [
    "# outlierDetection(newData)"
   ]
  },
  {
   "cell_type": "code",
   "execution_count": 21,
   "id": "554164eb-53c2-49af-954f-b1ecf521c074",
   "metadata": {},
   "outputs": [],
   "source": [
    "lr,ur = outlierDetection(data1)"
   ]
  },
  {
   "cell_type": "code",
   "execution_count": 24,
   "id": "ea0c2943-108f-48c0-ac47-cf37dd13970a",
   "metadata": {},
   "outputs": [],
   "source": [
    "newData = data1[(data1>lr) & (data1<ur)]"
   ]
  },
  {
   "cell_type": "code",
   "execution_count": 25,
   "id": "430ebdd6-7dc1-407a-a8dc-2c452672c7fc",
   "metadata": {},
   "outputs": [
    {
     "data": {
      "text/plain": [
       "array([ 1000,  2000,  6000,  4999,  2399, 50000])"
      ]
     },
     "execution_count": 25,
     "metadata": {},
     "output_type": "execute_result"
    }
   ],
   "source": [
    "newData"
   ]
  },
  {
   "cell_type": "code",
   "execution_count": 26,
   "id": "11fbf287-4956-4fd6-a8c1-786c8b8855ea",
   "metadata": {},
   "outputs": [
    {
     "data": {
      "text/plain": [
       "array([[   1000],\n",
       "       [   2000],\n",
       "       [   6000],\n",
       "       [   4999],\n",
       "       [   2399],\n",
       "       [  50000],\n",
       "       [2000000]])"
      ]
     },
     "execution_count": 26,
     "metadata": {},
     "output_type": "execute_result"
    }
   ],
   "source": [
    "data1"
   ]
  },
  {
   "cell_type": "code",
   "execution_count": 27,
   "id": "b31441d4-9223-4acb-af71-29fa6562d1b5",
   "metadata": {},
   "outputs": [],
   "source": [
    "# last value (2000000) is remobed in new data"
   ]
  },
  {
   "cell_type": "code",
   "execution_count": 28,
   "id": "49650aef-aa67-4725-a270-3df550f7dd4a",
   "metadata": {},
   "outputs": [
    {
     "name": "stderr",
     "output_type": "stream",
     "text": [
      "C:\\Users\\davea\\anaconda3\\lib\\site-packages\\seaborn\\distributions.py:2557: FutureWarning: `distplot` is a deprecated function and will be removed in a future version. Please adapt your code to use either `displot` (a figure-level function with similar flexibility) or `histplot` (an axes-level function for histograms).\n",
      "  warnings.warn(msg, FutureWarning)\n"
     ]
    },
    {
     "data": {
      "text/plain": [
       "<AxesSubplot:ylabel='Density'>"
      ]
     },
     "execution_count": 28,
     "metadata": {},
     "output_type": "execute_result"
    },
    {
     "data": {
      "image/png": "[encoded data removed]",
      "text/plain": [
       "<Figure size 432x288 with 1 Axes>"
      ]
     },
     "metadata": {
      "needs_background": "light"
     },
     "output_type": "display_data"
    }
   ],
   "source": [
    "sns.distplot(newData)"
   ]
  },
  {
   "cell_type": "code",
   "execution_count": 29,
   "id": "2aea7280-e0e3-4b41-a5b2-79117efeba66",
   "metadata": {},
   "outputs": [],
   "source": [
    "lr1,ur1 = outlierDetection(newData)"
   ]
  },
  {
   "cell_type": "code",
   "execution_count": 30,
   "id": "f2535361-36f9-4de2-955d-970040ca2c29",
   "metadata": {},
   "outputs": [],
   "source": [
    "newData1 = newData[(newData>lr1) & (newData<ur1)]"
   ]
  },
  {
   "cell_type": "code",
   "execution_count": 31,
   "id": "72bf093f-d062-4f6f-8dc8-38400e1ca53e",
   "metadata": {},
   "outputs": [
    {
     "data": {
      "text/plain": [
       "array([1000, 2000, 6000, 4999, 2399])"
      ]
     },
     "execution_count": 31,
     "metadata": {},
     "output_type": "execute_result"
    }
   ],
   "source": [
    "newData1"
   ]
  },
  {
   "cell_type": "code",
   "execution_count": 33,
   "id": "b0f5828a-f6b6-470c-afae-11ae75ac4d5c",
   "metadata": {},
   "outputs": [
    {
     "data": {
      "text/plain": [
       "array([ 1000,  2000,  6000,  4999,  2399, 50000])"
      ]
     },
     "execution_count": 33,
     "metadata": {},
     "output_type": "execute_result"
    }
   ],
   "source": [
    "newData"
   ]
  },
  {
   "cell_type": "code",
   "execution_count": 34,
   "id": "986cbb5d-f296-4410-9cc5-77b7e1b54bbb",
   "metadata": {},
   "outputs": [],
   "source": [
    "# from the above data, another value is removed"
   ]
  },
  {
   "cell_type": "code",
   "execution_count": 35,
   "id": "f8b5642b-ad6b-47b4-8bcf-d69aee949d78",
   "metadata": {},
   "outputs": [],
   "source": [
    "# likewise we will loose the data.."
   ]
  },
  {
   "cell_type": "code",
   "execution_count": 36,
   "id": "c6bc2a3d-d5d6-4d49-a075-a8898fe46fb3",
   "metadata": {},
   "outputs": [
    {
     "name": "stderr",
     "output_type": "stream",
     "text": [
      "C:\\Users\\davea\\anaconda3\\lib\\site-packages\\seaborn\\distributions.py:2557: FutureWarning: `distplot` is a deprecated function and will be removed in a future version. Please adapt your code to use either `displot` (a figure-level function with similar flexibility) or `histplot` (an axes-level function for histograms).\n",
      "  warnings.warn(msg, FutureWarning)\n"
     ]
    },
    {
     "data": {
      "text/plain": [
       "<AxesSubplot:ylabel='Density'>"
      ]
     },
     "execution_count": 36,
     "metadata": {},
     "output_type": "execute_result"
    },
    {
     "data": {
      "image/png": "[encoded data removed]",
      "text/plain": [
       "<Figure size 432x288 with 1 Axes>"
      ]
     },
     "metadata": {
      "needs_background": "light"
     },
     "output_type": "display_data"
    }
   ],
   "source": [
    "sns.distplot(newData1)"
   ]
  },
  {
   "cell_type": "code",
   "execution_count": 37,
   "id": "11516cab-9b80-4393-b5a8-aa49e1750c41",
   "metadata": {},
   "outputs": [],
   "source": [
    "# now we can see normal distribution...thi is where we can stop the removal data as its following normal distribution"
   ]
  },
  {
   "cell_type": "code",
   "execution_count": 38,
   "id": "9a1b0627-f33d-47f9-9d43-e50f8222eedd",
   "metadata": {},
   "outputs": [],
   "source": [
    "# lr2,ur2 = outlierDetection(newData1)"
   ]
  },
  {
   "cell_type": "code",
   "execution_count": 41,
   "id": "44c08c0c-1fb6-4cfa-a261-ac5150ecb844",
   "metadata": {},
   "outputs": [],
   "source": [
    "# newData2 = newData1[(newData1>lr2) & (newData<ur2)]"
   ]
  },
  {
   "cell_type": "code",
   "execution_count": 48,
   "id": "e9355a3a-f7f1-4d86-93a0-14dc509f7ccd",
   "metadata": {},
   "outputs": [],
   "source": [
    "# check for mean and median\n",
    "mean = np.mean(newData1)"
   ]
  },
  {
   "cell_type": "code",
   "execution_count": 53,
   "id": "3dd8f864-33b7-4c04-9625-841f70d7889a",
   "metadata": {},
   "outputs": [
    {
     "data": {
      "text/plain": [
       "3279.6"
      ]
     },
     "execution_count": 53,
     "metadata": {},
     "output_type": "execute_result"
    }
   ],
   "source": [
    "mean"
   ]
  },
  {
   "cell_type": "code",
   "execution_count": 49,
   "id": "a1dea4fb-9a31-4ea4-9c37-71be3a9a7c62",
   "metadata": {},
   "outputs": [],
   "source": [
    "median = np.median(newData1)"
   ]
  },
  {
   "cell_type": "code",
   "execution_count": 54,
   "id": "b8aabdfa-e9e6-4c59-a403-67fc71766936",
   "metadata": {},
   "outputs": [
    {
     "data": {
      "text/plain": [
       "2399.0"
      ]
     },
     "execution_count": 54,
     "metadata": {},
     "output_type": "execute_result"
    }
   ],
   "source": [
    "median"
   ]
  },
  {
   "cell_type": "code",
   "execution_count": 50,
   "id": "d09ba9c5-9a99-49ed-bdf2-04ad3ffa0a87",
   "metadata": {},
   "outputs": [],
   "source": [
    "# check for mean and median differnce , it should be @% buffer"
   ]
  },
  {
   "cell_type": "code",
   "execution_count": 51,
   "id": "d01f867a-a1ca-4628-be8b-07675bc30858",
   "metadata": {},
   "outputs": [],
   "source": [
    "diff = mean - median"
   ]
  },
  {
   "cell_type": "code",
   "execution_count": 52,
   "id": "d9d5befa-d3ef-49e7-ace4-b6bb4472574a",
   "metadata": {},
   "outputs": [
    {
     "data": {
      "text/plain": [
       "880.5999999999999"
      ]
     },
     "execution_count": 52,
     "metadata": {},
     "output_type": "execute_result"
    }
   ],
   "source": [
    "diff"
   ]
  },
  {
   "cell_type": "markdown",
   "id": "1041caba-03bc-4877-b1fe-0e77b8a345f4",
   "metadata": {},
   "source": [
    "#### in real world problems, we will deal with tera and giga bytes of data, so removal of data this way is very is for accuracy of the model."
   ]
  },
  {
   "cell_type": "markdown",
   "id": "c14619ab-24ca-451f-81f7-e4439082be67",
   "metadata": {},
   "source": [
    "#### but here we are loosing the data for accuracy of the model, because of this we will loose the information / insight of the data from this removal technique..\n",
    "# because here, we have very less data, removal dta is not a good option, instead go for the given data end up with a bad model ..its ok"
   ]
  },
  {
   "cell_type": "code",
   "execution_count": 55,
   "id": "d34fbfe9-e1ae-41d2-875a-78c04bea1ef0",
   "metadata": {},
   "outputs": [],
   "source": [
    "# in large data set , iterate the steps till we get bell curve"
   ]
  },
  {
   "cell_type": "code",
   "execution_count": 56,
   "id": "9edf9a1c-9814-4716-8588-a7ad6963b08e",
   "metadata": {},
   "outputs": [
    {
     "name": "stderr",
     "output_type": "stream",
     "text": [
      "C:\\Users\\davea\\anaconda3\\lib\\site-packages\\seaborn\\distributions.py:2557: FutureWarning: `distplot` is a deprecated function and will be removed in a future version. Please adapt your code to use either `displot` (a figure-level function with similar flexibility) or `histplot` (an axes-level function for histograms).\n",
      "  warnings.warn(msg, FutureWarning)\n"
     ]
    },
    {
     "data": {
      "text/plain": [
       "<AxesSubplot:ylabel='Density'>"
      ]
     },
     "execution_count": 56,
     "metadata": {},
     "output_type": "execute_result"
    },
    {
     "data": {
      "image/png": "[encoded data removed]",
      "text/plain": [
       "<Figure size 432x288 with 1 Axes>"
      ]
     },
     "metadata": {
      "needs_background": "light"
     },
     "output_type": "display_data"
    }
   ],
   "source": [
    "#Just check for log transformation\n",
    "sns.distplot(np.log(data1))"
   ]
  },
  {
   "cell_type": "code",
   "execution_count": 57,
   "id": "a7326e5b-6500-4c1b-af45-0c80a7cba9d9",
   "metadata": {},
   "outputs": [
    {
     "name": "stderr",
     "output_type": "stream",
     "text": [
      "C:\\Users\\davea\\anaconda3\\lib\\site-packages\\seaborn\\distributions.py:2557: FutureWarning: `distplot` is a deprecated function and will be removed in a future version. Please adapt your code to use either `displot` (a figure-level function with similar flexibility) or `histplot` (an axes-level function for histograms).\n",
      "  warnings.warn(msg, FutureWarning)\n"
     ]
    },
    {
     "data": {
      "text/plain": [
       "<AxesSubplot:ylabel='Density'>"
      ]
     },
     "execution_count": 57,
     "metadata": {},
     "output_type": "execute_result"
    },
    {
     "data": {
      "image/png": "[encoded data removed]",
      "text/plain": [
       "<Figure size 432x288 with 1 Axes>"
      ]
     },
     "metadata": {
      "needs_background": "light"
     },
     "output_type": "display_data"
    }
   ],
   "source": [
    "sns.distplot(np.log(np.log(data1)))"
   ]
  },
  {
   "cell_type": "code",
   "execution_count": 58,
   "id": "76fa45a8-f4e6-4f90-8071-1d2a8e8429be",
   "metadata": {},
   "outputs": [],
   "source": [
    "# see the magic of data...without loosing the data info..."
   ]
  },
  {
   "cell_type": "code",
   "execution_count": 59,
   "id": "66f0c1ac-c9c4-4200-9053-800948e4268f",
   "metadata": {},
   "outputs": [
    {
     "name": "stderr",
     "output_type": "stream",
     "text": [
      "C:\\Users\\davea\\anaconda3\\lib\\site-packages\\seaborn\\distributions.py:2557: FutureWarning: `distplot` is a deprecated function and will be removed in a future version. Please adapt your code to use either `displot` (a figure-level function with similar flexibility) or `histplot` (an axes-level function for histograms).\n",
      "  warnings.warn(msg, FutureWarning)\n"
     ]
    },
    {
     "data": {
      "text/plain": [
       "<AxesSubplot:ylabel='Density'>"
      ]
     },
     "execution_count": 59,
     "metadata": {},
     "output_type": "execute_result"
    },
    {
     "data": {
      "image/png": "[encoded data removed]",
      "text/plain": [
       "<Figure size 432x288 with 1 Axes>"
      ]
     },
     "metadata": {
      "needs_background": "light"
     },
     "output_type": "display_data"
    }
   ],
   "source": [
    "sns.distplot(np.log(np.log(np.log(data1))))"
   ]
  },
  {
   "cell_type": "code",
   "execution_count": null,
   "id": "fdbc191e-ebd6-4470-a02d-87d70d44edb4",
   "metadata": {},
   "outputs": [],
   "source": [
    "# statistics is the emotions of the data"
   ]
  }
 ],
 "metadata": {
  "kernelspec": {
   "display_name": "Python 3",
   "language": "python",
   "name": "python3"
  },
  "language_info": {
   "codemirror_mode": {
    "name": "ipython",
    "version": 3
   },
   "file_extension": ".py",
   "mimetype": "text/x-python",
   "name": "python",
   "nbconvert_exporter": "python",
   "pygments_lexer": "ipython3",
   "version": "3.8.8"
  }
 },
 "nbformat": 4,
 "nbformat_minor": 5
}
