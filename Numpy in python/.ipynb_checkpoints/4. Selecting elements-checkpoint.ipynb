{
 "cells": [
  {
   "cell_type": "code",
   "execution_count": 1,
   "id": "91292e18-ab21-42a0-a0ec-99cf83bb44e6",
   "metadata": {},
   "outputs": [],
   "source": [
    "# import numpy\n",
    "import numpy as np"
   ]
  },
  {
   "cell_type": "code",
   "execution_count": 2,
   "id": "eb2a62d7-00b4-4e2a-84de-5e69a4ff6dd8",
   "metadata": {},
   "outputs": [],
   "source": [
    "data1 = np.random.randint(0,100,9)"
   ]
  },
  {
   "cell_type": "code",
   "execution_count": 3,
   "id": "7a403340-59da-4a34-9bcc-08fac89d45fa",
   "metadata": {},
   "outputs": [
    {
     "data": {
      "text/plain": [
       "array([47, 72, 22, 29, 10, 25, 33, 68, 21])"
      ]
     },
     "execution_count": 3,
     "metadata": {},
     "output_type": "execute_result"
    }
   ],
   "source": [
    "data1"
   ]
  },
  {
   "cell_type": "code",
   "execution_count": 4,
   "id": "565a57b1-bb12-4eba-beb7-289452968326",
   "metadata": {},
   "outputs": [
    {
     "data": {
      "text/plain": [
       "29"
      ]
     },
     "execution_count": 4,
     "metadata": {},
     "output_type": "execute_result"
    }
   ],
   "source": [
    "#Extracting 4th element in the list \n",
    "data1[3]"
   ]
  },
  {
   "cell_type": "code",
   "execution_count": 5,
   "id": "32547fa0-ffeb-4422-9687-7b4d5d57b644",
   "metadata": {},
   "outputs": [
    {
     "data": {
      "text/plain": [
       "array([29, 10, 25, 33])"
      ]
     },
     "execution_count": 5,
     "metadata": {},
     "output_type": "execute_result"
    }
   ],
   "source": [
    "data1[3:7]"
   ]
  },
  {
   "cell_type": "code",
   "execution_count": 6,
   "id": "3ec9f656-5b0a-4595-8645-4fbca9c236ff",
   "metadata": {},
   "outputs": [],
   "source": [
    "data2 = data1.reshape(3,3)"
   ]
  },
  {
   "cell_type": "code",
   "execution_count": 7,
   "id": "db28e987-1857-4f51-b347-3bae6c4472a9",
   "metadata": {},
   "outputs": [
    {
     "data": {
      "text/plain": [
       "array([[47, 72, 22],\n",
       "       [29, 10, 25],\n",
       "       [33, 68, 21]])"
      ]
     },
     "execution_count": 7,
     "metadata": {},
     "output_type": "execute_result"
    }
   ],
   "source": [
    "data2"
   ]
  },
  {
   "cell_type": "code",
   "execution_count": 8,
   "id": "4a2f0d44-2612-4cb2-afc3-777ad46bf6a3",
   "metadata": {},
   "outputs": [
    {
     "data": {
      "text/plain": [
       "array([[29, 10, 25]])"
      ]
     },
     "execution_count": 8,
     "metadata": {},
     "output_type": "execute_result"
    }
   ],
   "source": [
    "data2[1:2] # 2nd row and 3 columns"
   ]
  },
  {
   "cell_type": "code",
   "execution_count": 9,
   "id": "03621ac4-1a34-4fad-a79d-fe92dec6f0fa",
   "metadata": {},
   "outputs": [
    {
     "data": {
      "text/plain": [
       "21"
      ]
     },
     "execution_count": 9,
     "metadata": {},
     "output_type": "execute_result"
    }
   ],
   "source": [
    "data2[2,2]"
   ]
  },
  {
   "cell_type": "code",
   "execution_count": 10,
   "id": "67e6fb73-5b75-4a7a-9da7-6599b928556b",
   "metadata": {},
   "outputs": [
    {
     "data": {
      "text/plain": [
       "21"
      ]
     },
     "execution_count": 10,
     "metadata": {},
     "output_type": "execute_result"
    }
   ],
   "source": [
    "data2[2][2]"
   ]
  },
  {
   "cell_type": "code",
   "execution_count": 11,
   "id": "e2277b96-466a-4350-9a02-1716927ed386",
   "metadata": {},
   "outputs": [
    {
     "data": {
      "text/plain": [
       "array([33])"
      ]
     },
     "execution_count": 11,
     "metadata": {},
     "output_type": "execute_result"
    }
   ],
   "source": [
    "data2[2,:1]"
   ]
  },
  {
   "cell_type": "code",
   "execution_count": 12,
   "id": "a982f2f2-f7b5-4d08-b559-bb04a8121a88",
   "metadata": {},
   "outputs": [
    {
     "data": {
      "text/plain": [
       "array([[47, 72],\n",
       "       [29, 10]])"
      ]
     },
     "execution_count": 12,
     "metadata": {},
     "output_type": "execute_result"
    }
   ],
   "source": [
    "# syntax for extracting elements \n",
    "# data[starting row: ending row, starting column: ending column]\n",
    "data2[0:2,0:2]"
   ]
  },
  {
   "cell_type": "code",
   "execution_count": 13,
   "id": "5eefa13d-f966-45a5-b435-c88de44cd09f",
   "metadata": {},
   "outputs": [
    {
     "data": {
      "text/plain": [
       "array([[10, 25],\n",
       "       [68, 21]])"
      ]
     },
     "execution_count": 13,
     "metadata": {},
     "output_type": "execute_result"
    }
   ],
   "source": [
    "data2[1:3,1:3]"
   ]
  },
  {
   "cell_type": "code",
   "execution_count": 14,
   "id": "b80ed1dc-46c4-4b8b-b2ea-a84e1593b248",
   "metadata": {},
   "outputs": [
    {
     "data": {
      "text/plain": [
       "array([[10, 25],\n",
       "       [68, 21]])"
      ]
     },
     "execution_count": 14,
     "metadata": {},
     "output_type": "execute_result"
    }
   ],
   "source": [
    "data2[1:,1:]"
   ]
  },
  {
   "cell_type": "code",
   "execution_count": 15,
   "id": "69c3b59f-852e-42b3-870b-129e494f1095",
   "metadata": {},
   "outputs": [
    {
     "data": {
      "text/plain": [
       "array([[47, 72, 22],\n",
       "       [29, 10, 25],\n",
       "       [33, 68, 21]])"
      ]
     },
     "execution_count": 15,
     "metadata": {},
     "output_type": "execute_result"
    }
   ],
   "source": [
    "# Fancy indexing to extract different elements in the array\n",
    "data2"
   ]
  },
  {
   "cell_type": "code",
   "execution_count": 16,
   "id": "decd0e81-68ce-40b8-8ddd-e30f245057b0",
   "metadata": {},
   "outputs": [],
   "source": [
    "# extract [96 32]\n",
    "#         [87 10]\n",
    "#Fancy indexing helps to extract\n",
    "#     rows indexing.  column indexing\n",
    "# 96      0.             0.\n",
    "# 32      0.             2.\n",
    "# 87      2.             0.\n",
    "# 10      2.             2."
   ]
  },
  {
   "cell_type": "code",
   "execution_count": 17,
   "id": "252e1a31-46b0-47c2-83bd-c90a5d582080",
   "metadata": {},
   "outputs": [
    {
     "data": {
      "text/plain": [
       "array([47, 22, 33, 21])"
      ]
     },
     "execution_count": 17,
     "metadata": {},
     "output_type": "execute_result"
    }
   ],
   "source": [
    "# syntex\n",
    "# arrayname[ [Row index], [column index]]\n",
    "data2[[0,0,2,2], [0,2,0,2]]"
   ]
  },
  {
   "cell_type": "code",
   "execution_count": 18,
   "id": "b526e217-8ded-4c7a-907d-fa2b9b4c0893",
   "metadata": {},
   "outputs": [
    {
     "data": {
      "text/plain": [
       "numpy.ndarray"
      ]
     },
     "execution_count": 18,
     "metadata": {},
     "output_type": "execute_result"
    }
   ],
   "source": [
    "type(data2)"
   ]
  },
  {
   "cell_type": "code",
   "execution_count": 19,
   "id": "f1861250-9a75-4700-b2a6-684dc10c688c",
   "metadata": {},
   "outputs": [
    {
     "data": {
      "text/plain": [
       "(3, 3)"
      ]
     },
     "execution_count": 19,
     "metadata": {},
     "output_type": "execute_result"
    }
   ],
   "source": [
    "data2.shape"
   ]
  },
  {
   "cell_type": "code",
   "execution_count": 20,
   "id": "a9a9561b-0cab-4079-a7ad-73be88f01589",
   "metadata": {},
   "outputs": [
    {
     "data": {
      "text/plain": [
       "2"
      ]
     },
     "execution_count": 20,
     "metadata": {},
     "output_type": "execute_result"
    }
   ],
   "source": [
    "data2.ndim"
   ]
  },
  {
   "cell_type": "code",
   "execution_count": 21,
   "id": "50e6596b-b11f-4960-998d-f7655d0c9332",
   "metadata": {},
   "outputs": [
    {
     "data": {
      "text/plain": [
       "array([[47, 22],\n",
       "       [33, 21]])"
      ]
     },
     "execution_count": 21,
     "metadata": {},
     "output_type": "execute_result"
    }
   ],
   "source": [
    "# but for 2*2 shape array\n",
    "data2[[0,0,2,2],[0,2,0,2]].reshape(2,2)"
   ]
  },
  {
   "cell_type": "code",
   "execution_count": 22,
   "id": "a17b41e7-9273-4db3-bfa9-0df271be89dc",
   "metadata": {},
   "outputs": [
    {
     "ename": "ValueError",
     "evalue": "cannot reshape array of size 4 into shape (5,5)",
     "output_type": "error",
     "traceback": [
      "\u001b[1;31m---------------------------------------------------------------------------\u001b[0m",
      "\u001b[1;31mValueError\u001b[0m                                Traceback (most recent call last)",
      "\u001b[1;32m<ipython-input-22-0e5d2b3f3d33>\u001b[0m in \u001b[0;36m<module>\u001b[1;34m\u001b[0m\n\u001b[1;32m----> 1\u001b[1;33m \u001b[0mdataExercise\u001b[0m \u001b[1;33m=\u001b[0m \u001b[0mnp\u001b[0m\u001b[1;33m.\u001b[0m\u001b[0marange\u001b[0m\u001b[1;33m(\u001b[0m\u001b[1;36m0\u001b[0m\u001b[1;33m,\u001b[0m\u001b[1;36m100\u001b[0m\u001b[1;33m,\u001b[0m\u001b[1;36m25\u001b[0m\u001b[1;33m)\u001b[0m\u001b[1;33m.\u001b[0m\u001b[0mreshape\u001b[0m\u001b[1;33m(\u001b[0m\u001b[1;36m5\u001b[0m\u001b[1;33m,\u001b[0m\u001b[1;36m5\u001b[0m\u001b[1;33m)\u001b[0m\u001b[1;33m\u001b[0m\u001b[1;33m\u001b[0m\u001b[0m\n\u001b[0m",
      "\u001b[1;31mValueError\u001b[0m: cannot reshape array of size 4 into shape (5,5)"
     ]
    }
   ],
   "source": [
    "dataExercise = np.arange(0,100,25).reshape(5,5)"
   ]
  },
  {
   "cell_type": "code",
   "execution_count": 23,
   "id": "6e3123f4-0a87-40c7-bc56-2a1951187083",
   "metadata": {},
   "outputs": [],
   "source": [
    "dataExcercise =np.arange(0,100,25)"
   ]
  },
  {
   "cell_type": "code",
   "execution_count": 24,
   "id": "bf6d6df4-6c75-4942-bb98-b8bb45e261a2",
   "metadata": {},
   "outputs": [
    {
     "ename": "NameError",
     "evalue": "name 'dataExercise' is not defined",
     "output_type": "error",
     "traceback": [
      "\u001b[1;31m---------------------------------------------------------------------------\u001b[0m",
      "\u001b[1;31mNameError\u001b[0m                                 Traceback (most recent call last)",
      "\u001b[1;32m<ipython-input-24-ac47d4d44059>\u001b[0m in \u001b[0;36m<module>\u001b[1;34m\u001b[0m\n\u001b[1;32m----> 1\u001b[1;33m \u001b[0mdataExercise\u001b[0m\u001b[1;33m\u001b[0m\u001b[1;33m\u001b[0m\u001b[0m\n\u001b[0m",
      "\u001b[1;31mNameError\u001b[0m: name 'dataExercise' is not defined"
     ]
    }
   ],
   "source": [
    "dataExercise"
   ]
  },
  {
   "cell_type": "code",
   "execution_count": 25,
   "id": "cdadae46-78b1-4f59-a5cd-9cd6bff176df",
   "metadata": {},
   "outputs": [],
   "source": [
    "dataExcercise = np.arange(0,100)"
   ]
  },
  {
   "cell_type": "code",
   "execution_count": 26,
   "id": "fac23cf4-2155-4bae-9faf-8bd1bbb14e8a",
   "metadata": {},
   "outputs": [
    {
     "data": {
      "text/plain": [
       "array([ 0,  1,  2,  3,  4,  5,  6,  7,  8,  9, 10, 11, 12, 13, 14, 15, 16,\n",
       "       17, 18, 19, 20, 21, 22, 23, 24, 25, 26, 27, 28, 29, 30, 31, 32, 33,\n",
       "       34, 35, 36, 37, 38, 39, 40, 41, 42, 43, 44, 45, 46, 47, 48, 49, 50,\n",
       "       51, 52, 53, 54, 55, 56, 57, 58, 59, 60, 61, 62, 63, 64, 65, 66, 67,\n",
       "       68, 69, 70, 71, 72, 73, 74, 75, 76, 77, 78, 79, 80, 81, 82, 83, 84,\n",
       "       85, 86, 87, 88, 89, 90, 91, 92, 93, 94, 95, 96, 97, 98, 99])"
      ]
     },
     "execution_count": 26,
     "metadata": {},
     "output_type": "execute_result"
    }
   ],
   "source": [
    "dataExcercise"
   ]
  },
  {
   "cell_type": "code",
   "execution_count": 27,
   "id": "65f6e382-f6c1-42fa-84cf-dd80ab3c5df9",
   "metadata": {},
   "outputs": [],
   "source": [
    "dataExcercise1 = np.arange(0,100,10)"
   ]
  },
  {
   "cell_type": "code",
   "execution_count": 28,
   "id": "4941d7b7-3bd1-49a6-b48e-52d71fa4fe8c",
   "metadata": {},
   "outputs": [
    {
     "data": {
      "text/plain": [
       "array([ 0, 10, 20, 30, 40, 50, 60, 70, 80, 90])"
      ]
     },
     "execution_count": 28,
     "metadata": {},
     "output_type": "execute_result"
    }
   ],
   "source": [
    "dataExcercise1"
   ]
  },
  {
   "cell_type": "code",
   "execution_count": 29,
   "id": "45d9bc98-92ee-4508-b5ce-01f53bb3ea60",
   "metadata": {},
   "outputs": [],
   "source": [
    "data2Ex = np.arange(0,100,25)"
   ]
  },
  {
   "cell_type": "code",
   "execution_count": 30,
   "id": "9b1a4ce7-b614-4973-b65f-ca020b54d92b",
   "metadata": {},
   "outputs": [
    {
     "data": {
      "text/plain": [
       "array([ 0, 25, 50, 75])"
      ]
     },
     "execution_count": 30,
     "metadata": {},
     "output_type": "execute_result"
    }
   ],
   "source": [
    "data2Ex"
   ]
  },
  {
   "cell_type": "code",
   "execution_count": 31,
   "id": "1bf7f208-5144-48dd-b0ae-a6fb07d6765c",
   "metadata": {},
   "outputs": [
    {
     "data": {
      "text/plain": [
       "array([[ 0, 25],\n",
       "       [50, 75]])"
      ]
     },
     "execution_count": 31,
     "metadata": {},
     "output_type": "execute_result"
    }
   ],
   "source": [
    "data2Ex.reshape(2,2)"
   ]
  },
  {
   "cell_type": "code",
   "execution_count": 32,
   "id": "347c5586-b768-4fab-8b44-a7895fc614c2",
   "metadata": {},
   "outputs": [],
   "source": [
    "data2Exercise = np.arange(0,100,4).reshape(5,5)"
   ]
  },
  {
   "cell_type": "code",
   "execution_count": 33,
   "id": "63a84381-872f-4deb-be0a-14fdb7c3c9b5",
   "metadata": {},
   "outputs": [
    {
     "data": {
      "text/plain": [
       "array([[ 0,  4,  8, 12, 16],\n",
       "       [20, 24, 28, 32, 36],\n",
       "       [40, 44, 48, 52, 56],\n",
       "       [60, 64, 68, 72, 76],\n",
       "       [80, 84, 88, 92, 96]])"
      ]
     },
     "execution_count": 33,
     "metadata": {},
     "output_type": "execute_result"
    }
   ],
   "source": [
    "data2Exercise"
   ]
  },
  {
   "cell_type": "code",
   "execution_count": 36,
   "id": "0786deb7-7885-4061-b204-f9ec8208ddf3",
   "metadata": {},
   "outputs": [
    {
     "data": {
      "text/plain": [
       "array([[24, 28, 32],\n",
       "       [64, 68, 72]])"
      ]
     },
     "execution_count": 36,
     "metadata": {},
     "output_type": "execute_result"
    }
   ],
   "source": [
    "# Extract24,28,32\n",
    "# extract 64,68,72\n",
    "data2Exercise[[1,1,1,3,3,3],[1,2,3,1,2,3]].reshape(2,3)"
   ]
  },
  {
   "cell_type": "code",
   "execution_count": 38,
   "id": "5de1788f-4a3e-4a6f-a21d-79ea05d330bb",
   "metadata": {},
   "outputs": [
    {
     "data": {
      "text/plain": [
       "array([[24, 28, 32, 36],\n",
       "       [44, 48, 52, 56]])"
      ]
     },
     "execution_count": 38,
     "metadata": {},
     "output_type": "execute_result"
    }
   ],
   "source": [
    "# range method to extract the elements \n",
    "data2Exercise[1:3,1:5]"
   ]
  },
  {
   "cell_type": "code",
   "execution_count": null,
   "id": "3bada724-6709-4def-a0d4-634234a86f6d",
   "metadata": {},
   "outputs": [],
   "source": []
  }
 ],
 "metadata": {
  "kernelspec": {
   "display_name": "Python 3",
   "language": "python",
   "name": "python3"
  },
  "language_info": {
   "codemirror_mode": {
    "name": "ipython",
    "version": 3
   },
   "file_extension": ".py",
   "mimetype": "text/x-python",
   "name": "python",
   "nbconvert_exporter": "python",
   "pygments_lexer": "ipython3",
   "version": "3.8.8"
  }
 },
 "nbformat": 4,
 "nbformat_minor": 5
}
