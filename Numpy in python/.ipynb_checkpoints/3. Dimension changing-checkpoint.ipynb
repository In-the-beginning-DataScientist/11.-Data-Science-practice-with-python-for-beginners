{
 "cells": [
  {
   "cell_type": "code",
   "execution_count": 1,
   "id": "f76edc25-0ba5-4cde-b8e5-de282b738a62",
   "metadata": {},
   "outputs": [],
   "source": [
    "# changing dimensions in arrays"
   ]
  },
  {
   "cell_type": "code",
   "execution_count": null,
   "id": "d5ca4452-15dd-46bf-9b40-374a54c0ad16",
   "metadata": {},
   "outputs": [],
   "source": []
  }
 ],
 "metadata": {
  "kernelspec": {
   "display_name": "Python 3",
   "language": "python",
   "name": "python3"
  },
  "language_info": {
   "codemirror_mode": {
    "name": "ipython",
    "version": 3
   },
   "file_extension": ".py",
   "mimetype": "text/x-python",
   "name": "python",
   "nbconvert_exporter": "python",
   "pygments_lexer": "ipython3",
   "version": "3.8.8"
  }
 },
 "nbformat": 4,
 "nbformat_minor": 5
}
