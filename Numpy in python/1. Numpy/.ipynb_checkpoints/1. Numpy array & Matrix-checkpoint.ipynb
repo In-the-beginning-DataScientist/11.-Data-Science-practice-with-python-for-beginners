{
 "cells": [
  {
   "cell_type": "markdown",
   "id": "2b9cc49c-1813-46b2-9af0-bf968e90f47b",
   "metadata": {},
   "source": [
    "# Numpy array in pyhton\n",
    "# what is numpy\n",
    "### 1. its an external package used to work ARRAYS AND MATRIX\n",
    "### 2. ARRAY AND MATRIX are different aspects in Numpy\n",
    "### 3. Array is not a matrix\n",
    "### 4. while work with numpy in python, we need to decide whether to take in arrays or matrix..\n"
   ]
  },
  {
   "cell_type": "markdown",
   "id": "e6ab5b90-a05d-46d5-aa61-c4648a697aeb",
   "metadata": {},
   "source": [
    "## 1. what is array\n",
    "### Its a collection of similar items/elements\n",
    "### In general, for production environment, anaconda will not be used , there seperate environment , there python will be installed as organisation version, then pip install numpy then import....\n",
    "### that is for security purpose we will do all the above."
   ]
  },
  {
   "cell_type": "code",
   "execution_count": 5,
   "id": "7ab60d76-2916-4dc5-b9b2-7dda7a63aa8d",
   "metadata": {},
   "outputs": [
    {
     "name": "stdout",
     "output_type": "stream",
     "text": [
      "Requirement already satisfied: numpy in c:\\users\\davea\\anaconda3\\lib\\site-packages (1.20.1)\n"
     ]
    }
   ],
   "source": [
    "# Install numpy\n",
    "!pip install numpy"
   ]
  },
  {
   "cell_type": "code",
   "execution_count": 6,
   "id": "eb844080-d7be-4445-8e5b-fc5a54c86acf",
   "metadata": {},
   "outputs": [],
   "source": [
    "# import numpy\n",
    "import numpy as np"
   ]
  },
  {
   "cell_type": "code",
   "execution_count": 8,
   "id": "4e8c3c69-b38a-44a5-a459-743c466af45c",
   "metadata": {},
   "outputs": [
    {
     "data": {
      "text/plain": [
       "array([1, 2, 3, 4, 5, 6])"
      ]
     },
     "execution_count": 8,
     "metadata": {},
     "output_type": "execute_result"
    }
   ],
   "source": [
    "# To creat 1-D array (it looks like a list)\n",
    "list = [1,2,3,4,5,6]\n",
    "oneDimArrayExample = np.array(list)\n",
    "oneDimArrayExample"
   ]
  },
  {
   "cell_type": "code",
   "execution_count": 12,
   "id": "ce96047a-b7a3-4da1-b7d4-8a0d6a55ebdd",
   "metadata": {},
   "outputs": [
    {
     "data": {
      "text/plain": [
       "(6,)"
      ]
     },
     "execution_count": 12,
     "metadata": {},
     "output_type": "execute_result"
    }
   ],
   "source": [
    "oneDimArrayExample.shape"
   ]
  },
  {
   "cell_type": "code",
   "execution_count": 13,
   "id": "13751803-a9d2-49f4-9143-53471556ac20",
   "metadata": {},
   "outputs": [
    {
     "data": {
      "text/plain": [
       "numpy.ndarray"
      ]
     },
     "execution_count": 13,
     "metadata": {},
     "output_type": "execute_result"
    }
   ],
   "source": [
    "type(oneDimArrayExample)"
   ]
  },
  {
   "cell_type": "markdown",
   "id": "624cca04-1787-4160-9fb7-922e7accfe41",
   "metadata": {},
   "source": [
    "####-- without Numpy, Python also allows us to creat an array but it is memory exhaust\\  \n",
    "####-- if you want use RAM effectively when you are working with BIG DATA especially \\\n",
    "####--- Better use NUMPY Array rather than Python array, reason is memory Optimization, otherwise no iisues with python array to use."
   ]
  },
  {
   "cell_type": "code",
   "execution_count": 15,
   "id": "b4f87139-2826-41f0-9712-b40a05748e31",
   "metadata": {},
   "outputs": [
    {
     "data": {
      "text/plain": [
       "1"
      ]
     },
     "execution_count": 15,
     "metadata": {},
     "output_type": "execute_result"
    }
   ],
   "source": [
    "# define number of dimensions in np.array\n",
    "oneDimArrayExample.ndim"
   ]
  },
  {
   "cell_type": "code",
   "execution_count": 16,
   "id": "54f7c101-38a7-4863-8db8-c257ec321dd2",
   "metadata": {},
   "outputs": [],
   "source": [
    "# two dimensional array..it looks exactly like matrix but not so.\n",
    "twoDimArray = np.array([\n",
    "    [],\n",
    "    [],\n",
    "    [],\n",
    "])\n",
    "# this example of 3*3 dimensional array"
   ]
  },
  {
   "cell_type": "code",
   "execution_count": 17,
   "id": "105f7e71-951b-424f-a11b-0fd31b94a0d1",
   "metadata": {},
   "outputs": [],
   "source": [
    "twoDimArray = np.array([\n",
    "    [1,2,3],\n",
    "    [4,5,6],\n",
    "    [7,8,9]\n",
    "])"
   ]
  },
  {
   "cell_type": "code",
   "execution_count": 18,
   "id": "e5393254-baa8-480d-9f3e-e79ba09bc6c1",
   "metadata": {},
   "outputs": [
    {
     "data": {
      "text/plain": [
       "array([[1, 2, 3],\n",
       "       [4, 5, 6],\n",
       "       [7, 8, 9]])"
      ]
     },
     "execution_count": 18,
     "metadata": {},
     "output_type": "execute_result"
    }
   ],
   "source": [
    "twoDimArray"
   ]
  },
  {
   "cell_type": "code",
   "execution_count": 19,
   "id": "1e7073c6-11b0-4b2a-8681-5fdde23764b4",
   "metadata": {},
   "outputs": [
    {
     "data": {
      "text/plain": [
       "2"
      ]
     },
     "execution_count": 19,
     "metadata": {},
     "output_type": "execute_result"
    }
   ],
   "source": [
    "twoDimArray.ndim"
   ]
  },
  {
   "cell_type": "code",
   "execution_count": 20,
   "id": "00d5e32f-44b4-45dc-90df-29932f2cc7cf",
   "metadata": {},
   "outputs": [
    {
     "data": {
      "text/plain": [
       "(3, 3)"
      ]
     },
     "execution_count": 20,
     "metadata": {},
     "output_type": "execute_result"
    }
   ],
   "source": [
    "twoDimArray.shape"
   ]
  },
  {
   "cell_type": "code",
   "execution_count": 21,
   "id": "47459df8-5585-4c32-ac36-63f06f1ea52f",
   "metadata": {},
   "outputs": [
    {
     "data": {
      "text/plain": [
       "numpy.ndarray"
      ]
     },
     "execution_count": 21,
     "metadata": {},
     "output_type": "execute_result"
    }
   ],
   "source": [
    "type(twoDimArray)"
   ]
  },
  {
   "cell_type": "markdown",
   "id": "00c8aa19-f073-48ea-858b-8ae5bffd2db1",
   "metadata": {},
   "source": [
    "#### Big difference between Array and matrix in numpy\n",
    "#### In Arrays, elementwise operation, always it takes same element of different arrays (1*1, 2*2....should be used np.array()\n",
    "#### But in Matrix, its not the case, it will multiple rows to columns...should be used np.matrix()\n",
    "####\n",
    "#### you need not use loops to perform multiplication in python, automatically it will give us to do the same with formula"
   ]
  },
  {
   "cell_type": "code",
   "execution_count": 24,
   "id": "69d4c6d5-e97b-4624-8a69-d59ddc345648",
   "metadata": {},
   "outputs": [
    {
     "data": {
      "text/plain": [
       "array([[ 1,  4,  9],\n",
       "       [16, 25, 36],\n",
       "       [49, 64, 81]])"
      ]
     },
     "execution_count": 24,
     "metadata": {},
     "output_type": "execute_result"
    }
   ],
   "source": [
    "# Multiplication two array \n",
    "# In arrays, element wise operation\n",
    "twoDimArray * twoDimArray"
   ]
  },
  {
   "cell_type": "code",
   "execution_count": 25,
   "id": "c6453478-e86e-4ca3-8a2e-190e0ee111a5",
   "metadata": {},
   "outputs": [],
   "source": [
    "# In Matrix # rows and columns operations\n",
    "twoDimMatrix = np.matrix([\n",
    "    [1,2,3],\n",
    "    [4,5,6],\n",
    "    [7,8,9]\n",
    "])\n"
   ]
  },
  {
   "cell_type": "code",
   "execution_count": 26,
   "id": "e32da124-1257-4129-8351-fdfab0954164",
   "metadata": {},
   "outputs": [
    {
     "data": {
      "text/plain": [
       "matrix([[1, 2, 3],\n",
       "        [4, 5, 6],\n",
       "        [7, 8, 9]])"
      ]
     },
     "execution_count": 26,
     "metadata": {},
     "output_type": "execute_result"
    }
   ],
   "source": [
    "twoDimMatrix"
   ]
  },
  {
   "cell_type": "code",
   "execution_count": 27,
   "id": "9c0b5efe-0a1d-45cf-96db-3614f97fb4f5",
   "metadata": {},
   "outputs": [
    {
     "data": {
      "text/plain": [
       "(3, 3)"
      ]
     },
     "execution_count": 27,
     "metadata": {},
     "output_type": "execute_result"
    }
   ],
   "source": [
    "twoDimMatrix.shape"
   ]
  },
  {
   "cell_type": "code",
   "execution_count": 28,
   "id": "b5383e8c-9453-480c-b452-48c054170051",
   "metadata": {},
   "outputs": [
    {
     "data": {
      "text/plain": [
       "2"
      ]
     },
     "execution_count": 28,
     "metadata": {},
     "output_type": "execute_result"
    }
   ],
   "source": [
    "twoDimMatrix.ndim"
   ]
  },
  {
   "cell_type": "code",
   "execution_count": 29,
   "id": "323663a5-4e74-4de0-93bb-a7bb40aa1383",
   "metadata": {},
   "outputs": [
    {
     "data": {
      "text/plain": [
       "numpy.matrix"
      ]
     },
     "execution_count": 29,
     "metadata": {},
     "output_type": "execute_result"
    }
   ],
   "source": [
    "type(twoDimMatrix)"
   ]
  },
  {
   "cell_type": "code",
   "execution_count": 30,
   "id": "1a2ec524-9a47-4b40-b519-8d754b9089d8",
   "metadata": {},
   "outputs": [
    {
     "data": {
      "text/plain": [
       "matrix([[ 30,  36,  42],\n",
       "        [ 66,  81,  96],\n",
       "        [102, 126, 150]])"
      ]
     },
     "execution_count": 30,
     "metadata": {},
     "output_type": "execute_result"
    }
   ],
   "source": [
    "twoDimMatrix * twoDimMatrix"
   ]
  },
  {
   "cell_type": "code",
   "execution_count": 31,
   "id": "beccb894-2a90-4256-994b-ec1ee6b3f4ae",
   "metadata": {},
   "outputs": [
    {
     "data": {
      "text/plain": [
       "array([[ 1,  4,  9],\n",
       "       [16, 25, 36],\n",
       "       [49, 64, 81]])"
      ]
     },
     "execution_count": 31,
     "metadata": {},
     "output_type": "execute_result"
    }
   ],
   "source": [
    "twoDimArray * twoDimArray"
   ]
  },
  {
   "cell_type": "code",
   "execution_count": 32,
   "id": "890a1c72-99cc-4bd7-a8c3-0af889e19ff9",
   "metadata": {},
   "outputs": [],
   "source": [
    "# In Data Science world , Majorily Arrays will be used.\n",
    "# Matrix basically used in Image classification/segmentation and image processing in DL"
   ]
  },
  {
   "cell_type": "code",
   "execution_count": 33,
   "id": "0dc94e08-1c43-4851-b53e-0782b9d8a272",
   "metadata": {},
   "outputs": [],
   "source": [
    "# All arthimetic operations canbe done in numpy"
   ]
  },
  {
   "cell_type": "code",
   "execution_count": 34,
   "id": "ed942e22-7a90-463f-8c53-58f2f583e120",
   "metadata": {},
   "outputs": [
    {
     "data": {
      "text/plain": [
       "array([[  1,   8,  27],\n",
       "       [ 64, 125, 216],\n",
       "       [343, 512, 729]], dtype=int32)"
      ]
     },
     "execution_count": 34,
     "metadata": {},
     "output_type": "execute_result"
    }
   ],
   "source": [
    "twoDimArray **3"
   ]
  },
  {
   "cell_type": "code",
   "execution_count": 35,
   "id": "ead615cf-416b-4309-a4c6-97bb3c710daa",
   "metadata": {},
   "outputs": [
    {
     "data": {
      "text/plain": [
       "array([[0.5, 1. , 1.5],\n",
       "       [2. , 2.5, 3. ],\n",
       "       [3.5, 4. , 4.5]])"
      ]
     },
     "execution_count": 35,
     "metadata": {},
     "output_type": "execute_result"
    }
   ],
   "source": [
    "twoDimArray / 2"
   ]
  },
  {
   "cell_type": "code",
   "execution_count": 38,
   "id": "3a093170-c9d0-4f5a-9a65-5ea9d0784186",
   "metadata": {},
   "outputs": [
    {
     "data": {
      "text/plain": [
       "matrix([[ 468,  576,  684],\n",
       "        [1062, 1305, 1548],\n",
       "        [1656, 2034, 2412]])"
      ]
     },
     "execution_count": 38,
     "metadata": {},
     "output_type": "execute_result"
    }
   ],
   "source": [
    "twoDimMatrix **3"
   ]
  },
  {
   "cell_type": "code",
   "execution_count": null,
   "id": "26fc28eb-8387-4594-9493-a59408ef21cd",
   "metadata": {},
   "outputs": [],
   "source": []
  }
 ],
 "metadata": {
  "kernelspec": {
   "display_name": "Python 3",
   "language": "python",
   "name": "python3"
  },
  "language_info": {
   "codemirror_mode": {
    "name": "ipython",
    "version": 3
   },
   "file_extension": ".py",
   "mimetype": "text/x-python",
   "name": "python",
   "nbconvert_exporter": "python",
   "pygments_lexer": "ipython3",
   "version": "3.8.8"
  }
 },
 "nbformat": 4,
 "nbformat_minor": 5
}
