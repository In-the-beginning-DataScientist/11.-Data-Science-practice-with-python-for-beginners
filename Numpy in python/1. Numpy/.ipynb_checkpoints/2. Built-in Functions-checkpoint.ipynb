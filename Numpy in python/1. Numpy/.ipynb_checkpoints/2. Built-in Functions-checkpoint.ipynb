{
 "cells": [
  {
   "cell_type": "code",
   "execution_count": 1,
   "id": "99265c24-bfaf-4df4-aaca-c3c5566b2b5f",
   "metadata": {},
   "outputs": [],
   "source": [
    "# import numpy\n",
    "import numpy as np"
   ]
  },
  {
   "cell_type": "markdown",
   "id": "536494cd-ebe0-4d70-a8a0-ddb181e25425",
   "metadata": {},
   "source": [
    "# Built-in Functions"
   ]
  },
  {
   "cell_type": "code",
   "execution_count": 2,
   "id": "4cb3fa9f-c719-4292-9ff1-75ed5c020416",
   "metadata": {},
   "outputs": [],
   "source": [
    "# 1. Arange -Return evenly spaces values for the given interval\n",
    "# syntax : np.arange(start_value, upperbound_value, step_size)"
   ]
  },
  {
   "cell_type": "code",
   "execution_count": 3,
   "id": "266d6bc2-fae7-42a2-a35c-f7fbfb057faf",
   "metadata": {},
   "outputs": [],
   "source": [
    "evenNumbers = np.arange(0,100)"
   ]
  },
  {
   "cell_type": "code",
   "execution_count": 4,
   "id": "d7d77d06-a427-4bd2-a658-063ecf0f5609",
   "metadata": {},
   "outputs": [
    {
     "data": {
      "text/plain": [
       "array([ 0,  1,  2,  3,  4,  5,  6,  7,  8,  9, 10, 11, 12, 13, 14, 15, 16,\n",
       "       17, 18, 19, 20, 21, 22, 23, 24, 25, 26, 27, 28, 29, 30, 31, 32, 33,\n",
       "       34, 35, 36, 37, 38, 39, 40, 41, 42, 43, 44, 45, 46, 47, 48, 49, 50,\n",
       "       51, 52, 53, 54, 55, 56, 57, 58, 59, 60, 61, 62, 63, 64, 65, 66, 67,\n",
       "       68, 69, 70, 71, 72, 73, 74, 75, 76, 77, 78, 79, 80, 81, 82, 83, 84,\n",
       "       85, 86, 87, 88, 89, 90, 91, 92, 93, 94, 95, 96, 97, 98, 99])"
      ]
     },
     "execution_count": 4,
     "metadata": {},
     "output_type": "execute_result"
    }
   ],
   "source": [
    "evenNumbers"
   ]
  },
  {
   "cell_type": "code",
   "execution_count": 5,
   "id": "798592fb-60b0-4ad6-a563-003c2deb8569",
   "metadata": {},
   "outputs": [],
   "source": [
    "evenNumbers = np.arange(0,100,2)"
   ]
  },
  {
   "cell_type": "code",
   "execution_count": 6,
   "id": "faeae449-3ec3-481e-a68f-08cc6659cf4b",
   "metadata": {},
   "outputs": [
    {
     "data": {
      "text/plain": [
       "array([ 0,  2,  4,  6,  8, 10, 12, 14, 16, 18, 20, 22, 24, 26, 28, 30, 32,\n",
       "       34, 36, 38, 40, 42, 44, 46, 48, 50, 52, 54, 56, 58, 60, 62, 64, 66,\n",
       "       68, 70, 72, 74, 76, 78, 80, 82, 84, 86, 88, 90, 92, 94, 96, 98])"
      ]
     },
     "execution_count": 6,
     "metadata": {},
     "output_type": "execute_result"
    }
   ],
   "source": [
    "evenNumbers"
   ]
  },
  {
   "cell_type": "code",
   "execution_count": 7,
   "id": "a676bc67-5a0e-473e-88da-41f1367d7741",
   "metadata": {},
   "outputs": [
    {
     "data": {
      "text/plain": [
       "array([0, 1, 2, 3, 4, 5, 6, 7, 8, 9])"
      ]
     },
     "execution_count": 7,
     "metadata": {},
     "output_type": "execute_result"
    }
   ],
   "source": [
    "np.arange(10)"
   ]
  },
  {
   "cell_type": "code",
   "execution_count": 11,
   "id": "d72ef5af-726f-400d-abab-6f17b9b301e3",
   "metadata": {},
   "outputs": [
    {
     "data": {
      "text/plain": [
       "array([0., 0., 0.])"
      ]
     },
     "execution_count": 11,
     "metadata": {},
     "output_type": "execute_result"
    }
   ],
   "source": [
    "# 2. Zeros and ones\n",
    "np.zeros(3)"
   ]
  },
  {
   "cell_type": "code",
   "execution_count": 13,
   "id": "f1582aa2-15c3-4f07-b68b-0e367c0b62fb",
   "metadata": {},
   "outputs": [
    {
     "data": {
      "text/plain": [
       "array([[0., 0., 0.],\n",
       "       [0., 0., 0.],\n",
       "       [0., 0., 0.]])"
      ]
     },
     "execution_count": 13,
     "metadata": {},
     "output_type": "execute_result"
    }
   ],
   "source": [
    "np.zeros((3,3))"
   ]
  },
  {
   "cell_type": "code",
   "execution_count": 14,
   "id": "131ad0fc-6b5a-4ce9-8077-f629bdf1f5ff",
   "metadata": {},
   "outputs": [
    {
     "data": {
      "text/plain": [
       "array([[1., 1., 1.],\n",
       "       [1., 1., 1.],\n",
       "       [1., 1., 1.]])"
      ]
     },
     "execution_count": 14,
     "metadata": {},
     "output_type": "execute_result"
    }
   ],
   "source": [
    "np.ones((3,3))"
   ]
  },
  {
   "cell_type": "code",
   "execution_count": 15,
   "id": "d0706474-a5a1-42d2-9794-1e228113f4d2",
   "metadata": {},
   "outputs": [
    {
     "data": {
      "text/plain": [
       "array([ 0.,  5., 10.])"
      ]
     },
     "execution_count": 15,
     "metadata": {},
     "output_type": "execute_result"
    }
   ],
   "source": [
    "# 3. Linspace --Returns evenly spaced elements over specified intervals\n",
    "np.linspace(0,10,3)"
   ]
  },
  {
   "cell_type": "code",
   "execution_count": 16,
   "id": "48919108-481e-43a8-875b-f3afc00716ea",
   "metadata": {},
   "outputs": [],
   "source": [
    "# linear and equally spaced between the numbers"
   ]
  },
  {
   "cell_type": "code",
   "execution_count": 17,
   "id": "c52584c6-7bbb-40da-a4c6-cca17b4bc530",
   "metadata": {},
   "outputs": [
    {
     "data": {
      "text/plain": [
       "array([  0.,  25.,  50.,  75., 100.])"
      ]
     },
     "execution_count": 17,
     "metadata": {},
     "output_type": "execute_result"
    }
   ],
   "source": [
    "np.linspace(0,100,5)"
   ]
  },
  {
   "cell_type": "code",
   "execution_count": 18,
   "id": "b5bd2d99-0db2-48cf-b0b2-89699642ebdf",
   "metadata": {},
   "outputs": [
    {
     "data": {
      "text/plain": [
       "array([10.        ,  9.85714286,  9.71428571,  9.57142857,  9.42857143,\n",
       "        9.28571429,  9.14285714,  9.        ,  8.85714286,  8.71428571,\n",
       "        8.57142857,  8.42857143,  8.28571429,  8.14285714,  8.        ,\n",
       "        7.85714286,  7.71428571,  7.57142857,  7.42857143,  7.28571429,\n",
       "        7.14285714,  7.        ,  6.85714286,  6.71428571,  6.57142857,\n",
       "        6.42857143,  6.28571429,  6.14285714,  6.        ,  5.85714286,\n",
       "        5.71428571,  5.57142857,  5.42857143,  5.28571429,  5.14285714,\n",
       "        5.        ,  4.85714286,  4.71428571,  4.57142857,  4.42857143,\n",
       "        4.28571429,  4.14285714,  4.        ,  3.85714286,  3.71428571,\n",
       "        3.57142857,  3.42857143,  3.28571429,  3.14285714,  3.        ])"
      ]
     },
     "execution_count": 18,
     "metadata": {},
     "output_type": "execute_result"
    }
   ],
   "source": [
    "np.linspace(10,3)"
   ]
  },
  {
   "cell_type": "code",
   "execution_count": 19,
   "id": "badccd99-0335-4106-9efa-c902405a1ac2",
   "metadata": {},
   "outputs": [
    {
     "data": {
      "text/plain": [
       "array([[1., 0., 0.],\n",
       "       [0., 1., 0.],\n",
       "       [0., 0., 1.]])"
      ]
     },
     "execution_count": 19,
     "metadata": {},
     "output_type": "execute_result"
    }
   ],
   "source": [
    "# 4. Eye function --Identity function\n",
    "np.eye(3,3)"
   ]
  },
  {
   "cell_type": "code",
   "execution_count": 20,
   "id": "9342401a-9200-4037-8e4b-44ff1bb9d8e3",
   "metadata": {},
   "outputs": [
    {
     "data": {
      "text/plain": [
       "array([[1., 0., 0.],\n",
       "       [0., 1., 0.],\n",
       "       [0., 0., 1.]])"
      ]
     },
     "execution_count": 20,
     "metadata": {},
     "output_type": "execute_result"
    }
   ],
   "source": [
    "np.eye(3)"
   ]
  },
  {
   "cell_type": "code",
   "execution_count": 22,
   "id": "d68e380c-80a0-46d0-a24b-56bd6d67d95b",
   "metadata": {},
   "outputs": [
    {
     "data": {
      "text/plain": [
       "matrix([[1., 0., 0.],\n",
       "        [0., 1., 0.],\n",
       "        [0., 0., 1.]])"
      ]
     },
     "execution_count": 22,
     "metadata": {},
     "output_type": "execute_result"
    }
   ],
   "source": [
    "np.matrix(np.eye(3))"
   ]
  },
  {
   "cell_type": "code",
   "execution_count": 26,
   "id": "703f9db6-605a-419f-a63b-19a6944eb10a",
   "metadata": {},
   "outputs": [
    {
     "data": {
      "text/plain": [
       "array([0.41375615, 0.53769726, 0.69367902, 0.80392154, 0.80553753,\n",
       "       0.73515401, 0.2474473 , 0.38712564, 0.44437336, 0.95536096])"
      ]
     },
     "execution_count": 26,
     "metadata": {},
     "output_type": "execute_result"
    }
   ],
   "source": [
    "# 5. Randon function ---To generate random numbers\n",
    "# Goal is to creat random numbers with uniform distribution\n",
    "np.random.rand(10)"
   ]
  },
  {
   "cell_type": "code",
   "execution_count": 27,
   "id": "ec430c5e-6f30-4e71-9c50-5fd27dfa3e36",
   "metadata": {},
   "outputs": [],
   "source": [
    "# Uniform distribution means data within the range from 0 to 1"
   ]
  },
  {
   "cell_type": "code",
   "execution_count": 42,
   "id": "bd8be27a-cebc-4f82-ba90-1e6d8d768ede",
   "metadata": {},
   "outputs": [
    {
     "data": {
      "text/plain": [
       "array([-2.24673031,  1.1638526 ,  0.29033674, -0.14079757,  0.52236443,\n",
       "        1.32128224,  1.13323873, -0.357844  ,  0.12629688,  0.94925006])"
      ]
     },
     "execution_count": 42,
     "metadata": {},
     "output_type": "execute_result"
    }
   ],
   "source": [
    "# 6. Normal Distribution /Gaussian Distribution\n",
    "# resultany set will form a bell curve and it will be need not be between 0 to 1\n",
    "np.random.randn(10)"
   ]
  },
  {
   "cell_type": "code",
   "execution_count": 30,
   "id": "c60023f7-4c1d-45d7-ad34-c323ec6e8ca6",
   "metadata": {},
   "outputs": [],
   "source": [
    "# the above set of data will follow bell curve\n",
    "# observe the difference between uniform and normal distribution\n",
    "# np.random.rand(10)\n",
    "# np.random.randn(10)"
   ]
  },
  {
   "cell_type": "code",
   "execution_count": 31,
   "id": "255ed887-5637-49e1-9a51-6d58f2eac75d",
   "metadata": {},
   "outputs": [],
   "source": [
    "# 95% follows normal distribution"
   ]
  },
  {
   "cell_type": "code",
   "execution_count": 33,
   "id": "f0008170-4023-4c4d-b8c1-1597d149b581",
   "metadata": {},
   "outputs": [
    {
     "name": "stdout",
     "output_type": "stream",
     "text": [
      "Requirement already satisfied: seaborn in c:\\users\\davea\\anaconda3\\lib\\site-packages (0.11.1)\n",
      "Requirement already satisfied: matplotlib>=2.2 in c:\\users\\davea\\anaconda3\\lib\\site-packages (from seaborn) (3.3.4)\n",
      "Requirement already satisfied: scipy>=1.0 in c:\\users\\davea\\anaconda3\\lib\\site-packages (from seaborn) (1.6.2)\n",
      "Requirement already satisfied: pandas>=0.23 in c:\\users\\davea\\anaconda3\\lib\\site-packages (from seaborn) (1.2.4)\n",
      "Requirement already satisfied: numpy>=1.15 in c:\\users\\davea\\anaconda3\\lib\\site-packages (from seaborn) (1.20.1)\n",
      "Requirement already satisfied: pillow>=6.2.0 in c:\\users\\davea\\anaconda3\\lib\\site-packages (from matplotlib>=2.2->seaborn) (8.2.0)\n",
      "Requirement already satisfied: pyparsing!=2.0.4,!=2.1.2,!=2.1.6,>=2.0.3 in c:\\users\\davea\\anaconda3\\lib\\site-packages (from matplotlib>=2.2->seaborn) (2.4.7)\n",
      "Requirement already satisfied: cycler>=0.10 in c:\\users\\davea\\anaconda3\\lib\\site-packages (from matplotlib>=2.2->seaborn) (0.10.0)\n",
      "Requirement already satisfied: python-dateutil>=2.1 in c:\\users\\davea\\anaconda3\\lib\\site-packages (from matplotlib>=2.2->seaborn) (2.8.1)\n",
      "Requirement already satisfied: kiwisolver>=1.0.1 in c:\\users\\davea\\anaconda3\\lib\\site-packages (from matplotlib>=2.2->seaborn) (1.3.1)\n",
      "Requirement already satisfied: six in c:\\users\\davea\\anaconda3\\lib\\site-packages (from cycler>=0.10->matplotlib>=2.2->seaborn) (1.15.0)\n",
      "Requirement already satisfied: pytz>=2017.3 in c:\\users\\davea\\anaconda3\\lib\\site-packages (from pandas>=0.23->seaborn) (2021.1)\n"
     ]
    }
   ],
   "source": [
    "!pip install seaborn"
   ]
  },
  {
   "cell_type": "code",
   "execution_count": 36,
   "id": "9057012f-6057-41ca-9bf1-e72409ef071d",
   "metadata": {},
   "outputs": [
    {
     "name": "stdout",
     "output_type": "stream",
     "text": [
      "Requirement already satisfied: matplotlib in c:\\users\\davea\\anaconda3\\lib\\site-packages (3.3.4)\n",
      "Requirement already satisfied: pyparsing!=2.0.4,!=2.1.2,!=2.1.6,>=2.0.3 in c:\\users\\davea\\anaconda3\\lib\\site-packages (from matplotlib) (2.4.7)\n",
      "Requirement already satisfied: pillow>=6.2.0 in c:\\users\\davea\\anaconda3\\lib\\site-packages (from matplotlib) (8.2.0)\n",
      "Requirement already satisfied: kiwisolver>=1.0.1 in c:\\users\\davea\\anaconda3\\lib\\site-packages (from matplotlib) (1.3.1)\n",
      "Requirement already satisfied: python-dateutil>=2.1 in c:\\users\\davea\\anaconda3\\lib\\site-packages (from matplotlib) (2.8.1)\n",
      "Requirement already satisfied: cycler>=0.10 in c:\\users\\davea\\anaconda3\\lib\\site-packages (from matplotlib) (0.10.0)\n",
      "Requirement already satisfied: numpy>=1.15 in c:\\users\\davea\\anaconda3\\lib\\site-packages (from matplotlib) (1.20.1)\n",
      "Requirement already satisfied: six in c:\\users\\davea\\anaconda3\\lib\\site-packages (from cycler>=0.10->matplotlib) (1.15.0)\n"
     ]
    }
   ],
   "source": [
    "!pip install matplotlib"
   ]
  },
  {
   "cell_type": "code",
   "execution_count": 39,
   "id": "8544c89f-f627-43e6-99d2-10b93596722f",
   "metadata": {},
   "outputs": [
    {
     "name": "stderr",
     "output_type": "stream",
     "text": [
      "C:\\Users\\davea\\anaconda3\\lib\\site-packages\\seaborn\\distributions.py:2557: FutureWarning: `distplot` is a deprecated function and will be removed in a future version. Please adapt your code to use either `displot` (a figure-level function with similar flexibility) or `histplot` (an axes-level function for histograms).\n",
      "  warnings.warn(msg, FutureWarning)\n"
     ]
    },
    {
     "data": {
      "text/plain": [
       "<AxesSubplot:ylabel='Density'>"
      ]
     },
     "execution_count": 39,
     "metadata": {},
     "output_type": "execute_result"
    },
    {
     "data": {
      "image/png": "[encoded data removed]",
      "text/plain": [
       "<Figure size 432x288 with 1 Axes>"
      ]
     },
     "metadata": {
      "needs_background": "light"
     },
     "output_type": "display_data"
    }
   ],
   "source": [
    "import seaborn as sns\n",
    "%matplotlib inline\n",
    "sns.distplot(np.random.randn(10))"
   ]
  },
  {
   "cell_type": "code",
   "execution_count": 40,
   "id": "38a71185-81a6-4a6d-8501-e6fdccfee883",
   "metadata": {},
   "outputs": [
    {
     "name": "stderr",
     "output_type": "stream",
     "text": [
      "C:\\Users\\davea\\anaconda3\\lib\\site-packages\\seaborn\\distributions.py:2557: FutureWarning: `distplot` is a deprecated function and will be removed in a future version. Please adapt your code to use either `displot` (a figure-level function with similar flexibility) or `histplot` (an axes-level function for histograms).\n",
      "  warnings.warn(msg, FutureWarning)\n"
     ]
    },
    {
     "data": {
      "text/plain": [
       "<AxesSubplot:ylabel='Density'>"
      ]
     },
     "execution_count": 40,
     "metadata": {},
     "output_type": "execute_result"
    },
    {
     "data": {
      "image/png": "[encoded data removed]",
      "text/plain": [
       "<Figure size 432x288 with 1 Axes>"
      ]
     },
     "metadata": {
      "needs_background": "light"
     },
     "output_type": "display_data"
    }
   ],
   "source": [
    "import seaborn as sns\n",
    "%matplotlib inline\n",
    "sns.distplot(np.random.randn(15))"
   ]
  },
  {
   "cell_type": "code",
   "execution_count": 41,
   "id": "50a348e1-ca9e-45bb-b00b-eb96211cafbe",
   "metadata": {},
   "outputs": [],
   "source": [
    "# The above plot is with Histogram and kde line (Kernel density estimstor)"
   ]
  },
  {
   "cell_type": "code",
   "execution_count": 45,
   "id": "a6b6f22b-6400-49a8-93ff-c23244914696",
   "metadata": {},
   "outputs": [
    {
     "name": "stderr",
     "output_type": "stream",
     "text": [
      "C:\\Users\\davea\\anaconda3\\lib\\site-packages\\seaborn\\distributions.py:2557: FutureWarning: `distplot` is a deprecated function and will be removed in a future version. Please adapt your code to use either `displot` (a figure-level function with similar flexibility) or `histplot` (an axes-level function for histograms).\n",
      "  warnings.warn(msg, FutureWarning)\n"
     ]
    },
    {
     "data": {
      "text/plain": [
       "<AxesSubplot:ylabel='Density'>"
      ]
     },
     "execution_count": 45,
     "metadata": {},
     "output_type": "execute_result"
    },
    {
     "data": {
      "image/png": "[encoded data removed]",
      "text/plain": [
       "<Figure size 432x288 with 1 Axes>"
      ]
     },
     "metadata": {
      "needs_background": "light"
     },
     "output_type": "display_data"
    }
   ],
   "source": [
    "import seaborn as sns\n",
    "%matplotlib inline\n",
    "sns.distplot(np.random.rand(11))"
   ]
  },
  {
   "cell_type": "code",
   "execution_count": 46,
   "id": "19d570c7-4278-41e1-a959-3fd76d992697",
   "metadata": {},
   "outputs": [
    {
     "data": {
      "text/plain": [
       "array([20,  8])"
      ]
     },
     "execution_count": 46,
     "metadata": {},
     "output_type": "execute_result"
    }
   ],
   "source": [
    "# Generate random integers\n",
    "np.random.randint(0,100,2) # 2 is no. of elements"
   ]
  },
  {
   "cell_type": "code",
   "execution_count": 47,
   "id": "7ef9f3cf-13a7-4c59-be45-a65967040783",
   "metadata": {},
   "outputs": [
    {
     "data": {
      "text/plain": [
       "array([ 72,  64, 100, 182, 160,  85, 163, 163,   3, 124,  52,  74,  87,\n",
       "        25, 120, 180,  12, 184, 168, 151,  24,  97,  32, 187,  40, 160,\n",
       "        99,  54, 167, 170, 107,  96,  52, 103, 102,  63, 193, 198, 161,\n",
       "        78, 162, 155,  31,  55, 151, 170, 151, 112, 192,  93, 115,  72,\n",
       "       186,   3,   7,  50, 115, 134, 159,   8,  58,  43,   7, 173,  69,\n",
       "        83, 154,  78,  32, 163,   5, 103, 136, 108, 187,  13, 150,   5,\n",
       "        63,   8, 124,  91, 165, 130, 167,  24, 173, 105, 155, 154, 101,\n",
       "        31,  91,  79,  91, 156, 155, 145,  14, 157, 120, 189, 124,  85,\n",
       "        30,  83,  96, 128,  18, 101, 159, 119,   7, 170,  28, 160, 167,\n",
       "        78,  68, 128])"
      ]
     },
     "execution_count": 47,
     "metadata": {},
     "output_type": "execute_result"
    }
   ],
   "source": [
    "np.random.randint(0,200,120)"
   ]
  },
  {
   "cell_type": "code",
   "execution_count": 48,
   "id": "22cf7267-a87d-4b76-8070-104691abe5b0",
   "metadata": {},
   "outputs": [],
   "source": [
    "# the above range is 0 to 100, asked for write 120 integers, so it will write repeated values with integers only"
   ]
  },
  {
   "cell_type": "code",
   "execution_count": 49,
   "id": "e75055c9-bb84-46fd-bb93-e0e38b460ac5",
   "metadata": {},
   "outputs": [
    {
     "data": {
      "text/plain": [
       "array([5, 4, 3, 0, 8, 9, 1, 6, 1, 3, 5, 9])"
      ]
     },
     "execution_count": 49,
     "metadata": {},
     "output_type": "execute_result"
    }
   ],
   "source": [
    "np.random.randint(0,10,12)"
   ]
  },
  {
   "cell_type": "code",
   "execution_count": 53,
   "id": "29e50888-9e85-4129-a36b-4cec15744c7c",
   "metadata": {},
   "outputs": [
    {
     "name": "stdin",
     "output_type": "stream",
     "text": [
      "Enter the number between 0 to 1: 7\n"
     ]
    },
    {
     "name": "stdout",
     "output_type": "stream",
     "text": [
      "You guessed it right!!\n"
     ]
    }
   ],
   "source": [
    "# guess the number game \n",
    "# here typecasting int is required as it will throw array values, so to converrt to int.\n",
    "number = int(input(\"Enter the number between 0 to 1:\"))\n",
    "if number == int(np.random.randint(0,10,1)):\n",
    "    print (\"You guessed it right!!\")\n",
    "else:\n",
    "    print(\"Sorry try again\")"
   ]
  },
  {
   "cell_type": "code",
   "execution_count": 55,
   "id": "1e9822b5-9ae6-42ef-b535-d22f9a6425fb",
   "metadata": {},
   "outputs": [
    {
     "name": "stdin",
     "output_type": "stream",
     "text": [
      "Enter the number between 0 to 1: 5\n"
     ]
    },
    {
     "name": "stdout",
     "output_type": "stream",
     "text": [
      "You guessed it right!!\n"
     ]
    }
   ],
   "source": [
    "number = int(input(\"Enter the number between 0 to 1:\"))\n",
    "if number == int(np.random.randint(0,10,1)):\n",
    "    print (\"You guessed it right!!\")\n",
    "else:\n",
    "    print(\"Sorry try again :-)\")"
   ]
  },
  {
   "cell_type": "code",
   "execution_count": 56,
   "id": "da63eb27-1d40-41f7-a80f-ffda7f127ff0",
   "metadata": {},
   "outputs": [
    {
     "name": "stdin",
     "output_type": "stream",
     "text": [
      "Enter the number between 0 to 1: 6\n"
     ]
    },
    {
     "name": "stdout",
     "output_type": "stream",
     "text": [
      "Sorry try again:-):-)\n"
     ]
    }
   ],
   "source": [
    "number = int(input(\"Enter the number between 0 to 1:\"))\n",
    "if number == int(np.random.randint(0,10,1)):\n",
    "    print (\"You guessed it right!!\")\n",
    "else:\n",
    "    print(\"Sorry try again:-):-)\")"
   ]
  },
  {
   "cell_type": "code",
   "execution_count": 57,
   "id": "8126ab69-fdca-4563-bf58-f39223f03d0c",
   "metadata": {},
   "outputs": [],
   "source": [
    "# finding min, max, argumin, argumax\n",
    "array = np.arange(1,100,10)"
   ]
  },
  {
   "cell_type": "code",
   "execution_count": 58,
   "id": "6f6746c8-c418-4cf7-a84d-ad350f5860dc",
   "metadata": {},
   "outputs": [
    {
     "data": {
      "text/plain": [
       "array([ 1, 11, 21, 31, 41, 51, 61, 71, 81, 91])"
      ]
     },
     "execution_count": 58,
     "metadata": {},
     "output_type": "execute_result"
    }
   ],
   "source": [
    "array"
   ]
  },
  {
   "cell_type": "code",
   "execution_count": 59,
   "id": "052db26a-d0a4-4146-8ca9-8ae9ae51ded8",
   "metadata": {},
   "outputs": [
    {
     "data": {
      "text/plain": [
       "1"
      ]
     },
     "execution_count": 59,
     "metadata": {},
     "output_type": "execute_result"
    }
   ],
   "source": [
    "array.min()"
   ]
  },
  {
   "cell_type": "code",
   "execution_count": 64,
   "id": "e44f39c8-3191-451c-b707-837cc7e88b96",
   "metadata": {},
   "outputs": [
    {
     "data": {
      "text/plain": [
       "1"
      ]
     },
     "execution_count": 64,
     "metadata": {},
     "output_type": "execute_result"
    }
   ],
   "source": [
    "np.min(array)"
   ]
  },
  {
   "cell_type": "code",
   "execution_count": 65,
   "id": "d4963403-ee2c-4321-ad73-8e5f86008fda",
   "metadata": {},
   "outputs": [
    {
     "data": {
      "text/plain": [
       "91"
      ]
     },
     "execution_count": 65,
     "metadata": {},
     "output_type": "execute_result"
    }
   ],
   "source": [
    "array.max()"
   ]
  },
  {
   "cell_type": "code",
   "execution_count": 66,
   "id": "7e6b7d3f-2aed-4cf5-8f9d-36c18324b0cb",
   "metadata": {},
   "outputs": [
    {
     "data": {
      "text/plain": [
       "91"
      ]
     },
     "execution_count": 66,
     "metadata": {},
     "output_type": "execute_result"
    }
   ],
   "source": [
    "np.max(array)"
   ]
  },
  {
   "cell_type": "code",
   "execution_count": 67,
   "id": "2cc0a832-9918-4ee7-a751-33e3d0b277b3",
   "metadata": {},
   "outputs": [
    {
     "data": {
      "text/plain": [
       "0"
      ]
     },
     "execution_count": 67,
     "metadata": {},
     "output_type": "execute_result"
    }
   ],
   "source": [
    "# for location of index of the number resides\n",
    "array.argmin()"
   ]
  },
  {
   "cell_type": "code",
   "execution_count": 68,
   "id": "54fc0a6f-375b-4257-a633-d18867100f74",
   "metadata": {},
   "outputs": [
    {
     "data": {
      "text/plain": [
       "0"
      ]
     },
     "execution_count": 68,
     "metadata": {},
     "output_type": "execute_result"
    }
   ],
   "source": [
    "np.argmin(array)"
   ]
  },
  {
   "cell_type": "code",
   "execution_count": 69,
   "id": "760357a6-edd2-46d9-964b-85cd00eab040",
   "metadata": {},
   "outputs": [
    {
     "data": {
      "text/plain": [
       "9"
      ]
     },
     "execution_count": 69,
     "metadata": {},
     "output_type": "execute_result"
    }
   ],
   "source": [
    "array.argmax()"
   ]
  },
  {
   "cell_type": "code",
   "execution_count": 70,
   "id": "360788a5-497a-4351-91d9-217b4cadccd5",
   "metadata": {},
   "outputs": [
    {
     "data": {
      "text/plain": [
       "9"
      ]
     },
     "execution_count": 70,
     "metadata": {},
     "output_type": "execute_result"
    }
   ],
   "source": [
    "np.argmax(array)"
   ]
  },
  {
   "cell_type": "code",
   "execution_count": 71,
   "id": "b9905c50-09d2-421d-b02b-e4092a88da88",
   "metadata": {},
   "outputs": [],
   "source": [
    "array.sort()"
   ]
  },
  {
   "cell_type": "code",
   "execution_count": 72,
   "id": "599c310f-3f00-484e-bb7a-645b7f592f25",
   "metadata": {},
   "outputs": [
    {
     "data": {
      "text/plain": [
       "array([ 1, 11, 21, 31, 41, 51, 61, 71, 81, 91])"
      ]
     },
     "execution_count": 72,
     "metadata": {},
     "output_type": "execute_result"
    }
   ],
   "source": [
    "array"
   ]
  },
  {
   "cell_type": "code",
   "execution_count": 73,
   "id": "45d45bb8-c015-4c1b-961e-9f3d45e706d0",
   "metadata": {},
   "outputs": [],
   "source": [
    "# default is quicksort"
   ]
  },
  {
   "cell_type": "code",
   "execution_count": null,
   "id": "8ce68348-b69c-4f0e-8b22-fdd0c26cd25f",
   "metadata": {},
   "outputs": [],
   "source": []
  }
 ],
 "metadata": {
  "kernelspec": {
   "display_name": "Python 3",
   "language": "python",
   "name": "python3"
  },
  "language_info": {
   "codemirror_mode": {
    "name": "ipython",
    "version": 3
   },
   "file_extension": ".py",
   "mimetype": "text/x-python",
   "name": "python",
   "nbconvert_exporter": "python",
   "pygments_lexer": "ipython3",
   "version": "3.8.8"
  }
 },
 "nbformat": 4,
 "nbformat_minor": 5
}
