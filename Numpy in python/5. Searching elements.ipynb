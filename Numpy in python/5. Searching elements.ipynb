{
 "cells": [
  {
   "cell_type": "code",
   "execution_count": 1,
   "id": "c9ace7e3-6005-42d2-971d-9823407b120a",
   "metadata": {},
   "outputs": [],
   "source": [
    "# import numpy\n",
    "import numpy as np"
   ]
  },
  {
   "cell_type": "code",
   "execution_count": 2,
   "id": "a511db5d-5341-43a9-b746-a06412b705e3",
   "metadata": {},
   "outputs": [],
   "source": [
    "data = np.random.randint(0,100,9)"
   ]
  },
  {
   "cell_type": "code",
   "execution_count": 3,
   "id": "a8950526-ff8d-4325-97e2-6475221404fc",
   "metadata": {},
   "outputs": [
    {
     "data": {
      "text/plain": [
       "array([76, 99, 76, 57, 95,  6, 97, 26, 61])"
      ]
     },
     "execution_count": 3,
     "metadata": {},
     "output_type": "execute_result"
    }
   ],
   "source": [
    "data"
   ]
  },
  {
   "cell_type": "code",
   "execution_count": 4,
   "id": "702e20ae-6aa1-4e6b-b3e3-6436cedc5b27",
   "metadata": {},
   "outputs": [
    {
     "data": {
      "text/plain": [
       "array([False, False, False, False, False,  True, False, False, False])"
      ]
     },
     "execution_count": 4,
     "metadata": {},
     "output_type": "execute_result"
    }
   ],
   "source": [
    "data==6"
   ]
  },
  {
   "cell_type": "code",
   "execution_count": 6,
   "id": "3535c471-fe34-44e4-b3c5-ea8392ecf1b1",
   "metadata": {},
   "outputs": [
    {
     "data": {
      "text/plain": [
       "array([6])"
      ]
     },
     "execution_count": 6,
     "metadata": {},
     "output_type": "execute_result"
    }
   ],
   "source": [
    "data[data==6]"
   ]
  },
  {
   "cell_type": "code",
   "execution_count": 7,
   "id": "46e2d774-f991-4a38-b6c6-a1d441a495a7",
   "metadata": {},
   "outputs": [
    {
     "data": {
      "text/plain": [
       "array([ True,  True,  True,  True,  True, False,  True,  True,  True])"
      ]
     },
     "execution_count": 7,
     "metadata": {},
     "output_type": "execute_result"
    }
   ],
   "source": [
    "data>=25"
   ]
  },
  {
   "cell_type": "code",
   "execution_count": 8,
   "id": "f0ecb192-99ee-4de6-904f-4d4847a54206",
   "metadata": {},
   "outputs": [
    {
     "data": {
      "text/plain": [
       "array([76, 99, 76, 57, 95, 97, 26, 61])"
      ]
     },
     "execution_count": 8,
     "metadata": {},
     "output_type": "execute_result"
    }
   ],
   "source": [
    "data[data>=25]"
   ]
  },
  {
   "cell_type": "code",
   "execution_count": 9,
   "id": "3743b966-3401-4040-ade6-70307f35567d",
   "metadata": {},
   "outputs": [
    {
     "ename": "ValueError",
     "evalue": "The truth value of an array with more than one element is ambiguous. Use a.any() or a.all()",
     "output_type": "error",
     "traceback": [
      "\u001b[1;31m---------------------------------------------------------------------------\u001b[0m",
      "\u001b[1;31mValueError\u001b[0m                                Traceback (most recent call last)",
      "\u001b[1;32m<ipython-input-9-af15c1e47c33>\u001b[0m in \u001b[0;36m<module>\u001b[1;34m\u001b[0m\n\u001b[0;32m      1\u001b[0m \u001b[1;31m# Logical Operator\u001b[0m\u001b[1;33m\u001b[0m\u001b[1;33m\u001b[0m\u001b[1;33m\u001b[0m\u001b[0m\n\u001b[1;32m----> 2\u001b[1;33m \u001b[0mdata\u001b[0m\u001b[1;33m[\u001b[0m\u001b[0mdata\u001b[0m\u001b[1;33m>=\u001b[0m\u001b[1;36m20\u001b[0m \u001b[1;33m&\u001b[0m \u001b[0mdata\u001b[0m\u001b[1;33m<=\u001b[0m\u001b[1;36m50\u001b[0m\u001b[1;33m]\u001b[0m\u001b[1;33m\u001b[0m\u001b[1;33m\u001b[0m\u001b[0m\n\u001b[0m",
      "\u001b[1;31mValueError\u001b[0m: The truth value of an array with more than one element is ambiguous. Use a.any() or a.all()"
     ]
    }
   ],
   "source": [
    "# Logical Operator\n",
    "data[data>=20 & data<=50]"
   ]
  },
  {
   "cell_type": "code",
   "execution_count": 10,
   "id": "a092f1e5-bcc6-4b39-9a32-34499c3ac8b7",
   "metadata": {},
   "outputs": [],
   "source": [
    "# error thrown because logical operator conditions should be in tuple()"
   ]
  },
  {
   "cell_type": "code",
   "execution_count": 11,
   "id": "08e9b45b-7fc8-4c27-ac02-668550766477",
   "metadata": {},
   "outputs": [
    {
     "data": {
      "text/plain": [
       "array([26])"
      ]
     },
     "execution_count": 11,
     "metadata": {},
     "output_type": "execute_result"
    }
   ],
   "source": [
    "data[(data>=20) & (data<=50)]"
   ]
  },
  {
   "cell_type": "code",
   "execution_count": 12,
   "id": "2882bfd9-adb0-436e-8222-1bd4ad7dc88d",
   "metadata": {},
   "outputs": [
    {
     "data": {
      "text/plain": [
       "array([76, 76, 57, 26, 61])"
      ]
     },
     "execution_count": 12,
     "metadata": {},
     "output_type": "execute_result"
    }
   ],
   "source": [
    "data[(data>=20) & (data<=80)]"
   ]
  },
  {
   "cell_type": "code",
   "execution_count": null,
   "id": "3c000d56-d9ee-42b7-8809-6779138fb814",
   "metadata": {},
   "outputs": [],
   "source": []
  }
 ],
 "metadata": {
  "kernelspec": {
   "display_name": "Python 3",
   "language": "python",
   "name": "python3"
  },
  "language_info": {
   "codemirror_mode": {
    "name": "ipython",
    "version": 3
   },
   "file_extension": ".py",
   "mimetype": "text/x-python",
   "name": "python",
   "nbconvert_exporter": "python",
   "pygments_lexer": "ipython3",
   "version": "3.8.8"
  }
 },
 "nbformat": 4,
 "nbformat_minor": 5
}
