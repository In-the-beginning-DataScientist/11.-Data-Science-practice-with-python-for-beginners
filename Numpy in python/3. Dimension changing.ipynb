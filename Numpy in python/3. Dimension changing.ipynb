{
 "cells": [
  {
   "cell_type": "code",
   "execution_count": 1,
   "id": "f76edc25-0ba5-4cde-b8e5-de282b738a62",
   "metadata": {},
   "outputs": [],
   "source": [
    "# changing dimensions in arrays"
   ]
  },
  {
   "cell_type": "code",
   "execution_count": 2,
   "id": "d5ca4452-15dd-46bf-9b40-374a54c0ad16",
   "metadata": {},
   "outputs": [],
   "source": [
    "# import numpy\n",
    "import numpy as np"
   ]
  },
  {
   "cell_type": "code",
   "execution_count": 3,
   "id": "05ec3ce8-ba12-4ec2-bff1-d9c3d8ab0d1f",
   "metadata": {},
   "outputs": [],
   "source": [
    "data = np.random.randint(0,100,9) # total 9 values will be printed"
   ]
  },
  {
   "cell_type": "code",
   "execution_count": 4,
   "id": "e75bad6b-ff2e-4f96-a857-54eaf67c83f2",
   "metadata": {},
   "outputs": [
    {
     "data": {
      "text/plain": [
       "array([64, 50, 23, 37, 15, 46, 73, 77, 43])"
      ]
     },
     "execution_count": 4,
     "metadata": {},
     "output_type": "execute_result"
    }
   ],
   "source": [
    "data"
   ]
  },
  {
   "cell_type": "code",
   "execution_count": 5,
   "id": "87ee207e-9be3-41a1-b5b5-567d40d4500d",
   "metadata": {},
   "outputs": [
    {
     "data": {
      "text/plain": [
       "1"
      ]
     },
     "execution_count": 5,
     "metadata": {},
     "output_type": "execute_result"
    }
   ],
   "source": [
    "# dimensios?\n",
    "data.ndim"
   ]
  },
  {
   "cell_type": "code",
   "execution_count": 11,
   "id": "f1528a6d-b4b6-4f38-b9b0-00f1e2137fca",
   "metadata": {},
   "outputs": [],
   "source": [
    "# how to change dimensions\n",
    "data1=data.reshape(3,3)"
   ]
  },
  {
   "cell_type": "code",
   "execution_count": 12,
   "id": "1938f563-9c73-467a-93b5-1008c77a321e",
   "metadata": {},
   "outputs": [
    {
     "data": {
      "text/plain": [
       "2"
      ]
     },
     "execution_count": 12,
     "metadata": {},
     "output_type": "execute_result"
    }
   ],
   "source": [
    "data1.ndim"
   ]
  },
  {
   "cell_type": "code",
   "execution_count": 13,
   "id": "792bd460-1f9e-4309-83d3-cb461ba67c9f",
   "metadata": {},
   "outputs": [
    {
     "ename": "ValueError",
     "evalue": "cannot reshape array of size 9 into shape (2,2)",
     "output_type": "error",
     "traceback": [
      "\u001b[1;31m---------------------------------------------------------------------------\u001b[0m",
      "\u001b[1;31mValueError\u001b[0m                                Traceback (most recent call last)",
      "\u001b[1;32m<ipython-input-13-7af8ec0beed0>\u001b[0m in \u001b[0;36m<module>\u001b[1;34m\u001b[0m\n\u001b[1;32m----> 1\u001b[1;33m \u001b[0mdata\u001b[0m\u001b[1;33m.\u001b[0m\u001b[0mreshape\u001b[0m\u001b[1;33m(\u001b[0m\u001b[1;36m2\u001b[0m\u001b[1;33m,\u001b[0m\u001b[1;36m2\u001b[0m\u001b[1;33m)\u001b[0m\u001b[1;33m\u001b[0m\u001b[1;33m\u001b[0m\u001b[0m\n\u001b[0m",
      "\u001b[1;31mValueError\u001b[0m: cannot reshape array of size 9 into shape (2,2)"
     ]
    }
   ],
   "source": [
    "data.reshape(2,2)"
   ]
  },
  {
   "cell_type": "code",
   "execution_count": 14,
   "id": "15ae124b-957c-4b85-9845-963c4bbaf8b2",
   "metadata": {},
   "outputs": [
    {
     "data": {
      "text/plain": [
       "array([[64, 50, 23, 37, 15, 46, 73, 77, 43]])"
      ]
     },
     "execution_count": 14,
     "metadata": {},
     "output_type": "execute_result"
    }
   ],
   "source": [
    "data.reshape(1,9)"
   ]
  },
  {
   "cell_type": "code",
   "execution_count": 15,
   "id": "13a30d16-1ff7-4a99-95fc-ddfdc296b887",
   "metadata": {},
   "outputs": [
    {
     "data": {
      "text/plain": [
       "array([[64],\n",
       "       [50],\n",
       "       [23],\n",
       "       [37],\n",
       "       [15],\n",
       "       [46],\n",
       "       [73],\n",
       "       [77],\n",
       "       [43]])"
      ]
     },
     "execution_count": 15,
     "metadata": {},
     "output_type": "execute_result"
    }
   ],
   "source": [
    "data.reshape(9,1)"
   ]
  },
  {
   "cell_type": "code",
   "execution_count": 16,
   "id": "b3059280-a0f5-4773-9e0f-c538c15f4e15",
   "metadata": {},
   "outputs": [],
   "source": [
    "# to convert 1d---2d we used reshape function"
   ]
  },
  {
   "cell_type": "code",
   "execution_count": 17,
   "id": "5586cbb9-c456-4cee-bff5-209668affe31",
   "metadata": {},
   "outputs": [],
   "source": [
    "# to convert 2d--1d we use ravel()"
   ]
  },
  {
   "cell_type": "code",
   "execution_count": 19,
   "id": "54891dab-f6ed-4733-b870-35f70208c38f",
   "metadata": {},
   "outputs": [
    {
     "data": {
      "text/plain": [
       "array([64, 50, 23, 37, 15, 46, 73, 77, 43])"
      ]
     },
     "execution_count": 19,
     "metadata": {},
     "output_type": "execute_result"
    }
   ],
   "source": [
    "data1.ravel()"
   ]
  },
  {
   "cell_type": "code",
   "execution_count": null,
   "id": "ffa01010-7e66-4bf3-a40e-46b0600ddfd5",
   "metadata": {},
   "outputs": [],
   "source": []
  }
 ],
 "metadata": {
  "kernelspec": {
   "display_name": "Python 3",
   "language": "python",
   "name": "python3"
  },
  "language_info": {
   "codemirror_mode": {
    "name": "ipython",
    "version": 3
   },
   "file_extension": ".py",
   "mimetype": "text/x-python",
   "name": "python",
   "nbconvert_exporter": "python",
   "pygments_lexer": "ipython3",
   "version": "3.8.8"
  }
 },
 "nbformat": 4,
 "nbformat_minor": 5
}
