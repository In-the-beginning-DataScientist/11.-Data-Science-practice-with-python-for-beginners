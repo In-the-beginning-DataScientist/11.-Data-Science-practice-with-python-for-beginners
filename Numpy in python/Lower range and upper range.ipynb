{
 "cells": [
  {
   "cell_type": "code",
   "execution_count": 1,
   "id": "04156afb-2d82-47fb-ba91-0b101dac8e7e",
   "metadata": {},
   "outputs": [],
   "source": [
    "import numpy as np"
   ]
  },
  {
   "cell_type": "code",
   "execution_count": 2,
   "id": "435723b1-d720-4b33-8c89-f365b1f07ed7",
   "metadata": {},
   "outputs": [],
   "source": [
    "import seaborn as sns\n",
    "%matplotlib inline"
   ]
  },
  {
   "cell_type": "code",
   "execution_count": 3,
   "id": "847ccae1-2c98-4e6b-840b-b019ab175bdc",
   "metadata": {},
   "outputs": [],
   "source": [
    "data1 = np.array([[1000],[2000],[6000],[4999],[2399],[50000],[2000000]])"
   ]
  },
  {
   "cell_type": "code",
   "execution_count": 4,
   "id": "58669127-9c51-48e3-a0c8-4756615f2cfa",
   "metadata": {},
   "outputs": [
    {
     "data": {
      "text/plain": [
       "array([[   1000],\n",
       "       [   2000],\n",
       "       [   6000],\n",
       "       [   4999],\n",
       "       [   2399],\n",
       "       [  50000],\n",
       "       [2000000]])"
      ]
     },
     "execution_count": 4,
     "metadata": {},
     "output_type": "execute_result"
    }
   ],
   "source": [
    "data1"
   ]
  },
  {
   "cell_type": "code",
   "execution_count": 5,
   "id": "d111272b-91f9-4558-8541-5e0f70d15b15",
   "metadata": {},
   "outputs": [
    {
     "data": {
      "text/plain": [
       "(7, 1)"
      ]
     },
     "execution_count": 5,
     "metadata": {},
     "output_type": "execute_result"
    }
   ],
   "source": [
    "data1.shape"
   ]
  },
  {
   "cell_type": "code",
   "execution_count": 6,
   "id": "6405d669-55bb-4593-8725-407508ac8d0d",
   "metadata": {},
   "outputs": [
    {
     "data": {
      "text/plain": [
       "2"
      ]
     },
     "execution_count": 6,
     "metadata": {},
     "output_type": "execute_result"
    }
   ],
   "source": [
    "data1.ndim"
   ]
  },
  {
   "cell_type": "code",
   "execution_count": 9,
   "id": "b94cb4e1-66f3-4eb6-842b-2a76e93e8e0d",
   "metadata": {},
   "outputs": [],
   "source": [
    "def outlierDetection(data1):\n",
    "    # 1. sort ascending\n",
    "    sorted(data1) \n",
    "    # 2. calculate Q1 &Q3\n",
    "    Q1,Q3 = np.percentile(data1,[25,75]) \n",
    "    # 3. Calculate IQR=Q3-Q1\n",
    "    IQR=Q3-Q1\n",
    "    # 4. Calculate lower rnge\n",
    "    lowerRange = Q1-(1.5*IQR)\n",
    "    # 5. Calculate Upper range\n",
    "    upperRange = Q3+(1.5*IQR)\n",
    "    # 6. Return ranges\n",
    "    return lowerRange,upperRange"
   ]
  },
  {
   "cell_type": "code",
   "execution_count": 10,
   "id": "185d2a42-ee2b-4c14-9c2d-fe990296db8c",
   "metadata": {},
   "outputs": [
    {
     "data": {
      "text/plain": [
       "(-36501.25, 66700.75)"
      ]
     },
     "execution_count": 10,
     "metadata": {},
     "output_type": "execute_result"
    }
   ],
   "source": [
    "outlierDetection(data1)"
   ]
  },
  {
   "cell_type": "code",
   "execution_count": null,
   "id": "d8aac43b-ae15-4f94-bd56-58f9cbfec33d",
   "metadata": {},
   "outputs": [],
   "source": []
  }
 ],
 "metadata": {
  "kernelspec": {
   "display_name": "Python 3",
   "language": "python",
   "name": "python3"
  },
  "language_info": {
   "codemirror_mode": {
    "name": "ipython",
    "version": 3
   },
   "file_extension": ".py",
   "mimetype": "text/x-python",
   "name": "python",
   "nbconvert_exporter": "python",
   "pygments_lexer": "ipython3",
   "version": "3.8.8"
  }
 },
 "nbformat": 4,
 "nbformat_minor": 5
}
