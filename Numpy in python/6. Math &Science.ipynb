{
 "cells": [
  {
   "cell_type": "code",
   "execution_count": 1,
   "id": "4277be1d-739a-4ac8-b044-9df02708f35c",
   "metadata": {},
   "outputs": [],
   "source": [
    "#import numpy\n",
    "import numpy as np"
   ]
  },
  {
   "cell_type": "code",
   "execution_count": 4,
   "id": "93ef64bc-5697-4338-b55e-c3822d1b0cbb",
   "metadata": {},
   "outputs": [],
   "source": [
    "data = np.arange(1,100,5)"
   ]
  },
  {
   "cell_type": "code",
   "execution_count": 5,
   "id": "d99fb0ff-5276-4fe7-9082-ee9f8a2f87cb",
   "metadata": {},
   "outputs": [
    {
     "data": {
      "text/plain": [
       "array([ 1,  6, 11, 16, 21, 26, 31, 36, 41, 46, 51, 56, 61, 66, 71, 76, 81,\n",
       "       86, 91, 96])"
      ]
     },
     "execution_count": 5,
     "metadata": {},
     "output_type": "execute_result"
    }
   ],
   "source": [
    "data"
   ]
  },
  {
   "cell_type": "code",
   "execution_count": 6,
   "id": "954f0e90-0bdd-4f4e-8edf-0de3a0c135dd",
   "metadata": {},
   "outputs": [
    {
     "data": {
      "text/plain": [
       "array([1.        , 2.44948974, 3.31662479, 4.        , 4.58257569,\n",
       "       5.09901951, 5.56776436, 6.        , 6.40312424, 6.78232998,\n",
       "       7.14142843, 7.48331477, 7.81024968, 8.1240384 , 8.42614977,\n",
       "       8.71779789, 9.        , 9.2736185 , 9.53939201, 9.79795897])"
      ]
     },
     "execution_count": 6,
     "metadata": {},
     "output_type": "execute_result"
    }
   ],
   "source": [
    "np.sqrt(data)"
   ]
  },
  {
   "cell_type": "code",
   "execution_count": 8,
   "id": "29ad2688-605c-4036-8298-1bc4b3dfa1fe",
   "metadata": {},
   "outputs": [
    {
     "data": {
      "text/plain": [
       "array([ 0.84147098, -0.2794155 , -0.99999021, -0.28790332,  0.83665564,\n",
       "        0.76255845, -0.40403765, -0.99177885, -0.15862267,  0.90178835,\n",
       "        0.67022918, -0.521551  , -0.96611777, -0.02655115,  0.95105465,\n",
       "        0.56610764, -0.62988799, -0.92345845,  0.10598751,  0.98358775])"
      ]
     },
     "execution_count": 8,
     "metadata": {},
     "output_type": "execute_result"
    }
   ],
   "source": [
    "np.sin(data)"
   ]
  },
  {
   "cell_type": "code",
   "execution_count": 10,
   "id": "7a156954-13e1-491d-a37d-906547623dc9",
   "metadata": {},
   "outputs": [
    {
     "data": {
      "text/plain": [
       "0.8939966636005579"
      ]
     },
     "execution_count": 10,
     "metadata": {},
     "output_type": "execute_result"
    }
   ],
   "source": [
    "np.sin(90)"
   ]
  },
  {
   "cell_type": "code",
   "execution_count": 11,
   "id": "9fc76729-262b-45cf-9a4a-6b70e80977ca",
   "metadata": {},
   "outputs": [],
   "source": [
    "# it si in radians"
   ]
  },
  {
   "cell_type": "code",
   "execution_count": 13,
   "id": "2a3af53e-9626-422f-badd-aefd30a04928",
   "metadata": {},
   "outputs": [
    {
     "ename": "NameError",
     "evalue": "name 'Pi' is not defined",
     "output_type": "error",
     "traceback": [
      "\u001b[1;31m---------------------------------------------------------------------------\u001b[0m",
      "\u001b[1;31mNameError\u001b[0m                                 Traceback (most recent call last)",
      "\u001b[1;32m<ipython-input-13-397efa8e74f0>\u001b[0m in \u001b[0;36m<module>\u001b[1;34m\u001b[0m\n\u001b[1;32m----> 1\u001b[1;33m \u001b[0mnp\u001b[0m\u001b[1;33m.\u001b[0m\u001b[0msin\u001b[0m\u001b[1;33m(\u001b[0m\u001b[0mPi\u001b[0m\u001b[1;33m/\u001b[0m\u001b[1;36m2\u001b[0m\u001b[1;33m)\u001b[0m\u001b[1;33m\u001b[0m\u001b[1;33m\u001b[0m\u001b[0m\n\u001b[0m",
      "\u001b[1;31mNameError\u001b[0m: name 'Pi' is not defined"
     ]
    }
   ],
   "source": [
    "np.sin(Pi/2)"
   ]
  },
  {
   "cell_type": "code",
   "execution_count": 14,
   "id": "3b6351ef-63d1-4a6f-9528-8533d395beab",
   "metadata": {},
   "outputs": [
    {
     "data": {
      "text/plain": [
       "1.0"
      ]
     },
     "execution_count": 14,
     "metadata": {},
     "output_type": "execute_result"
    }
   ],
   "source": [
    "np.exp(0)"
   ]
  },
  {
   "cell_type": "code",
   "execution_count": 15,
   "id": "1bf791bd-2952-4654-bb98-d4e345a0dbcc",
   "metadata": {},
   "outputs": [
    {
     "data": {
      "text/plain": [
       "array([2.71828183e+00, 4.03428793e+02, 5.98741417e+04, 8.88611052e+06,\n",
       "       1.31881573e+09, 1.95729609e+11, 2.90488497e+13, 4.31123155e+15,\n",
       "       6.39843494e+17, 9.49611942e+19, 1.40934908e+22, 2.09165950e+24,\n",
       "       3.10429794e+26, 4.60718663e+28, 6.83767123e+30, 1.01480039e+33,\n",
       "       1.50609731e+35, 2.23524660e+37, 3.31740010e+39, 4.92345829e+41])"
      ]
     },
     "execution_count": 15,
     "metadata": {},
     "output_type": "execute_result"
    }
   ],
   "source": [
    "np.exp(data)"
   ]
  },
  {
   "cell_type": "code",
   "execution_count": 16,
   "id": "a3db2638-100d-47b9-b76a-e800ee77756e",
   "metadata": {},
   "outputs": [
    {
     "data": {
      "text/plain": [
       "2.302585092994046"
      ]
     },
     "execution_count": 16,
     "metadata": {},
     "output_type": "execute_result"
    }
   ],
   "source": [
    "np.log(10)"
   ]
  },
  {
   "cell_type": "code",
   "execution_count": 17,
   "id": "7af34aa6-9343-4f77-9a89-db0d8854c398",
   "metadata": {},
   "outputs": [
    {
     "data": {
      "text/plain": [
       "0.0"
      ]
     },
     "execution_count": 17,
     "metadata": {},
     "output_type": "execute_result"
    }
   ],
   "source": [
    "np.log(1)"
   ]
  },
  {
   "cell_type": "code",
   "execution_count": 18,
   "id": "b198cb34-8b7e-42e9-8159-89c9f57a8ae0",
   "metadata": {},
   "outputs": [
    {
     "data": {
      "text/plain": [
       "array([0.        , 1.79175947, 2.39789527, 2.77258872, 3.04452244,\n",
       "       3.25809654, 3.4339872 , 3.58351894, 3.71357207, 3.8286414 ,\n",
       "       3.93182563, 4.02535169, 4.11087386, 4.18965474, 4.26267988,\n",
       "       4.33073334, 4.39444915, 4.4543473 , 4.51085951, 4.56434819])"
      ]
     },
     "execution_count": 18,
     "metadata": {},
     "output_type": "execute_result"
    }
   ],
   "source": [
    "np.log(data)"
   ]
  },
  {
   "cell_type": "code",
   "execution_count": null,
   "id": "c94f34e0-f633-4384-a4f1-884d273ca0b9",
   "metadata": {},
   "outputs": [],
   "source": []
  }
 ],
 "metadata": {
  "kernelspec": {
   "display_name": "Python 3",
   "language": "python",
   "name": "python3"
  },
  "language_info": {
   "codemirror_mode": {
    "name": "ipython",
    "version": 3
   },
   "file_extension": ".py",
   "mimetype": "text/x-python",
   "name": "python",
   "nbconvert_exporter": "python",
   "pygments_lexer": "ipython3",
   "version": "3.8.8"
  }
 },
 "nbformat": 4,
 "nbformat_minor": 5
}
